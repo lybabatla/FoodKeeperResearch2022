{
 "cells": [
  {
   "cell_type": "code",
   "execution_count": 1,
   "id": "7a9340e2",
   "metadata": {
    "scrolled": true
   },
   "outputs": [],
   "source": [
    "from azure.cognitiveservices.vision.computervision import ComputerVisionClient\n",
    "from azure.cognitiveservices.vision.computervision.models import OperationStatusCodes\n",
    "from azure.cognitiveservices.vision.computervision.models import VisualFeatureTypes\n",
    "from msrest.authentication import CognitiveServicesCredentials"
   ]
  },
  {
   "cell_type": "code",
   "execution_count": 2,
   "id": "58059465",
   "metadata": {
    "scrolled": true
   },
   "outputs": [],
   "source": [
    "from array import array\n",
    "import os\n",
    "from PIL import Image\n",
    "import sys\n",
    "import time"
   ]
  },
  {
   "cell_type": "code",
   "execution_count": 3,
   "id": "51d9669f",
   "metadata": {},
   "outputs": [],
   "source": [
    "subscription_key = \"876f3d2cd26b41829d576f7794935a6b\"\n",
    "endpoint = \"https://instaimagerecognition.cognitiveservices.azure.com/\"\n",
    "\n",
    "computervision_client = ComputerVisionClient(endpoint, CognitiveServicesCredentials(subscription_key))"
   ]
  },
  {
   "cell_type": "code",
   "execution_count": 4,
   "id": "e0e5de82",
   "metadata": {
    "scrolled": false
   },
   "outputs": [
    {
     "name": "stdout",
     "output_type": "stream",
     "text": [
      "['C:/Users/coolf/Desktop/human_eval_dataset_img/01_2cookinmamas-1869216491667076666.jpg', 'C:/Users/coolf/Desktop/human_eval_dataset_img/02_culinaryhill-2008896004201231738.jpg', 'C:/Users/coolf/Desktop/human_eval_dataset_img/03_gimmedelicious-1274008612968063742.jpg', 'C:/Users/coolf/Desktop/human_eval_dataset_img/04_jakesfoodbible-2023444292521868741.jpg', 'C:/Users/coolf/Desktop/human_eval_dataset_img/05_yupitsvegan-1982333936889550659.jpg', 'C:/Users/coolf/Desktop/human_eval_dataset_img/06_21andhungry-1802485038581663297.jpg', 'C:/Users/coolf/Desktop/human_eval_dataset_img/07_21andhungry-1803269205229651725.jpg', 'C:/Users/coolf/Desktop/human_eval_dataset_img/08_21andhungry-1927115346637076571.jpg', 'C:/Users/coolf/Desktop/human_eval_dataset_img/09_cookinmamas-1909686556844527605.jpg', 'C:/Users/coolf/Desktop/human_eval_dataset_img/10_cookinmamas-1909033752760357829.jpg', 'C:/Users/coolf/Desktop/human_eval_dataset_img/11_ a.bite.of.life-1787404956477568613.jpg', 'C:/Users/coolf/Desktop/human_eval_dataset_img/12_thecurlycucumber-1912618103800474444.jpg', 'C:/Users/coolf/Desktop/human_eval_dataset_img/13_theendlessmeal-1817744197248566278.jpg', 'C:/Users/coolf/Desktop/human_eval_dataset_img/14_theendlessmeal-1832339420225933937.jpg', 'C:/Users/coolf/Desktop/human_eval_dataset_img/15_theendlessmeal-1879205003756301328.jpg', 'C:/Users/coolf/Desktop/human_eval_dataset_img/16_theendlessmeal-1888613883837682339.jpg', 'C:/Users/coolf/Desktop/human_eval_dataset_img/17_thefeedfeed.vegan-1983886958385289695.jpg', 'C:/Users/coolf/Desktop/human_eval_dataset_img/18_thefeedfeed.vegan-1999543508894441726.jpg', 'C:/Users/coolf/Desktop/human_eval_dataset_img/19_askchefdennis-1832959821492490020.jpg', 'C:/Users/coolf/Desktop/human_eval_dataset_img/20_askchefdennis-1924130179345798187.jpg', 'C:/Users/coolf/Desktop/human_eval_dataset_img/21_bbcgoodfoodmiddleeast-1991318036234500764.jpg', 'C:/Users/coolf/Desktop/human_eval_dataset_img/22_bellythebeast-1886405409388941499.jpg', 'C:/Users/coolf/Desktop/human_eval_dataset_img/23_bigeatsglobal-1995185714062393112.jpg', 'C:/Users/coolf/Desktop/human_eval_dataset_img/24_bobbiskozyktchn-1711875999387630246.jpg', 'C:/Users/coolf/Desktop/human_eval_dataset_img/25_bobbiskozyktchn-1812571567033920244.jpg']\n"
     ]
    }
   ],
   "source": [
    "arr = []\n",
    "directory = \"C:/Users/coolf/Desktop/human_eval_dataset_img\"\n",
    "for filename in os.listdir(directory):\n",
    "    arr.append(directory + \"/\" + filename)\n",
    "print(arr)"
   ]
  },
  {
   "cell_type": "code",
   "execution_count": 5,
   "id": "ab28dae8",
   "metadata": {
    "scrolled": true
   },
   "outputs": [
    {
     "name": "stdout",
     "output_type": "stream",
     "text": [
      "Description of local image: \n",
      "'a pizza with cheese and spinach' with confidence 46.48%\n",
      "\n",
      "Description of local image: \n",
      "'a pie with a slice missing' with confidence 31.29%\n",
      "\n",
      "Description of local image: \n",
      "'a sandwich with meat and cheese' with confidence 40.81%\n",
      "\n",
      "Description of local image: \n",
      "'a cheeseburger on a newspaper' with confidence 59.06%\n",
      "\n",
      "Description of local image: \n",
      "'a white cake on a plate' with confidence 41.58%\n",
      "\n",
      "Description of local image: \n",
      "'a hand holding a paper plate of french fries' with confidence 38.10%\n",
      "\n",
      "Description of local image: \n",
      "'a large burger with lettuce and tomato' with confidence 44.51%\n",
      "\n",
      "Description of local image: \n",
      "'a hand holding a cookie' with confidence 52.44%\n",
      "\n",
      "Description of local image: \n",
      "'a slice of cake with whipped cream on top' with confidence 47.45%\n",
      "\n",
      "Description of local image: \n",
      "'a stack of pancakes with fruit on top' with confidence 56.48%\n",
      "\n"
     ]
    }
   ],
   "source": [
    "#local_image_path = os.path.join (os.path.dirname(__file__), \"C:/Users/coolf/Pictures/17247672.jpg\")\n",
    "\n",
    "file = open(\"C:/Users/coolf/Documents/GitHub/FoodKeeperResearch/datasets/response.txt\", \"w\")\n",
    "for a in arr[:10]:\n",
    "    local_image = open(a, \"rb\")\n",
    "    description_result = computervision_client.describe_image_in_stream(local_image)\n",
    "    print(\"Description of local image: \")\n",
    "    if (len(description_result.captions) == 0):\n",
    "        print(\"No description detected.\")\n",
    "    else:\n",
    "        for caption in description_result.captions:\n",
    "            print(\"'{}' with confidence {:.2f}%\".format(caption.text, caption.confidence * 100))\n",
    "    file.write(caption.text + \"\\n\")\n",
    "    print()"
   ]
  },
  {
   "cell_type": "code",
   "execution_count": 6,
   "id": "196e545d",
   "metadata": {},
   "outputs": [
    {
     "name": "stdout",
     "output_type": "stream",
     "text": [
      "Description of local image: \n",
      "'a plate of seafood and vegetables' with confidence 49.05%\n",
      "a plate of seafood and vegetables\n",
      "\n",
      "Description of local image: \n",
      "'a person holding a bunch of cucumbers' with confidence 48.47%\n",
      "a person holding a bunch of cucumbers\n",
      "\n",
      "Description of local image: \n",
      "'slices of oranges on a plate' with confidence 45.63%\n",
      "slices of oranges on a plate\n",
      "\n",
      "Description of local image: \n",
      "'a group of cupcakes with frosting and candy on them' with confidence 46.83%\n",
      "a group of cupcakes with frosting and candy on them\n",
      "\n",
      "Description of local image: \n",
      "'a group of tomatoes' with confidence 47.40%\n",
      "a group of tomatoes\n",
      "\n",
      "Description of local image: \n",
      "'a close-up of some eggs' with confidence 47.35%\n",
      "a close-up of some eggs\n",
      "\n",
      "Description of local image: \n",
      "'a chocolate donut with sprinkles on it' with confidence 52.29%\n",
      "a chocolate donut with sprinkles on it\n",
      "\n",
      "Description of local image: \n",
      "'a bowl of noodle soup' with confidence 57.27%\n",
      "a bowl of noodle soup\n",
      "\n",
      "Description of local image: \n",
      "'a fish with an egg on it' with confidence 37.87%\n",
      "a fish with an egg on it\n",
      "\n",
      "Description of local image: \n",
      "'a cheeseburger with tomatoes and lettuce' with confidence 50.51%\n",
      "a cheeseburger with tomatoes and lettuce\n",
      "\n"
     ]
    }
   ],
   "source": [
    "for a in arr[10:20]:\n",
    "    local_image = open(a, \"rb\")\n",
    "    description_result = computervision_client.describe_image_in_stream(local_image)\n",
    "    print(\"Description of local image: \")\n",
    "    if (len(description_result.captions) == 0):\n",
    "        print(\"No description detected.\")\n",
    "    else:\n",
    "        for caption in description_result.captions:\n",
    "            print(\"'{}' with confidence {:.2f}%\".format(caption.text, caption.confidence * 100))\n",
    "    print(caption.text)\n",
    "    file.write(caption.text + \"\\n\")\n",
    "    print()"
   ]
  },
  {
   "cell_type": "code",
   "execution_count": 9,
   "id": "3a1bef6c",
   "metadata": {},
   "outputs": [
    {
     "name": "stdout",
     "output_type": "stream",
     "text": [
      "Description of local image: \n",
      "'a bowl of noodles and vegetables' with confidence 46.20%\n",
      "a bowl of noodles and vegetables\n",
      "\n",
      "Description of local image: \n",
      "'a person holding a slice of pizza' with confidence 52.11%\n",
      "a person holding a slice of pizza\n",
      "\n",
      "Description of local image: \n",
      "'a tray of sushi' with confidence 51.63%\n",
      "a tray of sushi\n",
      "\n",
      "Description of local image: \n",
      "'a bowl of soup with a spoon' with confidence 56.02%\n",
      "a bowl of soup with a spoon\n",
      "\n",
      "Description of local image: \n",
      "'a table with food and a can of soda' with confidence 34.19%\n",
      "a table with food and a can of soda\n",
      "\n"
     ]
    }
   ],
   "source": [
    "for a in arr[20:]:\n",
    "    local_image = open(a, \"rb\")\n",
    "    description_result = computervision_client.describe_image_in_stream(local_image)\n",
    "    print(\"Description of local image: \")\n",
    "    if (len(description_result.captions) == 0):\n",
    "        print(\"No description detected.\")\n",
    "    else:\n",
    "        for caption in description_result.captions:\n",
    "            print(\"'{}' with confidence {:.2f}%\".format(caption.text, caption.confidence * 100))\n",
    "    print(caption.text)\n",
    "    file.write(caption.text + \"\\n\")\n",
    "    print()\n",
    "file.close()"
   ]
  },
  {
   "cell_type": "code",
   "execution_count": 10,
   "id": "681d69b0",
   "metadata": {},
   "outputs": [
    {
     "name": "stdout",
     "output_type": "stream",
     "text": [
      "===== Categorize an Image - local =====\n",
      "Categories from local image: \n",
      "'food_' with confidence 61.72%\n",
      "\n"
     ]
    }
   ],
   "source": [
    "print(\"===== Categorize an Image - local =====\")\n",
    "#Open local image file\n",
    "local_image = open(\"C:/Users/coolf/Pictures/pancakes.jfif\", \"rb\")\n",
    "\n",
    "#Select visual feature type(s)\n",
    "local_image_features = [\"categories\"]\n",
    "\n",
    "#Call API\n",
    "categorize_results_local = computervision_client.analyze_image_in_stream(local_image, local_image_features)\n",
    "\n",
    "#Print category results with confidence score\n",
    "print(\"Categories from local image: \")\n",
    "if (len(categorize_results_local.categories) == 0): \n",
    "    print(\"No categories detected.\") \n",
    "else: \n",
    "    for category in categorize_results_local.categories: \n",
    "        print(\"'{}' with confidence {:.2f}%\".format(category.name, category.score * 100))\n",
    "print()"
   ]
  },
  {
   "cell_type": "code",
   "execution_count": 14,
   "id": "b25357ca",
   "metadata": {},
   "outputs": [
    {
     "name": "stdout",
     "output_type": "stream",
     "text": [
      "===== Categorize an Image - local =====\n",
      "Categories from local image: \n",
      "'abstract_' with confidence 0.39%\n",
      "'others_' with confidence 0.39%\n",
      "\n"
     ]
    }
   ],
   "source": [
    "print(\"===== Categorize an Image - local =====\")\n",
    "#Open local image file\n",
    "local_image = open(\"C:/Users/coolf/Pictures/melon.jfif\", \"rb\")\n",
    "\n",
    "#Select visual feature type(s)\n",
    "local_image_features = [\"categories\"]\n",
    "\n",
    "#Call API\n",
    "categorize_results_local = computervision_client.analyze_image_in_stream(local_image, local_image_features)\n",
    "\n",
    "#Print category results with confidence score\n",
    "print(\"Categories from local image: \")\n",
    "if (len(categorize_results_local.categories) == 0): \n",
    "    print(\"No categories detected.\") \n",
    "else: \n",
    "    for category in categorize_results_local.categories: \n",
    "        print(\"'{}' with confidence {:.2f}%\".format(category.name, category.score * 100))\n",
    "print()"
   ]
  },
  {
   "cell_type": "code",
   "execution_count": null,
   "id": "a38ef936",
   "metadata": {},
   "outputs": [],
   "source": []
  },
  {
   "cell_type": "code",
   "execution_count": 57,
   "id": "67aa34da",
   "metadata": {},
   "outputs": [
    {
     "name": "stdout",
     "output_type": "stream",
     "text": [
      "Description of local image: \n",
      "'a table with food and a can of soda' with confidence 34.19%\n",
      "a table with food and a can of soda\n",
      "\n"
     ]
    }
   ],
   "source": [
    "file = open(\"C:/Users/coolf/Documents/GitHub/FoodKeeperResearch/datasets/response.txt\", \"w\")\n",
    "\n",
    "local_image = open(\"C:/Users/coolf/Desktop/Food_influencers/bobbiskozyktchn-1812571567033920244.jpg\", \"rb\")\n",
    "description_result = computervision_client.describe_image_in_stream(local_image)\n",
    "print(\"Description of local image: \")\n",
    "if (len(description_result.captions) == 0):\n",
    "    print(\"No description detected.\")\n",
    "else:\n",
    "    for caption in description_result.captions:\n",
    "        print(\"'{}' with confidence {:.2f}%\".format(caption.text, caption.confidence * 100))\n",
    "print(caption.text)\n",
    "file.write(caption.text + \"\\n\")\n",
    "print()"
   ]
  }
 ],
 "metadata": {
  "kernelspec": {
   "display_name": "Python 3 (ipykernel)",
   "language": "python",
   "name": "python3"
  },
  "language_info": {
   "codemirror_mode": {
    "name": "ipython",
    "version": 3
   },
   "file_extension": ".py",
   "mimetype": "text/x-python",
   "name": "python",
   "nbconvert_exporter": "python",
   "pygments_lexer": "ipython3",
   "version": "3.9.7"
  }
 },
 "nbformat": 4,
 "nbformat_minor": 5
}
