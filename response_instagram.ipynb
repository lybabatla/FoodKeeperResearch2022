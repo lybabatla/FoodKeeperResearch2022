{
 "cells": [
  {
   "cell_type": "code",
   "execution_count": 6,
   "metadata": {},
   "outputs": [
    {
     "name": "stdout",
     "output_type": "stream",
     "text": [
      "                                                    0\n",
      "0                     a pizza with cheese and spinach\n",
      "1                          a pie with a slice missing\n",
      "2                     a sandwich with meat and cheese\n",
      "3                       a cheeseburger on a newspaper\n",
      "4                             a white cake on a plate\n",
      "5        a hand holding a paper plate of french fries\n",
      "6              a large burger with lettuce and tomato\n",
      "7                             a hand holding a cookie\n",
      "8           a slice of cake with whipped cream on top\n",
      "9               a stack of pancakes with fruit on top\n",
      "10                  a plate of seafood and vegetables\n",
      "11              a person holding a bunch of cucumbers\n",
      "12                       slices of oranges on a plate\n",
      "13  a group of cupcakes with frosting and candy on...\n",
      "14                                a group of tomatoes\n",
      "15                            a close-up of some eggs\n",
      "16             a chocolate donut with sprinkles on it\n",
      "17                              a bowl of noodle soup\n",
      "18                           a fish with an egg on it\n",
      "19           a cheeseburger with tomatoes and lettuce\n",
      "20                  a plate of seafood and vegetables\n",
      "21              a person holding a bunch of cucumbers\n",
      "22                       slices of oranges on a plate\n",
      "23  a group of cupcakes with frosting and candy on...\n",
      "24                                a group of tomatoes\n",
      "25                            a close-up of some eggs\n",
      "26             a chocolate donut with sprinkles on it\n",
      "27                              a bowl of noodle soup\n",
      "28                           a fish with an egg on it\n",
      "29           a cheeseburger with tomatoes and lettuce\n",
      "30                   a bowl of noodles and vegetables\n",
      "31                  a person holding a slice of pizza\n",
      "32                                    a tray of sushi\n",
      "33                        a bowl of soup with a spoon\n",
      "34                a table with food and a can of soda\n"
     ]
    },
    {
     "data": {
      "text/html": [
       "<span class=\"tex2jax_ignore\"><div class=\"entities\" style=\"line-height: 2.5; direction: ltr\">a \n",
       "<mark class=\"entity\" style=\"background: #ddd; padding: 0.45em 0.6em; margin: 0 0.25em; line-height: 1; border-radius: 0.35em;\">\n",
       "    pizza\n",
       "    <span style=\"font-size: 0.8em; font-weight: bold; line-height: 1; border-radius: 0.35em; vertical-align: middle; margin-left: 0.5rem\">FOOD</span>\n",
       "</mark>\n",
       " with \n",
       "<mark class=\"entity\" style=\"background: #ddd; padding: 0.45em 0.6em; margin: 0 0.25em; line-height: 1; border-radius: 0.35em;\">\n",
       "    cheese\n",
       "    <span style=\"font-size: 0.8em; font-weight: bold; line-height: 1; border-radius: 0.35em; vertical-align: middle; margin-left: 0.5rem\">FOOD</span>\n",
       "</mark>\n",
       " and spinach</div></span>"
      ],
      "text/plain": [
       "<IPython.core.display.HTML object>"
      ]
     },
     "metadata": {},
     "output_type": "display_data"
    },
    {
     "name": "stdout",
     "output_type": "stream",
     "text": [
      "Total Entities found:  (pizza, cheese)\n",
      "pizza\n",
      "['No Tip to give!']\n",
      "['Pizza can be stored in the Refrigerate for 3 to 4 Days', 'A tip about Pizza is that Recommendation is for storage after cooking.']\n",
      "['Pizza can be stored in the Freeze for 12 Months', 'A tip about Pizza is that Keep frozen. For safety, cook as directed.']\n",
      "cheese\n",
      "['No Tip to give!']\n",
      "['The Date of Perish for Cheese is 6 Months', 'Cheese can be stored after opened in the Refrigerate for 3 to 4 Weeks']\n",
      "['The Date of Perish for Cheese is 6 Months']\n"
     ]
    },
    {
     "name": "stderr",
     "output_type": "stream",
     "text": [
      "C:\\ProgramData\\Anaconda3\\lib\\site-packages\\spacy\\displacy\\__init__.py:200: UserWarning: [W006] No entities to visualize found in Doc object. If this is surprising to you, make sure the Doc was processed using a model that supports named entity recognition, and check the `doc.ents` property manually if necessary.\n",
      "  warnings.warn(Warnings.W006)\n"
     ]
    },
    {
     "data": {
      "text/html": [
       "<span class=\"tex2jax_ignore\"><div class=\"entities\" style=\"line-height: 2.5; direction: ltr\">a pie with a slice missing</div></span>"
      ],
      "text/plain": [
       "<IPython.core.display.HTML object>"
      ]
     },
     "metadata": {},
     "output_type": "display_data"
    },
    {
     "name": "stdout",
     "output_type": "stream",
     "text": [
      "Total Entities found:  ()\n"
     ]
    },
    {
     "data": {
      "text/html": [
       "<span class=\"tex2jax_ignore\"><div class=\"entities\" style=\"line-height: 2.5; direction: ltr\">a sandwich with meat and \n",
       "<mark class=\"entity\" style=\"background: #ddd; padding: 0.45em 0.6em; margin: 0 0.25em; line-height: 1; border-radius: 0.35em;\">\n",
       "    cheese\n",
       "    <span style=\"font-size: 0.8em; font-weight: bold; line-height: 1; border-radius: 0.35em; vertical-align: middle; margin-left: 0.5rem\">FOOD</span>\n",
       "</mark>\n",
       "</div></span>"
      ],
      "text/plain": [
       "<IPython.core.display.HTML object>"
      ]
     },
     "metadata": {},
     "output_type": "display_data"
    },
    {
     "name": "stdout",
     "output_type": "stream",
     "text": [
      "Total Entities found:  (cheese,)\n",
      "cheese\n",
      "['No Tip to give!']\n",
      "['The Date of Perish for Cheese is 6 Months', 'Cheese can be stored after opened in the Refrigerate for 3 to 4 Weeks']\n",
      "['The Date of Perish for Cheese is 6 Months']\n"
     ]
    },
    {
     "data": {
      "text/html": [
       "<span class=\"tex2jax_ignore\"><div class=\"entities\" style=\"line-height: 2.5; direction: ltr\">a cheeseburger on a newspaper</div></span>"
      ],
      "text/plain": [
       "<IPython.core.display.HTML object>"
      ]
     },
     "metadata": {},
     "output_type": "display_data"
    },
    {
     "name": "stdout",
     "output_type": "stream",
     "text": [
      "Total Entities found:  ()\n"
     ]
    },
    {
     "data": {
      "text/html": [
       "<span class=\"tex2jax_ignore\"><div class=\"entities\" style=\"line-height: 2.5; direction: ltr\">a white cake on a plate</div></span>"
      ],
      "text/plain": [
       "<IPython.core.display.HTML object>"
      ]
     },
     "metadata": {},
     "output_type": "display_data"
    },
    {
     "name": "stdout",
     "output_type": "stream",
     "text": [
      "Total Entities found:  ()\n"
     ]
    },
    {
     "data": {
      "text/html": [
       "<span class=\"tex2jax_ignore\"><div class=\"entities\" style=\"line-height: 2.5; direction: ltr\">a hand holding a paper plate of french fries</div></span>"
      ],
      "text/plain": [
       "<IPython.core.display.HTML object>"
      ]
     },
     "metadata": {},
     "output_type": "display_data"
    },
    {
     "name": "stdout",
     "output_type": "stream",
     "text": [
      "Total Entities found:  ()\n"
     ]
    },
    {
     "data": {
      "text/html": [
       "<span class=\"tex2jax_ignore\"><div class=\"entities\" style=\"line-height: 2.5; direction: ltr\">a large burger with \n",
       "<mark class=\"entity\" style=\"background: #ddd; padding: 0.45em 0.6em; margin: 0 0.25em; line-height: 1; border-radius: 0.35em;\">\n",
       "    lettuce\n",
       "    <span style=\"font-size: 0.8em; font-weight: bold; line-height: 1; border-radius: 0.35em; vertical-align: middle; margin-left: 0.5rem\">FOOD</span>\n",
       "</mark>\n",
       " and tomato</div></span>"
      ],
      "text/plain": [
       "<IPython.core.display.HTML object>"
      ]
     },
     "metadata": {},
     "output_type": "display_data"
    },
    {
     "name": "stdout",
     "output_type": "stream",
     "text": [
      "Total Entities found:  (lettuce,)\n",
      "lettuce\n",
      "['No Tip to give!']\n",
      "['The Date of Perish for Lettuce is from 1 to 2 Weeks']\n",
      "['Freeze is Not Recommended']\n"
     ]
    },
    {
     "data": {
      "text/html": [
       "<span class=\"tex2jax_ignore\"><div class=\"entities\" style=\"line-height: 2.5; direction: ltr\">a hand holding a cookie</div></span>"
      ],
      "text/plain": [
       "<IPython.core.display.HTML object>"
      ]
     },
     "metadata": {},
     "output_type": "display_data"
    },
    {
     "name": "stdout",
     "output_type": "stream",
     "text": [
      "Total Entities found:  ()\n"
     ]
    },
    {
     "data": {
      "text/html": [
       "<span class=\"tex2jax_ignore\"><div class=\"entities\" style=\"line-height: 2.5; direction: ltr\">a slice of cake with \n",
       "<mark class=\"entity\" style=\"background: #ddd; padding: 0.45em 0.6em; margin: 0 0.25em; line-height: 1; border-radius: 0.35em;\">\n",
       "    whipped cream\n",
       "    <span style=\"font-size: 0.8em; font-weight: bold; line-height: 1; border-radius: 0.35em; vertical-align: middle; margin-left: 0.5rem\">FOOD</span>\n",
       "</mark>\n",
       " on top</div></span>"
      ],
      "text/plain": [
       "<IPython.core.display.HTML object>"
      ]
     },
     "metadata": {},
     "output_type": "display_data"
    },
    {
     "name": "stdout",
     "output_type": "stream",
     "text": [
      "Total Entities found:  (whipped cream,)\n",
      "whipped cream\n",
      "['No Tip to give!']\n",
      "['The Date of Perish for Whipped cream is from 3 to 4 Weeks']\n",
      "['Freeze is Not Recommended']\n"
     ]
    },
    {
     "data": {
      "text/html": [
       "<span class=\"tex2jax_ignore\"><div class=\"entities\" style=\"line-height: 2.5; direction: ltr\">a stack of pancakes with \n",
       "<mark class=\"entity\" style=\"background: #ddd; padding: 0.45em 0.6em; margin: 0 0.25em; line-height: 1; border-radius: 0.35em;\">\n",
       "    fruit\n",
       "    <span style=\"font-size: 0.8em; font-weight: bold; line-height: 1; border-radius: 0.35em; vertical-align: middle; margin-left: 0.5rem\">FOOD</span>\n",
       "</mark>\n",
       " on top</div></span>"
      ],
      "text/plain": [
       "<IPython.core.display.HTML object>"
      ]
     },
     "metadata": {},
     "output_type": "display_data"
    },
    {
     "name": "stdout",
     "output_type": "stream",
     "text": [
      "Total Entities found:  (fruit,)\n",
      "fruit\n",
      "['A tip about Fruit is that Should be discarded after use-by date.']\n",
      "['Fruit can be stored after opened in the Refrigerate for 3 Days']\n",
      "['No Tip to give!']\n"
     ]
    },
    {
     "data": {
      "text/html": [
       "<span class=\"tex2jax_ignore\"><div class=\"entities\" style=\"line-height: 2.5; direction: ltr\">a plate of \n",
       "<mark class=\"entity\" style=\"background: #ddd; padding: 0.45em 0.6em; margin: 0 0.25em; line-height: 1; border-radius: 0.35em;\">\n",
       "    seafood\n",
       "    <span style=\"font-size: 0.8em; font-weight: bold; line-height: 1; border-radius: 0.35em; vertical-align: middle; margin-left: 0.5rem\">FOOD</span>\n",
       "</mark>\n",
       " and \n",
       "<mark class=\"entity\" style=\"background: #ddd; padding: 0.45em 0.6em; margin: 0 0.25em; line-height: 1; border-radius: 0.35em;\">\n",
       "    vegetables\n",
       "    <span style=\"font-size: 0.8em; font-weight: bold; line-height: 1; border-radius: 0.35em; vertical-align: middle; margin-left: 0.5rem\">FOOD</span>\n",
       "</mark>\n",
       "</div></span>"
      ],
      "text/plain": [
       "<IPython.core.display.HTML object>"
      ]
     },
     "metadata": {},
     "output_type": "display_data"
    },
    {
     "name": "stdout",
     "output_type": "stream",
     "text": [
      "Total Entities found:  (seafood, vegetables)\n",
      "seafood\n",
      "['Seafood can be stored in the Pantry for 1 Years']\n",
      "['Seafood can be stored after opened in the Refrigerate for 1 to 2 Days']\n",
      "['No Tip to give!']\n",
      "vegetables\n",
      "['No Tip to give!']\n",
      "['Vegetables can be stored in the Refrigerate for 3 to 4 Days', 'A tip about Vegetables is that Recommendation is for storage after cooking.']\n",
      "['The Date of Perish for Vegetables is from 10 to 18 Months', 'A tip about Vegetables the Date of Perish is Keep frozen. For safety, cook as directed.']\n"
     ]
    },
    {
     "data": {
      "text/html": [
       "<span class=\"tex2jax_ignore\"><div class=\"entities\" style=\"line-height: 2.5; direction: ltr\">a person holding a bunch of \n",
       "<mark class=\"entity\" style=\"background: #ddd; padding: 0.45em 0.6em; margin: 0 0.25em; line-height: 1; border-radius: 0.35em;\">\n",
       "    cucumbers\n",
       "    <span style=\"font-size: 0.8em; font-weight: bold; line-height: 1; border-radius: 0.35em; vertical-align: middle; margin-left: 0.5rem\">FOOD</span>\n",
       "</mark>\n",
       "</div></span>"
      ],
      "text/plain": [
       "<IPython.core.display.HTML object>"
      ]
     },
     "metadata": {},
     "output_type": "display_data"
    },
    {
     "name": "stdout",
     "output_type": "stream",
     "text": [
      "Total Entities found:  (cucumbers,)\n",
      "cucumbers\n",
      "['No Tip to give!']\n",
      "['The Date of Perish for Cucumbers is from 4 to 6 Days']\n",
      "['Freeze is Not Recommended']\n"
     ]
    },
    {
     "data": {
      "text/html": [
       "<span class=\"tex2jax_ignore\"><div class=\"entities\" style=\"line-height: 2.5; direction: ltr\">slices of oranges on a plate</div></span>"
      ],
      "text/plain": [
       "<IPython.core.display.HTML object>"
      ]
     },
     "metadata": {},
     "output_type": "display_data"
    },
    {
     "name": "stdout",
     "output_type": "stream",
     "text": [
      "Total Entities found:  ()\n"
     ]
    },
    {
     "data": {
      "text/html": [
       "<span class=\"tex2jax_ignore\"><div class=\"entities\" style=\"line-height: 2.5; direction: ltr\">a group of cupcakes with frosting and candy on them</div></span>"
      ],
      "text/plain": [
       "<IPython.core.display.HTML object>"
      ]
     },
     "metadata": {},
     "output_type": "display_data"
    },
    {
     "name": "stdout",
     "output_type": "stream",
     "text": [
      "Total Entities found:  ()\n"
     ]
    },
    {
     "data": {
      "text/html": [
       "<span class=\"tex2jax_ignore\"><div class=\"entities\" style=\"line-height: 2.5; direction: ltr\">a group of \n",
       "<mark class=\"entity\" style=\"background: #ddd; padding: 0.45em 0.6em; margin: 0 0.25em; line-height: 1; border-radius: 0.35em;\">\n",
       "    tomatoes\n",
       "    <span style=\"font-size: 0.8em; font-weight: bold; line-height: 1; border-radius: 0.35em; vertical-align: middle; margin-left: 0.5rem\">FOOD</span>\n",
       "</mark>\n",
       "</div></span>"
      ],
      "text/plain": [
       "<IPython.core.display.HTML object>"
      ]
     },
     "metadata": {},
     "output_type": "display_data"
    },
    {
     "name": "stdout",
     "output_type": "stream",
     "text": [
      "Total Entities found:  (tomatoes,)\n",
      "tomatoes\n",
      "['Pantry is When Ripe', 'A tip about Tomatoes is that Until Ripe, then 7 days. Ripe is when this item is tender, fully developed and ready to eat. Refrigeration may affect flavor; USDA recommends pantry storage.']\n",
      "['No Tip to give!']\n",
      "['The Date of Perish for Tomatoes is 2 Months']\n"
     ]
    },
    {
     "data": {
      "text/html": [
       "<span class=\"tex2jax_ignore\"><div class=\"entities\" style=\"line-height: 2.5; direction: ltr\">a close-up of some \n",
       "<mark class=\"entity\" style=\"background: #ddd; padding: 0.45em 0.6em; margin: 0 0.25em; line-height: 1; border-radius: 0.35em;\">\n",
       "    eggs\n",
       "    <span style=\"font-size: 0.8em; font-weight: bold; line-height: 1; border-radius: 0.35em; vertical-align: middle; margin-left: 0.5rem\">FOOD</span>\n",
       "</mark>\n",
       "</div></span>"
      ],
      "text/plain": [
       "<IPython.core.display.HTML object>"
      ]
     },
     "metadata": {},
     "output_type": "display_data"
    },
    {
     "name": "stdout",
     "output_type": "stream",
     "text": [
      "Total Entities found:  (eggs,)\n",
      "eggs\n",
      "['No Tip to give!']\n",
      "['The Date of Perish for Eggs is from 3 to 5 Weeks']\n",
      "['Freeze is Not Recommended']\n"
     ]
    },
    {
     "data": {
      "text/html": [
       "<span class=\"tex2jax_ignore\"><div class=\"entities\" style=\"line-height: 2.5; direction: ltr\">a \n",
       "<mark class=\"entity\" style=\"background: #ddd; padding: 0.45em 0.6em; margin: 0 0.25em; line-height: 1; border-radius: 0.35em;\">\n",
       "    chocolate\n",
       "    <span style=\"font-size: 0.8em; font-weight: bold; line-height: 1; border-radius: 0.35em; vertical-align: middle; margin-left: 0.5rem\">FOOD</span>\n",
       "</mark>\n",
       " donut with sprinkles on it</div></span>"
      ],
      "text/plain": [
       "<IPython.core.display.HTML object>"
      ]
     },
     "metadata": {},
     "output_type": "display_data"
    },
    {
     "name": "stdout",
     "output_type": "stream",
     "text": [
      "Total Entities found:  (chocolate,)\n",
      "chocolate\n",
      "['The Date of Perish for Chocolate is from 1 to 2 Years']\n",
      "['No Tip to give!']\n",
      "['No Tip to give!']\n"
     ]
    },
    {
     "data": {
      "text/html": [
       "<span class=\"tex2jax_ignore\"><div class=\"entities\" style=\"line-height: 2.5; direction: ltr\">a bowl of noodle soup</div></span>"
      ],
      "text/plain": [
       "<IPython.core.display.HTML object>"
      ]
     },
     "metadata": {},
     "output_type": "display_data"
    },
    {
     "name": "stdout",
     "output_type": "stream",
     "text": [
      "Total Entities found:  ()\n"
     ]
    },
    {
     "data": {
      "text/html": [
       "<span class=\"tex2jax_ignore\"><div class=\"entities\" style=\"line-height: 2.5; direction: ltr\">a \n",
       "<mark class=\"entity\" style=\"background: #ddd; padding: 0.45em 0.6em; margin: 0 0.25em; line-height: 1; border-radius: 0.35em;\">\n",
       "    fish\n",
       "    <span style=\"font-size: 0.8em; font-weight: bold; line-height: 1; border-radius: 0.35em; vertical-align: middle; margin-left: 0.5rem\">FOOD</span>\n",
       "</mark>\n",
       " with an egg on it</div></span>"
      ],
      "text/plain": [
       "<IPython.core.display.HTML object>"
      ]
     },
     "metadata": {},
     "output_type": "display_data"
    },
    {
     "name": "stdout",
     "output_type": "stream",
     "text": [
      "Total Entities found:  (fish,)\n",
      "fish\n",
      "['No Tip to give!']\n",
      "['The Date of Perish for Fish is from 14 to 45 Days']\n",
      "['The Date of Perish for Fish is from 9 to 12 Months']\n"
     ]
    },
    {
     "data": {
      "text/html": [
       "<span class=\"tex2jax_ignore\"><div class=\"entities\" style=\"line-height: 2.5; direction: ltr\">a cheeseburger with \n",
       "<mark class=\"entity\" style=\"background: #ddd; padding: 0.45em 0.6em; margin: 0 0.25em; line-height: 1; border-radius: 0.35em;\">\n",
       "    tomatoes\n",
       "    <span style=\"font-size: 0.8em; font-weight: bold; line-height: 1; border-radius: 0.35em; vertical-align: middle; margin-left: 0.5rem\">FOOD</span>\n",
       "</mark>\n",
       " and \n",
       "<mark class=\"entity\" style=\"background: #ddd; padding: 0.45em 0.6em; margin: 0 0.25em; line-height: 1; border-radius: 0.35em;\">\n",
       "    lettuce\n",
       "    <span style=\"font-size: 0.8em; font-weight: bold; line-height: 1; border-radius: 0.35em; vertical-align: middle; margin-left: 0.5rem\">FOOD</span>\n",
       "</mark>\n",
       "</div></span>"
      ],
      "text/plain": [
       "<IPython.core.display.HTML object>"
      ]
     },
     "metadata": {},
     "output_type": "display_data"
    },
    {
     "name": "stdout",
     "output_type": "stream",
     "text": [
      "Total Entities found:  (tomatoes, lettuce)\n",
      "tomatoes\n",
      "['Pantry is When Ripe', 'A tip about Tomatoes is that Until Ripe, then 7 days. Ripe is when this item is tender, fully developed and ready to eat. Refrigeration may affect flavor; USDA recommends pantry storage.']\n",
      "['No Tip to give!']\n",
      "['The Date of Perish for Tomatoes is 2 Months']\n",
      "lettuce\n",
      "['No Tip to give!']\n",
      "['The Date of Perish for Lettuce is from 1 to 2 Weeks']\n",
      "['Freeze is Not Recommended']\n"
     ]
    },
    {
     "data": {
      "text/html": [
       "<span class=\"tex2jax_ignore\"><div class=\"entities\" style=\"line-height: 2.5; direction: ltr\">a plate of \n",
       "<mark class=\"entity\" style=\"background: #ddd; padding: 0.45em 0.6em; margin: 0 0.25em; line-height: 1; border-radius: 0.35em;\">\n",
       "    seafood\n",
       "    <span style=\"font-size: 0.8em; font-weight: bold; line-height: 1; border-radius: 0.35em; vertical-align: middle; margin-left: 0.5rem\">FOOD</span>\n",
       "</mark>\n",
       " and \n",
       "<mark class=\"entity\" style=\"background: #ddd; padding: 0.45em 0.6em; margin: 0 0.25em; line-height: 1; border-radius: 0.35em;\">\n",
       "    vegetables\n",
       "    <span style=\"font-size: 0.8em; font-weight: bold; line-height: 1; border-radius: 0.35em; vertical-align: middle; margin-left: 0.5rem\">FOOD</span>\n",
       "</mark>\n",
       "</div></span>"
      ],
      "text/plain": [
       "<IPython.core.display.HTML object>"
      ]
     },
     "metadata": {},
     "output_type": "display_data"
    },
    {
     "name": "stdout",
     "output_type": "stream",
     "text": [
      "Total Entities found:  (seafood, vegetables)\n",
      "seafood\n",
      "['Seafood can be stored in the Pantry for 1 Years']\n",
      "['Seafood can be stored after opened in the Refrigerate for 1 to 2 Days']\n",
      "['No Tip to give!']\n",
      "vegetables\n",
      "['No Tip to give!']\n",
      "['Vegetables can be stored in the Refrigerate for 3 to 4 Days', 'A tip about Vegetables is that Recommendation is for storage after cooking.']\n",
      "['The Date of Perish for Vegetables is from 10 to 18 Months', 'A tip about Vegetables the Date of Perish is Keep frozen. For safety, cook as directed.']\n"
     ]
    },
    {
     "data": {
      "text/html": [
       "<span class=\"tex2jax_ignore\"><div class=\"entities\" style=\"line-height: 2.5; direction: ltr\">a person holding a bunch of \n",
       "<mark class=\"entity\" style=\"background: #ddd; padding: 0.45em 0.6em; margin: 0 0.25em; line-height: 1; border-radius: 0.35em;\">\n",
       "    cucumbers\n",
       "    <span style=\"font-size: 0.8em; font-weight: bold; line-height: 1; border-radius: 0.35em; vertical-align: middle; margin-left: 0.5rem\">FOOD</span>\n",
       "</mark>\n",
       "</div></span>"
      ],
      "text/plain": [
       "<IPython.core.display.HTML object>"
      ]
     },
     "metadata": {},
     "output_type": "display_data"
    },
    {
     "name": "stdout",
     "output_type": "stream",
     "text": [
      "Total Entities found:  (cucumbers,)\n",
      "cucumbers\n",
      "['No Tip to give!']\n",
      "['The Date of Perish for Cucumbers is from 4 to 6 Days']\n",
      "['Freeze is Not Recommended']\n"
     ]
    },
    {
     "data": {
      "text/html": [
       "<span class=\"tex2jax_ignore\"><div class=\"entities\" style=\"line-height: 2.5; direction: ltr\">slices of oranges on a plate</div></span>"
      ],
      "text/plain": [
       "<IPython.core.display.HTML object>"
      ]
     },
     "metadata": {},
     "output_type": "display_data"
    },
    {
     "name": "stdout",
     "output_type": "stream",
     "text": [
      "Total Entities found:  ()\n"
     ]
    },
    {
     "data": {
      "text/html": [
       "<span class=\"tex2jax_ignore\"><div class=\"entities\" style=\"line-height: 2.5; direction: ltr\">a group of cupcakes with frosting and candy on them</div></span>"
      ],
      "text/plain": [
       "<IPython.core.display.HTML object>"
      ]
     },
     "metadata": {},
     "output_type": "display_data"
    },
    {
     "name": "stdout",
     "output_type": "stream",
     "text": [
      "Total Entities found:  ()\n"
     ]
    }
   ],
   "source": [
    "%run food_item_info.ipynb\n",
    "%run evaluation_notebook_instagram.ipynb\n",
    "import random\n",
    "types = ['Pantry', 'Refrigerate', 'Freeze']\n",
    "tips = ''\n",
    "nlp = spacy.load(MODEL_PATH)\n",
    "allFoodTweets = []\n",
    "# rangeTweets = [5,7]\n",
    "rangeTweets = [0,24]\n",
    "for i in range(rangeTweets[0], rangeTweets[1]):\n",
    "    myTweet = training_data[0][i]\n",
    "    x = nlp(myTweet)#preProcess(myTweet))\n",
    "    # splitSent = myTweet.split()\n",
    "    allFoodTweets.append(x.doc.ents)\n",
    "\n",
    "counter = rangeTweets[0]\n",
    "for entities in allFoodTweets:\n",
    "    if counter != rangeTweets[1]:\n",
    "        myTweet = training_data[0][counter]\n",
    "        ent_recognize(myTweet)#preProcess(myTweet))\n",
    "        print(\"Total Entities found: \", entities)\n",
    "        counter += 1\n",
    "    for e in entities:\n",
    "        item = repr(e)\n",
    "        print(item)\n",
    "        if entityFound(item):\n",
    "            for t in types: print(foodStorage(item, t))\n",
    "        else: print('entity not found!')\n",
    "\n",
    "#displayTipsByTweet(test_data)"
   ]
  },
  {
   "cell_type": "code",
   "execution_count": null,
   "metadata": {},
   "outputs": [],
   "source": []
  },
  {
   "cell_type": "code",
   "execution_count": 14,
   "metadata": {},
   "outputs": [],
   "source": [
    "# import twint\n",
    "# import pandas as pd\n",
    "# from datetime import date\n",
    "\n",
    "# today = date.today()\n",
    "\n",
    "# c = twint.Config()\n",
    "# c.Lang = \"en\"\n",
    "# # c.Search = \"#foodwaste\" or \"#zerowaste\" or \"#sustainability\" or \"#ecofriendly\"\n",
    "# # c.Limit = 20\n",
    "# c.Username = \"edward09690585\"\n",
    "# c.Since = \"2017-1-1\"\n",
    "# c.until= today.strftime(\"%b-%d-%Y\")\n",
    "\n",
    "# c.Store_csv = True\n",
    "# c.Custom_csv = [\"date\", \"time\", \"username\", \"tweet\", \"link\", \"likes\", \"retweets\", \"replies\", \"mentions\", \"hashtags\"]\n",
    "# c.Pandas = True\n",
    "# c.Output = \"eco1friendly.csv\"\n",
    "\n",
    "# #dataframes.append(df)\n",
    "\n",
    "\n",
    "# twint.run.Search(c)"
   ]
  },
  {
   "cell_type": "code",
   "execution_count": 5,
   "metadata": {
    "scrolled": false
   },
   "outputs": [
    {
     "data": {
      "text/html": [
       "<div>\n",
       "<style scoped>\n",
       "    .dataframe tbody tr th:only-of-type {\n",
       "        vertical-align: middle;\n",
       "    }\n",
       "\n",
       "    .dataframe tbody tr th {\n",
       "        vertical-align: top;\n",
       "    }\n",
       "\n",
       "    .dataframe thead th {\n",
       "        text-align: right;\n",
       "    }\n",
       "</style>\n",
       "<table border=\"1\" class=\"dataframe\">\n",
       "  <thead>\n",
       "    <tr style=\"text-align: right;\">\n",
       "      <th></th>\n",
       "      <th>id</th>\n",
       "      <th>conversation_id</th>\n",
       "      <th>created_at</th>\n",
       "      <th>date</th>\n",
       "      <th>time</th>\n",
       "      <th>timezone</th>\n",
       "      <th>user_id</th>\n",
       "      <th>username</th>\n",
       "      <th>name</th>\n",
       "      <th>place</th>\n",
       "      <th>...</th>\n",
       "      <th>geo</th>\n",
       "      <th>source</th>\n",
       "      <th>user_rt_id</th>\n",
       "      <th>user_rt</th>\n",
       "      <th>retweet_id</th>\n",
       "      <th>reply_to</th>\n",
       "      <th>retweet_date</th>\n",
       "      <th>translate</th>\n",
       "      <th>trans_src</th>\n",
       "      <th>trans_dest</th>\n",
       "    </tr>\n",
       "  </thead>\n",
       "  <tbody>\n",
       "    <tr>\n",
       "      <th>0</th>\n",
       "      <td>1511205194175942659</td>\n",
       "      <td>1511205194175942659</td>\n",
       "      <td>2022-04-04 21:52:49 Pacific Daylight Time</td>\n",
       "      <td>2022-04-04</td>\n",
       "      <td>21:52:49</td>\n",
       "      <td>-700</td>\n",
       "      <td>1511082642589986819</td>\n",
       "      <td>edward09690585</td>\n",
       "      <td>edward</td>\n",
       "      <td>NaN</td>\n",
       "      <td>...</td>\n",
       "      <td>NaN</td>\n",
       "      <td>NaN</td>\n",
       "      <td>NaN</td>\n",
       "      <td>NaN</td>\n",
       "      <td>NaN</td>\n",
       "      <td>[]</td>\n",
       "      <td>NaN</td>\n",
       "      <td>NaN</td>\n",
       "      <td>NaN</td>\n",
       "      <td>NaN</td>\n",
       "    </tr>\n",
       "    <tr>\n",
       "      <th>1</th>\n",
       "      <td>1511204037223337986</td>\n",
       "      <td>1511204037223337986</td>\n",
       "      <td>2022-04-04 21:48:13 Pacific Daylight Time</td>\n",
       "      <td>2022-04-04</td>\n",
       "      <td>21:48:13</td>\n",
       "      <td>-700</td>\n",
       "      <td>1511082642589986819</td>\n",
       "      <td>edward09690585</td>\n",
       "      <td>edward</td>\n",
       "      <td>NaN</td>\n",
       "      <td>...</td>\n",
       "      <td>NaN</td>\n",
       "      <td>NaN</td>\n",
       "      <td>NaN</td>\n",
       "      <td>NaN</td>\n",
       "      <td>NaN</td>\n",
       "      <td>[]</td>\n",
       "      <td>NaN</td>\n",
       "      <td>NaN</td>\n",
       "      <td>NaN</td>\n",
       "      <td>NaN</td>\n",
       "    </tr>\n",
       "    <tr>\n",
       "      <th>2</th>\n",
       "      <td>1511203496317505538</td>\n",
       "      <td>1511203496317505538</td>\n",
       "      <td>2022-04-04 21:46:04 Pacific Daylight Time</td>\n",
       "      <td>2022-04-04</td>\n",
       "      <td>21:46:04</td>\n",
       "      <td>-700</td>\n",
       "      <td>1511082642589986819</td>\n",
       "      <td>edward09690585</td>\n",
       "      <td>edward</td>\n",
       "      <td>NaN</td>\n",
       "      <td>...</td>\n",
       "      <td>NaN</td>\n",
       "      <td>NaN</td>\n",
       "      <td>NaN</td>\n",
       "      <td>NaN</td>\n",
       "      <td>NaN</td>\n",
       "      <td>[]</td>\n",
       "      <td>NaN</td>\n",
       "      <td>NaN</td>\n",
       "      <td>NaN</td>\n",
       "      <td>NaN</td>\n",
       "    </tr>\n",
       "  </tbody>\n",
       "</table>\n",
       "<p>3 rows × 36 columns</p>\n",
       "</div>"
      ],
      "text/plain": [
       "                    id      conversation_id  \\\n",
       "0  1511205194175942659  1511205194175942659   \n",
       "1  1511204037223337986  1511204037223337986   \n",
       "2  1511203496317505538  1511203496317505538   \n",
       "\n",
       "                                  created_at        date      time  timezone  \\\n",
       "0  2022-04-04 21:52:49 Pacific Daylight Time  2022-04-04  21:52:49      -700   \n",
       "1  2022-04-04 21:48:13 Pacific Daylight Time  2022-04-04  21:48:13      -700   \n",
       "2  2022-04-04 21:46:04 Pacific Daylight Time  2022-04-04  21:46:04      -700   \n",
       "\n",
       "               user_id        username    name  place  ... geo source  \\\n",
       "0  1511082642589986819  edward09690585  edward    NaN  ... NaN    NaN   \n",
       "1  1511082642589986819  edward09690585  edward    NaN  ... NaN    NaN   \n",
       "2  1511082642589986819  edward09690585  edward    NaN  ... NaN    NaN   \n",
       "\n",
       "  user_rt_id user_rt retweet_id  reply_to  retweet_date  translate trans_src  \\\n",
       "0        NaN     NaN        NaN        []           NaN        NaN       NaN   \n",
       "1        NaN     NaN        NaN        []           NaN        NaN       NaN   \n",
       "2        NaN     NaN        NaN        []           NaN        NaN       NaN   \n",
       "\n",
       "  trans_dest  \n",
       "0        NaN  \n",
       "1        NaN  \n",
       "2        NaN  \n",
       "\n",
       "[3 rows x 36 columns]"
      ]
     },
     "execution_count": 5,
     "metadata": {},
     "output_type": "execute_result"
    }
   ],
   "source": [
    "import pandas as pd\n",
    "\n",
    "LIVE_TWITTER_DATA_PATH = \"eco1friendly.csv\"\n",
    "\n",
    "recent_tweets = pd.read_csv(LIVE_TWITTER_DATA_PATH)\n",
    "recent_tweets.head()"
   ]
  },
  {
   "cell_type": "code",
   "execution_count": 6,
   "metadata": {},
   "outputs": [
    {
     "data": {
      "text/plain": [
       "0    I had this amazing watermelon for a snack toda...\n",
       "1    Does anyone know how long it takes for milk to...\n",
       "2    I had eggs and bacon for breakfast, it was del...\n",
       "Name: tweet, dtype: object"
      ]
     },
     "execution_count": 6,
     "metadata": {},
     "output_type": "execute_result"
    }
   ],
   "source": [
    "new_data = recent_tweets['tweet']\n",
    "new_data.head()\n"
   ]
  },
  {
   "cell_type": "code",
   "execution_count": 7,
   "metadata": {},
   "outputs": [],
   "source": [
    "import re\n",
    "def preProcessLocal(tweet):\n",
    "    #Converts a tweet to lowercase, replaces anyusername w/ <USERNAME> and URLS with <URL>\n",
    "    tweet = tweet.lower()\n",
    "    tweet = re.sub('@[a-zA-z0-9]*', '', tweet)              # <USERNAME>\n",
    "    tweet = re.sub('http[a-zA-z0-9./:]*', '', tweet)       # <URL>\n",
    "    tweet = re.sub('[.,-]*', '', tweet)\n",
    "    \n",
    "    # Utilize for instragram posts, remove hashtag for food-related posts\n",
    "    tweet = re.sub(r'#[a-zA-z0-9]*', '', tweet)\n",
    "    # tweet = re.sub(r'#', '', tweet) \n",
    "    \n",
    "    tweet = re.sub('&amp;', 'and', tweet)\n",
    "    return tweet\n",
    "# print(preProcessLocal(recent_tweets['tweet'][0]))"
   ]
  },
  {
   "cell_type": "code",
   "execution_count": 8,
   "metadata": {},
   "outputs": [
    {
     "data": {
      "text/html": [
       "<span class=\"tex2jax_ignore\"><div class=\"entities\" style=\"line-height: 2.5; direction: ltr\">i had this amazing \n",
       "<mark class=\"entity\" style=\"background: #ddd; padding: 0.45em 0.6em; margin: 0 0.25em; line-height: 1; border-radius: 0.35em;\">\n",
       "    watermelon\n",
       "    <span style=\"font-size: 0.8em; font-weight: bold; line-height: 1; border-radius: 0.35em; vertical-align: middle; margin-left: 0.5rem\">FOOD</span>\n",
       "</mark>\n",
       " for a snack today! i only ate half of it not sure what to do with the rest     🍉</div></span>"
      ],
      "text/plain": [
       "<IPython.core.display.HTML object>"
      ]
     },
     "metadata": {},
     "output_type": "display_data"
    },
    {
     "name": "stdout",
     "output_type": "stream",
     "text": [
      "Total Entities found:  (watermelon,)\n",
      "watermelon\n",
      "['The Date of Perish for Watermelon is from 1 to 2 Days', 'A Watermelon tip about the Date of Perish is Or until ripe.']\n",
      "['The Date of Perish for Watermelon is from 3 to 4 Days']\n",
      "['Watermelon can be stored in the Freeze for 12 Months']\n"
     ]
    }
   ],
   "source": [
    "nlp = spacy.load(MODEL_PATH)\n",
    "allFoodTweets = []\n",
    "allTips = []\n",
    "tipsByItem = {}\n",
    "# rangeTweets = [150,155]\n",
    "rangeTweets = [0,1]\n",
    "for i in range(rangeTweets[0], rangeTweets[1]):\n",
    "    myTweet = recent_tweets['tweet'][i]\n",
    "    x = nlp(preProcessLocal(myTweet))\n",
    "    allFoodTweets.append(x.doc.ents)\n",
    "\n",
    "counter = rangeTweets[0]\n",
    "for entities in allFoodTweets:\n",
    "    if counter != rangeTweets[1]:\n",
    "        myTweet = recent_tweets['tweet'][counter]\n",
    "        ent_recognize(preProcessLocal(myTweet))\n",
    "        print(\"Total Entities found: \", entities)\n",
    "        counter += 1\n",
    "    for e in entities:\n",
    "        item = repr(e)\n",
    "        print(item)\n",
    "        if entityFound(item):\n",
    "            for t in types:\n",
    "                allTips.append(foodStorage(item, t))\n",
    "                print(foodStorage(item, t))\n",
    "        else: print('entity not found!')"
   ]
  },
  {
   "cell_type": "code",
   "execution_count": 9,
   "metadata": {},
   "outputs": [
    {
     "name": "stdout",
     "output_type": "stream",
     "text": [
      "[['The Date of Perish for Watermelon is from 1 to 2 Days', 'A Watermelon tip about the Date of Perish is Or until ripe.'], ['The Date of Perish for Watermelon is from 3 to 4 Days'], ['Watermelon can be stored in the Freeze for 12 Months']]\n"
     ]
    }
   ],
   "source": [
    "print(allTips)"
   ]
  },
  {
   "cell_type": "code",
   "execution_count": 10,
   "metadata": {},
   "outputs": [
    {
     "ename": "ModuleNotFoundError",
     "evalue": "No module named 'tweepy'",
     "output_type": "error",
     "traceback": [
      "\u001b[1;31m---------------------------------------------------------------------------\u001b[0m",
      "\u001b[1;31mModuleNotFoundError\u001b[0m                       Traceback (most recent call last)",
      "\u001b[1;32m~\\AppData\\Local\\Temp/ipykernel_17180/1172621510.py\u001b[0m in \u001b[0;36m<module>\u001b[1;34m\u001b[0m\n\u001b[1;32m----> 1\u001b[1;33m \u001b[1;32mimport\u001b[0m \u001b[0mtweepy\u001b[0m\u001b[1;33m\u001b[0m\u001b[1;33m\u001b[0m\u001b[0m\n\u001b[0m\u001b[0;32m      2\u001b[0m \u001b[1;33m\u001b[0m\u001b[0m\n\u001b[0;32m      3\u001b[0m \u001b[0mBEARER_TOKEN\u001b[0m \u001b[1;33m=\u001b[0m \u001b[1;34m'AAAAAAAAAAAAAAAAAAAAABo6aAEAAAAA%2F0WLmPGia05j9gEC2CFXG0OsJlk%3DlvFsgAI9eeHUlIAQl371gYanqn0h6Eaf5VqNjBO4tmSugGFhxA'\u001b[0m\u001b[1;33m\u001b[0m\u001b[1;33m\u001b[0m\u001b[0m\n\u001b[0;32m      4\u001b[0m \u001b[1;33m\u001b[0m\u001b[0m\n\u001b[0;32m      5\u001b[0m \u001b[0mAPI_KEY\u001b[0m \u001b[1;33m=\u001b[0m \u001b[1;34m'FzCPF6KXbHSXtgWW90dWkwceU'\u001b[0m\u001b[1;33m\u001b[0m\u001b[1;33m\u001b[0m\u001b[0m\n",
      "\u001b[1;31mModuleNotFoundError\u001b[0m: No module named 'tweepy'"
     ]
    }
   ],
   "source": [
    "import tweepy\n",
    "\n",
    "BEARER_TOKEN = 'AAAAAAAAAAAAAAAAAAAAABo6aAEAAAAA%2F0WLmPGia05j9gEC2CFXG0OsJlk%3DlvFsgAI9eeHUlIAQl371gYanqn0h6Eaf5VqNjBO4tmSugGFhxA'\n",
    "\n",
    "API_KEY = 'FzCPF6KXbHSXtgWW90dWkwceU'\n",
    "API_SECRET_KEY = 'SsVhnggj0TJN3DZ0yEJajJVUT9M2xkfghaUaF2iw6HfCr00qhf'\n",
    "\n",
    "ACCESS_TOKEN = '1501693154507968514-o5KYtx4GOTX7FPj1OHINQU2q1J50KU'\n",
    "ACCESS_SECRET_TOKEN = '1ZYbyPj5qN35kOVZ4R8JHEQq0ChroueMd15Q9UIzOTiTG'\n",
    "\n",
    "client = tweepy.Client(\n",
    "    bearer_token= BEARER_TOKEN,\n",
    "    consumer_key = API_KEY,\n",
    "    consumer_secret = API_SECRET_KEY,\n",
    "    access_token = ACCESS_TOKEN,\n",
    "    access_token_secret = ACCESS_SECRET_TOKEN\n",
    ")\n",
    "\n",
    "# find tweet by id\n",
    "# tweet = client.get_tweet(id=1511098408768995332)\n",
    "\n",
    "# extract data from tweet\n",
    "# text = tweet.data\n",
    "# print(text)\n",
    "userNames = '@' + recent_tweets['username'][0] + ' '\n",
    "results = ''\n",
    "# print(results)\n",
    "# dict = {'item' : 'tip'}\n",
    "for tips in allTips:\n",
    "    for t in tips:\n",
    "        if t != 'No Tip to give!':\n",
    "            results += t + '. '\n",
    "    # res = client.create_tweet(text=results)\n",
    "    # print(res)\n",
    "\n",
    "new_food_tweet = client.create_tweet(text=userNames + results + ' - USDA FoodKeeper Tips')\n",
    "print(results)\n",
    "print('Char Count: ', len(results))\n",
    "# new_food_tweet = client.create_tweet(text=results)\n",
    "\n",
    "print(new_food_tweet)\n",
    "\n",
    "# Authenticate to Twitter\n",
    "# auth = tweepy.OAuthHandler(API_KEY, API_SECRET_KEY)\n",
    "# auth.set_access_token(ACCESS_TOKEN, ACCESS_SECRET_TOKEN)\n",
    "\n",
    "# api = tweepy.API(auth)\n",
    "\n",
    "# public = api.home_timeline()\n",
    "# print(public[0].text)\n",
    "\n",
    "# try:\n",
    "#     api.verify_credentials()\n",
    "#     print(\"Authentication OK\")\n",
    "# except:\n",
    "#     print(\"Error during authentication\")\n",
    "\n",
    "# results = ''\n",
    "# for tips in allTips:\n",
    "#     # print(tips)\n",
    "#     for t in tips:\n",
    "#         # print(t)\n",
    "#         results += t + ' '\n",
    "# res = user.create_tweet(text=results)\n",
    "# print(res)\n",
    "# id = res.data[\"id\"]\n",
    "# user.retweet(tweet_id=id)\n",
    "# user.like(tweet_id=id)\n",
    "# print(recent_tweets['id'][0])\n",
    "# 1511098408768995332\n",
    "# 1511082996648259585\n",
    "# 1511098408768995332\n",
    "# data = user.get_tweet(1511098408768995332)\n",
    "# data = user.get_tweets(ids=1511098408768995332)\n",
    "# print(recent_tweets['username'][0])\n",
    "# u = str(recent_tweets['username'][0])\n",
    "# data = user.get_user(u)\n",
    "# id = 1511082996648259585\n",
    "# tweet = user.get_tweet(id, expansions=['author_id'], user_fields=['username'])\n",
    "# test = user.follow_user\n",
    "# print(data)\n",
    "# data = user.get_users_tweets(id=recent_tweets['id'][0])\n",
    "# print(data)\n"
   ]
  },
  {
   "cell_type": "code",
   "execution_count": null,
   "metadata": {},
   "outputs": [],
   "source": []
  }
 ],
 "metadata": {
  "interpreter": {
   "hash": "b3ba2566441a7c06988d0923437866b63cedc61552a5af99d1f4fb67d367b25f"
  },
  "kernelspec": {
   "display_name": "Python 3 (ipykernel)",
   "language": "python",
   "name": "python3"
  },
  "language_info": {
   "codemirror_mode": {
    "name": "ipython",
    "version": 3
   },
   "file_extension": ".py",
   "mimetype": "text/x-python",
   "name": "python",
   "nbconvert_exporter": "python",
   "pygments_lexer": "ipython3",
   "version": "3.9.7"
  }
 },
 "nbformat": 4,
 "nbformat_minor": 2
}
