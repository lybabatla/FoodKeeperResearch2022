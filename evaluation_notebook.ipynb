{
 "cells": [
  {
   "cell_type": "markdown",
   "metadata": {},
   "source": [
    "## Evaluation Notebook"
   ]
  },
  {
   "cell_type": "code",
   "execution_count": 5,
   "metadata": {
    "scrolled": true
   },
   "outputs": [
    {
     "name": "stdout",
     "output_type": "stream",
     "text": [
      "Collecting en-core-web-sm==3.2.0\n",
      "  Downloading https://github.com/explosion/spacy-models/releases/download/en_core_web_sm-3.2.0/en_core_web_sm-3.2.0-py3-none-any.whl (13.9 MB)\n",
      "Requirement already satisfied: spacy<3.3.0,>=3.2.0 in c:\\programdata\\anaconda3\\lib\\site-packages (from en-core-web-sm==3.2.0) (3.2.4)\n",
      "Requirement already satisfied: murmurhash<1.1.0,>=0.28.0 in c:\\programdata\\anaconda3\\lib\\site-packages (from spacy<3.3.0,>=3.2.0->en-core-web-sm==3.2.0) (1.0.6)\n",
      "Requirement already satisfied: click<8.1.0 in c:\\programdata\\anaconda3\\lib\\site-packages (from spacy<3.3.0,>=3.2.0->en-core-web-sm==3.2.0) (8.0.3)\n",
      "Requirement already satisfied: thinc<8.1.0,>=8.0.12 in c:\\programdata\\anaconda3\\lib\\site-packages (from spacy<3.3.0,>=3.2.0->en-core-web-sm==3.2.0) (8.0.15)\n",
      "Requirement already satisfied: srsly<3.0.0,>=2.4.1 in c:\\programdata\\anaconda3\\lib\\site-packages (from spacy<3.3.0,>=3.2.0->en-core-web-sm==3.2.0) (2.4.2)\n",
      "Requirement already satisfied: pydantic!=1.8,!=1.8.1,<1.9.0,>=1.7.4 in c:\\programdata\\anaconda3\\lib\\site-packages (from spacy<3.3.0,>=3.2.0->en-core-web-sm==3.2.0) (1.8.2)\n",
      "Requirement already satisfied: requests<3.0.0,>=2.13.0 in c:\\programdata\\anaconda3\\lib\\site-packages (from spacy<3.3.0,>=3.2.0->en-core-web-sm==3.2.0) (2.26.0)\n",
      "Requirement already satisfied: preshed<3.1.0,>=3.0.2 in c:\\programdata\\anaconda3\\lib\\site-packages (from spacy<3.3.0,>=3.2.0->en-core-web-sm==3.2.0) (3.0.6)\n",
      "Requirement already satisfied: blis<0.8.0,>=0.4.0 in c:\\programdata\\anaconda3\\lib\\site-packages (from spacy<3.3.0,>=3.2.0->en-core-web-sm==3.2.0) (0.7.7)\n",
      "Requirement already satisfied: wasabi<1.1.0,>=0.8.1 in c:\\programdata\\anaconda3\\lib\\site-packages (from spacy<3.3.0,>=3.2.0->en-core-web-sm==3.2.0) (0.9.0)\n",
      "Requirement already satisfied: langcodes<4.0.0,>=3.2.0 in c:\\programdata\\anaconda3\\lib\\site-packages (from spacy<3.3.0,>=3.2.0->en-core-web-sm==3.2.0) (3.3.0)\n",
      "Requirement already satisfied: numpy>=1.15.0 in c:\\programdata\\anaconda3\\lib\\site-packages (from spacy<3.3.0,>=3.2.0->en-core-web-sm==3.2.0) (1.20.3)\n",
      "Requirement already satisfied: setuptools in c:\\programdata\\anaconda3\\lib\\site-packages (from spacy<3.3.0,>=3.2.0->en-core-web-sm==3.2.0) (58.0.4)\n",
      "Requirement already satisfied: typer<0.5.0,>=0.3.0 in c:\\programdata\\anaconda3\\lib\\site-packages (from spacy<3.3.0,>=3.2.0->en-core-web-sm==3.2.0) (0.4.0)\n",
      "Requirement already satisfied: cymem<2.1.0,>=2.0.2 in c:\\programdata\\anaconda3\\lib\\site-packages (from spacy<3.3.0,>=3.2.0->en-core-web-sm==3.2.0) (2.0.6)\n",
      "Requirement already satisfied: spacy-legacy<3.1.0,>=3.0.8 in c:\\programdata\\anaconda3\\lib\\site-packages (from spacy<3.3.0,>=3.2.0->en-core-web-sm==3.2.0) (3.0.9)\n",
      "Requirement already satisfied: jinja2 in c:\\programdata\\anaconda3\\lib\\site-packages (from spacy<3.3.0,>=3.2.0->en-core-web-sm==3.2.0) (2.11.3)\n",
      "Requirement already satisfied: packaging>=20.0 in c:\\programdata\\anaconda3\\lib\\site-packages (from spacy<3.3.0,>=3.2.0->en-core-web-sm==3.2.0) (21.0)\n",
      "Requirement already satisfied: spacy-loggers<2.0.0,>=1.0.0 in c:\\programdata\\anaconda3\\lib\\site-packages (from spacy<3.3.0,>=3.2.0->en-core-web-sm==3.2.0) (1.0.1)\n",
      "Requirement already satisfied: pathy>=0.3.5 in c:\\programdata\\anaconda3\\lib\\site-packages (from spacy<3.3.0,>=3.2.0->en-core-web-sm==3.2.0) (0.6.1)\n",
      "Requirement already satisfied: tqdm<5.0.0,>=4.38.0 in c:\\programdata\\anaconda3\\lib\\site-packages (from spacy<3.3.0,>=3.2.0->en-core-web-sm==3.2.0) (4.62.3)\n",
      "Requirement already satisfied: catalogue<2.1.0,>=2.0.6 in c:\\programdata\\anaconda3\\lib\\site-packages (from spacy<3.3.0,>=3.2.0->en-core-web-sm==3.2.0) (2.0.7)\n",
      "Requirement already satisfied: colorama in c:\\programdata\\anaconda3\\lib\\site-packages (from click<8.1.0->spacy<3.3.0,>=3.2.0->en-core-web-sm==3.2.0) (0.4.4)\n",
      "Requirement already satisfied: pyparsing>=2.0.2 in c:\\programdata\\anaconda3\\lib\\site-packages (from packaging>=20.0->spacy<3.3.0,>=3.2.0->en-core-web-sm==3.2.0) (3.0.4)\n",
      "Requirement already satisfied: smart-open<6.0.0,>=5.0.0 in c:\\programdata\\anaconda3\\lib\\site-packages (from pathy>=0.3.5->spacy<3.3.0,>=3.2.0->en-core-web-sm==3.2.0) (5.2.1)\n",
      "Requirement already satisfied: typing-extensions>=3.7.4.3 in c:\\programdata\\anaconda3\\lib\\site-packages (from pydantic!=1.8,!=1.8.1,<1.9.0,>=1.7.4->spacy<3.3.0,>=3.2.0->en-core-web-sm==3.2.0) (3.10.0.2)\n",
      "Requirement already satisfied: charset-normalizer~=2.0.0 in c:\\programdata\\anaconda3\\lib\\site-packages (from requests<3.0.0,>=2.13.0->spacy<3.3.0,>=3.2.0->en-core-web-sm==3.2.0) (2.0.4)\n",
      "Requirement already satisfied: urllib3<1.27,>=1.21.1 in c:\\programdata\\anaconda3\\lib\\site-packages (from requests<3.0.0,>=2.13.0->spacy<3.3.0,>=3.2.0->en-core-web-sm==3.2.0) (1.26.7)\n",
      "Requirement already satisfied: certifi>=2017.4.17 in c:\\programdata\\anaconda3\\lib\\site-packages (from requests<3.0.0,>=2.13.0->spacy<3.3.0,>=3.2.0->en-core-web-sm==3.2.0) (2021.10.8)\n",
      "Requirement already satisfied: idna<4,>=2.5 in c:\\programdata\\anaconda3\\lib\\site-packages (from requests<3.0.0,>=2.13.0->spacy<3.3.0,>=3.2.0->en-core-web-sm==3.2.0) (3.2)\n",
      "Requirement already satisfied: MarkupSafe>=0.23 in c:\\programdata\\anaconda3\\lib\\site-packages (from jinja2->spacy<3.3.0,>=3.2.0->en-core-web-sm==3.2.0) (1.1.1)\n",
      "Installing collected packages: en-core-web-sm\n",
      "Successfully installed en-core-web-sm-3.2.0\n",
      "✔ Download and installation successful\n",
      "You can now load the package via spacy.load('en_core_web_sm')\n"
     ]
    }
   ],
   "source": [
    "# !python -m spacy download en_core_web_sm\n",
    "\n"
   ]
  },
  {
   "cell_type": "code",
   "execution_count": 4,
   "metadata": {},
   "outputs": [
    {
     "name": "stdout",
     "output_type": "stream",
     "text": [
      "Collecting spacy\n",
      "  Downloading spacy-3.2.4-cp39-cp39-win_amd64.whl (11.3 MB)\n",
      "Requirement already satisfied: click<8.1.0 in c:\\programdata\\anaconda3\\lib\\site-packages (from spacy) (8.0.3)\n",
      "Requirement already satisfied: numpy>=1.15.0 in c:\\programdata\\anaconda3\\lib\\site-packages (from spacy) (1.20.3)\n",
      "Requirement already satisfied: jinja2 in c:\\programdata\\anaconda3\\lib\\site-packages (from spacy) (2.11.3)\n",
      "Requirement already satisfied: requests<3.0.0,>=2.13.0 in c:\\programdata\\anaconda3\\lib\\site-packages (from spacy) (2.26.0)\n",
      "Requirement already satisfied: packaging>=20.0 in c:\\programdata\\anaconda3\\lib\\site-packages (from spacy) (21.0)\n",
      "Collecting thinc<8.1.0,>=8.0.12\n",
      "  Downloading thinc-8.0.15-cp39-cp39-win_amd64.whl (1.0 MB)\n",
      "Collecting langcodes<4.0.0,>=3.2.0\n",
      "  Downloading langcodes-3.3.0-py3-none-any.whl (181 kB)\n",
      "Collecting spacy-legacy<3.1.0,>=3.0.8\n",
      "  Downloading spacy_legacy-3.0.9-py2.py3-none-any.whl (20 kB)\n",
      "Requirement already satisfied: setuptools in c:\\programdata\\anaconda3\\lib\\site-packages (from spacy) (58.0.4)\n",
      "Collecting blis<0.8.0,>=0.4.0\n",
      "  Downloading blis-0.7.7-cp39-cp39-win_amd64.whl (6.6 MB)\n",
      "Collecting wasabi<1.1.0,>=0.8.1\n",
      "  Downloading wasabi-0.9.0-py3-none-any.whl (25 kB)\n",
      "Collecting pathy>=0.3.5\n",
      "  Downloading pathy-0.6.1-py3-none-any.whl (42 kB)\n",
      "Collecting typer<0.5.0,>=0.3.0\n",
      "  Downloading typer-0.4.0-py3-none-any.whl (27 kB)\n",
      "Collecting murmurhash<1.1.0,>=0.28.0\n",
      "  Downloading murmurhash-1.0.6-cp39-cp39-win_amd64.whl (21 kB)\n",
      "Collecting spacy-loggers<2.0.0,>=1.0.0\n",
      "  Downloading spacy_loggers-1.0.1-py3-none-any.whl (7.0 kB)\n",
      "Collecting pydantic!=1.8,!=1.8.1,<1.9.0,>=1.7.4\n",
      "  Downloading pydantic-1.8.2-cp39-cp39-win_amd64.whl (1.9 MB)\n",
      "Collecting catalogue<2.1.0,>=2.0.6\n",
      "  Downloading catalogue-2.0.7-py3-none-any.whl (17 kB)\n",
      "Collecting srsly<3.0.0,>=2.4.1\n",
      "  Downloading srsly-2.4.2-cp39-cp39-win_amd64.whl (451 kB)\n",
      "Requirement already satisfied: tqdm<5.0.0,>=4.38.0 in c:\\programdata\\anaconda3\\lib\\site-packages (from spacy) (4.62.3)\n",
      "Collecting cymem<2.1.0,>=2.0.2\n",
      "  Downloading cymem-2.0.6-cp39-cp39-win_amd64.whl (36 kB)\n",
      "Collecting preshed<3.1.0,>=3.0.2\n",
      "  Downloading preshed-3.0.6-cp39-cp39-win_amd64.whl (112 kB)\n",
      "Requirement already satisfied: colorama in c:\\programdata\\anaconda3\\lib\\site-packages (from click<8.1.0->spacy) (0.4.4)\n",
      "Requirement already satisfied: pyparsing>=2.0.2 in c:\\programdata\\anaconda3\\lib\\site-packages (from packaging>=20.0->spacy) (3.0.4)\n",
      "Collecting smart-open<6.0.0,>=5.0.0\n",
      "  Downloading smart_open-5.2.1-py3-none-any.whl (58 kB)\n",
      "Requirement already satisfied: typing-extensions>=3.7.4.3 in c:\\programdata\\anaconda3\\lib\\site-packages (from pydantic!=1.8,!=1.8.1,<1.9.0,>=1.7.4->spacy) (3.10.0.2)\n",
      "Requirement already satisfied: idna<4,>=2.5 in c:\\programdata\\anaconda3\\lib\\site-packages (from requests<3.0.0,>=2.13.0->spacy) (3.2)\n",
      "Requirement already satisfied: urllib3<1.27,>=1.21.1 in c:\\programdata\\anaconda3\\lib\\site-packages (from requests<3.0.0,>=2.13.0->spacy) (1.26.7)\n",
      "Requirement already satisfied: charset-normalizer~=2.0.0 in c:\\programdata\\anaconda3\\lib\\site-packages (from requests<3.0.0,>=2.13.0->spacy) (2.0.4)\n",
      "Requirement already satisfied: certifi>=2017.4.17 in c:\\programdata\\anaconda3\\lib\\site-packages (from requests<3.0.0,>=2.13.0->spacy) (2021.10.8)\n",
      "Requirement already satisfied: MarkupSafe>=0.23 in c:\\programdata\\anaconda3\\lib\\site-packages (from jinja2->spacy) (1.1.1)\n",
      "Installing collected packages: murmurhash, cymem, catalogue, wasabi, typer, srsly, smart-open, pydantic, preshed, blis, thinc, spacy-loggers, spacy-legacy, pathy, langcodes, spacy\n",
      "Successfully installed blis-0.7.7 catalogue-2.0.7 cymem-2.0.6 langcodes-3.3.0 murmurhash-1.0.6 pathy-0.6.1 preshed-3.0.6 pydantic-1.8.2 smart-open-5.2.1 spacy-3.2.4 spacy-legacy-3.0.9 spacy-loggers-1.0.1 srsly-2.4.2 thinc-8.0.15 typer-0.4.0 wasabi-0.9.0\n",
      "Note: you may need to restart the kernel to use updated packages.\n"
     ]
    }
   ],
   "source": [
    "# pip install spacy"
   ]
  },
  {
   "cell_type": "code",
   "execution_count": 6,
   "metadata": {
    "scrolled": true
   },
   "outputs": [
    {
     "name": "stdout",
     "output_type": "stream",
     "text": [
      "[]\n"
     ]
    }
   ],
   "source": [
    "import pandas as pd\n",
    "from tqdm import tqdm\n",
    "import spacy\n",
    "from spacy.tokens import DocBin\n",
    "import re\n",
    "import os\n",
    "from spacy import displacy\n",
    "from sklearn import metrics\n",
    "from sklearn.metrics import plot_confusion_matrix\n",
    "\n",
    "from spacy.util import filter_spans\n",
    " \n",
    "\n",
    "\n",
    "\n",
    "FOODKEEPER_PATH = \"datasets/FoodKeeper-Data.xls\"\n",
    "TRAINING_DATA_PATH = \"datasets/data.csv\"\n",
    "MODEL_PATH = \"output/model-last\"\n",
    "TEST_DATA_PATH = \"datasets/test_data.csv\"\n",
    "REAL_TWITTER_DATA_PATH = \"datasets/data.csv\"\n",
    "#STARTING_KEYWORD_COUNT = 10\n",
    "#TRAINING_LOOP_ITERATIONS = 3\n",
    "#REQUIRED_KEYWORDS = 3\n",
    "\n",
    "pd.options.mode.chained_assignment = None\n",
    "\n",
    "#nlp = spacy.load(MODEL_PATH)\n",
    "nlp = spacy.blank(\"en\")\n",
    "food_data = pd.read_excel(FOODKEEPER_PATH, sheet_name = \"Product\")\n",
    "training_data = pd.read_csv(TRAINING_DATA_PATH,index_col = False, header = None)\n",
    "test_data = pd.read_csv(TEST_DATA_PATH)\n",
    "live_tweets = pd.read_csv(REAL_TWITTER_DATA_PATH, header = None)\n",
    "\n",
    "\n",
    "#loop through and count the specific entities\n",
    "keywords = [] #'chicken', 'milk', 'butter', 'cheese'\n",
    "sampleData = []\n",
    "\n",
    "\n",
    "    \n",
    "#update rank tweet to take the counter as a parameter and condense both rankings\n",
    "def rankTweet(tweet, model):\n",
    "#     model = spacy.load(MODEL_PATH)\n",
    "#     tweetKeywords = []\n",
    "    doc = model(tweet)\n",
    "    return len(doc.ents)\n",
    "       \n",
    "    \n",
    "def findNewKeywords(tweet, keywords):\n",
    "    foodkeeperKeys = foodKeeperInfo()\n",
    "    x = tweet.split()\n",
    "    word = \"\"\n",
    "    i = 0\n",
    "    while i < len(x):\n",
    "    #for i in range(len(x)):\n",
    "        z = 1\n",
    "        if x[i] in foodkeeperKeys:\n",
    "            word = x[i]\n",
    "        try:\n",
    "            foundBiWord = x[i] + \" \" + x[i+1]\n",
    "            if foundBiWord in foodkeeperKeys: #keywords\n",
    "                word = foundBiWord\n",
    "                z = 2\n",
    "        except:\n",
    "            pass\n",
    "        \n",
    "        try:\n",
    "            foundTriWord = x[i] + \" \" + x[i+1] + \" \" + x[i+2]\n",
    "            if foundTriWord in foodkeeperKeys: #keywords:\n",
    "                word = foundTriWord\n",
    "                z = 3\n",
    "        except:\n",
    "            pass\n",
    "        i += z\n",
    "        \n",
    "        if word not in keywords and word != \"\":\n",
    "            keywords.append(word)\n",
    "    return keywords\n",
    "    \n",
    "\n",
    "#Function to find the most common verbs in the tweets\n",
    "def getCommonVerbs(data):\n",
    "    import en_core_web_sm\n",
    "    nlp2 = spacy.load(\"en_core_web_sm\")\n",
    "    count = 0\n",
    "    myVerbs = {}\n",
    "    for i in range(len(data[0])):\n",
    "        doc = nlp2(data[0][i])\n",
    "        for token in doc:\n",
    "            if token.pos_ == \"VERB\":\n",
    "                if token.text in myVerbs:\n",
    "                    myVerbs[token.text] = myVerbs[token.text] + 1\n",
    "                else:\n",
    "                    if token.text not in nlp2.Defaults.stop_words:\n",
    "                        myVerbs[token.text] = 1\n",
    "        \n",
    "\n",
    "    topVerbs = dict(sorted(myVerbs.items(), key = lambda item: item[1], reverse=True)[:10])\n",
    "    return [key for key in topVerbs]\n",
    "    \n",
    "\n",
    "    \n",
    "def convertToTrainingFormat(tweet, keywords):\n",
    "    foodKeeperKeywordsTest = foodKeeperInfo()\n",
    "    x = tweet.split()\n",
    "    myEnts = {'entities':[]}\n",
    "    found = False\n",
    "    i = 0\n",
    "    foundWords = []\n",
    "    while i < len(x):\n",
    "        z = 1\n",
    "        newWord = \"\"\n",
    "        if x[i] in keywords:\n",
    "            pos = tweet.find(x[i])\n",
    "            y = (pos, pos + len(x[i]), 'FOOD')\n",
    "            found = True\n",
    "        if x[i] in foodKeeperKeywordsTest:\n",
    "            newWord = x[i]\n",
    "            \n",
    "        try:\n",
    "            foundBiWord = x[i] + \" \" + x[i+1]\n",
    "            if foundBiWord in keywords:\n",
    "                pos = tweet.find(x[i])\n",
    "                y = (pos, pos + len(x[i])+len(x[i+1]) + 1, 'FOOD')\n",
    "                found = True\n",
    "                z = 2\n",
    "            if foundBiWord in foodKeeperKeywordsTest:\n",
    "                newWord = foundBiWord\n",
    "        except:\n",
    "            pass\n",
    "        \n",
    "        try:\n",
    "            foundTriWord = x[i] + \" \" + x[i+1] + \" \" + x[i+2]\n",
    "            if foundTriWord in keywords:\n",
    "                pos = tweet.find(x[i])\n",
    "                y = (pos, pos + len(x[i])+len(x[i+1])+len(x[i+2]) + 2, 'FOOD')\n",
    "                found = True\n",
    "                z = 3\n",
    "            if foundTriWord in foodKeeperKeywordsTest:\n",
    "                newWord = foundTriWord\n",
    "        except:\n",
    "            pass\n",
    "        \n",
    "        try:\n",
    "            if y not in myEnts['entities']:\n",
    "                myEnts['entities'].append(y)    \n",
    "        except:\n",
    "            pass\n",
    "\n",
    "        if newWord != \"\" and newWord not in keywordRanker:\n",
    "            keywordRanker[newWord] = 1\n",
    "        elif newWord != \"\" and newWord in keywordRanker:\n",
    "            keywordRanker[newWord] += 1\n",
    "        #print(z)\n",
    "        i += z\n",
    "        #print(i)\n",
    "    formatted = (tweet, myEnts)\n",
    "    #print(formatted)\n",
    "    if found:\n",
    "        return formatted\n",
    "    else: \n",
    "        return ()\n",
    "     \n",
    "#Gathers all the keywords from the FoodKeeper database\n",
    "def foodKeeperInfo():              \n",
    "    keywords = []\n",
    "    for word in food_data['Name']:\n",
    "        word = word.replace(\" or \", \" \")\n",
    "        word = re.sub('[/,]', ' ', word)\n",
    "        word = word.lstrip()\n",
    "        word = word.rstrip()\n",
    "\n",
    "        if word.lower() not in keywords: \n",
    "            keywords.append(word.lower())\n",
    "\n",
    "    #print(\"Total foodkeeper food names: \" + str(len(keywords)))        \n",
    "    #for element in sorted(keywords):\n",
    "        #print(element)\n",
    "        \n",
    "    return keywords\n",
    "\n",
    "foodKeeperKeywordsTest = foodKeeperInfo()\n",
    "\n",
    "\n",
    "def preProcess(tweet):\n",
    "    #Converts a tweet to lowercase, replaces anyusername w/ <USERNAME> and URLS with <URL>\n",
    "    tweet = tweet.lower()\n",
    "    tweet = re.sub('@[a-zA-z0-9]*', '', tweet)              # <USERNAME>\n",
    "    tweet = re.sub('http[a-zA-z0-9./:]*', '', tweet)       # <URL>\n",
    "    tweet = re.sub('[.,-]*', '', tweet)\n",
    "    tweet = re.sub('&amp;', 'and', tweet)\n",
    "    \n",
    "    return tweet\n",
    "\n",
    "\n",
    "noEntity= []\n",
    "\n",
    "keywordRanker = {}\n",
    "\n",
    "def trainModel(data):\n",
    "    #Initialize all the variables\n",
    "    keywords = [] #foodKeeperInfo()\n",
    "    oldKeywords = []\n",
    "    newKeywords = []\n",
    "    \n",
    "      \n",
    "    \n",
    "    commonVerbs = getCommonVerbs(data) \n",
    "    print(commonVerbs)\n",
    "    print(\"Common Verbs gathered...\", '\\n')\n",
    "    \n",
    "    #entityCheckCount controls how many entities are required to \n",
    "    #add a Tweet to be trained\n",
    "    \n",
    "    entityCheckCount = 3\n",
    "    \n",
    "    counter = 0\n",
    "    trainingLoop = True\n",
    "    \n",
    "    while trainingLoop:\n",
    "        counterText = \"~~~~~~~~~~~~~~~~~\"+str(counter)+\"~~~~~~~~~~~~~~~~~\"\n",
    "        print(counterText)\n",
    "        \n",
    "        nlp = spacy.blank(\"en\") # load a new spacy model\n",
    "        try:\n",
    "            model = spacy.load(MODEL_PATH)\n",
    "            print('Model loaded...')\n",
    "        except:\n",
    "            print('No model...')\n",
    "        \n",
    "        db = DocBin() # create a DocBin object\n",
    "        \n",
    "        myTweets = []\n",
    "        \n",
    "        #Loop through all the tweets\n",
    "        #This loop is necessary to get the most common keywords \n",
    "        #in the convertToTrainingFormat function\n",
    "        \n",
    "        for i in range(len(data[0])): #len(data[0])\n",
    "            #useless if?\n",
    "#             if i % 500 == 0:\n",
    "#                 print(i)\n",
    "\n",
    "            if counter == 0:\n",
    "                x = convertToTrainingFormat(preProcess(data[0][i]), keywords)\n",
    "                \n",
    "            #If counter is 1 then there is no model to check so \n",
    "            #a word count is performed\n",
    "            elif counter == 1:\n",
    "                x = convertToTrainingFormat(preProcess(data[0][i]), keywords)\n",
    "                if x!= ():\n",
    "                    if len(x[1]['entities']) > entityCheckCount:\n",
    "                        #print(\"Found tweet\", x[0])\n",
    "                        myTweets.append(x)  \n",
    "            else:\n",
    "                #Convert each tweet into spacy training format\n",
    "                x = convertToTrainingFormat(preProcess(data[0][i]), keywords)\n",
    "                checkPassed = False\n",
    "                if x != ():\n",
    "                    #Check the ranking of the tweet\n",
    "                    if rankTweet(x[0], model) > entityCheckCount:\n",
    "                        checkTweet = x[0].split()\n",
    "                        \n",
    "                        #Check to see if tweet has one of the common verbs\n",
    "                        for word in checkTweet:\n",
    "                            if word in commonVerbs:\n",
    "                                checkPassed = True\n",
    "                                \n",
    "                        if True: #checkPassed:\n",
    "                            #print(\"Checking rank...\")\n",
    "                            myTweets.append(x)\n",
    "        \n",
    "                        \n",
    "#         Initialize the keywords\n",
    "       \n",
    "        \n",
    "        if counter == 0:  \n",
    "            # Set keywords to be all keywords found in foodkeeper\n",
    "#            keywords = foodKeeperInfo()\n",
    "            sortedKeywords =  sorted(keywordRanker, key=keywordRanker.get, reverse=True)\n",
    "\n",
    "            for i in range(15): #sortedKeywords\n",
    "                keywords.append(sortedKeywords[i])\n",
    "            #print(sortedKeywords[i], keywordRanker[sortedKeywords[i]])\n",
    "            \n",
    "\n",
    "        elif counter > 0:\n",
    "            for text, annot in tqdm(myTweets): # data in previous format\n",
    "                doc = nlp.make_doc(text) # create doc object from text\n",
    "                ents = []\n",
    "                for start, end, label in annot[\"entities\"]: # add character indexes\n",
    "                    span = doc.char_span(start, end, label=label, alignment_mode=\"contract\")\n",
    "                    \n",
    "                    if span is None:\n",
    "                        print(\"Skipping entity\")\n",
    "                    elif ents == []: ents.append(span) \n",
    "                    else:\n",
    "                        #Check to see if any entities are overlapping i.e rice and rice cakes\n",
    "                        ents.append(span)\n",
    "                        \n",
    "                        \n",
    "#                         for ent in ents:\n",
    "#                             if ent is not None:\n",
    "#                                 entLength = ent.end - ent.start\n",
    "#                                 if span.start == ent.start or span.end == ent.end:\n",
    "#                                     if entLength > (span.end - span.start):\n",
    "#                                         continue\n",
    "#                                     else:\n",
    "#                                         ents.remove(ent)\n",
    "#                                         ents.append(span)\n",
    "#                                 else:\n",
    "#                                     ents.append(span)\n",
    "                    #if span not in ents: ents.append(span)\n",
    "                            \n",
    "                                #print(span.start, span.end, ents)\n",
    "                    #put into for loop\n",
    "#                 foundEnts = []\n",
    "#                 newEnts = []\n",
    "#                 for ent in ents:\n",
    "#                     if ent.text not in foundEnts:\n",
    "#                         foundEnts.append(ent.text)\n",
    "#                         newEnts.append(ent)\n",
    "                        \n",
    "                newEnts = filter_spans(ents)              \n",
    "                #try:\n",
    "                doc.ents = newEnts # label the text with the ents\n",
    "                    #print(doc)\n",
    "                db.add(doc)\n",
    "                #except:\n",
    "                    #print(\"Error 10: \", doc)\n",
    "\n",
    "            db.to_disk(\"./train.spacy\") # save the docbin object\n",
    "                \n",
    "            #If problems are occuring with the models not appearing\n",
    "            #ensure that the command is valid, specifically python is the correct\n",
    "            #PATH variable name on your machine\n",
    "            #--paths.train should be where the docbin object is saved\n",
    "            stream = os.popen('python -m spacy train config.cfg --output ./output --paths.train ./train.spacy --paths.dev ./train.spacy')\n",
    "            print(stream.read())\n",
    "            print(\"Total keywords: \", str(len(keywords)))\n",
    "            print(\"List of Keywords:\\n\\n\",keywords,\"\\n\\n\")\n",
    "            oldKeywords = len(keywords)\n",
    "            \n",
    "            \n",
    "            #Look for new keywords\n",
    "            for element in myTweets:\n",
    "                keywords = findNewKeywords(element[0], keywords)\n",
    "                \n",
    "            \n",
    "            #No new keywords are found\n",
    "            if (oldKeywords == len(keywords)) and counter > 1 and entityCheckCount != 1:\n",
    "                entityCheckCount -= 1\n",
    "                print(\"Decreasing entityCheckCount variable by 1\")\n",
    "                print(\"entityCheckCount = \", entityCheckCount)\n",
    "                \n",
    "\n",
    "            #New keywords are found and entity rank check == 1\n",
    "            elif (oldKeywords == len(keywords)) and counter > 1 and entityCheckCount == 1:\n",
    "                trainingLoop = False\n",
    "            \n",
    "            eval_model()\n",
    "            \n",
    "        \n",
    "\n",
    "        #for element in myTweets:\n",
    "            #findNewKeywords(element[0], keywords)\n",
    "\n",
    "        print(\"Total keywords: \", str(len(keywords)))\n",
    "        print(\"Total Tweets: \", str(len(myTweets)))\n",
    "        print(\"List of Keywords:\\n\\n\",keywords,\"\\n\\n\")\n",
    "        counter += 1\n",
    "        \n",
    "    print('Training Done...')\n",
    "        \n",
    "        \n",
    "        \n",
    "\n",
    "def information(data):\n",
    "    myData = {}\n",
    "    totalEnt=0\n",
    "    \n",
    "    for i in range(len(data[0])):\n",
    "        doc = nlp(preProcess(data[0][i]))\n",
    "        if len(doc.ents) == 0:\n",
    "            noEntity.append(preProcess(data[0][i]))\n",
    "            \n",
    "        #print(len(doc.ents))\n",
    "        if(len(doc.ents) == 4):\n",
    "            print(doc)\n",
    "            \n",
    "        for entity in doc.ents: \n",
    "        #print(entity.label_)\n",
    "            totalEnt+=1\n",
    "            if(entity.label_ == 'FOOD'):\n",
    "                if entity.text in myData:\n",
    "                    myData[entity.text] += 1\n",
    "                else:\n",
    "                    myData[entity.text] = 1\n",
    "                    \n",
    "    print(\"Number of entities found: \" + str(len(myData)))\n",
    "    print(totalEnt)\n",
    "    for i in sorted(myData, key = myData.get):\n",
    "        print(\"Entity: \" + i, \"Count: \" + str(myData[i]), \"Density: \" + str(format(myData[i]/totalEnt, '.2f')), end = \"\\n\")\n",
    "    \n",
    "    \n",
    "    return myData\n",
    "\n",
    "\n",
    "\n",
    "\n",
    "for i in range(len(test_data['tweet'])):\n",
    "    test_data['tweet'][i] = preProcess(test_data['tweet'][i])\n",
    "\n",
    "y = test_data['food'].tolist()\n",
    "# print(test_data)\n",
    "# print(nlp.pipe_names)\n",
    "    \n",
    "def ent_recognize(text):\n",
    "    doc = nlp(text)\n",
    "    displacy.render(doc,style = \"ent\")\n",
    "    \n",
    "def predict(tweet):\n",
    "    doc = nlp(str(tweet))\n",
    "    if doc.ents:\n",
    "        displacy.render(doc,style = \"ent\")\n",
    "\n",
    "def returnPrediction(tweet):\n",
    "    nlp = spacy.load(MODEL_PATH)\n",
    "    doc = nlp(str(tweet))\n",
    "    if doc.ents:\n",
    "        return 1\n",
    "    else:\n",
    "        return 0\n",
    "    \n",
    "def get_predictions():\n",
    "    predictions = []\n",
    "    for tweet in test_data['tweet'].tolist():\n",
    "        predictions.append(returnPrediction(tweet))\n",
    "    return predictions\n",
    "    \n",
    "def eval_model():\n",
    "    nlp = spacy.load(MODEL_PATH)\n",
    "    predictions = get_predictions()\n",
    "    print(metrics.confusion_matrix(y,predictions, labels = [1,0]))\n",
    "    print(metrics.classification_report(y,predictions, labels = [1,0]))\n",
    "    \n",
    "def show_tp():\n",
    "    counter = 0\n",
    "    tweets = test_data['tweet'].tolist()\n",
    "    predictions = get_predictions()\n",
    "    for i in range(len(y)):\n",
    "        if predictions[i] == 1 and y[i] == 1:\n",
    "            print(\"True positives:\", tweets[i], \"\\n\")\n",
    "            counter += 1\n",
    "    print(counter)\n",
    "    \n",
    "def show_tn():\n",
    "    counter = 0\n",
    "    predictions = get_predictions()\n",
    "    tweets = test_data['tweet'].tolist()\n",
    "    for i in range(len(y)):\n",
    "        if predictions[i] == 0 and y[i] == 0:\n",
    "            print(\"True Negative:\", tweets[i], \"\\n\")\n",
    "            counter += 1\n",
    "    print(counter)\n",
    "    \n",
    "def show_fn():\n",
    "    predictions = get_predictions()\n",
    "    tweets = test_data['tweet']\n",
    "    counter = 0\n",
    "    for i in range(len(y)):\n",
    "        if predictions[i] == 0 and y[i] == 1:\n",
    "            print(\"False Negative:\", tweets[i], \"\\n\")\n",
    "            counter += 1\n",
    "    print(counter)\n",
    "    \n",
    "def show_fp():\n",
    "    predictions = get_predictions()\n",
    "    tweets = test_data['tweet'].tolist()\n",
    "    for i in range(len(y)):\n",
    "        if predictions[i] == 1 and y[i] == 0:\n",
    "            print(\"False Positive:\")\n",
    "            doc = nlp(str(tweets[i]))\n",
    "            if doc.ents:\n",
    "                displacy.render(doc,style = \"ent\")"
   ]
  },
  {
   "cell_type": "markdown",
   "metadata": {},
   "source": [
    "# Checking for overlapping words"
   ]
  },
  {
   "cell_type": "code",
   "execution_count": 46,
   "metadata": {
    "scrolled": true
   },
   "outputs": [],
   "source": [
    "# rankTweet(\"chicken\", None)\n",
    "# def checkForOverlaps(data):\n",
    "    \n",
    "#     print(data)\n",
    "# keywords = foodKeeperInfo()\n",
    "# testdata = convertToTrainingFormat(\"My rice cakes is tasty \", keywords)\n",
    "\n",
    "# # for word in keywords:\n",
    "# #     for word2 in wordsInFoodkeeper:\n",
    "# #         if word in word2 and word != word2:\n",
    "# #             print(word,word2)\n",
    "\n"
   ]
  },
  {
   "cell_type": "markdown",
   "metadata": {},
   "source": [
    "## Use the function below to check individual sentences"
   ]
  },
  {
   "cell_type": "code",
   "execution_count": 47,
   "metadata": {},
   "outputs": [],
   "source": [
    "# nlp = spacy.load(\"en_core_web_sm\")\n",
    "# ent_recognize(\"my friend is chicken because he is scared\")\n",
    "# print(live_tweets)\n",
    "# testTweets = live_tweets[5]\n",
    "# for tweet in testTweets[:500]:\n",
    "#     if nlp(preProcess(tweet)).ents:\n",
    "#         ent_recognize(preProcess(tweet))\n"
   ]
  },
  {
   "cell_type": "markdown",
   "metadata": {},
   "source": [
    "## Use the function below to check model performance on the entire test set"
   ]
  },
  {
   "cell_type": "code",
   "execution_count": 48,
   "metadata": {
    "scrolled": true
   },
   "outputs": [],
   "source": [
    "#eval_model()"
   ]
  },
  {
   "cell_type": "markdown",
   "metadata": {},
   "source": [
    "## Use the functions below to see TP, TN, FP, FN respectively"
   ]
  },
  {
   "cell_type": "code",
   "execution_count": 49,
   "metadata": {},
   "outputs": [],
   "source": [
    "# show_tp()\n",
    "# show_tn()\n",
    "# show_fp()\n",
    "#show_fn()"
   ]
  },
  {
   "cell_type": "code",
   "execution_count": 50,
   "metadata": {
    "scrolled": true
   },
   "outputs": [
    {
     "name": "stdout",
     "output_type": "stream",
     "text": [
      "()\n"
     ]
    }
   ],
   "source": [
    "# foodkeeper = foodKeeperInfo()\n",
    "# print(foodkeeper)\n",
    "# sortedKeywords =  sorted(keywordRanker, key=keywordRanker.get, reverse=True)\n",
    "\n",
    "# for i in range(15): #sortedKeywords\n",
    "#     keywords.append(sortedKeywords[i])\n",
    "# print(keywords)\n",
    "# keywords.append(\"chicken\")\n",
    "# #keywords.append(\"cream cheese\")\n",
    "\n",
    "# abc = convertToTrainingFormat(\"I like to eat cream and cheese with chicken test\", keywords)\n",
    "# print(abc)\n"
   ]
  },
  {
   "cell_type": "markdown",
   "metadata": {},
   "source": [
    "# Find the most common words"
   ]
  },
  {
   "cell_type": "code",
   "execution_count": 51,
   "metadata": {},
   "outputs": [],
   "source": [
    "# commonVerbs = getCommonVerbs(training_data) \n",
    "#commonVerbs = ['eat', 'know', 'think', 'want', 'got', 'like', 'love', 'use', 'need', 'add']"
   ]
  },
  {
   "cell_type": "markdown",
   "metadata": {},
   "source": [
    "# Training Loop"
   ]
  },
  {
   "cell_type": "code",
   "execution_count": 7,
   "metadata": {
    "scrolled": true
   },
   "outputs": [
    {
     "name": "stdout",
     "output_type": "stream",
     "text": [
      "['eat', 'know', 'think', 'want', 'like', 'got', 'love', 'use', 'need', 'add']\n",
      "Common Verbs gathered... \n",
      "\n",
      "~~~~~~~~~~~~~~~~~0~~~~~~~~~~~~~~~~~\n",
      "Model loaded...\n",
      "Total keywords:  15\n",
      "Total Tweets:  0\n",
      "List of Keywords:\n",
      "\n",
      " ['cheese', 'chicken', 'milk', 'butter', 'cream', 'fruit', 'rice', 'water', 'garlic', 'bread', 'sugar', 'salt', 'chocolate', 'fish', 'beef'] \n",
      "\n",
      "\n",
      "~~~~~~~~~~~~~~~~~1~~~~~~~~~~~~~~~~~\n",
      "Model loaded...\n"
     ]
    },
    {
     "name": "stderr",
     "output_type": "stream",
     "text": [
      "100%|██████████| 194/194 [00:00<00:00, 2153.70it/s]\n"
     ]
    },
    {
     "name": "stdout",
     "output_type": "stream",
     "text": [
      "Skipping entity\n",
      "Skipping entity\n",
      "Skipping entity\n",
      "â„¹ Saving to output directory: output\n",
      "â„¹ Using CPU\n",
      "\u001b[1m\n",
      "=========================== Initializing pipeline ===========================\u001b[0m\n",
      "âœ” Initialized pipeline\n",
      "\u001b[1m\n",
      "============================= Training pipeline =============================\u001b[0m\n",
      "â„¹ Pipeline: ['tok2vec', 'ner']\n",
      "â„¹ Initial learn rate: 0.001\n",
      "E    #       LOSS TOK2VEC  LOSS NER  ENTS_F  ENTS_P  ENTS_R  SCORE \n",
      "---  ------  ------------  --------  ------  ------  ------  ------\n",
      "  0       0          0.00     40.50    0.00    0.00    0.00    0.00\n",
      "  2     200         56.41   1144.45   97.91   97.31   98.52    0.98\n",
      "  4     400        136.85    159.49   99.45   99.02   99.88    0.99\n",
      "  8     600        119.93     74.74   99.94   99.88  100.00    1.00\n",
      " 12     800         86.50     34.95  100.00  100.00  100.00    1.00\n",
      " 17    1000         78.15     18.21   99.88   99.75  100.00    1.00\n",
      " 24    1200        137.67     23.35   99.94  100.00   99.88    1.00\n",
      " 32    1400         72.91     10.44  100.00  100.00  100.00    1.00\n",
      "âš  Aborting and saving the final best model. Encountered exception:\n",
      "PermissionError(13, 'The process cannot access the file because it is being used\n",
      "by another process')\n",
      "\n",
      "Total keywords:  15\n",
      "List of Keywords:\n",
      "\n",
      " ['cheese', 'chicken', 'milk', 'butter', 'cream', 'fruit', 'rice', 'water', 'garlic', 'bread', 'sugar', 'salt', 'chocolate', 'fish', 'beef'] \n",
      "\n",
      "\n",
      "[[19 25]\n",
      " [ 3 36]]\n",
      "              precision    recall  f1-score   support\n",
      "\n",
      "           1       0.86      0.43      0.58        44\n",
      "           0       0.59      0.92      0.72        39\n",
      "\n",
      "    accuracy                           0.66        83\n",
      "   macro avg       0.73      0.68      0.65        83\n",
      "weighted avg       0.74      0.66      0.64        83\n",
      "\n",
      "Total keywords:  187\n",
      "Total Tweets:  194\n",
      "List of Keywords:\n",
      "\n",
      " ['cheese', 'chicken', 'milk', 'butter', 'cream', 'fruit', 'rice', 'water', 'garlic', 'bread', 'sugar', 'salt', 'chocolate', 'fish', 'beef', 'yogurt', 'almond milk', 'greens', 'granola', 'nuts', 'chia seeds', 'onions', 'apples', 'peanut butter', 'squash', 'soda', 'flour', 'garlic powder', 'buttermilk', 'potatoes', 'cottage cheese', 'sour cream', 'turkey', 'beans', 'cream cheese', 'bagel', 'pretzels', 'celery', 'white wine', 'margarine', 'whipped cream', 'ice cream', 'pineapple', 'whipped topping', 'plantains', 'veal', 'mustard', 'corned beef', 'rye', 'fried chicken', 'gravy', 'tuna', 'vegetables', 'eggs', 'rotisserie chicken', 'hot dogs', 'crackers', 'dips', 'meats', 'frozen entrees', 'bacon', 'pasta', 'pizza', 'potato chips', 'avocados', 'pork', 'sunflower seeds', 'lentils', 'lean fish', 'cauliflower', 'asparagus', 'almonds', 'cooked fish', 'honey', 'kimchi', 'herbs', 'dates', 'scallops', 'yuzu', 'corn syrup', 'baking soda', 'molasses', 'yeast', 'cornmeal', 'vinegar', 'parsley', 'worcestershire sauce', 'mushrooms', 'broth', 'peppers', 'oats', 'guava', 'coconut', 'cheesecake', 'cinnamon', 'muffin', 'pies', 'tomato sauce', 'pickles', 'goat', 'lamb', 'seafood', 'olives', 'baking powder', 'sesame seeds', 'raspberries', 'cornstarch', 'hot sauce', 'grits', 'chives', 'coconut milk', 'tamarind', 'tomatoes', 'cumin', 'chili powder', 'onion powder', 'black pepper', 'pie crust', 'cooked rice', 'nutmeg', 'peas', 'refried beans', 'bananas', 'okra', 'cabbage', 'syrup', 'juice concentrates', 'basil', 'fruits', 'horseradish', 'lettuce', 'pesto', 'soy milk', 'hoisin sauce', 'sesame oil', 'peanuts', 'ham', 'bacon bits', 'chutney', 'sun dried tomatoes', 'sausage', 'coffee', 'pasta salad', 'cereal', 'grapes', 'cashews', 'tea', 'pudding', 'coconut cream', 'coconut water', 'apple juice', 'fruit cocktail', 'walnuts', 'dough', 'roasted red peppers', 'whole wheat bread', 'thyme', 'mayonnaise', 'oregano', 'leftovers', 'strawberries', 'berries', 'coleslaw', 'cilantro', 'guacamole', 'tomato paste', 'canola oil', 'mung bean', 'lemon juice', 'ghee', 'avocado oil', 'almond oil', 'grapeseed oil', 'spelt', 'lime juice', 'pure vanilla extract', 'butter flavor', 'string cheese', 'salsa', 'puff pastry', 'biscuits', 'orange juice', 'vegetable soup', 'caviar', 'pine nuts', 'coconut oil', 'quail'] \n",
      "\n",
      "\n",
      "~~~~~~~~~~~~~~~~~2~~~~~~~~~~~~~~~~~\n",
      "Model loaded...\n"
     ]
    },
    {
     "name": "stderr",
     "output_type": "stream",
     "text": [
      "100%|██████████| 537/537 [00:00<00:00, 2283.15it/s]"
     ]
    },
    {
     "name": "stdout",
     "output_type": "stream",
     "text": [
      "Skipping entity\n",
      "Skipping entity\n",
      "Skipping entity\n",
      "Skipping entity\n",
      "Skipping entity\n",
      "Skipping entity\n",
      "Skipping entity\n",
      "Skipping entity\n",
      "Skipping entity\n",
      "Skipping entity\n",
      "Skipping entity\n",
      "Skipping entity\n",
      "Skipping entity\n",
      "Skipping entity\n",
      "Skipping entity\n",
      "Skipping entity\n",
      "Skipping entity\n",
      "Skipping entity\n",
      "Skipping entity\n",
      "Skipping entity\n",
      "Skipping entity\n",
      "Skipping entity\n",
      "Skipping entity\n"
     ]
    },
    {
     "name": "stderr",
     "output_type": "stream",
     "text": [
      "\n"
     ]
    },
    {
     "name": "stdout",
     "output_type": "stream",
     "text": [
      "â„¹ Saving to output directory: output\n",
      "â„¹ Using CPU\n",
      "\u001b[1m\n",
      "=========================== Initializing pipeline ===========================\u001b[0m\n",
      "âœ” Initialized pipeline\n",
      "\u001b[1m\n",
      "============================= Training pipeline =============================\u001b[0m\n",
      "â„¹ Pipeline: ['tok2vec', 'ner']\n",
      "â„¹ Initial learn rate: 0.001\n",
      "E    #       LOSS TOK2VEC  LOSS NER  ENTS_F  ENTS_P  ENTS_R  SCORE \n",
      "---  ------  ------------  --------  ------  ------  ------  ------\n",
      "  0       0          0.00     37.17   23.28   15.86   43.73    0.23\n",
      "  0     200        105.19   2733.15   82.39   75.96   90.03    0.82\n",
      "  1     400        128.25   1319.28   90.41   89.57   91.27    0.90\n",
      "  3     600        139.57   1134.39   94.08   91.59   96.71    0.94\n",
      "  4     800        163.42    806.70   97.58   97.04   98.14    0.98\n",
      "  6    1000        193.57    628.96   98.37   97.56   99.20    0.98\n",
      "  9    1200        259.47    560.13   99.42   99.42   99.42    0.99\n",
      " 12    1400        313.74    380.52   98.79   97.85   99.74    0.99\n",
      " 15    1600        362.30    358.12   99.76   99.89   99.63    1.00\n",
      " 20    1800        388.06    294.04   99.87   99.82   99.93    1.00\n",
      " 26    2000        544.29    301.96   99.95   99.93   99.96    1.00\n",
      " 32    2200        473.02    185.93   99.89   99.78  100.00    1.00\n",
      " 41    2400        719.46    226.18   99.96   99.96   99.96    1.00\n",
      " 49    2600        828.61    209.03  100.00  100.00  100.00    1.00\n",
      " 58    2800        613.16    113.40  100.00  100.00  100.00    1.00\n",
      " 66    3000        736.21    129.48   99.96   99.93  100.00    1.00\n",
      " 75    3200        656.41    138.86  100.00  100.00  100.00    1.00\n",
      " 84    3400        719.41    137.04  100.00  100.00  100.00    1.00\n",
      " 92    3600        604.00    124.61   99.98  100.00   99.96    1.00\n",
      "101    3800        620.14    114.70  100.00  100.00  100.00    1.00\n",
      "109    4000        890.06    108.97  100.00  100.00  100.00    1.00\n",
      "118    4200        596.37     86.81   99.98   99.96  100.00    1.00\n",
      "âœ” Saved pipeline to output directory\n",
      "output\\model-last\n",
      "\n",
      "Total keywords:  187\n",
      "List of Keywords:\n",
      "\n",
      " ['cheese', 'chicken', 'milk', 'butter', 'cream', 'fruit', 'rice', 'water', 'garlic', 'bread', 'sugar', 'salt', 'chocolate', 'fish', 'beef', 'yogurt', 'almond milk', 'greens', 'granola', 'nuts', 'chia seeds', 'onions', 'apples', 'peanut butter', 'squash', 'soda', 'flour', 'garlic powder', 'buttermilk', 'potatoes', 'cottage cheese', 'sour cream', 'turkey', 'beans', 'cream cheese', 'bagel', 'pretzels', 'celery', 'white wine', 'margarine', 'whipped cream', 'ice cream', 'pineapple', 'whipped topping', 'plantains', 'veal', 'mustard', 'corned beef', 'rye', 'fried chicken', 'gravy', 'tuna', 'vegetables', 'eggs', 'rotisserie chicken', 'hot dogs', 'crackers', 'dips', 'meats', 'frozen entrees', 'bacon', 'pasta', 'pizza', 'potato chips', 'avocados', 'pork', 'sunflower seeds', 'lentils', 'lean fish', 'cauliflower', 'asparagus', 'almonds', 'cooked fish', 'honey', 'kimchi', 'herbs', 'dates', 'scallops', 'yuzu', 'corn syrup', 'baking soda', 'molasses', 'yeast', 'cornmeal', 'vinegar', 'parsley', 'worcestershire sauce', 'mushrooms', 'broth', 'peppers', 'oats', 'guava', 'coconut', 'cheesecake', 'cinnamon', 'muffin', 'pies', 'tomato sauce', 'pickles', 'goat', 'lamb', 'seafood', 'olives', 'baking powder', 'sesame seeds', 'raspberries', 'cornstarch', 'hot sauce', 'grits', 'chives', 'coconut milk', 'tamarind', 'tomatoes', 'cumin', 'chili powder', 'onion powder', 'black pepper', 'pie crust', 'cooked rice', 'nutmeg', 'peas', 'refried beans', 'bananas', 'okra', 'cabbage', 'syrup', 'juice concentrates', 'basil', 'fruits', 'horseradish', 'lettuce', 'pesto', 'soy milk', 'hoisin sauce', 'sesame oil', 'peanuts', 'ham', 'bacon bits', 'chutney', 'sun dried tomatoes', 'sausage', 'coffee', 'pasta salad', 'cereal', 'grapes', 'cashews', 'tea', 'pudding', 'coconut cream', 'coconut water', 'apple juice', 'fruit cocktail', 'walnuts', 'dough', 'roasted red peppers', 'whole wheat bread', 'thyme', 'mayonnaise', 'oregano', 'leftovers', 'strawberries', 'berries', 'coleslaw', 'cilantro', 'guacamole', 'tomato paste', 'canola oil', 'mung bean', 'lemon juice', 'ghee', 'avocado oil', 'almond oil', 'grapeseed oil', 'spelt', 'lime juice', 'pure vanilla extract', 'butter flavor', 'string cheese', 'salsa', 'puff pastry', 'biscuits', 'orange juice', 'vegetable soup', 'caviar', 'pine nuts', 'coconut oil', 'quail'] \n",
      "\n",
      "\n",
      "[[27 17]\n",
      " [ 4 35]]\n",
      "              precision    recall  f1-score   support\n",
      "\n",
      "           1       0.87      0.61      0.72        44\n",
      "           0       0.67      0.90      0.77        39\n",
      "\n",
      "    accuracy                           0.75        83\n",
      "   macro avg       0.77      0.76      0.74        83\n",
      "weighted avg       0.78      0.75      0.74        83\n",
      "\n",
      "Total keywords:  252\n",
      "Total Tweets:  537\n",
      "List of Keywords:\n",
      "\n",
      " ['cheese', 'chicken', 'milk', 'butter', 'cream', 'fruit', 'rice', 'water', 'garlic', 'bread', 'sugar', 'salt', 'chocolate', 'fish', 'beef', 'yogurt', 'almond milk', 'greens', 'granola', 'nuts', 'chia seeds', 'onions', 'apples', 'peanut butter', 'squash', 'soda', 'flour', 'garlic powder', 'buttermilk', 'potatoes', 'cottage cheese', 'sour cream', 'turkey', 'beans', 'cream cheese', 'bagel', 'pretzels', 'celery', 'white wine', 'margarine', 'whipped cream', 'ice cream', 'pineapple', 'whipped topping', 'plantains', 'veal', 'mustard', 'corned beef', 'rye', 'fried chicken', 'gravy', 'tuna', 'vegetables', 'eggs', 'rotisserie chicken', 'hot dogs', 'crackers', 'dips', 'meats', 'frozen entrees', 'bacon', 'pasta', 'pizza', 'potato chips', 'avocados', 'pork', 'sunflower seeds', 'lentils', 'lean fish', 'cauliflower', 'asparagus', 'almonds', 'cooked fish', 'honey', 'kimchi', 'herbs', 'dates', 'scallops', 'yuzu', 'corn syrup', 'baking soda', 'molasses', 'yeast', 'cornmeal', 'vinegar', 'parsley', 'worcestershire sauce', 'mushrooms', 'broth', 'peppers', 'oats', 'guava', 'coconut', 'cheesecake', 'cinnamon', 'muffin', 'pies', 'tomato sauce', 'pickles', 'goat', 'lamb', 'seafood', 'olives', 'baking powder', 'sesame seeds', 'raspberries', 'cornstarch', 'hot sauce', 'grits', 'chives', 'coconut milk', 'tamarind', 'tomatoes', 'cumin', 'chili powder', 'onion powder', 'black pepper', 'pie crust', 'cooked rice', 'nutmeg', 'peas', 'refried beans', 'bananas', 'okra', 'cabbage', 'syrup', 'juice concentrates', 'basil', 'fruits', 'horseradish', 'lettuce', 'pesto', 'soy milk', 'hoisin sauce', 'sesame oil', 'peanuts', 'ham', 'bacon bits', 'chutney', 'sun dried tomatoes', 'sausage', 'coffee', 'pasta salad', 'cereal', 'grapes', 'cashews', 'tea', 'pudding', 'coconut cream', 'coconut water', 'apple juice', 'fruit cocktail', 'walnuts', 'dough', 'roasted red peppers', 'whole wheat bread', 'thyme', 'mayonnaise', 'oregano', 'leftovers', 'strawberries', 'berries', 'coleslaw', 'cilantro', 'guacamole', 'tomato paste', 'canola oil', 'mung bean', 'lemon juice', 'ghee', 'avocado oil', 'almond oil', 'grapeseed oil', 'spelt', 'lime juice', 'pure vanilla extract', 'butter flavor', 'string cheese', 'salsa', 'puff pastry', 'biscuits', 'orange juice', 'vegetable soup', 'caviar', 'pine nuts', 'coconut oil', 'quail', 'eggnog', 'kefir', 'base', 'meat products', 'cornish hens', 'chicken salad', 'canned chicken', 'tortillas', 'fatty fish', 'miso', 'whole wheat flour', 'cookies', 'quiche', 'tamarind paste', 'sugar substitutes', 'cookie dough', 'bamboo shoots', 'oyster sauce', 'potato salad', 'brussels sprouts', 'cherry tomatoes', 'taro', 'barley', 'aioli', 'salami', 'prosciutto', 'chocolate syrup', 'pectin', 'rice milk', 'coconuts', 'turkey bacon', 'black bean sauce', 'tofu', 'rosemary', 'powdered milk', 'popcorn', 'almond butter', 'cashew butter', 'hummus', 'jerky', 'baby carrots', 'applesauce', 'kohlrabi', 'cantaloupe', 'farro', 'lemongrass', 'almond extract', 'mint', 'zucchini', 'hot peppers', 'swiss chard', 'eggplant', 'cranberry sauce', 'garam masala', 'cheese curds', 'bratwurst', 'bulgur', 'edamame', 'coconut flour', 'kale', 'cherries', 'polenta', 'balsamic vinegar', 'anchovies', 'arugula'] \n",
      "\n",
      "\n",
      "~~~~~~~~~~~~~~~~~3~~~~~~~~~~~~~~~~~\n",
      "Model loaded...\n"
     ]
    },
    {
     "name": "stderr",
     "output_type": "stream",
     "text": [
      "  7%|▋         | 199/2761 [00:00<00:01, 1988.28it/s]"
     ]
    },
    {
     "name": "stdout",
     "output_type": "stream",
     "text": [
      "Skipping entity\n",
      "Skipping entity\n",
      "Skipping entity\n",
      "Skipping entity\n",
      "Skipping entity\n",
      "Skipping entity\n",
      "Skipping entity\n",
      "Skipping entity\n",
      "Skipping entity\n",
      "Skipping entity\n",
      "Skipping entity\n",
      "Skipping entity\n",
      "Skipping entity\n",
      "Skipping entity\n",
      "Skipping entity\n",
      "Skipping entity\n",
      "Skipping entity\n",
      "Skipping entity\n",
      "Skipping entity\n",
      "Skipping entity\n"
     ]
    },
    {
     "name": "stderr",
     "output_type": "stream",
     "text": [
      " 35%|███▍      | 955/2761 [00:00<00:00, 2508.38it/s]"
     ]
    },
    {
     "name": "stdout",
     "output_type": "stream",
     "text": [
      "Skipping entity\n",
      "Skipping entity\n",
      "Skipping entity\n",
      "Skipping entity\n",
      "Skipping entity\n",
      "Skipping entity\n",
      "Skipping entity\n",
      "Skipping entity\n",
      "Skipping entity\n",
      "Skipping entity\n",
      "Skipping entity\n",
      "Skipping entity\n",
      "Skipping entity\n",
      "Skipping entity\n",
      "Skipping entity\n",
      "Skipping entity\n",
      "Skipping entity\n",
      "Skipping entity\n",
      "Skipping entity\n",
      "Skipping entity\n",
      "Skipping entity\n",
      "Skipping entity\n",
      "Skipping entity\n",
      "Skipping entity\n",
      "Skipping entity\n",
      "Skipping entity\n",
      "Skipping entity\n",
      "Skipping entity\n",
      "Skipping entity\n",
      "Skipping entity\n",
      "Skipping entity\n",
      "Skipping entity\n",
      "Skipping entity\n",
      "Skipping entity"
     ]
    },
    {
     "name": "stderr",
     "output_type": "stream",
     "text": [
      " 77%|███████▋  | 2123/2761 [00:00<00:00, 2861.71it/s]"
     ]
    },
    {
     "name": "stdout",
     "output_type": "stream",
     "text": [
      "\n",
      "Skipping entity\n",
      "Skipping entity\n",
      "Skipping entity\n",
      "Skipping entity\n",
      "Skipping entity\n",
      "Skipping entity\n",
      "Skipping entity\n",
      "Skipping entity\n",
      "Skipping entity\n",
      "Skipping entity\n",
      "Skipping entity\n",
      "Skipping entity\n",
      "Skipping entity\n",
      "Skipping entity\n",
      "Skipping entity\n",
      "Skipping entity\n",
      "Skipping entity\n",
      "Skipping entity\n",
      "Skipping entity\n",
      "Skipping entity\n",
      "Skipping entity\n",
      "Skipping entity\n",
      "Skipping entity\n",
      "Skipping entity\n",
      "Skipping entity\n",
      "Skipping entity\n",
      "Skipping entity\n",
      "Skipping entity\n",
      "Skipping entity\n",
      "Skipping entity\n",
      "Skipping entity\n",
      "Skipping entity\n"
     ]
    },
    {
     "name": "stderr",
     "output_type": "stream",
     "text": [
      "100%|██████████| 2761/2761 [00:01<00:00, 2706.24it/s]"
     ]
    },
    {
     "name": "stdout",
     "output_type": "stream",
     "text": [
      "Skipping entity\n",
      "Skipping entity\n",
      "Skipping entity\n",
      "Skipping entity\n",
      "Skipping entity\n",
      "Skipping entity\n",
      "Skipping entity\n",
      "Skipping entity\n",
      "Skipping entity\n",
      "Skipping entity\n",
      "Skipping entity\n",
      "Skipping entity\n",
      "Skipping entity\n",
      "Skipping entity\n",
      "Skipping entity\n",
      "Skipping entity\n",
      "Skipping entity\n",
      "Skipping entity\n",
      "Skipping entity\n",
      "Skipping entity\n",
      "Skipping entity\n",
      "Skipping entity\n",
      "Skipping entity\n",
      "Skipping entity\n"
     ]
    },
    {
     "name": "stderr",
     "output_type": "stream",
     "text": [
      "\n"
     ]
    },
    {
     "name": "stdout",
     "output_type": "stream",
     "text": [
      "â„¹ Saving to output directory: output\n",
      "â„¹ Using CPU\n",
      "\u001b[1m\n",
      "=========================== Initializing pipeline ===========================\u001b[0m\n",
      "âœ” Initialized pipeline\n",
      "\u001b[1m\n",
      "============================= Training pipeline =============================\u001b[0m\n",
      "â„¹ Pipeline: ['tok2vec', 'ner']\n",
      "â„¹ Initial learn rate: 0.001\n",
      "E    #       LOSS TOK2VEC  LOSS NER  ENTS_F  ENTS_P  ENTS_R  SCORE \n",
      "---  ------  ------------  --------  ------  ------  ------  ------\n",
      "  0       0          0.00     34.50    0.63    0.57    0.69    0.01\n",
      "  0     200         77.54   2546.07   82.47   77.92   87.57    0.82\n",
      "  0     400         84.23   1357.02   88.08   84.16   92.38    0.88\n",
      "  0     600         82.55   1402.61   89.95   85.50   94.88    0.90\n",
      "  0     800         90.21   1527.39   91.05   85.44   97.44    0.91\n",
      "âš  Aborting and saving the final best model. Encountered exception:\n",
      "PermissionError(13, 'The process cannot access the file because it is being used\n",
      "by another process')\n",
      "\n",
      "Total keywords:  252\n",
      "List of Keywords:\n",
      "\n",
      " ['cheese', 'chicken', 'milk', 'butter', 'cream', 'fruit', 'rice', 'water', 'garlic', 'bread', 'sugar', 'salt', 'chocolate', 'fish', 'beef', 'yogurt', 'almond milk', 'greens', 'granola', 'nuts', 'chia seeds', 'onions', 'apples', 'peanut butter', 'squash', 'soda', 'flour', 'garlic powder', 'buttermilk', 'potatoes', 'cottage cheese', 'sour cream', 'turkey', 'beans', 'cream cheese', 'bagel', 'pretzels', 'celery', 'white wine', 'margarine', 'whipped cream', 'ice cream', 'pineapple', 'whipped topping', 'plantains', 'veal', 'mustard', 'corned beef', 'rye', 'fried chicken', 'gravy', 'tuna', 'vegetables', 'eggs', 'rotisserie chicken', 'hot dogs', 'crackers', 'dips', 'meats', 'frozen entrees', 'bacon', 'pasta', 'pizza', 'potato chips', 'avocados', 'pork', 'sunflower seeds', 'lentils', 'lean fish', 'cauliflower', 'asparagus', 'almonds', 'cooked fish', 'honey', 'kimchi', 'herbs', 'dates', 'scallops', 'yuzu', 'corn syrup', 'baking soda', 'molasses', 'yeast', 'cornmeal', 'vinegar', 'parsley', 'worcestershire sauce', 'mushrooms', 'broth', 'peppers', 'oats', 'guava', 'coconut', 'cheesecake', 'cinnamon', 'muffin', 'pies', 'tomato sauce', 'pickles', 'goat', 'lamb', 'seafood', 'olives', 'baking powder', 'sesame seeds', 'raspberries', 'cornstarch', 'hot sauce', 'grits', 'chives', 'coconut milk', 'tamarind', 'tomatoes', 'cumin', 'chili powder', 'onion powder', 'black pepper', 'pie crust', 'cooked rice', 'nutmeg', 'peas', 'refried beans', 'bananas', 'okra', 'cabbage', 'syrup', 'juice concentrates', 'basil', 'fruits', 'horseradish', 'lettuce', 'pesto', 'soy milk', 'hoisin sauce', 'sesame oil', 'peanuts', 'ham', 'bacon bits', 'chutney', 'sun dried tomatoes', 'sausage', 'coffee', 'pasta salad', 'cereal', 'grapes', 'cashews', 'tea', 'pudding', 'coconut cream', 'coconut water', 'apple juice', 'fruit cocktail', 'walnuts', 'dough', 'roasted red peppers', 'whole wheat bread', 'thyme', 'mayonnaise', 'oregano', 'leftovers', 'strawberries', 'berries', 'coleslaw', 'cilantro', 'guacamole', 'tomato paste', 'canola oil', 'mung bean', 'lemon juice', 'ghee', 'avocado oil', 'almond oil', 'grapeseed oil', 'spelt', 'lime juice', 'pure vanilla extract', 'butter flavor', 'string cheese', 'salsa', 'puff pastry', 'biscuits', 'orange juice', 'vegetable soup', 'caviar', 'pine nuts', 'coconut oil', 'quail', 'eggnog', 'kefir', 'base', 'meat products', 'cornish hens', 'chicken salad', 'canned chicken', 'tortillas', 'fatty fish', 'miso', 'whole wheat flour', 'cookies', 'quiche', 'tamarind paste', 'sugar substitutes', 'cookie dough', 'bamboo shoots', 'oyster sauce', 'potato salad', 'brussels sprouts', 'cherry tomatoes', 'taro', 'barley', 'aioli', 'salami', 'prosciutto', 'chocolate syrup', 'pectin', 'rice milk', 'coconuts', 'turkey bacon', 'black bean sauce', 'tofu', 'rosemary', 'powdered milk', 'popcorn', 'almond butter', 'cashew butter', 'hummus', 'jerky', 'baby carrots', 'applesauce', 'kohlrabi', 'cantaloupe', 'farro', 'lemongrass', 'almond extract', 'mint', 'zucchini', 'hot peppers', 'swiss chard', 'eggplant', 'cranberry sauce', 'garam masala', 'cheese curds', 'bratwurst', 'bulgur', 'edamame', 'coconut flour', 'kale', 'cherries', 'polenta', 'balsamic vinegar', 'anchovies', 'arugula'] \n",
      "\n",
      "\n",
      "[[31 13]\n",
      " [ 1 38]]\n",
      "              precision    recall  f1-score   support\n",
      "\n",
      "           1       0.97      0.70      0.82        44\n",
      "           0       0.75      0.97      0.84        39\n",
      "\n",
      "    accuracy                           0.83        83\n",
      "   macro avg       0.86      0.84      0.83        83\n",
      "weighted avg       0.86      0.83      0.83        83\n",
      "\n",
      "Total keywords:  352\n",
      "Total Tweets:  2761\n",
      "List of Keywords:\n",
      "\n",
      " ['cheese', 'chicken', 'milk', 'butter', 'cream', 'fruit', 'rice', 'water', 'garlic', 'bread', 'sugar', 'salt', 'chocolate', 'fish', 'beef', 'yogurt', 'almond milk', 'greens', 'granola', 'nuts', 'chia seeds', 'onions', 'apples', 'peanut butter', 'squash', 'soda', 'flour', 'garlic powder', 'buttermilk', 'potatoes', 'cottage cheese', 'sour cream', 'turkey', 'beans', 'cream cheese', 'bagel', 'pretzels', 'celery', 'white wine', 'margarine', 'whipped cream', 'ice cream', 'pineapple', 'whipped topping', 'plantains', 'veal', 'mustard', 'corned beef', 'rye', 'fried chicken', 'gravy', 'tuna', 'vegetables', 'eggs', 'rotisserie chicken', 'hot dogs', 'crackers', 'dips', 'meats', 'frozen entrees', 'bacon', 'pasta', 'pizza', 'potato chips', 'avocados', 'pork', 'sunflower seeds', 'lentils', 'lean fish', 'cauliflower', 'asparagus', 'almonds', 'cooked fish', 'honey', 'kimchi', 'herbs', 'dates', 'scallops', 'yuzu', 'corn syrup', 'baking soda', 'molasses', 'yeast', 'cornmeal', 'vinegar', 'parsley', 'worcestershire sauce', 'mushrooms', 'broth', 'peppers', 'oats', 'guava', 'coconut', 'cheesecake', 'cinnamon', 'muffin', 'pies', 'tomato sauce', 'pickles', 'goat', 'lamb', 'seafood', 'olives', 'baking powder', 'sesame seeds', 'raspberries', 'cornstarch', 'hot sauce', 'grits', 'chives', 'coconut milk', 'tamarind', 'tomatoes', 'cumin', 'chili powder', 'onion powder', 'black pepper', 'pie crust', 'cooked rice', 'nutmeg', 'peas', 'refried beans', 'bananas', 'okra', 'cabbage', 'syrup', 'juice concentrates', 'basil', 'fruits', 'horseradish', 'lettuce', 'pesto', 'soy milk', 'hoisin sauce', 'sesame oil', 'peanuts', 'ham', 'bacon bits', 'chutney', 'sun dried tomatoes', 'sausage', 'coffee', 'pasta salad', 'cereal', 'grapes', 'cashews', 'tea', 'pudding', 'coconut cream', 'coconut water', 'apple juice', 'fruit cocktail', 'walnuts', 'dough', 'roasted red peppers', 'whole wheat bread', 'thyme', 'mayonnaise', 'oregano', 'leftovers', 'strawberries', 'berries', 'coleslaw', 'cilantro', 'guacamole', 'tomato paste', 'canola oil', 'mung bean', 'lemon juice', 'ghee', 'avocado oil', 'almond oil', 'grapeseed oil', 'spelt', 'lime juice', 'pure vanilla extract', 'butter flavor', 'string cheese', 'salsa', 'puff pastry', 'biscuits', 'orange juice', 'vegetable soup', 'caviar', 'pine nuts', 'coconut oil', 'quail', 'eggnog', 'kefir', 'base', 'meat products', 'cornish hens', 'chicken salad', 'canned chicken', 'tortillas', 'fatty fish', 'miso', 'whole wheat flour', 'cookies', 'quiche', 'tamarind paste', 'sugar substitutes', 'cookie dough', 'bamboo shoots', 'oyster sauce', 'potato salad', 'brussels sprouts', 'cherry tomatoes', 'taro', 'barley', 'aioli', 'salami', 'prosciutto', 'chocolate syrup', 'pectin', 'rice milk', 'coconuts', 'turkey bacon', 'black bean sauce', 'tofu', 'rosemary', 'powdered milk', 'popcorn', 'almond butter', 'cashew butter', 'hummus', 'jerky', 'baby carrots', 'applesauce', 'kohlrabi', 'cantaloupe', 'farro', 'lemongrass', 'almond extract', 'mint', 'zucchini', 'hot peppers', 'swiss chard', 'eggplant', 'cranberry sauce', 'garam masala', 'cheese curds', 'bratwurst', 'bulgur', 'edamame', 'coconut flour', 'kale', 'cherries', 'polenta', 'balsamic vinegar', 'anchovies', 'arugula', 'oils', 'pumpkin seeds', 'flaxseed', 'herring', 'nacho cheese', 'egg dishes', 'quinoa', 'apple cider vinegar', 'ricotta', 'pistachios', 'beets', 'sausages', 'pork roll', 'leeks', 'venison', 'rabbit', 'pastrami', 'chorizo', 'goose', 'chicken parts', 'pheasant', 'watermelon', 'capon', 'duckling', 'blueberries', 'cucumbers', 'red wine', 'canned goods', 'salad dressings', 'croutons', 'breadcrumbs', 'lobster tails', 'squid', 'soy flour', 'cooked pasta', 'dinners', 'pecans', 'casseroles', 'cream pies', 'fruit pies', 'egg salad', 'buckwheat', 'shortening', 'nectar', 'duck fat', 'seasoning blends', 'apricots', 'pomegranate', 'pumpkins', 'cranberries', 'cherimoya', 'citrus fruit', 'kiwi fruit', 'star fruit', 'tapenade', 'bacon grease', 'millet', 'beans and peas', 'radishes', 'rhubarb', 'bok choy', 'jicama', 'turnips', 'melons', 'bean sprouts', 'tempeh', 'marinades', 'capers', 'barbecue sauce', 'apple cider', 'marshmallows', 'tahini', 'seafood salads', 'cinnamon rolls', 'macadamias', 'relish', 'prickly pear', 'celery root', 'honeydew', 'spaghetti sauce', 'canadian bacon', 'sunflower oil', 'bison', 'lemon extract', 'yuzu juice', 'carrot juice', 'macaroons', 'crab legs', 'pork rinds', 'spaghetti squash', 'vegetable juice', 'marinated vegetables', 'pate', 'teff', 'fresh pasta', 'doughnuts', 'ginger root', 'pimento cheese', 'cooking wine', 'radicchio'] \n",
      "\n",
      "\n",
      "~~~~~~~~~~~~~~~~~4~~~~~~~~~~~~~~~~~\n",
      "Model loaded...\n"
     ]
    },
    {
     "name": "stderr",
     "output_type": "stream",
     "text": [
      " 23%|██▎       | 733/3203 [00:00<00:00, 2487.91it/s]"
     ]
    },
    {
     "name": "stdout",
     "output_type": "stream",
     "text": [
      "Skipping entity\n",
      "Skipping entity\n",
      "Skipping entity\n",
      "Skipping entity\n",
      "Skipping entity\n",
      "Skipping entity\n",
      "Skipping entity\n",
      "Skipping entity\n",
      "Skipping entity\n",
      "Skipping entity\n",
      "Skipping entity\n",
      "Skipping entity\n",
      "Skipping entity\n",
      "Skipping entity\n",
      "Skipping entity\n",
      "Skipping entity\n",
      "Skipping entity\n",
      "Skipping entity\n",
      "Skipping entity\n",
      "Skipping entity\n",
      "Skipping entity\n",
      "Skipping entity\n",
      "Skipping entity\n",
      "Skipping entity\n",
      "Skipping entity\n",
      "Skipping entity\n",
      "Skipping entity\n"
     ]
    },
    {
     "name": "stderr",
     "output_type": "stream",
     "text": [
      " 41%|████▏     | 1323/3203 [00:00<00:00, 2768.56it/s]"
     ]
    },
    {
     "name": "stdout",
     "output_type": "stream",
     "text": [
      "Skipping entity\n",
      "Skipping entity\n",
      "Skipping entity\n",
      "Skipping entity\n",
      "Skipping entity\n",
      "Skipping entity\n",
      "Skipping entity\n",
      "Skipping entity\n",
      "Skipping entity\n",
      "Skipping entity\n",
      "Skipping entity\n",
      "Skipping entity\n",
      "Skipping entity\n",
      "Skipping entity\n",
      "Skipping entity\n",
      "Skipping entity\n",
      "Skipping entity\n",
      "Skipping entity\n",
      "Skipping entity\n",
      "Skipping entity"
     ]
    },
    {
     "name": "stderr",
     "output_type": "stream",
     "text": [
      " 70%|██████▉   | 2235/3203 [00:00<00:00, 2980.41it/s]"
     ]
    },
    {
     "name": "stdout",
     "output_type": "stream",
     "text": [
      "\n",
      "Skipping entity\n",
      "Skipping entity\n",
      "Skipping entity\n",
      "Skipping entity\n",
      "Skipping entity\n",
      "Skipping entity\n",
      "Skipping entity\n",
      "Skipping entity\n",
      "Skipping entity\n",
      "Skipping entity\n",
      "Skipping entity\n",
      "Skipping entity\n",
      "Skipping entity\n",
      "Skipping entity\n",
      "Skipping entity\n"
     ]
    },
    {
     "name": "stderr",
     "output_type": "stream",
     "text": [
      " 89%|████████▉ | 2856/3203 [00:01<00:00, 3043.15it/s]"
     ]
    },
    {
     "name": "stdout",
     "output_type": "stream",
     "text": [
      "Skipping entity\n",
      "Skipping entity\n",
      "Skipping entity\n",
      "Skipping entity\n",
      "Skipping entity\n",
      "Skipping entity\n",
      "Skipping entity\n",
      "Skipping entity\n",
      "Skipping entity\n",
      "Skipping entity\n",
      "Skipping entity\n",
      "Skipping entity\n",
      "Skipping entity\n",
      "Skipping entity\n",
      "Skipping entity\n",
      "Skipping entity\n",
      "Skipping entity\n",
      "Skipping entity\n",
      "Skipping entity\n",
      "Skipping entity\n",
      "Skipping entity\n",
      "Skipping entity"
     ]
    },
    {
     "name": "stderr",
     "output_type": "stream",
     "text": [
      "100%|██████████| 3203/3203 [00:01<00:00, 2865.66it/s]\n"
     ]
    },
    {
     "name": "stdout",
     "output_type": "stream",
     "text": [
      "\n",
      "Skipping entity\n",
      "Skipping entity\n",
      "Skipping entity\n",
      "Skipping entity\n",
      "Skipping entity\n",
      "Skipping entity\n",
      "Skipping entity\n",
      "â„¹ Saving to output directory: output\n",
      "â„¹ Using CPU\n",
      "\u001b[1m\n",
      "=========================== Initializing pipeline ===========================\u001b[0m\n",
      "âœ” Initialized pipeline\n",
      "\u001b[1m\n",
      "============================= Training pipeline =============================\u001b[0m\n",
      "â„¹ Pipeline: ['tok2vec', 'ner']\n",
      "â„¹ Initial learn rate: 0.001\n",
      "E    #       LOSS TOK2VEC  LOSS NER  ENTS_F  ENTS_P  ENTS_R  SCORE \n",
      "---  ------  ------------  --------  ------  ------  ------  ------\n",
      "  0       0          0.00     30.50    8.62    6.60   12.45    0.09\n",
      "  0     200         91.65   2771.64   81.68   78.26   85.42    0.82\n",
      "  0     400         85.15   1500.35   87.45   81.72   94.03    0.87\n",
      "  0     600         86.35   1586.98   89.68   84.94   94.97    0.90\n",
      "  0     800         84.62   1673.02   90.58   86.10   95.56    0.91\n",
      "  1    1000        104.09   1836.22   92.57   88.44   97.11    0.93\n",
      "  1    1200        138.97   1895.09   93.42   89.58   97.62    0.93\n",
      "  2    1400        174.59   2187.35   94.78   92.38   97.31    0.95\n",
      "  2    1600        235.04   2194.98   95.53   92.65   98.60    0.96\n",
      "  3    1800        300.61   2168.44   96.89   95.03   98.83    0.97\n",
      "  4    2000        391.58   2139.50   97.90   97.65   98.15    0.98\n",
      "  6    2200        498.67   1975.55   98.74   98.12   99.38    0.99\n",
      "  7    2400        704.06   1822.56   99.10   98.61   99.58    0.99\n",
      "  9    2600        672.02   1548.11   99.20   98.76   99.65    0.99\n",
      " 10    2800        711.85   1347.11   99.44   99.15   99.74    0.99\n",
      " 12    3000        660.19   1137.60   99.57   99.55   99.60    1.00\n",
      " 13    3200        646.66   1040.81   99.66   99.52   99.80    1.00\n",
      " 15    3400        599.49    874.86   99.60   99.39   99.82    1.00\n",
      " 17    3600        701.53    828.57   99.74   99.72   99.77    1.00\n",
      " 18    3800        662.50    711.50   99.78   99.69   99.87    1.00\n",
      " 20    4000        678.61    757.84   99.75   99.75   99.75    1.00\n",
      " 21    4200        664.55    641.85   99.75   99.73   99.77    1.00\n",
      " 23    4400        619.34    639.03   99.75   99.91   99.58    1.00\n",
      " 24    4600        681.61    608.50   99.86   99.80   99.92    1.00\n",
      " 26    4800        621.47    527.09   99.79   99.69   99.89    1.00\n",
      " 28    5000        681.29    541.04   99.77   99.61   99.94    1.00\n",
      " 29    5200        663.12    495.71   99.91   99.91   99.91    1.00\n",
      " 31    5400        657.40    524.05   99.90   99.92   99.87    1.00\n",
      " 32    5600        688.33    490.77   99.87   99.82   99.92    1.00\n",
      " 34    5800        630.07    412.90   99.87   99.83   99.91    1.00\n",
      " 35    6000        745.01    425.52   99.84   99.79   99.89    1.00\n",
      " 37    6200        715.36    396.87   99.90   99.86   99.93    1.00\n",
      " 39    6400        692.33    385.72   99.88   99.91   99.85    1.00\n",
      " 40    6600        641.19    429.92   99.93   99.88   99.98    1.00\n",
      " 42    6800        650.02    371.71   99.90   99.91   99.90    1.00\n",
      " 43    7000        762.47    394.89   99.93   99.92   99.94    1.00\n",
      " 45    7200        825.65    361.50   99.91   99.88   99.94    1.00\n",
      " 46    7400        772.64    372.07   99.90   99.85   99.96    1.00\n",
      " 48    7600        800.46    342.92   99.85   99.79   99.91    1.00\n",
      " 50    7800        924.53    304.16   99.90   99.87   99.93    1.00\n",
      " 51    8000       1086.92    343.08   99.90   99.87   99.94    1.00\n",
      " 53    8200        929.65    346.88   99.91   99.96   99.85    1.00\n",
      "âœ” Saved pipeline to output directory\n",
      "output\\model-last\n",
      "\n",
      "Total keywords:  352\n",
      "List of Keywords:\n",
      "\n",
      " ['cheese', 'chicken', 'milk', 'butter', 'cream', 'fruit', 'rice', 'water', 'garlic', 'bread', 'sugar', 'salt', 'chocolate', 'fish', 'beef', 'yogurt', 'almond milk', 'greens', 'granola', 'nuts', 'chia seeds', 'onions', 'apples', 'peanut butter', 'squash', 'soda', 'flour', 'garlic powder', 'buttermilk', 'potatoes', 'cottage cheese', 'sour cream', 'turkey', 'beans', 'cream cheese', 'bagel', 'pretzels', 'celery', 'white wine', 'margarine', 'whipped cream', 'ice cream', 'pineapple', 'whipped topping', 'plantains', 'veal', 'mustard', 'corned beef', 'rye', 'fried chicken', 'gravy', 'tuna', 'vegetables', 'eggs', 'rotisserie chicken', 'hot dogs', 'crackers', 'dips', 'meats', 'frozen entrees', 'bacon', 'pasta', 'pizza', 'potato chips', 'avocados', 'pork', 'sunflower seeds', 'lentils', 'lean fish', 'cauliflower', 'asparagus', 'almonds', 'cooked fish', 'honey', 'kimchi', 'herbs', 'dates', 'scallops', 'yuzu', 'corn syrup', 'baking soda', 'molasses', 'yeast', 'cornmeal', 'vinegar', 'parsley', 'worcestershire sauce', 'mushrooms', 'broth', 'peppers', 'oats', 'guava', 'coconut', 'cheesecake', 'cinnamon', 'muffin', 'pies', 'tomato sauce', 'pickles', 'goat', 'lamb', 'seafood', 'olives', 'baking powder', 'sesame seeds', 'raspberries', 'cornstarch', 'hot sauce', 'grits', 'chives', 'coconut milk', 'tamarind', 'tomatoes', 'cumin', 'chili powder', 'onion powder', 'black pepper', 'pie crust', 'cooked rice', 'nutmeg', 'peas', 'refried beans', 'bananas', 'okra', 'cabbage', 'syrup', 'juice concentrates', 'basil', 'fruits', 'horseradish', 'lettuce', 'pesto', 'soy milk', 'hoisin sauce', 'sesame oil', 'peanuts', 'ham', 'bacon bits', 'chutney', 'sun dried tomatoes', 'sausage', 'coffee', 'pasta salad', 'cereal', 'grapes', 'cashews', 'tea', 'pudding', 'coconut cream', 'coconut water', 'apple juice', 'fruit cocktail', 'walnuts', 'dough', 'roasted red peppers', 'whole wheat bread', 'thyme', 'mayonnaise', 'oregano', 'leftovers', 'strawberries', 'berries', 'coleslaw', 'cilantro', 'guacamole', 'tomato paste', 'canola oil', 'mung bean', 'lemon juice', 'ghee', 'avocado oil', 'almond oil', 'grapeseed oil', 'spelt', 'lime juice', 'pure vanilla extract', 'butter flavor', 'string cheese', 'salsa', 'puff pastry', 'biscuits', 'orange juice', 'vegetable soup', 'caviar', 'pine nuts', 'coconut oil', 'quail', 'eggnog', 'kefir', 'base', 'meat products', 'cornish hens', 'chicken salad', 'canned chicken', 'tortillas', 'fatty fish', 'miso', 'whole wheat flour', 'cookies', 'quiche', 'tamarind paste', 'sugar substitutes', 'cookie dough', 'bamboo shoots', 'oyster sauce', 'potato salad', 'brussels sprouts', 'cherry tomatoes', 'taro', 'barley', 'aioli', 'salami', 'prosciutto', 'chocolate syrup', 'pectin', 'rice milk', 'coconuts', 'turkey bacon', 'black bean sauce', 'tofu', 'rosemary', 'powdered milk', 'popcorn', 'almond butter', 'cashew butter', 'hummus', 'jerky', 'baby carrots', 'applesauce', 'kohlrabi', 'cantaloupe', 'farro', 'lemongrass', 'almond extract', 'mint', 'zucchini', 'hot peppers', 'swiss chard', 'eggplant', 'cranberry sauce', 'garam masala', 'cheese curds', 'bratwurst', 'bulgur', 'edamame', 'coconut flour', 'kale', 'cherries', 'polenta', 'balsamic vinegar', 'anchovies', 'arugula', 'oils', 'pumpkin seeds', 'flaxseed', 'herring', 'nacho cheese', 'egg dishes', 'quinoa', 'apple cider vinegar', 'ricotta', 'pistachios', 'beets', 'sausages', 'pork roll', 'leeks', 'venison', 'rabbit', 'pastrami', 'chorizo', 'goose', 'chicken parts', 'pheasant', 'watermelon', 'capon', 'duckling', 'blueberries', 'cucumbers', 'red wine', 'canned goods', 'salad dressings', 'croutons', 'breadcrumbs', 'lobster tails', 'squid', 'soy flour', 'cooked pasta', 'dinners', 'pecans', 'casseroles', 'cream pies', 'fruit pies', 'egg salad', 'buckwheat', 'shortening', 'nectar', 'duck fat', 'seasoning blends', 'apricots', 'pomegranate', 'pumpkins', 'cranberries', 'cherimoya', 'citrus fruit', 'kiwi fruit', 'star fruit', 'tapenade', 'bacon grease', 'millet', 'beans and peas', 'radishes', 'rhubarb', 'bok choy', 'jicama', 'turnips', 'melons', 'bean sprouts', 'tempeh', 'marinades', 'capers', 'barbecue sauce', 'apple cider', 'marshmallows', 'tahini', 'seafood salads', 'cinnamon rolls', 'macadamias', 'relish', 'prickly pear', 'celery root', 'honeydew', 'spaghetti sauce', 'canadian bacon', 'sunflower oil', 'bison', 'lemon extract', 'yuzu juice', 'carrot juice', 'macaroons', 'crab legs', 'pork rinds', 'spaghetti squash', 'vegetable juice', 'marinated vegetables', 'pate', 'teff', 'fresh pasta', 'doughnuts', 'ginger root', 'pimento cheese', 'cooking wine', 'radicchio'] \n",
      "\n",
      "\n",
      "[[32 12]\n",
      " [ 7 32]]\n",
      "              precision    recall  f1-score   support\n",
      "\n",
      "           1       0.82      0.73      0.77        44\n",
      "           0       0.73      0.82      0.77        39\n",
      "\n",
      "    accuracy                           0.77        83\n",
      "   macro avg       0.77      0.77      0.77        83\n",
      "weighted avg       0.78      0.77      0.77        83\n",
      "\n",
      "Total keywords:  358\n",
      "Total Tweets:  3203\n",
      "List of Keywords:\n",
      "\n",
      " ['cheese', 'chicken', 'milk', 'butter', 'cream', 'fruit', 'rice', 'water', 'garlic', 'bread', 'sugar', 'salt', 'chocolate', 'fish', 'beef', 'yogurt', 'almond milk', 'greens', 'granola', 'nuts', 'chia seeds', 'onions', 'apples', 'peanut butter', 'squash', 'soda', 'flour', 'garlic powder', 'buttermilk', 'potatoes', 'cottage cheese', 'sour cream', 'turkey', 'beans', 'cream cheese', 'bagel', 'pretzels', 'celery', 'white wine', 'margarine', 'whipped cream', 'ice cream', 'pineapple', 'whipped topping', 'plantains', 'veal', 'mustard', 'corned beef', 'rye', 'fried chicken', 'gravy', 'tuna', 'vegetables', 'eggs', 'rotisserie chicken', 'hot dogs', 'crackers', 'dips', 'meats', 'frozen entrees', 'bacon', 'pasta', 'pizza', 'potato chips', 'avocados', 'pork', 'sunflower seeds', 'lentils', 'lean fish', 'cauliflower', 'asparagus', 'almonds', 'cooked fish', 'honey', 'kimchi', 'herbs', 'dates', 'scallops', 'yuzu', 'corn syrup', 'baking soda', 'molasses', 'yeast', 'cornmeal', 'vinegar', 'parsley', 'worcestershire sauce', 'mushrooms', 'broth', 'peppers', 'oats', 'guava', 'coconut', 'cheesecake', 'cinnamon', 'muffin', 'pies', 'tomato sauce', 'pickles', 'goat', 'lamb', 'seafood', 'olives', 'baking powder', 'sesame seeds', 'raspberries', 'cornstarch', 'hot sauce', 'grits', 'chives', 'coconut milk', 'tamarind', 'tomatoes', 'cumin', 'chili powder', 'onion powder', 'black pepper', 'pie crust', 'cooked rice', 'nutmeg', 'peas', 'refried beans', 'bananas', 'okra', 'cabbage', 'syrup', 'juice concentrates', 'basil', 'fruits', 'horseradish', 'lettuce', 'pesto', 'soy milk', 'hoisin sauce', 'sesame oil', 'peanuts', 'ham', 'bacon bits', 'chutney', 'sun dried tomatoes', 'sausage', 'coffee', 'pasta salad', 'cereal', 'grapes', 'cashews', 'tea', 'pudding', 'coconut cream', 'coconut water', 'apple juice', 'fruit cocktail', 'walnuts', 'dough', 'roasted red peppers', 'whole wheat bread', 'thyme', 'mayonnaise', 'oregano', 'leftovers', 'strawberries', 'berries', 'coleslaw', 'cilantro', 'guacamole', 'tomato paste', 'canola oil', 'mung bean', 'lemon juice', 'ghee', 'avocado oil', 'almond oil', 'grapeseed oil', 'spelt', 'lime juice', 'pure vanilla extract', 'butter flavor', 'string cheese', 'salsa', 'puff pastry', 'biscuits', 'orange juice', 'vegetable soup', 'caviar', 'pine nuts', 'coconut oil', 'quail', 'eggnog', 'kefir', 'base', 'meat products', 'cornish hens', 'chicken salad', 'canned chicken', 'tortillas', 'fatty fish', 'miso', 'whole wheat flour', 'cookies', 'quiche', 'tamarind paste', 'sugar substitutes', 'cookie dough', 'bamboo shoots', 'oyster sauce', 'potato salad', 'brussels sprouts', 'cherry tomatoes', 'taro', 'barley', 'aioli', 'salami', 'prosciutto', 'chocolate syrup', 'pectin', 'rice milk', 'coconuts', 'turkey bacon', 'black bean sauce', 'tofu', 'rosemary', 'powdered milk', 'popcorn', 'almond butter', 'cashew butter', 'hummus', 'jerky', 'baby carrots', 'applesauce', 'kohlrabi', 'cantaloupe', 'farro', 'lemongrass', 'almond extract', 'mint', 'zucchini', 'hot peppers', 'swiss chard', 'eggplant', 'cranberry sauce', 'garam masala', 'cheese curds', 'bratwurst', 'bulgur', 'edamame', 'coconut flour', 'kale', 'cherries', 'polenta', 'balsamic vinegar', 'anchovies', 'arugula', 'oils', 'pumpkin seeds', 'flaxseed', 'herring', 'nacho cheese', 'egg dishes', 'quinoa', 'apple cider vinegar', 'ricotta', 'pistachios', 'beets', 'sausages', 'pork roll', 'leeks', 'venison', 'rabbit', 'pastrami', 'chorizo', 'goose', 'chicken parts', 'pheasant', 'watermelon', 'capon', 'duckling', 'blueberries', 'cucumbers', 'red wine', 'canned goods', 'salad dressings', 'croutons', 'breadcrumbs', 'lobster tails', 'squid', 'soy flour', 'cooked pasta', 'dinners', 'pecans', 'casseroles', 'cream pies', 'fruit pies', 'egg salad', 'buckwheat', 'shortening', 'nectar', 'duck fat', 'seasoning blends', 'apricots', 'pomegranate', 'pumpkins', 'cranberries', 'cherimoya', 'citrus fruit', 'kiwi fruit', 'star fruit', 'tapenade', 'bacon grease', 'millet', 'beans and peas', 'radishes', 'rhubarb', 'bok choy', 'jicama', 'turnips', 'melons', 'bean sprouts', 'tempeh', 'marinades', 'capers', 'barbecue sauce', 'apple cider', 'marshmallows', 'tahini', 'seafood salads', 'cinnamon rolls', 'macadamias', 'relish', 'prickly pear', 'celery root', 'honeydew', 'spaghetti sauce', 'canadian bacon', 'sunflower oil', 'bison', 'lemon extract', 'yuzu juice', 'carrot juice', 'macaroons', 'crab legs', 'pork rinds', 'spaghetti squash', 'vegetable juice', 'marinated vegetables', 'pate', 'teff', 'fresh pasta', 'doughnuts', 'ginger root', 'pimento cheese', 'cooking wine', 'radicchio', 'fruit cake', 'rutabagas', 'ham salad', 'kumquats', 'cinnamon extract', 'coconut flavor'] \n",
      "\n",
      "\n",
      "~~~~~~~~~~~~~~~~~5~~~~~~~~~~~~~~~~~\n",
      "Model loaded...\n"
     ]
    },
    {
     "name": "stderr",
     "output_type": "stream",
     "text": [
      " 14%|█▍        | 462/3271 [00:00<00:01, 2330.93it/s]"
     ]
    },
    {
     "name": "stdout",
     "output_type": "stream",
     "text": [
      "Skipping entity\n",
      "Skipping entity\n",
      "Skipping entity\n",
      "Skipping entity\n",
      "Skipping entity\n",
      "Skipping entity\n",
      "Skipping entity\n",
      "Skipping entity\n",
      "Skipping entity\n",
      "Skipping entity\n",
      "Skipping entity\n",
      "Skipping entity\n",
      "Skipping entity\n",
      "Skipping entity\n",
      "Skipping entity\n",
      "Skipping entity\n",
      "Skipping entity\n",
      "Skipping entity\n",
      "Skipping entity\n",
      "Skipping entity\n",
      "Skipping entity\n",
      "Skipping entity\n",
      "Skipping entity\n",
      "Skipping entity"
     ]
    },
    {
     "name": "stderr",
     "output_type": "stream",
     "text": [
      " 32%|███▏      | 1032/3271 [00:00<00:00, 2695.41it/s]"
     ]
    },
    {
     "name": "stdout",
     "output_type": "stream",
     "text": [
      "\n",
      "Skipping entity\n",
      "Skipping entity\n",
      "Skipping entity\n",
      "Skipping entity\n",
      "Skipping entity\n",
      "Skipping entity\n",
      "Skipping entity\n",
      "Skipping entity\n",
      "Skipping entity\n",
      "Skipping entity\n",
      "Skipping entity\n",
      "Skipping entity\n",
      "Skipping entity\n",
      "Skipping entity\n",
      "Skipping entity\n"
     ]
    },
    {
     "name": "stderr",
     "output_type": "stream",
     "text": [
      " 68%|██████▊   | 2239/3271 [00:00<00:00, 2996.09it/s]"
     ]
    },
    {
     "name": "stdout",
     "output_type": "stream",
     "text": [
      "Skipping entity\n",
      "Skipping entity\n",
      "Skipping entity\n",
      "Skipping entity\n",
      "Skipping entity\n",
      "Skipping entity\n",
      "Skipping entity\n",
      "Skipping entity\n",
      "Skipping entity\n",
      "Skipping entity\n",
      "Skipping entity\n",
      "Skipping entity\n",
      "Skipping entity\n",
      "Skipping entity\n",
      "Skipping entity\n",
      "Skipping entity\n",
      "Skipping entity\n",
      "Skipping entity\n",
      "Skipping entity\n",
      "Skipping entity\n",
      "Skipping entity\n",
      "Skipping entity\n",
      "Skipping entity\n",
      "Skipping entity\n",
      "Skipping entity\n",
      "Skipping entity\n",
      "Skipping entity\n",
      "Skipping entity\n"
     ]
    },
    {
     "name": "stderr",
     "output_type": "stream",
     "text": [
      " 97%|█████████▋| 3161/3271 [00:01<00:00, 2991.17it/s]"
     ]
    },
    {
     "name": "stdout",
     "output_type": "stream",
     "text": [
      "Skipping entity\n",
      "Skipping entity\n",
      "Skipping entity\n",
      "Skipping entity\n",
      "Skipping entity\n",
      "Skipping entity\n",
      "Skipping entity\n",
      "Skipping entity\n",
      "Skipping entity\n",
      "Skipping entity\n",
      "Skipping entity\n",
      "Skipping entity\n",
      "Skipping entity\n",
      "Skipping entity\n",
      "Skipping entity\n",
      "Skipping entity\n",
      "Skipping entity\n",
      "Skipping entity\n",
      "Skipping entity\n",
      "Skipping entity\n",
      "Skipping entity\n",
      "Skipping entity\n"
     ]
    },
    {
     "name": "stderr",
     "output_type": "stream",
     "text": [
      "100%|██████████| 3271/3271 [00:01<00:00, 2860.56it/s]\n"
     ]
    },
    {
     "name": "stdout",
     "output_type": "stream",
     "text": [
      "Skipping entity\n",
      "Skipping entity\n",
      "Skipping entity\n",
      "Skipping entity\n",
      "Skipping entity\n",
      "Skipping entity\n",
      "Skipping entity\n",
      "â„¹ Saving to output directory: output\n",
      "â„¹ Using CPU\n",
      "\u001b[1m\n",
      "=========================== Initializing pipeline ===========================\u001b[0m\n",
      "âœ” Initialized pipeline\n",
      "\u001b[1m\n",
      "============================= Training pipeline =============================\u001b[0m\n",
      "â„¹ Pipeline: ['tok2vec', 'ner']\n",
      "â„¹ Initial learn rate: 0.001\n",
      "E    #       LOSS TOK2VEC  LOSS NER  ENTS_F  ENTS_P  ENTS_R  SCORE \n",
      "---  ------  ------------  --------  ------  ------  ------  ------\n",
      "  0       0          0.00     28.67    0.00    0.00    0.00    0.00\n",
      "  0     200         78.55   2672.69   81.44   80.29   82.63    0.81\n",
      "  0     400         79.30   1432.28   89.72   86.57   93.10    0.90\n",
      "  0     600         70.91   1334.64   90.83   86.12   96.09    0.91\n",
      "  0     800         89.50   1488.90   92.35   88.63   96.40    0.92\n",
      "  1    1000        101.44   1491.97   93.16   89.74   96.85    0.93\n",
      "  1    1200        116.38   1508.68   94.97   92.34   97.74    0.95\n",
      "  2    1400        164.01   1741.64   96.33   95.08   97.61    0.96\n",
      "  2    1600        211.22   1738.18   97.10   96.41   97.79    0.97\n",
      "  3    1800        261.98   1628.49   97.96   97.48   98.45    0.98\n",
      "  4    2000        358.16   1604.04   98.46   97.69   99.24    0.98\n",
      "  6    2200        456.19   1522.66   98.99   98.22   99.76    0.99\n",
      "  7    2400        457.97   1275.40   99.46   99.29   99.64    0.99\n",
      "  9    2600        552.23   1078.04   99.57   99.31   99.84    1.00\n",
      " 10    2800        599.62    940.99   99.72   99.64   99.80    1.00\n",
      " 12    3000        537.34    755.79   99.71   99.58   99.84    1.00\n",
      " 13    3200        598.58    757.24   99.79   99.71   99.86    1.00\n",
      " 15    3400        641.51    665.36   99.80   99.84   99.76    1.00\n",
      " 17    3600        625.23    591.87   99.71   99.64   99.78    1.00\n",
      " 18    3800        630.57    558.46   99.81   99.73   99.89    1.00\n",
      " 20    4000        620.91    598.85   99.88   99.89   99.86    1.00\n",
      " 21    4200        577.98    477.50   99.84   99.79   99.88    1.00\n",
      " 23    4400        629.01    439.17   99.83   99.80   99.87    1.00\n",
      " 24    4600        624.65    416.26   99.84   99.85   99.83    1.00\n",
      " 26    4800        912.63    400.46   99.88   99.92   99.85    1.00\n",
      " 28    5000        656.57    406.58   99.92   99.91   99.94    1.00\n",
      " 29    5200        667.49    388.43   99.92   99.90   99.93    1.00\n",
      " 31    5400        729.18    408.09   99.92   99.93   99.90    1.00\n",
      " 32    5600        598.47    355.18   99.93   99.96   99.90    1.00\n",
      " 34    5800        681.43    336.77   99.91   99.92   99.90    1.00\n",
      " 35    6000        800.91    381.15   99.92   99.96   99.89    1.00\n",
      " 37    6200        744.04    302.61   99.88   99.90   99.85    1.00\n",
      " 39    6400        876.64    345.11   99.93   99.92   99.95    1.00\n",
      " 40    6600        832.19    275.30   99.89   99.85   99.93    1.00\n",
      " 42    6800       1017.56    298.06   99.94   99.93   99.95    1.00\n",
      " 43    7000       1107.48    348.56   99.92   99.88   99.96    1.00\n",
      " 45    7200        846.90    269.45   99.92   99.87   99.96    1.00\n",
      " 46    7400       1048.34    316.74   99.94   99.96   99.92    1.00\n",
      " 48    7600        966.77    296.39   99.96   99.95   99.97    1.00\n",
      " 50    7800       1030.32    259.86   99.96   99.93   99.99    1.00\n",
      " 51    8000        922.11    301.36   99.94   99.92   99.96    1.00\n",
      " 53    8200       1074.63    260.24   99.94   99.92   99.97    1.00\n",
      " 54    8400       1128.23    224.56   99.94   99.94   99.95    1.00\n",
      " 56    8600       1406.22    248.97   99.96   99.96   99.96    1.00\n",
      " 57    8800        951.30    251.08   99.97   99.98   99.95    1.00\n",
      " 59    9000       1029.01    200.57   99.95   99.92   99.97    1.00\n",
      " 61    9200       1046.29    210.21   99.92   99.87   99.97    1.00\n",
      " 62    9400       1216.49    232.53   99.95   99.94   99.97    1.00\n",
      " 64    9600       1441.73    242.47   99.91   99.87   99.95    1.00\n",
      " 65    9800       1190.44    242.36   99.95   99.90   99.99    1.00\n",
      " 67   10000       1120.20    184.75   99.95   99.95   99.96    1.00\n",
      " 68   10200       1470.32    218.26   99.94   99.94   99.94    1.00\n",
      " 70   10400       1055.97    199.93   99.93   99.90   99.97    1.00\n",
      "âœ” Saved pipeline to output directory\n",
      "output\\model-last\n",
      "\n",
      "Total keywords:  358\n",
      "List of Keywords:\n",
      "\n",
      " ['cheese', 'chicken', 'milk', 'butter', 'cream', 'fruit', 'rice', 'water', 'garlic', 'bread', 'sugar', 'salt', 'chocolate', 'fish', 'beef', 'yogurt', 'almond milk', 'greens', 'granola', 'nuts', 'chia seeds', 'onions', 'apples', 'peanut butter', 'squash', 'soda', 'flour', 'garlic powder', 'buttermilk', 'potatoes', 'cottage cheese', 'sour cream', 'turkey', 'beans', 'cream cheese', 'bagel', 'pretzels', 'celery', 'white wine', 'margarine', 'whipped cream', 'ice cream', 'pineapple', 'whipped topping', 'plantains', 'veal', 'mustard', 'corned beef', 'rye', 'fried chicken', 'gravy', 'tuna', 'vegetables', 'eggs', 'rotisserie chicken', 'hot dogs', 'crackers', 'dips', 'meats', 'frozen entrees', 'bacon', 'pasta', 'pizza', 'potato chips', 'avocados', 'pork', 'sunflower seeds', 'lentils', 'lean fish', 'cauliflower', 'asparagus', 'almonds', 'cooked fish', 'honey', 'kimchi', 'herbs', 'dates', 'scallops', 'yuzu', 'corn syrup', 'baking soda', 'molasses', 'yeast', 'cornmeal', 'vinegar', 'parsley', 'worcestershire sauce', 'mushrooms', 'broth', 'peppers', 'oats', 'guava', 'coconut', 'cheesecake', 'cinnamon', 'muffin', 'pies', 'tomato sauce', 'pickles', 'goat', 'lamb', 'seafood', 'olives', 'baking powder', 'sesame seeds', 'raspberries', 'cornstarch', 'hot sauce', 'grits', 'chives', 'coconut milk', 'tamarind', 'tomatoes', 'cumin', 'chili powder', 'onion powder', 'black pepper', 'pie crust', 'cooked rice', 'nutmeg', 'peas', 'refried beans', 'bananas', 'okra', 'cabbage', 'syrup', 'juice concentrates', 'basil', 'fruits', 'horseradish', 'lettuce', 'pesto', 'soy milk', 'hoisin sauce', 'sesame oil', 'peanuts', 'ham', 'bacon bits', 'chutney', 'sun dried tomatoes', 'sausage', 'coffee', 'pasta salad', 'cereal', 'grapes', 'cashews', 'tea', 'pudding', 'coconut cream', 'coconut water', 'apple juice', 'fruit cocktail', 'walnuts', 'dough', 'roasted red peppers', 'whole wheat bread', 'thyme', 'mayonnaise', 'oregano', 'leftovers', 'strawberries', 'berries', 'coleslaw', 'cilantro', 'guacamole', 'tomato paste', 'canola oil', 'mung bean', 'lemon juice', 'ghee', 'avocado oil', 'almond oil', 'grapeseed oil', 'spelt', 'lime juice', 'pure vanilla extract', 'butter flavor', 'string cheese', 'salsa', 'puff pastry', 'biscuits', 'orange juice', 'vegetable soup', 'caviar', 'pine nuts', 'coconut oil', 'quail', 'eggnog', 'kefir', 'base', 'meat products', 'cornish hens', 'chicken salad', 'canned chicken', 'tortillas', 'fatty fish', 'miso', 'whole wheat flour', 'cookies', 'quiche', 'tamarind paste', 'sugar substitutes', 'cookie dough', 'bamboo shoots', 'oyster sauce', 'potato salad', 'brussels sprouts', 'cherry tomatoes', 'taro', 'barley', 'aioli', 'salami', 'prosciutto', 'chocolate syrup', 'pectin', 'rice milk', 'coconuts', 'turkey bacon', 'black bean sauce', 'tofu', 'rosemary', 'powdered milk', 'popcorn', 'almond butter', 'cashew butter', 'hummus', 'jerky', 'baby carrots', 'applesauce', 'kohlrabi', 'cantaloupe', 'farro', 'lemongrass', 'almond extract', 'mint', 'zucchini', 'hot peppers', 'swiss chard', 'eggplant', 'cranberry sauce', 'garam masala', 'cheese curds', 'bratwurst', 'bulgur', 'edamame', 'coconut flour', 'kale', 'cherries', 'polenta', 'balsamic vinegar', 'anchovies', 'arugula', 'oils', 'pumpkin seeds', 'flaxseed', 'herring', 'nacho cheese', 'egg dishes', 'quinoa', 'apple cider vinegar', 'ricotta', 'pistachios', 'beets', 'sausages', 'pork roll', 'leeks', 'venison', 'rabbit', 'pastrami', 'chorizo', 'goose', 'chicken parts', 'pheasant', 'watermelon', 'capon', 'duckling', 'blueberries', 'cucumbers', 'red wine', 'canned goods', 'salad dressings', 'croutons', 'breadcrumbs', 'lobster tails', 'squid', 'soy flour', 'cooked pasta', 'dinners', 'pecans', 'casseroles', 'cream pies', 'fruit pies', 'egg salad', 'buckwheat', 'shortening', 'nectar', 'duck fat', 'seasoning blends', 'apricots', 'pomegranate', 'pumpkins', 'cranberries', 'cherimoya', 'citrus fruit', 'kiwi fruit', 'star fruit', 'tapenade', 'bacon grease', 'millet', 'beans and peas', 'radishes', 'rhubarb', 'bok choy', 'jicama', 'turnips', 'melons', 'bean sprouts', 'tempeh', 'marinades', 'capers', 'barbecue sauce', 'apple cider', 'marshmallows', 'tahini', 'seafood salads', 'cinnamon rolls', 'macadamias', 'relish', 'prickly pear', 'celery root', 'honeydew', 'spaghetti sauce', 'canadian bacon', 'sunflower oil', 'bison', 'lemon extract', 'yuzu juice', 'carrot juice', 'macaroons', 'crab legs', 'pork rinds', 'spaghetti squash', 'vegetable juice', 'marinated vegetables', 'pate', 'teff', 'fresh pasta', 'doughnuts', 'ginger root', 'pimento cheese', 'cooking wine', 'radicchio', 'fruit cake', 'rutabagas', 'ham salad', 'kumquats', 'cinnamon extract', 'coconut flavor'] \n",
      "\n",
      "\n",
      "[[36  8]\n",
      " [ 6 33]]\n",
      "              precision    recall  f1-score   support\n",
      "\n",
      "           1       0.86      0.82      0.84        44\n",
      "           0       0.80      0.85      0.83        39\n",
      "\n",
      "    accuracy                           0.83        83\n",
      "   macro avg       0.83      0.83      0.83        83\n",
      "weighted avg       0.83      0.83      0.83        83\n",
      "\n",
      "Total keywords:  363\n",
      "Total Tweets:  3271\n",
      "List of Keywords:\n",
      "\n",
      " ['cheese', 'chicken', 'milk', 'butter', 'cream', 'fruit', 'rice', 'water', 'garlic', 'bread', 'sugar', 'salt', 'chocolate', 'fish', 'beef', 'yogurt', 'almond milk', 'greens', 'granola', 'nuts', 'chia seeds', 'onions', 'apples', 'peanut butter', 'squash', 'soda', 'flour', 'garlic powder', 'buttermilk', 'potatoes', 'cottage cheese', 'sour cream', 'turkey', 'beans', 'cream cheese', 'bagel', 'pretzels', 'celery', 'white wine', 'margarine', 'whipped cream', 'ice cream', 'pineapple', 'whipped topping', 'plantains', 'veal', 'mustard', 'corned beef', 'rye', 'fried chicken', 'gravy', 'tuna', 'vegetables', 'eggs', 'rotisserie chicken', 'hot dogs', 'crackers', 'dips', 'meats', 'frozen entrees', 'bacon', 'pasta', 'pizza', 'potato chips', 'avocados', 'pork', 'sunflower seeds', 'lentils', 'lean fish', 'cauliflower', 'asparagus', 'almonds', 'cooked fish', 'honey', 'kimchi', 'herbs', 'dates', 'scallops', 'yuzu', 'corn syrup', 'baking soda', 'molasses', 'yeast', 'cornmeal', 'vinegar', 'parsley', 'worcestershire sauce', 'mushrooms', 'broth', 'peppers', 'oats', 'guava', 'coconut', 'cheesecake', 'cinnamon', 'muffin', 'pies', 'tomato sauce', 'pickles', 'goat', 'lamb', 'seafood', 'olives', 'baking powder', 'sesame seeds', 'raspberries', 'cornstarch', 'hot sauce', 'grits', 'chives', 'coconut milk', 'tamarind', 'tomatoes', 'cumin', 'chili powder', 'onion powder', 'black pepper', 'pie crust', 'cooked rice', 'nutmeg', 'peas', 'refried beans', 'bananas', 'okra', 'cabbage', 'syrup', 'juice concentrates', 'basil', 'fruits', 'horseradish', 'lettuce', 'pesto', 'soy milk', 'hoisin sauce', 'sesame oil', 'peanuts', 'ham', 'bacon bits', 'chutney', 'sun dried tomatoes', 'sausage', 'coffee', 'pasta salad', 'cereal', 'grapes', 'cashews', 'tea', 'pudding', 'coconut cream', 'coconut water', 'apple juice', 'fruit cocktail', 'walnuts', 'dough', 'roasted red peppers', 'whole wheat bread', 'thyme', 'mayonnaise', 'oregano', 'leftovers', 'strawberries', 'berries', 'coleslaw', 'cilantro', 'guacamole', 'tomato paste', 'canola oil', 'mung bean', 'lemon juice', 'ghee', 'avocado oil', 'almond oil', 'grapeseed oil', 'spelt', 'lime juice', 'pure vanilla extract', 'butter flavor', 'string cheese', 'salsa', 'puff pastry', 'biscuits', 'orange juice', 'vegetable soup', 'caviar', 'pine nuts', 'coconut oil', 'quail', 'eggnog', 'kefir', 'base', 'meat products', 'cornish hens', 'chicken salad', 'canned chicken', 'tortillas', 'fatty fish', 'miso', 'whole wheat flour', 'cookies', 'quiche', 'tamarind paste', 'sugar substitutes', 'cookie dough', 'bamboo shoots', 'oyster sauce', 'potato salad', 'brussels sprouts', 'cherry tomatoes', 'taro', 'barley', 'aioli', 'salami', 'prosciutto', 'chocolate syrup', 'pectin', 'rice milk', 'coconuts', 'turkey bacon', 'black bean sauce', 'tofu', 'rosemary', 'powdered milk', 'popcorn', 'almond butter', 'cashew butter', 'hummus', 'jerky', 'baby carrots', 'applesauce', 'kohlrabi', 'cantaloupe', 'farro', 'lemongrass', 'almond extract', 'mint', 'zucchini', 'hot peppers', 'swiss chard', 'eggplant', 'cranberry sauce', 'garam masala', 'cheese curds', 'bratwurst', 'bulgur', 'edamame', 'coconut flour', 'kale', 'cherries', 'polenta', 'balsamic vinegar', 'anchovies', 'arugula', 'oils', 'pumpkin seeds', 'flaxseed', 'herring', 'nacho cheese', 'egg dishes', 'quinoa', 'apple cider vinegar', 'ricotta', 'pistachios', 'beets', 'sausages', 'pork roll', 'leeks', 'venison', 'rabbit', 'pastrami', 'chorizo', 'goose', 'chicken parts', 'pheasant', 'watermelon', 'capon', 'duckling', 'blueberries', 'cucumbers', 'red wine', 'canned goods', 'salad dressings', 'croutons', 'breadcrumbs', 'lobster tails', 'squid', 'soy flour', 'cooked pasta', 'dinners', 'pecans', 'casseroles', 'cream pies', 'fruit pies', 'egg salad', 'buckwheat', 'shortening', 'nectar', 'duck fat', 'seasoning blends', 'apricots', 'pomegranate', 'pumpkins', 'cranberries', 'cherimoya', 'citrus fruit', 'kiwi fruit', 'star fruit', 'tapenade', 'bacon grease', 'millet', 'beans and peas', 'radishes', 'rhubarb', 'bok choy', 'jicama', 'turnips', 'melons', 'bean sprouts', 'tempeh', 'marinades', 'capers', 'barbecue sauce', 'apple cider', 'marshmallows', 'tahini', 'seafood salads', 'cinnamon rolls', 'macadamias', 'relish', 'prickly pear', 'celery root', 'honeydew', 'spaghetti sauce', 'canadian bacon', 'sunflower oil', 'bison', 'lemon extract', 'yuzu juice', 'carrot juice', 'macaroons', 'crab legs', 'pork rinds', 'spaghetti squash', 'vegetable juice', 'marinated vegetables', 'pate', 'teff', 'fresh pasta', 'doughnuts', 'ginger root', 'pimento cheese', 'cooking wine', 'radicchio', 'fruit cake', 'rutabagas', 'ham salad', 'kumquats', 'cinnamon extract', 'coconut flavor', 'coffee creamer', 'gelatin', 'nut oils', 'amaranth', 'quark'] \n",
      "\n",
      "\n",
      "~~~~~~~~~~~~~~~~~6~~~~~~~~~~~~~~~~~\n",
      "Model loaded...\n"
     ]
    },
    {
     "name": "stderr",
     "output_type": "stream",
     "text": [
      " 12%|█▏        | 463/3803 [00:00<00:01, 2328.00it/s]"
     ]
    },
    {
     "name": "stdout",
     "output_type": "stream",
     "text": [
      "Skipping entity\n",
      "Skipping entity\n",
      "Skipping entity\n",
      "Skipping entity\n",
      "Skipping entity\n",
      "Skipping entity\n",
      "Skipping entity\n",
      "Skipping entity\n",
      "Skipping entity\n",
      "Skipping entity\n",
      "Skipping entity\n",
      "Skipping entity\n",
      "Skipping entity\n",
      "Skipping entity\n",
      "Skipping entity\n",
      "Skipping entity\n",
      "Skipping entity\n",
      "Skipping entity\n",
      "Skipping entity"
     ]
    },
    {
     "name": "stderr",
     "output_type": "stream",
     "text": [
      " 34%|███▍      | 1292/3803 [00:00<00:00, 2718.13it/s]"
     ]
    },
    {
     "name": "stdout",
     "output_type": "stream",
     "text": [
      "\n",
      "Skipping entity\n",
      "Skipping entity\n",
      "Skipping entity\n",
      "Skipping entity\n",
      "Skipping entity\n",
      "Skipping entity\n",
      "Skipping entity\n",
      "Skipping entity\n",
      "Skipping entity\n",
      "Skipping entity\n",
      "Skipping entity\n",
      "Skipping entity\n",
      "Skipping entity\n",
      "Skipping entity\n",
      "Skipping entity\n"
     ]
    },
    {
     "name": "stderr",
     "output_type": "stream",
     "text": [
      " 49%|████▉     | 1874/3803 [00:00<00:00, 2819.46it/s]"
     ]
    },
    {
     "name": "stdout",
     "output_type": "stream",
     "text": [
      "Skipping entity\n",
      "Skipping entity\n",
      "Skipping entity\n",
      "Skipping entity\n",
      "Skipping entity\n",
      "Skipping entity\n",
      "Skipping entity\n",
      "Skipping entity\n",
      "Skipping entity\n",
      "Skipping entity\n",
      "Skipping entity\n",
      "Skipping entity\n",
      "Skipping entity\n",
      "Skipping entity\n",
      "Skipping entity\n",
      "Skipping entity\n",
      "Skipping entity\n",
      "Skipping entity\n",
      "Skipping entity\n",
      "Skipping entity\n",
      "Skipping entity\n",
      "Skipping entity\n",
      "Skipping entity\n",
      "Skipping entity\n",
      "Skipping entity\n",
      "Skipping entity\n",
      "Skipping entity\n"
     ]
    },
    {
     "name": "stderr",
     "output_type": "stream",
     "text": [
      " 74%|███████▍  | 2813/3803 [00:01<00:00, 3037.96it/s]"
     ]
    },
    {
     "name": "stdout",
     "output_type": "stream",
     "text": [
      "Skipping entity\n",
      "Skipping entity\n",
      "Skipping entity\n",
      "Skipping entity\n",
      "Skipping entity\n",
      "Skipping entity\n",
      "Skipping entity\n",
      "Skipping entity\n",
      "Skipping entity\n",
      "Skipping entity\n",
      "Skipping entity\n",
      "Skipping entity"
     ]
    },
    {
     "name": "stderr",
     "output_type": "stream",
     "text": [
      " 90%|█████████ | 3436/3803 [00:01<00:00, 3081.44it/s]"
     ]
    },
    {
     "name": "stdout",
     "output_type": "stream",
     "text": [
      "\n",
      "Skipping entity\n",
      "Skipping entity\n",
      "Skipping entity\n",
      "Skipping entity\n",
      "Skipping entity\n",
      "Skipping entity\n",
      "Skipping entity\n",
      "Skipping entity\n",
      "Skipping entity\n",
      "Skipping entity\n",
      "Skipping entity\n",
      "Skipping entity\n",
      "Skipping entity\n",
      "Skipping entity\n",
      "Skipping entity\n",
      "Skipping entity\n",
      "Skipping entity\n",
      "Skipping entity\n",
      "Skipping entity\n",
      "Skipping entity\n",
      "Skipping entity\n",
      "Skipping entity\n",
      "Skipping entity\n",
      "Skipping entity"
     ]
    },
    {
     "name": "stderr",
     "output_type": "stream",
     "text": [
      "100%|██████████| 3803/3803 [00:01<00:00, 2886.24it/s]\n"
     ]
    },
    {
     "name": "stdout",
     "output_type": "stream",
     "text": [
      "\n",
      "Skipping entity\n",
      "Skipping entity\n",
      "Skipping entity\n",
      "Skipping entity\n",
      "â„¹ Saving to output directory: output\n",
      "â„¹ Using CPU\n",
      "\u001b[1m\n",
      "=========================== Initializing pipeline ===========================\u001b[0m\n",
      "âœ” Initialized pipeline\n",
      "\u001b[1m\n",
      "============================= Training pipeline =============================\u001b[0m\n",
      "â„¹ Pipeline: ['tok2vec', 'ner']\n",
      "â„¹ Initial learn rate: 0.001\n",
      "E    #       LOSS TOK2VEC  LOSS NER  ENTS_F  ENTS_P  ENTS_R  SCORE \n",
      "---  ------  ------------  --------  ------  ------  ------  ------\n",
      "  0       0          0.00     22.17    0.75    1.02    0.59    0.01\n",
      "  0     200         88.81   2714.86   80.12   75.94   84.78    0.80\n",
      "  0     400         77.08   1476.42   86.29   81.06   92.24    0.86\n",
      "  0     600         75.75   1559.88   87.75   82.13   94.20    0.88\n",
      "  0     800         80.22   1795.74   89.66   85.02   94.84    0.90\n",
      "  1    1000         98.50   1833.94   90.87   87.25   94.79    0.91\n",
      "  1    1200        133.41   1966.97   92.06   91.41   92.72    0.92\n",
      "  1    1400        156.15   2315.85   93.15   89.36   97.28    0.93\n",
      "  2    1600        192.91   2174.85   95.26   93.80   96.76    0.95\n",
      "  3    1800        282.47   2492.66   96.46   95.67   97.27    0.96\n",
      "  4    2000        377.85   2435.33   97.47   96.98   97.97    0.97\n",
      "  5    2200        477.68   2310.95   98.11   96.98   99.28    0.98\n",
      "  6    2400        674.11   2107.01   98.70   98.35   99.04    0.99\n",
      "  7    2600        663.95   1748.38   99.07   98.74   99.41    0.99\n",
      "  9    2800        723.48   1534.12   99.37   99.08   99.67    0.99\n",
      " 10    3000        747.38   1326.39   99.40   99.06   99.75    0.99\n",
      " 11    3200        735.25   1182.61   99.50   99.24   99.77    1.00\n",
      " 13    3400        704.10   1097.75   99.64   99.60   99.69    1.00\n",
      " 14    3600        671.62    950.53   99.56   99.46   99.65    1.00\n",
      " 15    3800        732.39    924.93   99.77   99.73   99.80    1.00\n",
      " 17    4000        661.97    796.25   99.71   99.50   99.93    1.00\n",
      " 18    4200        776.54    796.01   99.63   99.31   99.96    1.00\n",
      " 19    4400        744.42    757.25   99.80   99.65   99.94    1.00\n",
      " 21    4600        659.95    675.46   99.84   99.87   99.80    1.00\n",
      " 22    4800        690.78    631.63   99.83   99.81   99.84    1.00\n",
      " 24    5000        685.72    589.67   99.85   99.79   99.91    1.00\n",
      " 25    5200        646.82    544.44   99.79   99.68   99.89    1.00\n",
      " 26    5400        633.33    601.11   99.85   99.81   99.90    1.00\n",
      " 28    5600        599.43    560.72   99.84   99.87   99.81    1.00\n",
      " 29    5800        586.33    482.27   99.80   99.69   99.92    1.00\n",
      " 30    6000        650.94    491.26   99.90   99.83   99.98    1.00\n",
      " 32    6200        681.22    435.23   99.83   99.82   99.85    1.00\n",
      " 33    6400        812.48    483.60   99.84   99.76   99.93    1.00\n",
      " 34    6600        656.15    456.02   99.89   99.91   99.86    1.00\n",
      " 36    6800        696.31    452.43   99.83   99.75   99.91    1.00\n",
      " 37    7000        667.65    391.40   99.82   99.66   99.99    1.00\n",
      " 38    7200        669.00    419.45   99.87   99.78   99.96    1.00\n",
      " 40    7400        745.45    374.61   99.89   99.80   99.97    1.00\n",
      " 41    7600        749.11    405.78   99.92   99.91   99.93    1.00\n",
      " 42    7800        811.61    390.25   99.75   99.84   99.66    1.00\n",
      " 44    8000        869.73    383.87   99.95   99.92   99.98    1.00\n",
      " 45    8200        761.57    365.28   99.92   99.84   99.99    1.00\n",
      " 46    8400        934.08    338.38   99.87   99.85   99.88    1.00\n",
      " 48    8600        956.76    347.74   99.90   99.85   99.95    1.00\n",
      " 49    8800        838.17    360.99   99.93   99.96   99.89    1.00\n",
      " 50    9000        967.35    365.26   99.92   99.89   99.96    1.00\n",
      " 52    9200       1034.81    315.42   99.93   99.98   99.88    1.00\n",
      " 53    9400        984.03    374.57   99.95   99.93   99.97    1.00\n",
      " 55    9600        910.67    333.62   99.94   99.91   99.97    1.00\n",
      "âœ” Saved pipeline to output directory\n",
      "output\\model-last\n",
      "\n",
      "Total keywords:  363\n",
      "List of Keywords:\n",
      "\n",
      " ['cheese', 'chicken', 'milk', 'butter', 'cream', 'fruit', 'rice', 'water', 'garlic', 'bread', 'sugar', 'salt', 'chocolate', 'fish', 'beef', 'yogurt', 'almond milk', 'greens', 'granola', 'nuts', 'chia seeds', 'onions', 'apples', 'peanut butter', 'squash', 'soda', 'flour', 'garlic powder', 'buttermilk', 'potatoes', 'cottage cheese', 'sour cream', 'turkey', 'beans', 'cream cheese', 'bagel', 'pretzels', 'celery', 'white wine', 'margarine', 'whipped cream', 'ice cream', 'pineapple', 'whipped topping', 'plantains', 'veal', 'mustard', 'corned beef', 'rye', 'fried chicken', 'gravy', 'tuna', 'vegetables', 'eggs', 'rotisserie chicken', 'hot dogs', 'crackers', 'dips', 'meats', 'frozen entrees', 'bacon', 'pasta', 'pizza', 'potato chips', 'avocados', 'pork', 'sunflower seeds', 'lentils', 'lean fish', 'cauliflower', 'asparagus', 'almonds', 'cooked fish', 'honey', 'kimchi', 'herbs', 'dates', 'scallops', 'yuzu', 'corn syrup', 'baking soda', 'molasses', 'yeast', 'cornmeal', 'vinegar', 'parsley', 'worcestershire sauce', 'mushrooms', 'broth', 'peppers', 'oats', 'guava', 'coconut', 'cheesecake', 'cinnamon', 'muffin', 'pies', 'tomato sauce', 'pickles', 'goat', 'lamb', 'seafood', 'olives', 'baking powder', 'sesame seeds', 'raspberries', 'cornstarch', 'hot sauce', 'grits', 'chives', 'coconut milk', 'tamarind', 'tomatoes', 'cumin', 'chili powder', 'onion powder', 'black pepper', 'pie crust', 'cooked rice', 'nutmeg', 'peas', 'refried beans', 'bananas', 'okra', 'cabbage', 'syrup', 'juice concentrates', 'basil', 'fruits', 'horseradish', 'lettuce', 'pesto', 'soy milk', 'hoisin sauce', 'sesame oil', 'peanuts', 'ham', 'bacon bits', 'chutney', 'sun dried tomatoes', 'sausage', 'coffee', 'pasta salad', 'cereal', 'grapes', 'cashews', 'tea', 'pudding', 'coconut cream', 'coconut water', 'apple juice', 'fruit cocktail', 'walnuts', 'dough', 'roasted red peppers', 'whole wheat bread', 'thyme', 'mayonnaise', 'oregano', 'leftovers', 'strawberries', 'berries', 'coleslaw', 'cilantro', 'guacamole', 'tomato paste', 'canola oil', 'mung bean', 'lemon juice', 'ghee', 'avocado oil', 'almond oil', 'grapeseed oil', 'spelt', 'lime juice', 'pure vanilla extract', 'butter flavor', 'string cheese', 'salsa', 'puff pastry', 'biscuits', 'orange juice', 'vegetable soup', 'caviar', 'pine nuts', 'coconut oil', 'quail', 'eggnog', 'kefir', 'base', 'meat products', 'cornish hens', 'chicken salad', 'canned chicken', 'tortillas', 'fatty fish', 'miso', 'whole wheat flour', 'cookies', 'quiche', 'tamarind paste', 'sugar substitutes', 'cookie dough', 'bamboo shoots', 'oyster sauce', 'potato salad', 'brussels sprouts', 'cherry tomatoes', 'taro', 'barley', 'aioli', 'salami', 'prosciutto', 'chocolate syrup', 'pectin', 'rice milk', 'coconuts', 'turkey bacon', 'black bean sauce', 'tofu', 'rosemary', 'powdered milk', 'popcorn', 'almond butter', 'cashew butter', 'hummus', 'jerky', 'baby carrots', 'applesauce', 'kohlrabi', 'cantaloupe', 'farro', 'lemongrass', 'almond extract', 'mint', 'zucchini', 'hot peppers', 'swiss chard', 'eggplant', 'cranberry sauce', 'garam masala', 'cheese curds', 'bratwurst', 'bulgur', 'edamame', 'coconut flour', 'kale', 'cherries', 'polenta', 'balsamic vinegar', 'anchovies', 'arugula', 'oils', 'pumpkin seeds', 'flaxseed', 'herring', 'nacho cheese', 'egg dishes', 'quinoa', 'apple cider vinegar', 'ricotta', 'pistachios', 'beets', 'sausages', 'pork roll', 'leeks', 'venison', 'rabbit', 'pastrami', 'chorizo', 'goose', 'chicken parts', 'pheasant', 'watermelon', 'capon', 'duckling', 'blueberries', 'cucumbers', 'red wine', 'canned goods', 'salad dressings', 'croutons', 'breadcrumbs', 'lobster tails', 'squid', 'soy flour', 'cooked pasta', 'dinners', 'pecans', 'casseroles', 'cream pies', 'fruit pies', 'egg salad', 'buckwheat', 'shortening', 'nectar', 'duck fat', 'seasoning blends', 'apricots', 'pomegranate', 'pumpkins', 'cranberries', 'cherimoya', 'citrus fruit', 'kiwi fruit', 'star fruit', 'tapenade', 'bacon grease', 'millet', 'beans and peas', 'radishes', 'rhubarb', 'bok choy', 'jicama', 'turnips', 'melons', 'bean sprouts', 'tempeh', 'marinades', 'capers', 'barbecue sauce', 'apple cider', 'marshmallows', 'tahini', 'seafood salads', 'cinnamon rolls', 'macadamias', 'relish', 'prickly pear', 'celery root', 'honeydew', 'spaghetti sauce', 'canadian bacon', 'sunflower oil', 'bison', 'lemon extract', 'yuzu juice', 'carrot juice', 'macaroons', 'crab legs', 'pork rinds', 'spaghetti squash', 'vegetable juice', 'marinated vegetables', 'pate', 'teff', 'fresh pasta', 'doughnuts', 'ginger root', 'pimento cheese', 'cooking wine', 'radicchio', 'fruit cake', 'rutabagas', 'ham salad', 'kumquats', 'cinnamon extract', 'coconut flavor', 'coffee creamer', 'gelatin', 'nut oils', 'amaranth', 'quark'] \n",
      "\n",
      "\n",
      "[[33 11]\n",
      " [ 6 33]]\n",
      "              precision    recall  f1-score   support\n",
      "\n",
      "           1       0.85      0.75      0.80        44\n",
      "           0       0.75      0.85      0.80        39\n",
      "\n",
      "    accuracy                           0.80        83\n",
      "   macro avg       0.80      0.80      0.80        83\n",
      "weighted avg       0.80      0.80      0.80        83\n",
      "\n",
      "Total keywords:  365\n",
      "Total Tweets:  3803\n",
      "List of Keywords:\n",
      "\n",
      " ['cheese', 'chicken', 'milk', 'butter', 'cream', 'fruit', 'rice', 'water', 'garlic', 'bread', 'sugar', 'salt', 'chocolate', 'fish', 'beef', 'yogurt', 'almond milk', 'greens', 'granola', 'nuts', 'chia seeds', 'onions', 'apples', 'peanut butter', 'squash', 'soda', 'flour', 'garlic powder', 'buttermilk', 'potatoes', 'cottage cheese', 'sour cream', 'turkey', 'beans', 'cream cheese', 'bagel', 'pretzels', 'celery', 'white wine', 'margarine', 'whipped cream', 'ice cream', 'pineapple', 'whipped topping', 'plantains', 'veal', 'mustard', 'corned beef', 'rye', 'fried chicken', 'gravy', 'tuna', 'vegetables', 'eggs', 'rotisserie chicken', 'hot dogs', 'crackers', 'dips', 'meats', 'frozen entrees', 'bacon', 'pasta', 'pizza', 'potato chips', 'avocados', 'pork', 'sunflower seeds', 'lentils', 'lean fish', 'cauliflower', 'asparagus', 'almonds', 'cooked fish', 'honey', 'kimchi', 'herbs', 'dates', 'scallops', 'yuzu', 'corn syrup', 'baking soda', 'molasses', 'yeast', 'cornmeal', 'vinegar', 'parsley', 'worcestershire sauce', 'mushrooms', 'broth', 'peppers', 'oats', 'guava', 'coconut', 'cheesecake', 'cinnamon', 'muffin', 'pies', 'tomato sauce', 'pickles', 'goat', 'lamb', 'seafood', 'olives', 'baking powder', 'sesame seeds', 'raspberries', 'cornstarch', 'hot sauce', 'grits', 'chives', 'coconut milk', 'tamarind', 'tomatoes', 'cumin', 'chili powder', 'onion powder', 'black pepper', 'pie crust', 'cooked rice', 'nutmeg', 'peas', 'refried beans', 'bananas', 'okra', 'cabbage', 'syrup', 'juice concentrates', 'basil', 'fruits', 'horseradish', 'lettuce', 'pesto', 'soy milk', 'hoisin sauce', 'sesame oil', 'peanuts', 'ham', 'bacon bits', 'chutney', 'sun dried tomatoes', 'sausage', 'coffee', 'pasta salad', 'cereal', 'grapes', 'cashews', 'tea', 'pudding', 'coconut cream', 'coconut water', 'apple juice', 'fruit cocktail', 'walnuts', 'dough', 'roasted red peppers', 'whole wheat bread', 'thyme', 'mayonnaise', 'oregano', 'leftovers', 'strawberries', 'berries', 'coleslaw', 'cilantro', 'guacamole', 'tomato paste', 'canola oil', 'mung bean', 'lemon juice', 'ghee', 'avocado oil', 'almond oil', 'grapeseed oil', 'spelt', 'lime juice', 'pure vanilla extract', 'butter flavor', 'string cheese', 'salsa', 'puff pastry', 'biscuits', 'orange juice', 'vegetable soup', 'caviar', 'pine nuts', 'coconut oil', 'quail', 'eggnog', 'kefir', 'base', 'meat products', 'cornish hens', 'chicken salad', 'canned chicken', 'tortillas', 'fatty fish', 'miso', 'whole wheat flour', 'cookies', 'quiche', 'tamarind paste', 'sugar substitutes', 'cookie dough', 'bamboo shoots', 'oyster sauce', 'potato salad', 'brussels sprouts', 'cherry tomatoes', 'taro', 'barley', 'aioli', 'salami', 'prosciutto', 'chocolate syrup', 'pectin', 'rice milk', 'coconuts', 'turkey bacon', 'black bean sauce', 'tofu', 'rosemary', 'powdered milk', 'popcorn', 'almond butter', 'cashew butter', 'hummus', 'jerky', 'baby carrots', 'applesauce', 'kohlrabi', 'cantaloupe', 'farro', 'lemongrass', 'almond extract', 'mint', 'zucchini', 'hot peppers', 'swiss chard', 'eggplant', 'cranberry sauce', 'garam masala', 'cheese curds', 'bratwurst', 'bulgur', 'edamame', 'coconut flour', 'kale', 'cherries', 'polenta', 'balsamic vinegar', 'anchovies', 'arugula', 'oils', 'pumpkin seeds', 'flaxseed', 'herring', 'nacho cheese', 'egg dishes', 'quinoa', 'apple cider vinegar', 'ricotta', 'pistachios', 'beets', 'sausages', 'pork roll', 'leeks', 'venison', 'rabbit', 'pastrami', 'chorizo', 'goose', 'chicken parts', 'pheasant', 'watermelon', 'capon', 'duckling', 'blueberries', 'cucumbers', 'red wine', 'canned goods', 'salad dressings', 'croutons', 'breadcrumbs', 'lobster tails', 'squid', 'soy flour', 'cooked pasta', 'dinners', 'pecans', 'casseroles', 'cream pies', 'fruit pies', 'egg salad', 'buckwheat', 'shortening', 'nectar', 'duck fat', 'seasoning blends', 'apricots', 'pomegranate', 'pumpkins', 'cranberries', 'cherimoya', 'citrus fruit', 'kiwi fruit', 'star fruit', 'tapenade', 'bacon grease', 'millet', 'beans and peas', 'radishes', 'rhubarb', 'bok choy', 'jicama', 'turnips', 'melons', 'bean sprouts', 'tempeh', 'marinades', 'capers', 'barbecue sauce', 'apple cider', 'marshmallows', 'tahini', 'seafood salads', 'cinnamon rolls', 'macadamias', 'relish', 'prickly pear', 'celery root', 'honeydew', 'spaghetti sauce', 'canadian bacon', 'sunflower oil', 'bison', 'lemon extract', 'yuzu juice', 'carrot juice', 'macaroons', 'crab legs', 'pork rinds', 'spaghetti squash', 'vegetable juice', 'marinated vegetables', 'pate', 'teff', 'fresh pasta', 'doughnuts', 'ginger root', 'pimento cheese', 'cooking wine', 'radicchio', 'fruit cake', 'rutabagas', 'ham salad', 'kumquats', 'cinnamon extract', 'coconut flavor', 'coffee creamer', 'gelatin', 'nut oils', 'amaranth', 'quark', 'formula', 'soup mixes'] \n",
      "\n",
      "\n",
      "~~~~~~~~~~~~~~~~~7~~~~~~~~~~~~~~~~~\n",
      "Model loaded...\n"
     ]
    },
    {
     "name": "stderr",
     "output_type": "stream",
     "text": [
      " 13%|█▎        | 455/3405 [00:00<00:01, 2288.04it/s]"
     ]
    },
    {
     "name": "stdout",
     "output_type": "stream",
     "text": [
      "Skipping entity\n",
      "Skipping entity\n",
      "Skipping entity\n",
      "Skipping entity\n",
      "Skipping entity\n",
      "Skipping entity\n",
      "Skipping entity\n",
      "Skipping entity\n",
      "Skipping entity\n",
      "Skipping entity\n",
      "Skipping entity\n",
      "Skipping entity\n",
      "Skipping entity\n",
      "Skipping entity\n",
      "Skipping entity\n",
      "Skipping entity\n",
      "Skipping entity\n",
      "Skipping entity\n",
      "Skipping entity\n",
      "Skipping entity\n",
      "Skipping entity\n",
      "Skipping entity\n",
      "Skipping entity\n",
      "Skipping entity\n"
     ]
    },
    {
     "name": "stderr",
     "output_type": "stream",
     "text": [
      " 30%|██▉       | 1012/3405 [00:00<00:00, 2625.29it/s]"
     ]
    },
    {
     "name": "stdout",
     "output_type": "stream",
     "text": [
      "Skipping entity\n",
      "Skipping entity\n",
      "Skipping entity\n",
      "Skipping entity\n",
      "Skipping entity\n",
      "Skipping entity\n",
      "Skipping entity\n",
      "Skipping entity\n",
      "Skipping entity\n",
      "Skipping entity\n",
      "Skipping entity\n",
      "Skipping entity\n",
      "Skipping entity\n",
      "Skipping entity\n",
      "Skipping entity\n",
      "Skipping entity\n",
      "Skipping entity\n",
      "Skipping entity\n",
      "Skipping entity\n"
     ]
    },
    {
     "name": "stderr",
     "output_type": "stream",
     "text": [
      " 65%|██████▌   | 2222/3405 [00:00<00:00, 2986.57it/s]"
     ]
    },
    {
     "name": "stdout",
     "output_type": "stream",
     "text": [
      "Skipping entity\n",
      "Skipping entity\n",
      "Skipping entity\n",
      "Skipping entity\n",
      "Skipping entity\n",
      "Skipping entity\n",
      "Skipping entity\n",
      "Skipping entity\n",
      "Skipping entity\n",
      "Skipping entity\n",
      "Skipping entity\n",
      "Skipping entity\n",
      "Skipping entity\n",
      "Skipping entity\n",
      "Skipping entity\n",
      "Skipping entity\n",
      "Skipping entity\n",
      "Skipping entity\n",
      "Skipping entity\n",
      "Skipping entity\n",
      "Skipping entity\n",
      "Skipping entity\n",
      "Skipping entity\n",
      "Skipping entity\n"
     ]
    },
    {
     "name": "stderr",
     "output_type": "stream",
     "text": [
      " 84%|████████▎ | 2850/3405 [00:01<00:00, 3062.90it/s]"
     ]
    },
    {
     "name": "stdout",
     "output_type": "stream",
     "text": [
      "Skipping entity\n",
      "Skipping entity\n",
      "Skipping entity\n",
      "Skipping entity\n",
      "Skipping entity\n",
      "Skipping entity\n",
      "Skipping entity\n",
      "Skipping entity\n",
      "Skipping entity\n",
      "Skipping entity\n",
      "Skipping entity\n",
      "Skipping entity\n",
      "Skipping entity\n",
      "Skipping entity\n",
      "Skipping entity\n",
      "Skipping entity\n",
      "Skipping entity\n",
      "Skipping entity\n",
      "Skipping entity"
     ]
    },
    {
     "name": "stderr",
     "output_type": "stream",
     "text": [
      "100%|██████████| 3405/3405 [00:01<00:00, 2877.02it/s]\n"
     ]
    },
    {
     "name": "stdout",
     "output_type": "stream",
     "text": [
      "\n",
      "Skipping entity\n",
      "Skipping entity\n",
      "Skipping entity\n",
      "Skipping entity\n",
      "Skipping entity\n",
      "Skipping entity\n",
      "Skipping entity\n",
      "Skipping entity\n",
      "Skipping entity\n",
      "Skipping entity\n",
      "Skipping entity\n",
      "Skipping entity\n",
      "â„¹ Saving to output directory: output\n",
      "â„¹ Using CPU\n",
      "\u001b[1m\n",
      "=========================== Initializing pipeline ===========================\u001b[0m\n",
      "âœ” Initialized pipeline\n",
      "\u001b[1m\n",
      "============================= Training pipeline =============================\u001b[0m\n",
      "â„¹ Pipeline: ['tok2vec', 'ner']\n",
      "â„¹ Initial learn rate: 0.001\n",
      "E    #       LOSS TOK2VEC  LOSS NER  ENTS_F  ENTS_P  ENTS_R  SCORE \n",
      "---  ------  ------------  --------  ------  ------  ------  ------\n",
      "  0       0          0.00     33.50    0.05    0.74    0.02    0.00\n",
      "  0     200         92.60   2719.89   81.55   83.44   79.74    0.82\n",
      "  0     400         85.30   1370.44   88.50   84.51   92.89    0.88\n",
      "  0     600         91.62   1401.64   89.99   84.54   96.18    0.90\n",
      "  0     800         91.25   1375.76   92.44   89.40   95.70    0.92\n",
      "  1    1000         88.37   1523.16   93.72   90.16   97.58    0.94\n",
      "  1    1200        121.46   1634.95   94.72   91.67   97.99    0.95\n",
      "  2    1400        137.95   1853.60   95.66   93.97   97.41    0.96\n",
      "  2    1600        196.34   1859.08   96.79   95.23   98.39    0.97\n",
      "  3    1800        270.74   1769.97   97.56   97.04   98.08    0.98\n",
      "  4    2000        325.82   1779.36   98.31   97.45   99.19    0.98\n",
      "  5    2200        439.24   1635.98   99.00   98.58   99.43    0.99\n",
      "  7    2400        522.35   1503.63   99.29   99.08   99.51    0.99\n",
      "  8    2600        549.93   1282.99   99.44   99.06   99.82    0.99\n",
      " 10    2800        549.13   1036.02   99.51   99.32   99.70    1.00\n",
      " 11    3000        556.64    946.12   99.56   99.25   99.87    1.00\n",
      " 13    3200        542.35    817.47   99.65   99.40   99.89    1.00\n",
      " 14    3400        585.50    753.90   99.83   99.79   99.87    1.00\n",
      " 16    3600        582.76    653.20   99.70   99.61   99.78    1.00\n",
      " 17    3800        566.17    651.88   99.81   99.79   99.84    1.00\n",
      " 19    4000        556.09    595.66   99.73   99.63   99.84    1.00\n",
      " 20    4200        482.82    552.65   99.82   99.89   99.75    1.00\n",
      " 22    4400        498.35    459.76   99.76   99.79   99.72    1.00\n",
      " 23    4600        755.61    517.73   99.90   99.88   99.92    1.00\n",
      " 25    4800        609.28    451.16   99.84   99.79   99.88    1.00\n",
      " 26    5000        587.51    488.00   99.93   99.91   99.95    1.00\n",
      " 28    5200        511.37    385.67   99.94   99.94   99.94    1.00\n",
      " 30    5400        621.50    435.39   99.86   99.81   99.91    1.00\n",
      " 31    5600        616.63    376.84   99.86   99.82   99.90    1.00\n",
      " 33    5800        599.86    366.03   99.93   99.94   99.92    1.00\n",
      " 34    6000        716.67    367.16   99.90   99.88   99.92    1.00\n",
      " 36    6200        701.52    344.77   99.90   99.85   99.95    1.00\n",
      " 37    6400        712.44    338.57   99.93   99.89   99.96    1.00\n",
      " 39    6600        793.47    336.63   99.96   99.94   99.98    1.00\n",
      " 40    6800       1006.11    321.78   99.89   99.88   99.91    1.00\n",
      " 42    7000        768.43    341.26   99.91   99.91   99.91    1.00\n",
      " 43    7200        974.35    310.57   99.95   99.94   99.96    1.00\n",
      " 45    7400        790.90    281.72   99.92   99.94   99.91    1.00\n",
      " 46    7600        911.25    290.43   99.91   99.90   99.93    1.00\n",
      " 48    7800        835.18    272.28   99.94   99.95   99.93    1.00\n",
      " 49    8000        957.32    253.50   99.92   99.89   99.95    1.00\n",
      " 51    8200       1065.96    283.58   99.92   99.96   99.87    1.00\n",
      "âœ” Saved pipeline to output directory\n",
      "output\\model-last\n",
      "\n",
      "Total keywords:  365\n",
      "List of Keywords:\n",
      "\n",
      " ['cheese', 'chicken', 'milk', 'butter', 'cream', 'fruit', 'rice', 'water', 'garlic', 'bread', 'sugar', 'salt', 'chocolate', 'fish', 'beef', 'yogurt', 'almond milk', 'greens', 'granola', 'nuts', 'chia seeds', 'onions', 'apples', 'peanut butter', 'squash', 'soda', 'flour', 'garlic powder', 'buttermilk', 'potatoes', 'cottage cheese', 'sour cream', 'turkey', 'beans', 'cream cheese', 'bagel', 'pretzels', 'celery', 'white wine', 'margarine', 'whipped cream', 'ice cream', 'pineapple', 'whipped topping', 'plantains', 'veal', 'mustard', 'corned beef', 'rye', 'fried chicken', 'gravy', 'tuna', 'vegetables', 'eggs', 'rotisserie chicken', 'hot dogs', 'crackers', 'dips', 'meats', 'frozen entrees', 'bacon', 'pasta', 'pizza', 'potato chips', 'avocados', 'pork', 'sunflower seeds', 'lentils', 'lean fish', 'cauliflower', 'asparagus', 'almonds', 'cooked fish', 'honey', 'kimchi', 'herbs', 'dates', 'scallops', 'yuzu', 'corn syrup', 'baking soda', 'molasses', 'yeast', 'cornmeal', 'vinegar', 'parsley', 'worcestershire sauce', 'mushrooms', 'broth', 'peppers', 'oats', 'guava', 'coconut', 'cheesecake', 'cinnamon', 'muffin', 'pies', 'tomato sauce', 'pickles', 'goat', 'lamb', 'seafood', 'olives', 'baking powder', 'sesame seeds', 'raspberries', 'cornstarch', 'hot sauce', 'grits', 'chives', 'coconut milk', 'tamarind', 'tomatoes', 'cumin', 'chili powder', 'onion powder', 'black pepper', 'pie crust', 'cooked rice', 'nutmeg', 'peas', 'refried beans', 'bananas', 'okra', 'cabbage', 'syrup', 'juice concentrates', 'basil', 'fruits', 'horseradish', 'lettuce', 'pesto', 'soy milk', 'hoisin sauce', 'sesame oil', 'peanuts', 'ham', 'bacon bits', 'chutney', 'sun dried tomatoes', 'sausage', 'coffee', 'pasta salad', 'cereal', 'grapes', 'cashews', 'tea', 'pudding', 'coconut cream', 'coconut water', 'apple juice', 'fruit cocktail', 'walnuts', 'dough', 'roasted red peppers', 'whole wheat bread', 'thyme', 'mayonnaise', 'oregano', 'leftovers', 'strawberries', 'berries', 'coleslaw', 'cilantro', 'guacamole', 'tomato paste', 'canola oil', 'mung bean', 'lemon juice', 'ghee', 'avocado oil', 'almond oil', 'grapeseed oil', 'spelt', 'lime juice', 'pure vanilla extract', 'butter flavor', 'string cheese', 'salsa', 'puff pastry', 'biscuits', 'orange juice', 'vegetable soup', 'caviar', 'pine nuts', 'coconut oil', 'quail', 'eggnog', 'kefir', 'base', 'meat products', 'cornish hens', 'chicken salad', 'canned chicken', 'tortillas', 'fatty fish', 'miso', 'whole wheat flour', 'cookies', 'quiche', 'tamarind paste', 'sugar substitutes', 'cookie dough', 'bamboo shoots', 'oyster sauce', 'potato salad', 'brussels sprouts', 'cherry tomatoes', 'taro', 'barley', 'aioli', 'salami', 'prosciutto', 'chocolate syrup', 'pectin', 'rice milk', 'coconuts', 'turkey bacon', 'black bean sauce', 'tofu', 'rosemary', 'powdered milk', 'popcorn', 'almond butter', 'cashew butter', 'hummus', 'jerky', 'baby carrots', 'applesauce', 'kohlrabi', 'cantaloupe', 'farro', 'lemongrass', 'almond extract', 'mint', 'zucchini', 'hot peppers', 'swiss chard', 'eggplant', 'cranberry sauce', 'garam masala', 'cheese curds', 'bratwurst', 'bulgur', 'edamame', 'coconut flour', 'kale', 'cherries', 'polenta', 'balsamic vinegar', 'anchovies', 'arugula', 'oils', 'pumpkin seeds', 'flaxseed', 'herring', 'nacho cheese', 'egg dishes', 'quinoa', 'apple cider vinegar', 'ricotta', 'pistachios', 'beets', 'sausages', 'pork roll', 'leeks', 'venison', 'rabbit', 'pastrami', 'chorizo', 'goose', 'chicken parts', 'pheasant', 'watermelon', 'capon', 'duckling', 'blueberries', 'cucumbers', 'red wine', 'canned goods', 'salad dressings', 'croutons', 'breadcrumbs', 'lobster tails', 'squid', 'soy flour', 'cooked pasta', 'dinners', 'pecans', 'casseroles', 'cream pies', 'fruit pies', 'egg salad', 'buckwheat', 'shortening', 'nectar', 'duck fat', 'seasoning blends', 'apricots', 'pomegranate', 'pumpkins', 'cranberries', 'cherimoya', 'citrus fruit', 'kiwi fruit', 'star fruit', 'tapenade', 'bacon grease', 'millet', 'beans and peas', 'radishes', 'rhubarb', 'bok choy', 'jicama', 'turnips', 'melons', 'bean sprouts', 'tempeh', 'marinades', 'capers', 'barbecue sauce', 'apple cider', 'marshmallows', 'tahini', 'seafood salads', 'cinnamon rolls', 'macadamias', 'relish', 'prickly pear', 'celery root', 'honeydew', 'spaghetti sauce', 'canadian bacon', 'sunflower oil', 'bison', 'lemon extract', 'yuzu juice', 'carrot juice', 'macaroons', 'crab legs', 'pork rinds', 'spaghetti squash', 'vegetable juice', 'marinated vegetables', 'pate', 'teff', 'fresh pasta', 'doughnuts', 'ginger root', 'pimento cheese', 'cooking wine', 'radicchio', 'fruit cake', 'rutabagas', 'ham salad', 'kumquats', 'cinnamon extract', 'coconut flavor', 'coffee creamer', 'gelatin', 'nut oils', 'amaranth', 'quark', 'formula', 'soup mixes'] \n",
      "\n",
      "\n",
      "[[35  9]\n",
      " [ 7 32]]\n",
      "              precision    recall  f1-score   support\n",
      "\n",
      "           1       0.83      0.80      0.81        44\n",
      "           0       0.78      0.82      0.80        39\n",
      "\n",
      "    accuracy                           0.81        83\n",
      "   macro avg       0.81      0.81      0.81        83\n",
      "weighted avg       0.81      0.81      0.81        83\n",
      "\n",
      "Total keywords:  366\n",
      "Total Tweets:  3405\n",
      "List of Keywords:\n",
      "\n",
      " ['cheese', 'chicken', 'milk', 'butter', 'cream', 'fruit', 'rice', 'water', 'garlic', 'bread', 'sugar', 'salt', 'chocolate', 'fish', 'beef', 'yogurt', 'almond milk', 'greens', 'granola', 'nuts', 'chia seeds', 'onions', 'apples', 'peanut butter', 'squash', 'soda', 'flour', 'garlic powder', 'buttermilk', 'potatoes', 'cottage cheese', 'sour cream', 'turkey', 'beans', 'cream cheese', 'bagel', 'pretzels', 'celery', 'white wine', 'margarine', 'whipped cream', 'ice cream', 'pineapple', 'whipped topping', 'plantains', 'veal', 'mustard', 'corned beef', 'rye', 'fried chicken', 'gravy', 'tuna', 'vegetables', 'eggs', 'rotisserie chicken', 'hot dogs', 'crackers', 'dips', 'meats', 'frozen entrees', 'bacon', 'pasta', 'pizza', 'potato chips', 'avocados', 'pork', 'sunflower seeds', 'lentils', 'lean fish', 'cauliflower', 'asparagus', 'almonds', 'cooked fish', 'honey', 'kimchi', 'herbs', 'dates', 'scallops', 'yuzu', 'corn syrup', 'baking soda', 'molasses', 'yeast', 'cornmeal', 'vinegar', 'parsley', 'worcestershire sauce', 'mushrooms', 'broth', 'peppers', 'oats', 'guava', 'coconut', 'cheesecake', 'cinnamon', 'muffin', 'pies', 'tomato sauce', 'pickles', 'goat', 'lamb', 'seafood', 'olives', 'baking powder', 'sesame seeds', 'raspberries', 'cornstarch', 'hot sauce', 'grits', 'chives', 'coconut milk', 'tamarind', 'tomatoes', 'cumin', 'chili powder', 'onion powder', 'black pepper', 'pie crust', 'cooked rice', 'nutmeg', 'peas', 'refried beans', 'bananas', 'okra', 'cabbage', 'syrup', 'juice concentrates', 'basil', 'fruits', 'horseradish', 'lettuce', 'pesto', 'soy milk', 'hoisin sauce', 'sesame oil', 'peanuts', 'ham', 'bacon bits', 'chutney', 'sun dried tomatoes', 'sausage', 'coffee', 'pasta salad', 'cereal', 'grapes', 'cashews', 'tea', 'pudding', 'coconut cream', 'coconut water', 'apple juice', 'fruit cocktail', 'walnuts', 'dough', 'roasted red peppers', 'whole wheat bread', 'thyme', 'mayonnaise', 'oregano', 'leftovers', 'strawberries', 'berries', 'coleslaw', 'cilantro', 'guacamole', 'tomato paste', 'canola oil', 'mung bean', 'lemon juice', 'ghee', 'avocado oil', 'almond oil', 'grapeseed oil', 'spelt', 'lime juice', 'pure vanilla extract', 'butter flavor', 'string cheese', 'salsa', 'puff pastry', 'biscuits', 'orange juice', 'vegetable soup', 'caviar', 'pine nuts', 'coconut oil', 'quail', 'eggnog', 'kefir', 'base', 'meat products', 'cornish hens', 'chicken salad', 'canned chicken', 'tortillas', 'fatty fish', 'miso', 'whole wheat flour', 'cookies', 'quiche', 'tamarind paste', 'sugar substitutes', 'cookie dough', 'bamboo shoots', 'oyster sauce', 'potato salad', 'brussels sprouts', 'cherry tomatoes', 'taro', 'barley', 'aioli', 'salami', 'prosciutto', 'chocolate syrup', 'pectin', 'rice milk', 'coconuts', 'turkey bacon', 'black bean sauce', 'tofu', 'rosemary', 'powdered milk', 'popcorn', 'almond butter', 'cashew butter', 'hummus', 'jerky', 'baby carrots', 'applesauce', 'kohlrabi', 'cantaloupe', 'farro', 'lemongrass', 'almond extract', 'mint', 'zucchini', 'hot peppers', 'swiss chard', 'eggplant', 'cranberry sauce', 'garam masala', 'cheese curds', 'bratwurst', 'bulgur', 'edamame', 'coconut flour', 'kale', 'cherries', 'polenta', 'balsamic vinegar', 'anchovies', 'arugula', 'oils', 'pumpkin seeds', 'flaxseed', 'herring', 'nacho cheese', 'egg dishes', 'quinoa', 'apple cider vinegar', 'ricotta', 'pistachios', 'beets', 'sausages', 'pork roll', 'leeks', 'venison', 'rabbit', 'pastrami', 'chorizo', 'goose', 'chicken parts', 'pheasant', 'watermelon', 'capon', 'duckling', 'blueberries', 'cucumbers', 'red wine', 'canned goods', 'salad dressings', 'croutons', 'breadcrumbs', 'lobster tails', 'squid', 'soy flour', 'cooked pasta', 'dinners', 'pecans', 'casseroles', 'cream pies', 'fruit pies', 'egg salad', 'buckwheat', 'shortening', 'nectar', 'duck fat', 'seasoning blends', 'apricots', 'pomegranate', 'pumpkins', 'cranberries', 'cherimoya', 'citrus fruit', 'kiwi fruit', 'star fruit', 'tapenade', 'bacon grease', 'millet', 'beans and peas', 'radishes', 'rhubarb', 'bok choy', 'jicama', 'turnips', 'melons', 'bean sprouts', 'tempeh', 'marinades', 'capers', 'barbecue sauce', 'apple cider', 'marshmallows', 'tahini', 'seafood salads', 'cinnamon rolls', 'macadamias', 'relish', 'prickly pear', 'celery root', 'honeydew', 'spaghetti sauce', 'canadian bacon', 'sunflower oil', 'bison', 'lemon extract', 'yuzu juice', 'carrot juice', 'macaroons', 'crab legs', 'pork rinds', 'spaghetti squash', 'vegetable juice', 'marinated vegetables', 'pate', 'teff', 'fresh pasta', 'doughnuts', 'ginger root', 'pimento cheese', 'cooking wine', 'radicchio', 'fruit cake', 'rutabagas', 'ham salad', 'kumquats', 'cinnamon extract', 'coconut flavor', 'coffee creamer', 'gelatin', 'nut oils', 'amaranth', 'quark', 'formula', 'soup mixes', 'crab meat'] \n",
      "\n",
      "\n",
      "~~~~~~~~~~~~~~~~~8~~~~~~~~~~~~~~~~~\n",
      "Model loaded...\n"
     ]
    },
    {
     "name": "stderr",
     "output_type": "stream",
     "text": [
      " 12%|█▏        | 463/3723 [00:00<00:01, 2331.53it/s]"
     ]
    },
    {
     "name": "stdout",
     "output_type": "stream",
     "text": [
      "Skipping entity\n",
      "Skipping entity\n",
      "Skipping entity\n",
      "Skipping entity\n",
      "Skipping entity\n",
      "Skipping entity\n",
      "Skipping entity\n",
      "Skipping entity\n",
      "Skipping entity\n",
      "Skipping entity\n",
      "Skipping entity\n",
      "Skipping entity\n",
      "Skipping entity\n",
      "Skipping entity\n",
      "Skipping entity\n",
      "Skipping entity\n",
      "Skipping entity\n",
      "Skipping entity\n",
      "Skipping entity\n",
      "Skipping entity"
     ]
    },
    {
     "name": "stderr",
     "output_type": "stream",
     "text": [
      " 43%|████▎     | 1596/3723 [00:00<00:00, 2804.14it/s]"
     ]
    },
    {
     "name": "stdout",
     "output_type": "stream",
     "text": [
      "\n",
      "Skipping entity\n",
      "Skipping entity\n",
      "Skipping entity\n",
      "Skipping entity\n",
      "Skipping entity\n",
      "Skipping entity\n",
      "Skipping entity\n",
      "Skipping entity\n",
      "Skipping entity\n",
      "Skipping entity\n",
      "Skipping entity\n",
      "Skipping entity\n",
      "Skipping entity\n",
      "Skipping entity\n",
      "Skipping entity\n",
      "Skipping entity\n",
      "Skipping entity\n",
      "Skipping entity\n",
      "Skipping entity\n",
      "Skipping entity\n"
     ]
    },
    {
     "name": "stderr",
     "output_type": "stream",
     "text": [
      " 68%|██████▊   | 2519/3723 [00:00<00:00, 3004.93it/s]"
     ]
    },
    {
     "name": "stdout",
     "output_type": "stream",
     "text": [
      "Skipping entity\n",
      "Skipping entity\n",
      "Skipping entity\n",
      "Skipping entity\n",
      "Skipping entity\n",
      "Skipping entity\n",
      "Skipping entity\n",
      "Skipping entity\n",
      "Skipping entity\n",
      "Skipping entity\n",
      "Skipping entity\n",
      "Skipping entity\n",
      "Skipping entity\n",
      "Skipping entity\n",
      "Skipping entity\n",
      "Skipping entity\n",
      "Skipping entity\n",
      "Skipping entity\n",
      "Skipping entity\n",
      "Skipping entity\n",
      "Skipping entity\n",
      "Skipping entity\n",
      "Skipping entity\n",
      "Skipping entity\n",
      "Skipping entity\n",
      "Skipping entity\n"
     ]
    },
    {
     "name": "stderr",
     "output_type": "stream",
     "text": [
      " 84%|████████▍ | 3142/3723 [00:01<00:00, 3032.56it/s]"
     ]
    },
    {
     "name": "stdout",
     "output_type": "stream",
     "text": [
      "Skipping entity\n",
      "Skipping entity\n",
      "Skipping entity\n",
      "Skipping entity\n",
      "Skipping entity\n",
      "Skipping entity\n",
      "Skipping entity\n",
      "Skipping entity\n",
      "Skipping entity\n",
      "Skipping entity\n",
      "Skipping entity\n",
      "Skipping entity\n",
      "Skipping entity\n",
      "Skipping entity\n",
      "Skipping entity\n",
      "Skipping entity\n",
      "Skipping entity\n",
      "Skipping entity\n",
      "Skipping entity\n",
      "Skipping entity\n"
     ]
    },
    {
     "name": "stderr",
     "output_type": "stream",
     "text": [
      "100%|██████████| 3723/3723 [00:01<00:00, 2889.17it/s]\n"
     ]
    },
    {
     "name": "stdout",
     "output_type": "stream",
     "text": [
      "Skipping entity\n",
      "Skipping entity\n",
      "Skipping entity\n",
      "Skipping entity\n",
      "Skipping entity\n",
      "Skipping entity\n",
      "Skipping entity\n",
      "Skipping entity\n",
      "â„¹ Saving to output directory: output\n",
      "â„¹ Using CPU\n",
      "\u001b[1m\n",
      "=========================== Initializing pipeline ===========================\u001b[0m\n",
      "âœ” Initialized pipeline\n",
      "\u001b[1m\n",
      "============================= Training pipeline =============================\u001b[0m\n",
      "â„¹ Pipeline: ['tok2vec', 'ner']\n",
      "â„¹ Initial learn rate: 0.001\n",
      "E    #       LOSS TOK2VEC  LOSS NER  ENTS_F  ENTS_P  ENTS_R  SCORE \n",
      "---  ------  ------------  --------  ------  ------  ------  ------\n",
      "  0       0          0.00     27.50    0.00    0.00    0.00    0.00\n",
      "  0     200         68.69   2772.25   81.38   80.37   82.41    0.81\n",
      "  0     400         89.19   1534.80   86.75   82.64   91.30    0.87\n",
      "  0     600         78.58   1472.44   89.46   83.62   96.18    0.89\n",
      "  0     800         87.88   1629.20   89.93   86.28   93.91    0.90\n",
      "  1    1000         91.61   1801.21   92.04   87.44   97.15    0.92\n",
      "  1    1200        114.81   1817.12   93.05   89.89   96.44    0.93\n",
      "  1    1400        159.58   2296.94   94.11   90.98   97.47    0.94\n",
      "  2    1600        191.61   2103.67   95.38   94.04   96.75    0.95\n",
      "  3    1800        252.96   2383.23   96.69   95.82   97.57    0.97\n",
      "  4    2000        348.46   2338.62   97.61   96.75   98.49    0.98\n",
      "  5    2200        468.11   2144.30   97.93   96.40   99.51    0.98\n",
      "  6    2400        574.80   1948.33   98.74   98.02   99.48    0.99\n",
      "  8    2600        607.81   1777.15   99.29   98.88   99.70    0.99\n",
      "  9    2800        679.45   1334.08   99.49   99.37   99.61    0.99\n",
      " 10    3000        699.22   1174.71   99.45   99.08   99.81    0.99\n",
      " 12    3200        723.93   1108.92   99.53   99.22   99.84    1.00\n",
      " 13    3400        724.49    988.28   99.72   99.69   99.75    1.00\n",
      " 14    3600        676.57    917.02   99.68   99.83   99.54    1.00\n",
      " 16    3800        614.45    786.16   99.72   99.80   99.65    1.00\n",
      " 17    4000        634.66    748.17   99.73   99.64   99.83    1.00\n",
      " 19    4200        703.47    753.53   99.80   99.78   99.83    1.00\n",
      " 20    4400        735.54    666.18   99.82   99.75   99.88    1.00\n",
      " 21    4600       1745.82    649.43   99.82   99.75   99.88    1.00\n",
      " 23    4800        604.24    581.88   99.79   99.72   99.87    1.00\n",
      " 24    5000        779.78    517.19   99.83   99.72   99.94    1.00\n",
      " 25    5200        717.23    547.31   99.90   99.88   99.92    1.00\n",
      " 27    5400        733.45    521.60   99.84   99.82   99.87    1.00\n",
      " 28    5600        736.44    568.44   99.88   99.87   99.89    1.00\n",
      " 30    5800        672.61    468.06   99.84   99.72   99.96    1.00\n",
      " 31    6000        636.23    448.66   99.90   99.89   99.91    1.00\n",
      " 32    6200        607.29    414.44   99.83   99.75   99.91    1.00\n",
      " 34    6400       1050.93    491.68   99.90   99.87   99.94    1.00\n",
      " 35    6600        664.82    379.69   99.91   99.93   99.89    1.00\n",
      " 36    6800        837.22    385.87   99.88   99.84   99.92    1.00\n",
      " 38    7000        958.52    393.37   99.94   99.92   99.96    1.00\n",
      " 39    7200       1189.18    404.85   99.93   99.90   99.96    1.00\n",
      " 41    7400        842.56    368.89   99.93   99.87   99.98    1.00\n",
      " 42    7600        806.86    383.84   99.90   99.89   99.92    1.00\n",
      " 43    7800        841.63    324.01   99.97   99.97   99.98    1.00\n",
      " 45    8000        926.18    353.46   99.92   99.86   99.98    1.00\n",
      " 46    8200        874.91    344.26   99.87   99.74   99.99    1.00\n",
      " 47    8400       1031.16    344.91   99.95   99.94   99.96    1.00\n",
      " 49    8600       1017.83    331.28   99.93   99.93   99.93    1.00\n",
      " 50    8800       1013.71    290.27   99.94   99.92   99.96    1.00\n",
      " 52    9000        910.20    300.83   99.93   99.95   99.91    1.00\n",
      " 53    9200       1021.09    270.40   99.91   99.87   99.96    1.00\n",
      " 54    9400       1257.76    320.88   99.95   99.93   99.97    1.00\n",
      "âœ” Saved pipeline to output directory\n",
      "output\\model-last\n",
      "\n",
      "Total keywords:  366\n",
      "List of Keywords:\n",
      "\n",
      " ['cheese', 'chicken', 'milk', 'butter', 'cream', 'fruit', 'rice', 'water', 'garlic', 'bread', 'sugar', 'salt', 'chocolate', 'fish', 'beef', 'yogurt', 'almond milk', 'greens', 'granola', 'nuts', 'chia seeds', 'onions', 'apples', 'peanut butter', 'squash', 'soda', 'flour', 'garlic powder', 'buttermilk', 'potatoes', 'cottage cheese', 'sour cream', 'turkey', 'beans', 'cream cheese', 'bagel', 'pretzels', 'celery', 'white wine', 'margarine', 'whipped cream', 'ice cream', 'pineapple', 'whipped topping', 'plantains', 'veal', 'mustard', 'corned beef', 'rye', 'fried chicken', 'gravy', 'tuna', 'vegetables', 'eggs', 'rotisserie chicken', 'hot dogs', 'crackers', 'dips', 'meats', 'frozen entrees', 'bacon', 'pasta', 'pizza', 'potato chips', 'avocados', 'pork', 'sunflower seeds', 'lentils', 'lean fish', 'cauliflower', 'asparagus', 'almonds', 'cooked fish', 'honey', 'kimchi', 'herbs', 'dates', 'scallops', 'yuzu', 'corn syrup', 'baking soda', 'molasses', 'yeast', 'cornmeal', 'vinegar', 'parsley', 'worcestershire sauce', 'mushrooms', 'broth', 'peppers', 'oats', 'guava', 'coconut', 'cheesecake', 'cinnamon', 'muffin', 'pies', 'tomato sauce', 'pickles', 'goat', 'lamb', 'seafood', 'olives', 'baking powder', 'sesame seeds', 'raspberries', 'cornstarch', 'hot sauce', 'grits', 'chives', 'coconut milk', 'tamarind', 'tomatoes', 'cumin', 'chili powder', 'onion powder', 'black pepper', 'pie crust', 'cooked rice', 'nutmeg', 'peas', 'refried beans', 'bananas', 'okra', 'cabbage', 'syrup', 'juice concentrates', 'basil', 'fruits', 'horseradish', 'lettuce', 'pesto', 'soy milk', 'hoisin sauce', 'sesame oil', 'peanuts', 'ham', 'bacon bits', 'chutney', 'sun dried tomatoes', 'sausage', 'coffee', 'pasta salad', 'cereal', 'grapes', 'cashews', 'tea', 'pudding', 'coconut cream', 'coconut water', 'apple juice', 'fruit cocktail', 'walnuts', 'dough', 'roasted red peppers', 'whole wheat bread', 'thyme', 'mayonnaise', 'oregano', 'leftovers', 'strawberries', 'berries', 'coleslaw', 'cilantro', 'guacamole', 'tomato paste', 'canola oil', 'mung bean', 'lemon juice', 'ghee', 'avocado oil', 'almond oil', 'grapeseed oil', 'spelt', 'lime juice', 'pure vanilla extract', 'butter flavor', 'string cheese', 'salsa', 'puff pastry', 'biscuits', 'orange juice', 'vegetable soup', 'caviar', 'pine nuts', 'coconut oil', 'quail', 'eggnog', 'kefir', 'base', 'meat products', 'cornish hens', 'chicken salad', 'canned chicken', 'tortillas', 'fatty fish', 'miso', 'whole wheat flour', 'cookies', 'quiche', 'tamarind paste', 'sugar substitutes', 'cookie dough', 'bamboo shoots', 'oyster sauce', 'potato salad', 'brussels sprouts', 'cherry tomatoes', 'taro', 'barley', 'aioli', 'salami', 'prosciutto', 'chocolate syrup', 'pectin', 'rice milk', 'coconuts', 'turkey bacon', 'black bean sauce', 'tofu', 'rosemary', 'powdered milk', 'popcorn', 'almond butter', 'cashew butter', 'hummus', 'jerky', 'baby carrots', 'applesauce', 'kohlrabi', 'cantaloupe', 'farro', 'lemongrass', 'almond extract', 'mint', 'zucchini', 'hot peppers', 'swiss chard', 'eggplant', 'cranberry sauce', 'garam masala', 'cheese curds', 'bratwurst', 'bulgur', 'edamame', 'coconut flour', 'kale', 'cherries', 'polenta', 'balsamic vinegar', 'anchovies', 'arugula', 'oils', 'pumpkin seeds', 'flaxseed', 'herring', 'nacho cheese', 'egg dishes', 'quinoa', 'apple cider vinegar', 'ricotta', 'pistachios', 'beets', 'sausages', 'pork roll', 'leeks', 'venison', 'rabbit', 'pastrami', 'chorizo', 'goose', 'chicken parts', 'pheasant', 'watermelon', 'capon', 'duckling', 'blueberries', 'cucumbers', 'red wine', 'canned goods', 'salad dressings', 'croutons', 'breadcrumbs', 'lobster tails', 'squid', 'soy flour', 'cooked pasta', 'dinners', 'pecans', 'casseroles', 'cream pies', 'fruit pies', 'egg salad', 'buckwheat', 'shortening', 'nectar', 'duck fat', 'seasoning blends', 'apricots', 'pomegranate', 'pumpkins', 'cranberries', 'cherimoya', 'citrus fruit', 'kiwi fruit', 'star fruit', 'tapenade', 'bacon grease', 'millet', 'beans and peas', 'radishes', 'rhubarb', 'bok choy', 'jicama', 'turnips', 'melons', 'bean sprouts', 'tempeh', 'marinades', 'capers', 'barbecue sauce', 'apple cider', 'marshmallows', 'tahini', 'seafood salads', 'cinnamon rolls', 'macadamias', 'relish', 'prickly pear', 'celery root', 'honeydew', 'spaghetti sauce', 'canadian bacon', 'sunflower oil', 'bison', 'lemon extract', 'yuzu juice', 'carrot juice', 'macaroons', 'crab legs', 'pork rinds', 'spaghetti squash', 'vegetable juice', 'marinated vegetables', 'pate', 'teff', 'fresh pasta', 'doughnuts', 'ginger root', 'pimento cheese', 'cooking wine', 'radicchio', 'fruit cake', 'rutabagas', 'ham salad', 'kumquats', 'cinnamon extract', 'coconut flavor', 'coffee creamer', 'gelatin', 'nut oils', 'amaranth', 'quark', 'formula', 'soup mixes', 'crab meat'] \n",
      "\n",
      "\n",
      "[[31 13]\n",
      " [ 6 33]]\n",
      "              precision    recall  f1-score   support\n",
      "\n",
      "           1       0.84      0.70      0.77        44\n",
      "           0       0.72      0.85      0.78        39\n",
      "\n",
      "    accuracy                           0.77        83\n",
      "   macro avg       0.78      0.78      0.77        83\n",
      "weighted avg       0.78      0.77      0.77        83\n",
      "\n",
      "Total keywords:  367\n",
      "Total Tweets:  3723\n",
      "List of Keywords:\n",
      "\n",
      " ['cheese', 'chicken', 'milk', 'butter', 'cream', 'fruit', 'rice', 'water', 'garlic', 'bread', 'sugar', 'salt', 'chocolate', 'fish', 'beef', 'yogurt', 'almond milk', 'greens', 'granola', 'nuts', 'chia seeds', 'onions', 'apples', 'peanut butter', 'squash', 'soda', 'flour', 'garlic powder', 'buttermilk', 'potatoes', 'cottage cheese', 'sour cream', 'turkey', 'beans', 'cream cheese', 'bagel', 'pretzels', 'celery', 'white wine', 'margarine', 'whipped cream', 'ice cream', 'pineapple', 'whipped topping', 'plantains', 'veal', 'mustard', 'corned beef', 'rye', 'fried chicken', 'gravy', 'tuna', 'vegetables', 'eggs', 'rotisserie chicken', 'hot dogs', 'crackers', 'dips', 'meats', 'frozen entrees', 'bacon', 'pasta', 'pizza', 'potato chips', 'avocados', 'pork', 'sunflower seeds', 'lentils', 'lean fish', 'cauliflower', 'asparagus', 'almonds', 'cooked fish', 'honey', 'kimchi', 'herbs', 'dates', 'scallops', 'yuzu', 'corn syrup', 'baking soda', 'molasses', 'yeast', 'cornmeal', 'vinegar', 'parsley', 'worcestershire sauce', 'mushrooms', 'broth', 'peppers', 'oats', 'guava', 'coconut', 'cheesecake', 'cinnamon', 'muffin', 'pies', 'tomato sauce', 'pickles', 'goat', 'lamb', 'seafood', 'olives', 'baking powder', 'sesame seeds', 'raspberries', 'cornstarch', 'hot sauce', 'grits', 'chives', 'coconut milk', 'tamarind', 'tomatoes', 'cumin', 'chili powder', 'onion powder', 'black pepper', 'pie crust', 'cooked rice', 'nutmeg', 'peas', 'refried beans', 'bananas', 'okra', 'cabbage', 'syrup', 'juice concentrates', 'basil', 'fruits', 'horseradish', 'lettuce', 'pesto', 'soy milk', 'hoisin sauce', 'sesame oil', 'peanuts', 'ham', 'bacon bits', 'chutney', 'sun dried tomatoes', 'sausage', 'coffee', 'pasta salad', 'cereal', 'grapes', 'cashews', 'tea', 'pudding', 'coconut cream', 'coconut water', 'apple juice', 'fruit cocktail', 'walnuts', 'dough', 'roasted red peppers', 'whole wheat bread', 'thyme', 'mayonnaise', 'oregano', 'leftovers', 'strawberries', 'berries', 'coleslaw', 'cilantro', 'guacamole', 'tomato paste', 'canola oil', 'mung bean', 'lemon juice', 'ghee', 'avocado oil', 'almond oil', 'grapeseed oil', 'spelt', 'lime juice', 'pure vanilla extract', 'butter flavor', 'string cheese', 'salsa', 'puff pastry', 'biscuits', 'orange juice', 'vegetable soup', 'caviar', 'pine nuts', 'coconut oil', 'quail', 'eggnog', 'kefir', 'base', 'meat products', 'cornish hens', 'chicken salad', 'canned chicken', 'tortillas', 'fatty fish', 'miso', 'whole wheat flour', 'cookies', 'quiche', 'tamarind paste', 'sugar substitutes', 'cookie dough', 'bamboo shoots', 'oyster sauce', 'potato salad', 'brussels sprouts', 'cherry tomatoes', 'taro', 'barley', 'aioli', 'salami', 'prosciutto', 'chocolate syrup', 'pectin', 'rice milk', 'coconuts', 'turkey bacon', 'black bean sauce', 'tofu', 'rosemary', 'powdered milk', 'popcorn', 'almond butter', 'cashew butter', 'hummus', 'jerky', 'baby carrots', 'applesauce', 'kohlrabi', 'cantaloupe', 'farro', 'lemongrass', 'almond extract', 'mint', 'zucchini', 'hot peppers', 'swiss chard', 'eggplant', 'cranberry sauce', 'garam masala', 'cheese curds', 'bratwurst', 'bulgur', 'edamame', 'coconut flour', 'kale', 'cherries', 'polenta', 'balsamic vinegar', 'anchovies', 'arugula', 'oils', 'pumpkin seeds', 'flaxseed', 'herring', 'nacho cheese', 'egg dishes', 'quinoa', 'apple cider vinegar', 'ricotta', 'pistachios', 'beets', 'sausages', 'pork roll', 'leeks', 'venison', 'rabbit', 'pastrami', 'chorizo', 'goose', 'chicken parts', 'pheasant', 'watermelon', 'capon', 'duckling', 'blueberries', 'cucumbers', 'red wine', 'canned goods', 'salad dressings', 'croutons', 'breadcrumbs', 'lobster tails', 'squid', 'soy flour', 'cooked pasta', 'dinners', 'pecans', 'casseroles', 'cream pies', 'fruit pies', 'egg salad', 'buckwheat', 'shortening', 'nectar', 'duck fat', 'seasoning blends', 'apricots', 'pomegranate', 'pumpkins', 'cranberries', 'cherimoya', 'citrus fruit', 'kiwi fruit', 'star fruit', 'tapenade', 'bacon grease', 'millet', 'beans and peas', 'radishes', 'rhubarb', 'bok choy', 'jicama', 'turnips', 'melons', 'bean sprouts', 'tempeh', 'marinades', 'capers', 'barbecue sauce', 'apple cider', 'marshmallows', 'tahini', 'seafood salads', 'cinnamon rolls', 'macadamias', 'relish', 'prickly pear', 'celery root', 'honeydew', 'spaghetti sauce', 'canadian bacon', 'sunflower oil', 'bison', 'lemon extract', 'yuzu juice', 'carrot juice', 'macaroons', 'crab legs', 'pork rinds', 'spaghetti squash', 'vegetable juice', 'marinated vegetables', 'pate', 'teff', 'fresh pasta', 'doughnuts', 'ginger root', 'pimento cheese', 'cooking wine', 'radicchio', 'fruit cake', 'rutabagas', 'ham salad', 'kumquats', 'cinnamon extract', 'coconut flavor', 'coffee creamer', 'gelatin', 'nut oils', 'amaranth', 'quark', 'formula', 'soup mixes', 'crab meat', 'salad dressing'] \n",
      "\n",
      "\n",
      "~~~~~~~~~~~~~~~~~9~~~~~~~~~~~~~~~~~\n",
      "Model loaded...\n"
     ]
    },
    {
     "name": "stderr",
     "output_type": "stream",
     "text": [
      " 13%|█▎        | 453/3453 [00:00<00:01, 2272.75it/s]"
     ]
    },
    {
     "name": "stdout",
     "output_type": "stream",
     "text": [
      "Skipping entity\n",
      "Skipping entity\n",
      "Skipping entity\n",
      "Skipping entity\n",
      "Skipping entity\n",
      "Skipping entity\n",
      "Skipping entity\n",
      "Skipping entity\n",
      "Skipping entity\n",
      "Skipping entity\n",
      "Skipping entity\n",
      "Skipping entity\n",
      "Skipping entity\n",
      "Skipping entity\n",
      "Skipping entity\n",
      "Skipping entity\n",
      "Skipping entity\n",
      "Skipping entity\n",
      "Skipping entity\n",
      "Skipping entity\n",
      "Skipping entity\n",
      "Skipping entity\n",
      "Skipping entity\n"
     ]
    },
    {
     "name": "stderr",
     "output_type": "stream",
     "text": [
      " 29%|██▉       | 1010/3453 [00:00<00:00, 2620.26it/s]"
     ]
    },
    {
     "name": "stdout",
     "output_type": "stream",
     "text": [
      "Skipping entity\n",
      "Skipping entity\n",
      "Skipping entity\n",
      "Skipping entity\n",
      "Skipping entity\n",
      "Skipping entity\n",
      "Skipping entity\n",
      "Skipping entity\n",
      "Skipping entity\n",
      "Skipping entity\n",
      "Skipping entity\n",
      "Skipping entity\n",
      "Skipping entity\n",
      "Skipping entity\n",
      "Skipping entity\n",
      "Skipping entity\n",
      "Skipping entity\n",
      "Skipping entity\n",
      "Skipping entity"
     ]
    },
    {
     "name": "stderr",
     "output_type": "stream",
     "text": [
      " 55%|█████▌    | 1903/3453 [00:00<00:00, 2873.26it/s]"
     ]
    },
    {
     "name": "stdout",
     "output_type": "stream",
     "text": [
      "\n",
      "Skipping entity\n",
      "Skipping entity\n",
      "Skipping entity\n",
      "Skipping entity\n",
      "Skipping entity\n",
      "Skipping entity\n",
      "Skipping entity\n",
      "Skipping entity\n",
      "Skipping entity\n",
      "Skipping entity\n",
      "Skipping entity\n",
      "Skipping entity\n",
      "Skipping entity\n",
      "Skipping entity\n",
      "Skipping entity\n",
      "Skipping entity\n"
     ]
    },
    {
     "name": "stderr",
     "output_type": "stream",
     "text": [
      " 73%|███████▎  | 2528/3453 [00:00<00:00, 3005.10it/s]"
     ]
    },
    {
     "name": "stdout",
     "output_type": "stream",
     "text": [
      "Skipping entity\n",
      "Skipping entity\n",
      "Skipping entity\n",
      "Skipping entity\n",
      "Skipping entity\n",
      "Skipping entity\n",
      "Skipping entity\n",
      "Skipping entity\n",
      "Skipping entity\n",
      "Skipping entity\n",
      "Skipping entity\n",
      "Skipping entity\n",
      "Skipping entity\n",
      "Skipping entity\n",
      "Skipping entity\n",
      "Skipping entity\n",
      "Skipping entity\n",
      "Skipping entity\n",
      "Skipping entity\n",
      "Skipping entity\n",
      "Skipping entity"
     ]
    },
    {
     "name": "stderr",
     "output_type": "stream",
     "text": [
      " 91%|█████████ | 3127/3453 [00:01<00:00, 2973.48it/s]"
     ]
    },
    {
     "name": "stdout",
     "output_type": "stream",
     "text": [
      "\n",
      "Skipping entity\n",
      "Skipping entity\n",
      "Skipping entity\n",
      "Skipping entity\n",
      "Skipping entity\n",
      "Skipping entity\n",
      "Skipping entity\n",
      "Skipping entity\n",
      "Skipping entity\n",
      "Skipping entity\n",
      "Skipping entity\n",
      "Skipping entity\n",
      "Skipping entity\n",
      "Skipping entity\n",
      "Skipping entity\n",
      "Skipping entity"
     ]
    },
    {
     "name": "stderr",
     "output_type": "stream",
     "text": [
      "100%|██████████| 3453/3453 [00:01<00:00, 2854.81it/s]\n"
     ]
    },
    {
     "name": "stdout",
     "output_type": "stream",
     "text": [
      "\n",
      "Skipping entity\n",
      "Skipping entity\n",
      "Skipping entity\n",
      "Skipping entity\n",
      "â„¹ Saving to output directory: output\n",
      "â„¹ Using CPU\n",
      "\u001b[1m\n",
      "=========================== Initializing pipeline ===========================\u001b[0m\n",
      "âœ” Initialized pipeline\n",
      "\u001b[1m\n",
      "============================= Training pipeline =============================\u001b[0m\n",
      "â„¹ Pipeline: ['tok2vec', 'ner']\n",
      "â„¹ Initial learn rate: 0.001\n",
      "E    #       LOSS TOK2VEC  LOSS NER  ENTS_F  ENTS_P  ENTS_R  SCORE \n",
      "---  ------  ------------  --------  ------  ------  ------  ------\n",
      "  0       0          0.00     40.83    1.99    9.80    1.11    0.02\n",
      "  0     200         96.62   2764.30   82.44   77.67   87.84    0.82\n",
      "  0     400         85.41   1400.52   88.93   84.90   93.38    0.89\n",
      "  0     600         79.24   1369.87   90.20   85.56   95.38    0.90\n",
      "  0     800         93.07   1538.03   92.41   88.48   96.71    0.92\n",
      "  1    1000         95.05   1487.81   93.42   90.73   96.26    0.93\n",
      "  1    1200        122.67   1741.28   94.56   91.52   97.80    0.95\n",
      "  2    1400        152.19   1838.72   95.58   93.49   97.78    0.96\n",
      "  2    1600        208.79   1832.71   96.91   95.57   98.29    0.97\n",
      "  3    1800        290.25   1745.76   97.44   95.84   99.09    0.97\n",
      "  4    2000        353.24   1710.81   98.37   97.77   98.98    0.98\n",
      "  5    2200        449.97   1630.34   98.98   98.54   99.41    0.99\n",
      "  7    2400        557.44   1502.10   99.34   99.19   99.48    0.99\n",
      "  8    2600        619.40   1215.47   99.52   99.30   99.73    1.00\n",
      " 10    2800        633.44   1097.87   99.57   99.46   99.68    1.00\n",
      " 11    3000        612.72    884.35   99.62   99.51   99.73    1.00\n",
      " 13    3200        702.76    864.01   99.74   99.62   99.86    1.00\n",
      " 14    3400        598.86    768.14   99.67   99.67   99.66    1.00\n",
      " 16    3600        631.54    693.44   99.79   99.71   99.88    1.00\n",
      " 17    3800        590.85    640.11   99.79   99.72   99.86    1.00\n",
      " 19    4000        631.52    589.88   99.75   99.66   99.83    1.00\n",
      " 20    4200        669.05    584.46   99.76   99.65   99.87    1.00\n",
      " 22    4400        704.38    583.88   99.87   99.84   99.91    1.00\n",
      " 23    4600        580.18    457.36   99.83   99.82   99.84    1.00\n",
      " 25    4800        657.92    470.73   99.87   99.88   99.85    1.00\n",
      " 26    5000        737.22    443.86   99.86   99.87   99.86    1.00\n",
      " 28    5200        697.86    480.08   99.86   99.85   99.87    1.00\n",
      " 29    5400        804.80    464.17   99.88   99.90   99.86    1.00\n",
      " 31    5600        621.01    429.81   99.89   99.84   99.94    1.00\n",
      " 32    5800        661.05    404.41   99.90   99.91   99.88    1.00\n",
      " 34    6000        728.11    395.34   99.85   99.84   99.87    1.00\n",
      " 35    6200        787.51    368.13   99.85   99.89   99.80    1.00\n",
      " 37    6400        695.20    331.48   99.89   99.80   99.98    1.00\n",
      " 38    6600        809.77    357.27   99.77   99.61   99.92    1.00\n",
      " 40    6800        846.71    392.75   99.88   99.80   99.97    1.00\n",
      " 41    7000        762.35    345.30   99.89   99.90   99.88    1.00\n",
      " 43    7200        920.87    354.46   99.90   99.92   99.88    1.00\n",
      " 44    7400       1059.37    324.09   99.88   99.92   99.84    1.00\n",
      " 46    7600        836.37    301.62   99.95   99.95   99.95    1.00\n",
      " 47    7800       1116.65    318.50   99.88   99.90   99.87    1.00\n",
      " 49    8000       1208.90    281.34   99.86   99.90   99.82    1.00\n",
      " 50    8200       1022.17    306.14   99.92   99.91   99.94    1.00\n",
      " 51    8400       1124.80    270.33   99.92   99.87   99.97    1.00\n",
      " 53    8600       1233.17    289.27   99.94   99.92   99.95    1.00\n",
      " 54    8800       1125.32    274.71   99.91   99.89   99.94    1.00\n",
      " 56    9000        919.41    263.00   99.90   99.95   99.84    1.00\n",
      " 57    9200       1342.58    262.15   99.92   99.89   99.94    1.00\n",
      "âœ” Saved pipeline to output directory\n",
      "output\\model-last\n",
      "\n",
      "Total keywords:  367\n",
      "List of Keywords:\n",
      "\n",
      " ['cheese', 'chicken', 'milk', 'butter', 'cream', 'fruit', 'rice', 'water', 'garlic', 'bread', 'sugar', 'salt', 'chocolate', 'fish', 'beef', 'yogurt', 'almond milk', 'greens', 'granola', 'nuts', 'chia seeds', 'onions', 'apples', 'peanut butter', 'squash', 'soda', 'flour', 'garlic powder', 'buttermilk', 'potatoes', 'cottage cheese', 'sour cream', 'turkey', 'beans', 'cream cheese', 'bagel', 'pretzels', 'celery', 'white wine', 'margarine', 'whipped cream', 'ice cream', 'pineapple', 'whipped topping', 'plantains', 'veal', 'mustard', 'corned beef', 'rye', 'fried chicken', 'gravy', 'tuna', 'vegetables', 'eggs', 'rotisserie chicken', 'hot dogs', 'crackers', 'dips', 'meats', 'frozen entrees', 'bacon', 'pasta', 'pizza', 'potato chips', 'avocados', 'pork', 'sunflower seeds', 'lentils', 'lean fish', 'cauliflower', 'asparagus', 'almonds', 'cooked fish', 'honey', 'kimchi', 'herbs', 'dates', 'scallops', 'yuzu', 'corn syrup', 'baking soda', 'molasses', 'yeast', 'cornmeal', 'vinegar', 'parsley', 'worcestershire sauce', 'mushrooms', 'broth', 'peppers', 'oats', 'guava', 'coconut', 'cheesecake', 'cinnamon', 'muffin', 'pies', 'tomato sauce', 'pickles', 'goat', 'lamb', 'seafood', 'olives', 'baking powder', 'sesame seeds', 'raspberries', 'cornstarch', 'hot sauce', 'grits', 'chives', 'coconut milk', 'tamarind', 'tomatoes', 'cumin', 'chili powder', 'onion powder', 'black pepper', 'pie crust', 'cooked rice', 'nutmeg', 'peas', 'refried beans', 'bananas', 'okra', 'cabbage', 'syrup', 'juice concentrates', 'basil', 'fruits', 'horseradish', 'lettuce', 'pesto', 'soy milk', 'hoisin sauce', 'sesame oil', 'peanuts', 'ham', 'bacon bits', 'chutney', 'sun dried tomatoes', 'sausage', 'coffee', 'pasta salad', 'cereal', 'grapes', 'cashews', 'tea', 'pudding', 'coconut cream', 'coconut water', 'apple juice', 'fruit cocktail', 'walnuts', 'dough', 'roasted red peppers', 'whole wheat bread', 'thyme', 'mayonnaise', 'oregano', 'leftovers', 'strawberries', 'berries', 'coleslaw', 'cilantro', 'guacamole', 'tomato paste', 'canola oil', 'mung bean', 'lemon juice', 'ghee', 'avocado oil', 'almond oil', 'grapeseed oil', 'spelt', 'lime juice', 'pure vanilla extract', 'butter flavor', 'string cheese', 'salsa', 'puff pastry', 'biscuits', 'orange juice', 'vegetable soup', 'caviar', 'pine nuts', 'coconut oil', 'quail', 'eggnog', 'kefir', 'base', 'meat products', 'cornish hens', 'chicken salad', 'canned chicken', 'tortillas', 'fatty fish', 'miso', 'whole wheat flour', 'cookies', 'quiche', 'tamarind paste', 'sugar substitutes', 'cookie dough', 'bamboo shoots', 'oyster sauce', 'potato salad', 'brussels sprouts', 'cherry tomatoes', 'taro', 'barley', 'aioli', 'salami', 'prosciutto', 'chocolate syrup', 'pectin', 'rice milk', 'coconuts', 'turkey bacon', 'black bean sauce', 'tofu', 'rosemary', 'powdered milk', 'popcorn', 'almond butter', 'cashew butter', 'hummus', 'jerky', 'baby carrots', 'applesauce', 'kohlrabi', 'cantaloupe', 'farro', 'lemongrass', 'almond extract', 'mint', 'zucchini', 'hot peppers', 'swiss chard', 'eggplant', 'cranberry sauce', 'garam masala', 'cheese curds', 'bratwurst', 'bulgur', 'edamame', 'coconut flour', 'kale', 'cherries', 'polenta', 'balsamic vinegar', 'anchovies', 'arugula', 'oils', 'pumpkin seeds', 'flaxseed', 'herring', 'nacho cheese', 'egg dishes', 'quinoa', 'apple cider vinegar', 'ricotta', 'pistachios', 'beets', 'sausages', 'pork roll', 'leeks', 'venison', 'rabbit', 'pastrami', 'chorizo', 'goose', 'chicken parts', 'pheasant', 'watermelon', 'capon', 'duckling', 'blueberries', 'cucumbers', 'red wine', 'canned goods', 'salad dressings', 'croutons', 'breadcrumbs', 'lobster tails', 'squid', 'soy flour', 'cooked pasta', 'dinners', 'pecans', 'casseroles', 'cream pies', 'fruit pies', 'egg salad', 'buckwheat', 'shortening', 'nectar', 'duck fat', 'seasoning blends', 'apricots', 'pomegranate', 'pumpkins', 'cranberries', 'cherimoya', 'citrus fruit', 'kiwi fruit', 'star fruit', 'tapenade', 'bacon grease', 'millet', 'beans and peas', 'radishes', 'rhubarb', 'bok choy', 'jicama', 'turnips', 'melons', 'bean sprouts', 'tempeh', 'marinades', 'capers', 'barbecue sauce', 'apple cider', 'marshmallows', 'tahini', 'seafood salads', 'cinnamon rolls', 'macadamias', 'relish', 'prickly pear', 'celery root', 'honeydew', 'spaghetti sauce', 'canadian bacon', 'sunflower oil', 'bison', 'lemon extract', 'yuzu juice', 'carrot juice', 'macaroons', 'crab legs', 'pork rinds', 'spaghetti squash', 'vegetable juice', 'marinated vegetables', 'pate', 'teff', 'fresh pasta', 'doughnuts', 'ginger root', 'pimento cheese', 'cooking wine', 'radicchio', 'fruit cake', 'rutabagas', 'ham salad', 'kumquats', 'cinnamon extract', 'coconut flavor', 'coffee creamer', 'gelatin', 'nut oils', 'amaranth', 'quark', 'formula', 'soup mixes', 'crab meat', 'salad dressing'] \n",
      "\n",
      "\n",
      "Decreasing entityCheckCount variable by 1\n",
      "entityCheckCount =  2\n",
      "[[33 11]\n",
      " [ 6 33]]\n",
      "              precision    recall  f1-score   support\n",
      "\n",
      "           1       0.85      0.75      0.80        44\n",
      "           0       0.75      0.85      0.80        39\n",
      "\n",
      "    accuracy                           0.80        83\n",
      "   macro avg       0.80      0.80      0.80        83\n",
      "weighted avg       0.80      0.80      0.80        83\n",
      "\n",
      "Total keywords:  367\n",
      "Total Tweets:  3453\n",
      "List of Keywords:\n",
      "\n",
      " ['cheese', 'chicken', 'milk', 'butter', 'cream', 'fruit', 'rice', 'water', 'garlic', 'bread', 'sugar', 'salt', 'chocolate', 'fish', 'beef', 'yogurt', 'almond milk', 'greens', 'granola', 'nuts', 'chia seeds', 'onions', 'apples', 'peanut butter', 'squash', 'soda', 'flour', 'garlic powder', 'buttermilk', 'potatoes', 'cottage cheese', 'sour cream', 'turkey', 'beans', 'cream cheese', 'bagel', 'pretzels', 'celery', 'white wine', 'margarine', 'whipped cream', 'ice cream', 'pineapple', 'whipped topping', 'plantains', 'veal', 'mustard', 'corned beef', 'rye', 'fried chicken', 'gravy', 'tuna', 'vegetables', 'eggs', 'rotisserie chicken', 'hot dogs', 'crackers', 'dips', 'meats', 'frozen entrees', 'bacon', 'pasta', 'pizza', 'potato chips', 'avocados', 'pork', 'sunflower seeds', 'lentils', 'lean fish', 'cauliflower', 'asparagus', 'almonds', 'cooked fish', 'honey', 'kimchi', 'herbs', 'dates', 'scallops', 'yuzu', 'corn syrup', 'baking soda', 'molasses', 'yeast', 'cornmeal', 'vinegar', 'parsley', 'worcestershire sauce', 'mushrooms', 'broth', 'peppers', 'oats', 'guava', 'coconut', 'cheesecake', 'cinnamon', 'muffin', 'pies', 'tomato sauce', 'pickles', 'goat', 'lamb', 'seafood', 'olives', 'baking powder', 'sesame seeds', 'raspberries', 'cornstarch', 'hot sauce', 'grits', 'chives', 'coconut milk', 'tamarind', 'tomatoes', 'cumin', 'chili powder', 'onion powder', 'black pepper', 'pie crust', 'cooked rice', 'nutmeg', 'peas', 'refried beans', 'bananas', 'okra', 'cabbage', 'syrup', 'juice concentrates', 'basil', 'fruits', 'horseradish', 'lettuce', 'pesto', 'soy milk', 'hoisin sauce', 'sesame oil', 'peanuts', 'ham', 'bacon bits', 'chutney', 'sun dried tomatoes', 'sausage', 'coffee', 'pasta salad', 'cereal', 'grapes', 'cashews', 'tea', 'pudding', 'coconut cream', 'coconut water', 'apple juice', 'fruit cocktail', 'walnuts', 'dough', 'roasted red peppers', 'whole wheat bread', 'thyme', 'mayonnaise', 'oregano', 'leftovers', 'strawberries', 'berries', 'coleslaw', 'cilantro', 'guacamole', 'tomato paste', 'canola oil', 'mung bean', 'lemon juice', 'ghee', 'avocado oil', 'almond oil', 'grapeseed oil', 'spelt', 'lime juice', 'pure vanilla extract', 'butter flavor', 'string cheese', 'salsa', 'puff pastry', 'biscuits', 'orange juice', 'vegetable soup', 'caviar', 'pine nuts', 'coconut oil', 'quail', 'eggnog', 'kefir', 'base', 'meat products', 'cornish hens', 'chicken salad', 'canned chicken', 'tortillas', 'fatty fish', 'miso', 'whole wheat flour', 'cookies', 'quiche', 'tamarind paste', 'sugar substitutes', 'cookie dough', 'bamboo shoots', 'oyster sauce', 'potato salad', 'brussels sprouts', 'cherry tomatoes', 'taro', 'barley', 'aioli', 'salami', 'prosciutto', 'chocolate syrup', 'pectin', 'rice milk', 'coconuts', 'turkey bacon', 'black bean sauce', 'tofu', 'rosemary', 'powdered milk', 'popcorn', 'almond butter', 'cashew butter', 'hummus', 'jerky', 'baby carrots', 'applesauce', 'kohlrabi', 'cantaloupe', 'farro', 'lemongrass', 'almond extract', 'mint', 'zucchini', 'hot peppers', 'swiss chard', 'eggplant', 'cranberry sauce', 'garam masala', 'cheese curds', 'bratwurst', 'bulgur', 'edamame', 'coconut flour', 'kale', 'cherries', 'polenta', 'balsamic vinegar', 'anchovies', 'arugula', 'oils', 'pumpkin seeds', 'flaxseed', 'herring', 'nacho cheese', 'egg dishes', 'quinoa', 'apple cider vinegar', 'ricotta', 'pistachios', 'beets', 'sausages', 'pork roll', 'leeks', 'venison', 'rabbit', 'pastrami', 'chorizo', 'goose', 'chicken parts', 'pheasant', 'watermelon', 'capon', 'duckling', 'blueberries', 'cucumbers', 'red wine', 'canned goods', 'salad dressings', 'croutons', 'breadcrumbs', 'lobster tails', 'squid', 'soy flour', 'cooked pasta', 'dinners', 'pecans', 'casseroles', 'cream pies', 'fruit pies', 'egg salad', 'buckwheat', 'shortening', 'nectar', 'duck fat', 'seasoning blends', 'apricots', 'pomegranate', 'pumpkins', 'cranberries', 'cherimoya', 'citrus fruit', 'kiwi fruit', 'star fruit', 'tapenade', 'bacon grease', 'millet', 'beans and peas', 'radishes', 'rhubarb', 'bok choy', 'jicama', 'turnips', 'melons', 'bean sprouts', 'tempeh', 'marinades', 'capers', 'barbecue sauce', 'apple cider', 'marshmallows', 'tahini', 'seafood salads', 'cinnamon rolls', 'macadamias', 'relish', 'prickly pear', 'celery root', 'honeydew', 'spaghetti sauce', 'canadian bacon', 'sunflower oil', 'bison', 'lemon extract', 'yuzu juice', 'carrot juice', 'macaroons', 'crab legs', 'pork rinds', 'spaghetti squash', 'vegetable juice', 'marinated vegetables', 'pate', 'teff', 'fresh pasta', 'doughnuts', 'ginger root', 'pimento cheese', 'cooking wine', 'radicchio', 'fruit cake', 'rutabagas', 'ham salad', 'kumquats', 'cinnamon extract', 'coconut flavor', 'coffee creamer', 'gelatin', 'nut oils', 'amaranth', 'quark', 'formula', 'soup mixes', 'crab meat', 'salad dressing'] \n",
      "\n",
      "\n",
      "~~~~~~~~~~~~~~~~~10~~~~~~~~~~~~~~~~~\n",
      "Model loaded...\n"
     ]
    },
    {
     "name": "stderr",
     "output_type": "stream",
     "text": [
      " 11%|█▏        | 739/6489 [00:00<00:02, 2511.59it/s]"
     ]
    },
    {
     "name": "stdout",
     "output_type": "stream",
     "text": [
      "Skipping entity\n",
      "Skipping entity\n",
      "Skipping entity\n",
      "Skipping entity\n",
      "Skipping entity\n",
      "Skipping entity\n",
      "Skipping entity\n",
      "Skipping entity\n",
      "Skipping entity\n",
      "Skipping entity\n",
      "Skipping entity\n",
      "Skipping entity\n",
      "Skipping entity\n",
      "Skipping entity\n",
      "Skipping entity\n"
     ]
    },
    {
     "name": "stderr",
     "output_type": "stream",
     "text": [
      " 20%|█▉        | 1297/6489 [00:00<00:01, 2684.96it/s]"
     ]
    },
    {
     "name": "stdout",
     "output_type": "stream",
     "text": [
      "Skipping entity\n",
      "Skipping entity\n",
      "Skipping entity\n",
      "Skipping entity\n",
      "Skipping entity\n",
      "Skipping entity\n",
      "Skipping entity\n",
      "Skipping entity\n",
      "Skipping entity\n",
      "Skipping entity\n",
      "Skipping entity\n",
      "Skipping entity\n",
      "Skipping entity\n",
      "Skipping entity\n",
      "Skipping entity\n",
      "Skipping entity\n",
      "Skipping entity\n",
      "Skipping entity\n",
      "Skipping entity\n",
      "Skipping entity\n",
      "Skipping entity\n",
      "Skipping entity\n",
      "Skipping entity\n",
      "Skipping entity\n",
      "Skipping entity\n",
      "Skipping entity"
     ]
    },
    {
     "name": "stderr",
     "output_type": "stream",
     "text": [
      " 34%|███▍      | 2219/6489 [00:00<00:01, 2974.91it/s]"
     ]
    },
    {
     "name": "stdout",
     "output_type": "stream",
     "text": [
      "\n",
      "Skipping entity\n",
      "Skipping entity\n",
      "Skipping entity\n",
      "Skipping entity\n",
      "Skipping entity\n",
      "Skipping entity\n",
      "Skipping entity\n",
      "Skipping entity\n",
      "Skipping entity\n",
      "Skipping entity"
     ]
    },
    {
     "name": "stderr",
     "output_type": "stream",
     "text": [
      " 44%|████▍     | 2839/6489 [00:01<00:01, 3039.15it/s]"
     ]
    },
    {
     "name": "stdout",
     "output_type": "stream",
     "text": [
      "\n",
      "Skipping entity\n",
      "Skipping entity\n",
      "Skipping entity\n",
      "Skipping entity\n",
      "Skipping entity\n",
      "Skipping entity\n",
      "Skipping entity\n",
      "Skipping entity\n",
      "Skipping entity\n",
      "Skipping entity\n",
      "Skipping entity\n",
      "Skipping entity\n",
      "Skipping entity\n",
      "Skipping entity\n",
      "Skipping entity"
     ]
    },
    {
     "name": "stderr",
     "output_type": "stream",
     "text": [
      " 58%|█████▊    | 3789/6489 [00:01<00:00, 3128.48it/s]"
     ]
    },
    {
     "name": "stdout",
     "output_type": "stream",
     "text": [
      "\n",
      "Skipping entity\n",
      "Skipping entity\n",
      "Skipping entity\n",
      "Skipping entity\n",
      "Skipping entity\n",
      "Skipping entity\n",
      "Skipping entity\n",
      "Skipping entity\n",
      "Skipping entity\n",
      "Skipping entity\n",
      "Skipping entity\n",
      "Skipping entity\n",
      "Skipping entity\n",
      "Skipping entity\n",
      "Skipping entity\n",
      "Skipping entity\n",
      "Skipping entity\n",
      "Skipping entity\n",
      "Skipping entity\n",
      "Skipping entity\n",
      "Skipping entity\n",
      "Skipping entity\n",
      "Skipping entity\n",
      "Skipping entity\n",
      "Skipping entity\n",
      "Skipping entity\n",
      "Skipping entity\n",
      "Skipping entity"
     ]
    },
    {
     "name": "stderr",
     "output_type": "stream",
     "text": [
      " 69%|██████▊   | 4449/6489 [00:01<00:00, 3211.30it/s]"
     ]
    },
    {
     "name": "stdout",
     "output_type": "stream",
     "text": [
      "\n",
      "Skipping entity\n",
      "Skipping entity\n",
      "Skipping entity\n",
      "Skipping entity\n",
      "Skipping entity\n",
      "Skipping entity\n",
      "Skipping entity\n",
      "Skipping entity\n",
      "Skipping entity\n",
      "Skipping entity\n",
      "Skipping entity\n",
      "Skipping entity\n",
      "Skipping entity\n",
      "Skipping entity\n"
     ]
    },
    {
     "name": "stderr",
     "output_type": "stream",
     "text": [
      " 83%|████████▎ | 5417/6489 [00:01<00:00, 3201.31it/s]"
     ]
    },
    {
     "name": "stdout",
     "output_type": "stream",
     "text": [
      "Skipping entity\n",
      "Skipping entity\n",
      "Skipping entity\n",
      "Skipping entity\n",
      "Skipping entity\n",
      "Skipping entity\n",
      "Skipping entity\n",
      "Skipping entity\n",
      "Skipping entity\n",
      "Skipping entity\n",
      "Skipping entity\n",
      "Skipping entity\n",
      "Skipping entity\n",
      "Skipping entity"
     ]
    },
    {
     "name": "stderr",
     "output_type": "stream",
     "text": [
      " 99%|█████████▊| 6396/6489 [00:02<00:00, 3230.68it/s]"
     ]
    },
    {
     "name": "stdout",
     "output_type": "stream",
     "text": [
      "\n",
      "Skipping entity\n",
      "Skipping entity\n",
      "Skipping entity\n",
      "Skipping entity\n",
      "Skipping entity\n",
      "Skipping entity\n",
      "Skipping entity\n",
      "Skipping entity\n",
      "Skipping entity\n",
      "Skipping entity\n",
      "Skipping entity\n",
      "Skipping entity\n",
      "Skipping entity\n",
      "Skipping entity\n",
      "Skipping entity\n",
      "Skipping entity\n",
      "Skipping entity\n",
      "Skipping entity\n",
      "Skipping entity\n",
      "Skipping entity\n"
     ]
    },
    {
     "name": "stderr",
     "output_type": "stream",
     "text": [
      "100%|██████████| 6489/6489 [00:02<00:00, 3037.67it/s]\n"
     ]
    },
    {
     "name": "stdout",
     "output_type": "stream",
     "text": [
      "Skipping entity\n",
      "Skipping entity\n",
      "Skipping entity\n",
      "Skipping entity\n",
      "Skipping entity\n",
      "Skipping entity\n",
      "â„¹ Saving to output directory: output\n",
      "â„¹ Using CPU\n",
      "\u001b[1m\n",
      "=========================== Initializing pipeline ===========================\u001b[0m\n",
      "âœ” Initialized pipeline\n",
      "\u001b[1m\n",
      "============================= Training pipeline =============================\u001b[0m\n",
      "â„¹ Pipeline: ['tok2vec', 'ner']\n",
      "â„¹ Initial learn rate: 0.001\n",
      "E    #       LOSS TOK2VEC  LOSS NER  ENTS_F  ENTS_P  ENTS_R  SCORE \n",
      "---  ------  ------------  --------  ------  ------  ------  ------\n",
      "  0       0          0.00     45.83    6.90    7.58    6.33    0.07\n",
      "  0     200         87.92   2583.04   76.22   69.79   83.97    0.76\n",
      "  0     400         68.57   1419.49   85.32   80.55   90.69    0.85\n",
      "  0     600         65.43   1442.13   87.28   83.33   91.61    0.87\n",
      "  0     800         79.75   1608.41   88.85   85.18   92.84    0.89\n",
      "  0    1000         84.69   1713.10   90.53   85.76   95.86    0.91\n",
      "  0    1200        107.99   1980.20   91.53   87.52   95.92    0.92\n",
      "  1    1400        128.66   2160.21   92.62   88.79   96.79    0.93\n",
      "  1    1600        138.28   2445.52   93.24   90.76   95.86    0.93\n",
      "  2    1800        154.92   2867.78   94.20   91.05   97.58    0.94\n",
      "  2    2000        236.65   2824.47   95.28   92.90   97.79    0.95\n",
      "  3    2200        349.54   3192.35   95.79   92.98   98.79    0.96\n",
      "  4    2400        406.56   3159.24   96.98   95.47   98.54    0.97\n",
      "  4    2600        500.01   2764.43   97.39   95.60   99.25    0.97\n",
      "  5    2800        553.70   2385.49   97.96   96.97   98.98    0.98\n",
      "  6    3000        635.82   2220.00   98.34   97.61   99.09    0.98\n",
      "  7    3200        593.45   1886.34   98.57   97.86   99.30    0.99\n",
      "  8    3400        675.20   1732.05   98.86   98.71   99.00    0.99\n",
      "  9    3600        663.15   1647.54   98.66   97.71   99.62    0.99\n",
      "  9    3800        639.09   1475.23   99.18   98.87   99.49    0.99\n",
      " 10    4000        711.95   1333.30   99.34   99.18   99.49    0.99\n",
      " 11    4200        663.83   1223.00   99.41   99.39   99.43    0.99\n",
      " 12    4400        677.99   1161.73   99.41   99.26   99.56    0.99\n",
      " 13    4600        661.13   1150.54   99.48   99.28   99.68    0.99\n",
      " 14    4800        653.86   1057.37   99.50   99.33   99.68    1.00\n",
      " 15    5000        645.54   1002.33   99.61   99.48   99.74    1.00\n",
      " 15    5200        673.37    909.75   99.62   99.47   99.76    1.00\n",
      " 16    5400        680.15    890.59   99.63   99.60   99.66    1.00\n",
      " 17    5600        669.76    777.65   99.72   99.64   99.81    1.00\n",
      " 18    5800        679.34    791.30   99.65   99.68   99.63    1.00\n",
      " 19    6000        638.52    762.10   99.71   99.50   99.93    1.00\n",
      " 20    6200        658.96    732.41   99.73   99.68   99.78    1.00\n",
      " 20    6400        725.09    691.17   99.79   99.83   99.76    1.00\n",
      " 21    6600        703.17    666.56   99.73   99.79   99.67    1.00\n",
      " 22    6800        691.03    732.37   99.71   99.59   99.84    1.00\n",
      " 23    7000        741.85    672.46   99.83   99.80   99.85    1.00\n",
      " 24    7200        735.56    581.11   99.81   99.77   99.86    1.00\n",
      " 25    7400        808.57    590.79   99.77   99.72   99.83    1.00\n",
      " 26    7600        655.90    572.50   99.85   99.84   99.86    1.00\n",
      " 26    7800        830.86    601.38   99.82   99.84   99.80    1.00\n",
      " 27    8000        655.68    531.80   99.88   99.86   99.90    1.00\n",
      " 28    8200        717.92    551.90   99.80   99.78   99.83    1.00\n",
      " 29    8400        705.15    431.77   99.85   99.80   99.89    1.00\n",
      " 30    8600        824.02    493.90   99.81   99.75   99.88    1.00\n",
      " 31    8800        720.15    489.61   99.85   99.78   99.91    1.00\n",
      " 31    9000        792.83    529.66   99.86   99.88   99.83    1.00\n",
      " 32    9200        704.36    451.20   99.87   99.80   99.94    1.00\n",
      " 33    9400        873.25    415.40   99.84   99.81   99.88    1.00\n",
      " 34    9600        977.24    457.37   99.88   99.90   99.87    1.00\n",
      " 35    9800        836.76    440.60   99.80   99.84   99.77    1.00\n",
      " 36   10000        968.12    429.76   99.89   99.88   99.90    1.00\n",
      " 37   10200        766.73    477.18   99.92   99.87   99.96    1.00\n",
      " 37   10400        791.53    411.62   99.92   99.92   99.92    1.00\n",
      " 38   10600        913.04    417.09   99.88   99.86   99.90    1.00\n",
      " 39   10800        791.87    384.11   99.86   99.88   99.85    1.00\n",
      " 40   11000        914.65    407.71   99.91   99.92   99.90    1.00\n",
      " 41   11200        957.29    382.89   99.87   99.83   99.92    1.00\n",
      " 42   11400       1070.82    446.27   99.90   99.86   99.94    1.00\n",
      " 42   11600        886.34    379.06   99.92   99.89   99.95    1.00\n",
      " 43   11800       1294.70    380.31   99.89   99.87   99.90    1.00\n",
      " 44   12000        988.02    366.00   99.93   99.94   99.93    1.00\n",
      " 45   12200       1053.92    398.29   99.89   99.89   99.90    1.00\n",
      " 46   12400       1196.69    395.85   99.91   99.90   99.91    1.00\n",
      " 47   12600       1160.82    335.67   99.86   99.76   99.97    1.00\n",
      " 48   12800       1361.56    379.73   99.88   99.79   99.96    1.00\n",
      " 48   13000       1266.92    391.35   99.91   99.86   99.96    1.00\n",
      " 49   13200       1143.90    312.90   99.91   99.88   99.94    1.00\n",
      " 50   13400       1357.73    339.26   99.89   99.94   99.84    1.00\n",
      " 51   13600       1434.11    332.86   99.93   99.89   99.96    1.00\n",
      "âœ” Saved pipeline to output directory\n",
      "output\\model-last\n",
      "\n",
      "Total keywords:  367\n",
      "List of Keywords:\n",
      "\n",
      " ['cheese', 'chicken', 'milk', 'butter', 'cream', 'fruit', 'rice', 'water', 'garlic', 'bread', 'sugar', 'salt', 'chocolate', 'fish', 'beef', 'yogurt', 'almond milk', 'greens', 'granola', 'nuts', 'chia seeds', 'onions', 'apples', 'peanut butter', 'squash', 'soda', 'flour', 'garlic powder', 'buttermilk', 'potatoes', 'cottage cheese', 'sour cream', 'turkey', 'beans', 'cream cheese', 'bagel', 'pretzels', 'celery', 'white wine', 'margarine', 'whipped cream', 'ice cream', 'pineapple', 'whipped topping', 'plantains', 'veal', 'mustard', 'corned beef', 'rye', 'fried chicken', 'gravy', 'tuna', 'vegetables', 'eggs', 'rotisserie chicken', 'hot dogs', 'crackers', 'dips', 'meats', 'frozen entrees', 'bacon', 'pasta', 'pizza', 'potato chips', 'avocados', 'pork', 'sunflower seeds', 'lentils', 'lean fish', 'cauliflower', 'asparagus', 'almonds', 'cooked fish', 'honey', 'kimchi', 'herbs', 'dates', 'scallops', 'yuzu', 'corn syrup', 'baking soda', 'molasses', 'yeast', 'cornmeal', 'vinegar', 'parsley', 'worcestershire sauce', 'mushrooms', 'broth', 'peppers', 'oats', 'guava', 'coconut', 'cheesecake', 'cinnamon', 'muffin', 'pies', 'tomato sauce', 'pickles', 'goat', 'lamb', 'seafood', 'olives', 'baking powder', 'sesame seeds', 'raspberries', 'cornstarch', 'hot sauce', 'grits', 'chives', 'coconut milk', 'tamarind', 'tomatoes', 'cumin', 'chili powder', 'onion powder', 'black pepper', 'pie crust', 'cooked rice', 'nutmeg', 'peas', 'refried beans', 'bananas', 'okra', 'cabbage', 'syrup', 'juice concentrates', 'basil', 'fruits', 'horseradish', 'lettuce', 'pesto', 'soy milk', 'hoisin sauce', 'sesame oil', 'peanuts', 'ham', 'bacon bits', 'chutney', 'sun dried tomatoes', 'sausage', 'coffee', 'pasta salad', 'cereal', 'grapes', 'cashews', 'tea', 'pudding', 'coconut cream', 'coconut water', 'apple juice', 'fruit cocktail', 'walnuts', 'dough', 'roasted red peppers', 'whole wheat bread', 'thyme', 'mayonnaise', 'oregano', 'leftovers', 'strawberries', 'berries', 'coleslaw', 'cilantro', 'guacamole', 'tomato paste', 'canola oil', 'mung bean', 'lemon juice', 'ghee', 'avocado oil', 'almond oil', 'grapeseed oil', 'spelt', 'lime juice', 'pure vanilla extract', 'butter flavor', 'string cheese', 'salsa', 'puff pastry', 'biscuits', 'orange juice', 'vegetable soup', 'caviar', 'pine nuts', 'coconut oil', 'quail', 'eggnog', 'kefir', 'base', 'meat products', 'cornish hens', 'chicken salad', 'canned chicken', 'tortillas', 'fatty fish', 'miso', 'whole wheat flour', 'cookies', 'quiche', 'tamarind paste', 'sugar substitutes', 'cookie dough', 'bamboo shoots', 'oyster sauce', 'potato salad', 'brussels sprouts', 'cherry tomatoes', 'taro', 'barley', 'aioli', 'salami', 'prosciutto', 'chocolate syrup', 'pectin', 'rice milk', 'coconuts', 'turkey bacon', 'black bean sauce', 'tofu', 'rosemary', 'powdered milk', 'popcorn', 'almond butter', 'cashew butter', 'hummus', 'jerky', 'baby carrots', 'applesauce', 'kohlrabi', 'cantaloupe', 'farro', 'lemongrass', 'almond extract', 'mint', 'zucchini', 'hot peppers', 'swiss chard', 'eggplant', 'cranberry sauce', 'garam masala', 'cheese curds', 'bratwurst', 'bulgur', 'edamame', 'coconut flour', 'kale', 'cherries', 'polenta', 'balsamic vinegar', 'anchovies', 'arugula', 'oils', 'pumpkin seeds', 'flaxseed', 'herring', 'nacho cheese', 'egg dishes', 'quinoa', 'apple cider vinegar', 'ricotta', 'pistachios', 'beets', 'sausages', 'pork roll', 'leeks', 'venison', 'rabbit', 'pastrami', 'chorizo', 'goose', 'chicken parts', 'pheasant', 'watermelon', 'capon', 'duckling', 'blueberries', 'cucumbers', 'red wine', 'canned goods', 'salad dressings', 'croutons', 'breadcrumbs', 'lobster tails', 'squid', 'soy flour', 'cooked pasta', 'dinners', 'pecans', 'casseroles', 'cream pies', 'fruit pies', 'egg salad', 'buckwheat', 'shortening', 'nectar', 'duck fat', 'seasoning blends', 'apricots', 'pomegranate', 'pumpkins', 'cranberries', 'cherimoya', 'citrus fruit', 'kiwi fruit', 'star fruit', 'tapenade', 'bacon grease', 'millet', 'beans and peas', 'radishes', 'rhubarb', 'bok choy', 'jicama', 'turnips', 'melons', 'bean sprouts', 'tempeh', 'marinades', 'capers', 'barbecue sauce', 'apple cider', 'marshmallows', 'tahini', 'seafood salads', 'cinnamon rolls', 'macadamias', 'relish', 'prickly pear', 'celery root', 'honeydew', 'spaghetti sauce', 'canadian bacon', 'sunflower oil', 'bison', 'lemon extract', 'yuzu juice', 'carrot juice', 'macaroons', 'crab legs', 'pork rinds', 'spaghetti squash', 'vegetable juice', 'marinated vegetables', 'pate', 'teff', 'fresh pasta', 'doughnuts', 'ginger root', 'pimento cheese', 'cooking wine', 'radicchio', 'fruit cake', 'rutabagas', 'ham salad', 'kumquats', 'cinnamon extract', 'coconut flavor', 'coffee creamer', 'gelatin', 'nut oils', 'amaranth', 'quark', 'formula', 'soup mixes', 'crab meat', 'salad dressing'] \n",
      "\n",
      "\n",
      "[[33 11]\n",
      " [ 5 34]]\n",
      "              precision    recall  f1-score   support\n",
      "\n",
      "           1       0.87      0.75      0.80        44\n",
      "           0       0.76      0.87      0.81        39\n",
      "\n",
      "    accuracy                           0.81        83\n",
      "   macro avg       0.81      0.81      0.81        83\n",
      "weighted avg       0.82      0.81      0.81        83\n",
      "\n",
      "Total keywords:  374\n",
      "Total Tweets:  6489\n",
      "List of Keywords:\n",
      "\n",
      " ['cheese', 'chicken', 'milk', 'butter', 'cream', 'fruit', 'rice', 'water', 'garlic', 'bread', 'sugar', 'salt', 'chocolate', 'fish', 'beef', 'yogurt', 'almond milk', 'greens', 'granola', 'nuts', 'chia seeds', 'onions', 'apples', 'peanut butter', 'squash', 'soda', 'flour', 'garlic powder', 'buttermilk', 'potatoes', 'cottage cheese', 'sour cream', 'turkey', 'beans', 'cream cheese', 'bagel', 'pretzels', 'celery', 'white wine', 'margarine', 'whipped cream', 'ice cream', 'pineapple', 'whipped topping', 'plantains', 'veal', 'mustard', 'corned beef', 'rye', 'fried chicken', 'gravy', 'tuna', 'vegetables', 'eggs', 'rotisserie chicken', 'hot dogs', 'crackers', 'dips', 'meats', 'frozen entrees', 'bacon', 'pasta', 'pizza', 'potato chips', 'avocados', 'pork', 'sunflower seeds', 'lentils', 'lean fish', 'cauliflower', 'asparagus', 'almonds', 'cooked fish', 'honey', 'kimchi', 'herbs', 'dates', 'scallops', 'yuzu', 'corn syrup', 'baking soda', 'molasses', 'yeast', 'cornmeal', 'vinegar', 'parsley', 'worcestershire sauce', 'mushrooms', 'broth', 'peppers', 'oats', 'guava', 'coconut', 'cheesecake', 'cinnamon', 'muffin', 'pies', 'tomato sauce', 'pickles', 'goat', 'lamb', 'seafood', 'olives', 'baking powder', 'sesame seeds', 'raspberries', 'cornstarch', 'hot sauce', 'grits', 'chives', 'coconut milk', 'tamarind', 'tomatoes', 'cumin', 'chili powder', 'onion powder', 'black pepper', 'pie crust', 'cooked rice', 'nutmeg', 'peas', 'refried beans', 'bananas', 'okra', 'cabbage', 'syrup', 'juice concentrates', 'basil', 'fruits', 'horseradish', 'lettuce', 'pesto', 'soy milk', 'hoisin sauce', 'sesame oil', 'peanuts', 'ham', 'bacon bits', 'chutney', 'sun dried tomatoes', 'sausage', 'coffee', 'pasta salad', 'cereal', 'grapes', 'cashews', 'tea', 'pudding', 'coconut cream', 'coconut water', 'apple juice', 'fruit cocktail', 'walnuts', 'dough', 'roasted red peppers', 'whole wheat bread', 'thyme', 'mayonnaise', 'oregano', 'leftovers', 'strawberries', 'berries', 'coleslaw', 'cilantro', 'guacamole', 'tomato paste', 'canola oil', 'mung bean', 'lemon juice', 'ghee', 'avocado oil', 'almond oil', 'grapeseed oil', 'spelt', 'lime juice', 'pure vanilla extract', 'butter flavor', 'string cheese', 'salsa', 'puff pastry', 'biscuits', 'orange juice', 'vegetable soup', 'caviar', 'pine nuts', 'coconut oil', 'quail', 'eggnog', 'kefir', 'base', 'meat products', 'cornish hens', 'chicken salad', 'canned chicken', 'tortillas', 'fatty fish', 'miso', 'whole wheat flour', 'cookies', 'quiche', 'tamarind paste', 'sugar substitutes', 'cookie dough', 'bamboo shoots', 'oyster sauce', 'potato salad', 'brussels sprouts', 'cherry tomatoes', 'taro', 'barley', 'aioli', 'salami', 'prosciutto', 'chocolate syrup', 'pectin', 'rice milk', 'coconuts', 'turkey bacon', 'black bean sauce', 'tofu', 'rosemary', 'powdered milk', 'popcorn', 'almond butter', 'cashew butter', 'hummus', 'jerky', 'baby carrots', 'applesauce', 'kohlrabi', 'cantaloupe', 'farro', 'lemongrass', 'almond extract', 'mint', 'zucchini', 'hot peppers', 'swiss chard', 'eggplant', 'cranberry sauce', 'garam masala', 'cheese curds', 'bratwurst', 'bulgur', 'edamame', 'coconut flour', 'kale', 'cherries', 'polenta', 'balsamic vinegar', 'anchovies', 'arugula', 'oils', 'pumpkin seeds', 'flaxseed', 'herring', 'nacho cheese', 'egg dishes', 'quinoa', 'apple cider vinegar', 'ricotta', 'pistachios', 'beets', 'sausages', 'pork roll', 'leeks', 'venison', 'rabbit', 'pastrami', 'chorizo', 'goose', 'chicken parts', 'pheasant', 'watermelon', 'capon', 'duckling', 'blueberries', 'cucumbers', 'red wine', 'canned goods', 'salad dressings', 'croutons', 'breadcrumbs', 'lobster tails', 'squid', 'soy flour', 'cooked pasta', 'dinners', 'pecans', 'casseroles', 'cream pies', 'fruit pies', 'egg salad', 'buckwheat', 'shortening', 'nectar', 'duck fat', 'seasoning blends', 'apricots', 'pomegranate', 'pumpkins', 'cranberries', 'cherimoya', 'citrus fruit', 'kiwi fruit', 'star fruit', 'tapenade', 'bacon grease', 'millet', 'beans and peas', 'radishes', 'rhubarb', 'bok choy', 'jicama', 'turnips', 'melons', 'bean sprouts', 'tempeh', 'marinades', 'capers', 'barbecue sauce', 'apple cider', 'marshmallows', 'tahini', 'seafood salads', 'cinnamon rolls', 'macadamias', 'relish', 'prickly pear', 'celery root', 'honeydew', 'spaghetti sauce', 'canadian bacon', 'sunflower oil', 'bison', 'lemon extract', 'yuzu juice', 'carrot juice', 'macaroons', 'crab legs', 'pork rinds', 'spaghetti squash', 'vegetable juice', 'marinated vegetables', 'pate', 'teff', 'fresh pasta', 'doughnuts', 'ginger root', 'pimento cheese', 'cooking wine', 'radicchio', 'fruit cake', 'rutabagas', 'ham salad', 'kumquats', 'cinnamon extract', 'coconut flavor', 'coffee creamer', 'gelatin', 'nut oils', 'amaranth', 'quark', 'formula', 'soup mixes', 'crab meat', 'salad dressing', 'giblets', 'turducken', 'ice pops', 'sauce mixes', 'toaster pastries', 'hard liquors', 'sorghum'] \n",
      "\n",
      "\n",
      "~~~~~~~~~~~~~~~~~11~~~~~~~~~~~~~~~~~\n",
      "Model loaded...\n"
     ]
    },
    {
     "name": "stderr",
     "output_type": "stream",
     "text": [
      " 13%|█▎        | 763/5892 [00:00<00:01, 2568.11it/s]"
     ]
    },
    {
     "name": "stdout",
     "output_type": "stream",
     "text": [
      "Skipping entity\n",
      "Skipping entity\n",
      "Skipping entity\n",
      "Skipping entity\n",
      "Skipping entity\n",
      "Skipping entity\n",
      "Skipping entity\n",
      "Skipping entity\n",
      "Skipping entity\n",
      "Skipping entity\n",
      "Skipping entity\n",
      "Skipping entity\n",
      "Skipping entity\n",
      "Skipping entity\n"
     ]
    },
    {
     "name": "stderr",
     "output_type": "stream",
     "text": [
      " 28%|██▊       | 1666/5892 [00:00<00:01, 2920.90it/s]"
     ]
    },
    {
     "name": "stdout",
     "output_type": "stream",
     "text": [
      "Skipping entity\n",
      "Skipping entity\n",
      "Skipping entity\n",
      "Skipping entity\n",
      "Skipping entity\n",
      "Skipping entity\n",
      "Skipping entity\n",
      "Skipping entity\n",
      "Skipping entity\n",
      "Skipping entity\n",
      "Skipping entity\n",
      "Skipping entity\n",
      "Skipping entity\n",
      "Skipping entity\n",
      "Skipping entity\n",
      "Skipping entity\n",
      "Skipping entity\n",
      "Skipping entity\n"
     ]
    },
    {
     "name": "stderr",
     "output_type": "stream",
     "text": [
      " 45%|████▍     | 2631/5892 [00:00<00:01, 3127.22it/s]"
     ]
    },
    {
     "name": "stdout",
     "output_type": "stream",
     "text": [
      "Skipping entity\n",
      "Skipping entity\n",
      "Skipping entity\n",
      "Skipping entity\n",
      "Skipping entity\n",
      "Skipping entity\n",
      "Skipping entity\n",
      "Skipping entity\n",
      "Skipping entity\n",
      "Skipping entity\n",
      "Skipping entity\n",
      "Skipping entity\n",
      "Skipping entity\n",
      "Skipping entity\n",
      "Skipping entity\n",
      "Skipping entity\n",
      "Skipping entity\n",
      "Skipping entity\n",
      "Skipping entity\n"
     ]
    },
    {
     "name": "stderr",
     "output_type": "stream",
     "text": [
      " 61%|██████▏   | 3621/5892 [00:01<00:00, 3256.40it/s]"
     ]
    },
    {
     "name": "stdout",
     "output_type": "stream",
     "text": [
      "Skipping entity\n",
      "Skipping entity\n",
      "Skipping entity\n",
      "Skipping entity\n",
      "Skipping entity\n",
      "Skipping entity\n",
      "Skipping entity\n",
      "Skipping entity\n",
      "Skipping entity\n",
      "Skipping entity\n",
      "Skipping entity\n",
      "Skipping entity\n",
      "Skipping entity\n",
      "Skipping entity\n",
      "Skipping entity\n",
      "Skipping entity\n",
      "Skipping entity\n",
      "Skipping entity\n",
      "Skipping entity\n",
      "Skipping entity\n",
      "Skipping entity\n",
      "Skipping entity\n",
      "Skipping entity\n"
     ]
    },
    {
     "name": "stderr",
     "output_type": "stream",
     "text": [
      " 79%|███████▊  | 4636/5892 [00:01<00:00, 3332.94it/s]"
     ]
    },
    {
     "name": "stdout",
     "output_type": "stream",
     "text": [
      "Skipping entity\n",
      "Skipping entity\n",
      "Skipping entity\n",
      "Skipping entity\n",
      "Skipping entity\n",
      "Skipping entity\n",
      "Skipping entity\n",
      "Skipping entity\n",
      "Skipping entity\n",
      "Skipping entity\n",
      "Skipping entity\n",
      "Skipping entity\n",
      "Skipping entity\n",
      "Skipping entity\n",
      "Skipping entity\n",
      "Skipping entity\n",
      "Skipping entity\n",
      "Skipping entity\n",
      "Skipping entity\n",
      "Skipping entity\n"
     ]
    },
    {
     "name": "stderr",
     "output_type": "stream",
     "text": [
      " 96%|█████████▌| 5640/5892 [00:01<00:00, 3312.68it/s]"
     ]
    },
    {
     "name": "stdout",
     "output_type": "stream",
     "text": [
      "Skipping entity\n",
      "Skipping entity\n",
      "Skipping entity\n",
      "Skipping entity\n",
      "Skipping entity\n",
      "Skipping entity\n",
      "Skipping entity\n",
      "Skipping entity\n",
      "Skipping entity\n",
      "Skipping entity\n",
      "Skipping entity\n",
      "Skipping entity\n",
      "Skipping entity\n",
      "Skipping entity\n",
      "Skipping entity\n",
      "Skipping entity\n",
      "Skipping entity\n",
      "Skipping entity\n"
     ]
    },
    {
     "name": "stderr",
     "output_type": "stream",
     "text": [
      "100%|██████████| 5892/5892 [00:01<00:00, 3133.85it/s]\n"
     ]
    },
    {
     "name": "stdout",
     "output_type": "stream",
     "text": [
      "Skipping entity\n",
      "Skipping entity\n",
      "Skipping entity\n",
      "Skipping entity\n",
      "Skipping entity\n",
      "Skipping entity\n",
      "Skipping entity\n",
      "â„¹ Saving to output directory: output\n",
      "â„¹ Using CPU\n",
      "\u001b[1m\n",
      "=========================== Initializing pipeline ===========================\u001b[0m\n",
      "âœ” Initialized pipeline\n",
      "\u001b[1m\n",
      "============================= Training pipeline =============================\u001b[0m\n",
      "â„¹ Pipeline: ['tok2vec', 'ner']\n",
      "â„¹ Initial learn rate: 0.001\n",
      "E    #       LOSS TOK2VEC  LOSS NER  ENTS_F  ENTS_P  ENTS_R  SCORE \n",
      "---  ------  ------------  --------  ------  ------  ------  ------\n",
      "  0       0          0.00     29.83    1.50    1.59    1.42    0.02\n",
      "  0     200         96.00   2609.78   79.44   78.27   80.64    0.79\n",
      "  0     400         85.98   1384.89   86.33   81.63   91.59    0.86\n",
      "  0     600         92.11   1315.19   89.28   86.80   91.90    0.89\n",
      "  0     800         72.19   1463.98   89.58   84.44   95.37    0.90\n",
      "  0    1000        108.40   1682.12   91.82   89.20   94.60    0.92\n",
      "  0    1200        113.43   1850.97   92.49   88.06   97.39    0.92\n",
      "  1    1400        124.26   1738.04   93.84   90.59   97.34    0.94\n",
      "  1    1600        153.26   2262.54   94.79   92.28   97.43    0.95\n",
      "  2    1800        184.41   2509.42   95.62   94.21   97.07    0.96\n",
      "  2    2000        264.16   2461.48   96.09   95.08   97.13    0.96\n",
      "  3    2200        373.04   2586.98   97.34   96.32   98.38    0.97\n",
      "  4    2400        482.18   2731.30   97.55   96.15   98.99    0.98\n",
      "  5    2600        543.07   2287.18   98.28   97.55   99.02    0.98\n",
      "  6    2800        535.48   1940.35   98.59   97.88   99.32    0.99\n",
      "  7    3000        568.36   1820.67   98.87   98.35   99.39    0.99\n",
      "  8    3200        893.52   1498.32   98.74   97.81   99.70    0.99\n",
      "  9    3400        672.65   1466.99   99.27   99.19   99.36    0.99\n",
      " 10    3600        620.41   1256.39   99.31   99.18   99.44    0.99\n",
      " 11    3800        632.98   1157.05   99.48   99.31   99.65    0.99\n",
      " 12    4000        688.63   1033.93   99.62   99.50   99.73    1.00\n",
      " 12    4200        681.81   1037.98   99.63   99.56   99.71    1.00\n",
      " 13    4400        659.79    913.53   99.55   99.28   99.82    1.00\n",
      " 14    4600        639.58    810.10   99.67   99.66   99.68    1.00\n",
      " 15    4800        831.80    825.75   99.66   99.56   99.76    1.00\n",
      " 16    5000        703.24    782.86   99.69   99.70   99.68    1.00\n",
      " 17    5200        678.47    741.42   99.70   99.65   99.76    1.00\n",
      " 18    5400        684.10    702.37   99.74   99.75   99.74    1.00\n",
      " 19    5600        666.27    700.99   99.73   99.60   99.86    1.00\n",
      " 20    5800        693.01    645.50   99.73   99.68   99.78    1.00\n",
      " 21    6000        648.95    648.03   99.82   99.83   99.80    1.00\n",
      " 22    6200        598.27    544.07   99.79   99.79   99.79    1.00\n",
      " 23    6400        638.94    606.78   99.68   99.44   99.93    1.00\n",
      " 24    6600        662.06    545.48   99.79   99.70   99.88    1.00\n",
      " 25    6800        703.28    539.75   99.85   99.85   99.84    1.00\n",
      " 26    7000        879.33    546.79   99.85   99.77   99.93    1.00\n",
      " 27    7200        728.48    505.85   99.84   99.84   99.84    1.00\n",
      " 27    7400       1030.84    498.32   99.86   99.82   99.90    1.00\n",
      " 28    7600        575.55    460.75   99.88   99.83   99.93    1.00\n",
      " 29    7800        659.19    440.86   99.90   99.85   99.95    1.00\n",
      " 30    8000        603.12    431.37   99.91   99.89   99.93    1.00\n",
      " 31    8200        945.07    441.82   99.87   99.81   99.92    1.00\n",
      " 32    8400        784.04    403.06   99.87   99.82   99.93    1.00\n",
      " 33    8600        723.39    390.36   99.89   99.92   99.85    1.00\n",
      " 34    8800        739.84    390.08   99.87   99.88   99.86    1.00\n",
      " 35    9000        796.53    407.26   99.88   99.85   99.92    1.00\n",
      " 36    9200        755.16    386.60   99.86   99.86   99.86    1.00\n",
      " 37    9400        898.13    370.66   99.90   99.88   99.92    1.00\n",
      " 38    9600        883.39    372.89   99.85   99.79   99.90    1.00\n",
      "âœ” Saved pipeline to output directory\n",
      "output\\model-last\n",
      "\n",
      "Total keywords:  374\n",
      "List of Keywords:\n",
      "\n",
      " ['cheese', 'chicken', 'milk', 'butter', 'cream', 'fruit', 'rice', 'water', 'garlic', 'bread', 'sugar', 'salt', 'chocolate', 'fish', 'beef', 'yogurt', 'almond milk', 'greens', 'granola', 'nuts', 'chia seeds', 'onions', 'apples', 'peanut butter', 'squash', 'soda', 'flour', 'garlic powder', 'buttermilk', 'potatoes', 'cottage cheese', 'sour cream', 'turkey', 'beans', 'cream cheese', 'bagel', 'pretzels', 'celery', 'white wine', 'margarine', 'whipped cream', 'ice cream', 'pineapple', 'whipped topping', 'plantains', 'veal', 'mustard', 'corned beef', 'rye', 'fried chicken', 'gravy', 'tuna', 'vegetables', 'eggs', 'rotisserie chicken', 'hot dogs', 'crackers', 'dips', 'meats', 'frozen entrees', 'bacon', 'pasta', 'pizza', 'potato chips', 'avocados', 'pork', 'sunflower seeds', 'lentils', 'lean fish', 'cauliflower', 'asparagus', 'almonds', 'cooked fish', 'honey', 'kimchi', 'herbs', 'dates', 'scallops', 'yuzu', 'corn syrup', 'baking soda', 'molasses', 'yeast', 'cornmeal', 'vinegar', 'parsley', 'worcestershire sauce', 'mushrooms', 'broth', 'peppers', 'oats', 'guava', 'coconut', 'cheesecake', 'cinnamon', 'muffin', 'pies', 'tomato sauce', 'pickles', 'goat', 'lamb', 'seafood', 'olives', 'baking powder', 'sesame seeds', 'raspberries', 'cornstarch', 'hot sauce', 'grits', 'chives', 'coconut milk', 'tamarind', 'tomatoes', 'cumin', 'chili powder', 'onion powder', 'black pepper', 'pie crust', 'cooked rice', 'nutmeg', 'peas', 'refried beans', 'bananas', 'okra', 'cabbage', 'syrup', 'juice concentrates', 'basil', 'fruits', 'horseradish', 'lettuce', 'pesto', 'soy milk', 'hoisin sauce', 'sesame oil', 'peanuts', 'ham', 'bacon bits', 'chutney', 'sun dried tomatoes', 'sausage', 'coffee', 'pasta salad', 'cereal', 'grapes', 'cashews', 'tea', 'pudding', 'coconut cream', 'coconut water', 'apple juice', 'fruit cocktail', 'walnuts', 'dough', 'roasted red peppers', 'whole wheat bread', 'thyme', 'mayonnaise', 'oregano', 'leftovers', 'strawberries', 'berries', 'coleslaw', 'cilantro', 'guacamole', 'tomato paste', 'canola oil', 'mung bean', 'lemon juice', 'ghee', 'avocado oil', 'almond oil', 'grapeseed oil', 'spelt', 'lime juice', 'pure vanilla extract', 'butter flavor', 'string cheese', 'salsa', 'puff pastry', 'biscuits', 'orange juice', 'vegetable soup', 'caviar', 'pine nuts', 'coconut oil', 'quail', 'eggnog', 'kefir', 'base', 'meat products', 'cornish hens', 'chicken salad', 'canned chicken', 'tortillas', 'fatty fish', 'miso', 'whole wheat flour', 'cookies', 'quiche', 'tamarind paste', 'sugar substitutes', 'cookie dough', 'bamboo shoots', 'oyster sauce', 'potato salad', 'brussels sprouts', 'cherry tomatoes', 'taro', 'barley', 'aioli', 'salami', 'prosciutto', 'chocolate syrup', 'pectin', 'rice milk', 'coconuts', 'turkey bacon', 'black bean sauce', 'tofu', 'rosemary', 'powdered milk', 'popcorn', 'almond butter', 'cashew butter', 'hummus', 'jerky', 'baby carrots', 'applesauce', 'kohlrabi', 'cantaloupe', 'farro', 'lemongrass', 'almond extract', 'mint', 'zucchini', 'hot peppers', 'swiss chard', 'eggplant', 'cranberry sauce', 'garam masala', 'cheese curds', 'bratwurst', 'bulgur', 'edamame', 'coconut flour', 'kale', 'cherries', 'polenta', 'balsamic vinegar', 'anchovies', 'arugula', 'oils', 'pumpkin seeds', 'flaxseed', 'herring', 'nacho cheese', 'egg dishes', 'quinoa', 'apple cider vinegar', 'ricotta', 'pistachios', 'beets', 'sausages', 'pork roll', 'leeks', 'venison', 'rabbit', 'pastrami', 'chorizo', 'goose', 'chicken parts', 'pheasant', 'watermelon', 'capon', 'duckling', 'blueberries', 'cucumbers', 'red wine', 'canned goods', 'salad dressings', 'croutons', 'breadcrumbs', 'lobster tails', 'squid', 'soy flour', 'cooked pasta', 'dinners', 'pecans', 'casseroles', 'cream pies', 'fruit pies', 'egg salad', 'buckwheat', 'shortening', 'nectar', 'duck fat', 'seasoning blends', 'apricots', 'pomegranate', 'pumpkins', 'cranberries', 'cherimoya', 'citrus fruit', 'kiwi fruit', 'star fruit', 'tapenade', 'bacon grease', 'millet', 'beans and peas', 'radishes', 'rhubarb', 'bok choy', 'jicama', 'turnips', 'melons', 'bean sprouts', 'tempeh', 'marinades', 'capers', 'barbecue sauce', 'apple cider', 'marshmallows', 'tahini', 'seafood salads', 'cinnamon rolls', 'macadamias', 'relish', 'prickly pear', 'celery root', 'honeydew', 'spaghetti sauce', 'canadian bacon', 'sunflower oil', 'bison', 'lemon extract', 'yuzu juice', 'carrot juice', 'macaroons', 'crab legs', 'pork rinds', 'spaghetti squash', 'vegetable juice', 'marinated vegetables', 'pate', 'teff', 'fresh pasta', 'doughnuts', 'ginger root', 'pimento cheese', 'cooking wine', 'radicchio', 'fruit cake', 'rutabagas', 'ham salad', 'kumquats', 'cinnamon extract', 'coconut flavor', 'coffee creamer', 'gelatin', 'nut oils', 'amaranth', 'quark', 'formula', 'soup mixes', 'crab meat', 'salad dressing', 'giblets', 'turducken', 'ice pops', 'sauce mixes', 'toaster pastries', 'hard liquors', 'sorghum'] \n",
      "\n",
      "\n",
      "Decreasing entityCheckCount variable by 1\n",
      "entityCheckCount =  1\n",
      "[[37  7]\n",
      " [ 6 33]]\n",
      "              precision    recall  f1-score   support\n",
      "\n",
      "           1       0.86      0.84      0.85        44\n",
      "           0       0.82      0.85      0.84        39\n",
      "\n",
      "    accuracy                           0.84        83\n",
      "   macro avg       0.84      0.84      0.84        83\n",
      "weighted avg       0.84      0.84      0.84        83\n",
      "\n",
      "Total keywords:  374\n",
      "Total Tweets:  5892\n",
      "List of Keywords:\n",
      "\n",
      " ['cheese', 'chicken', 'milk', 'butter', 'cream', 'fruit', 'rice', 'water', 'garlic', 'bread', 'sugar', 'salt', 'chocolate', 'fish', 'beef', 'yogurt', 'almond milk', 'greens', 'granola', 'nuts', 'chia seeds', 'onions', 'apples', 'peanut butter', 'squash', 'soda', 'flour', 'garlic powder', 'buttermilk', 'potatoes', 'cottage cheese', 'sour cream', 'turkey', 'beans', 'cream cheese', 'bagel', 'pretzels', 'celery', 'white wine', 'margarine', 'whipped cream', 'ice cream', 'pineapple', 'whipped topping', 'plantains', 'veal', 'mustard', 'corned beef', 'rye', 'fried chicken', 'gravy', 'tuna', 'vegetables', 'eggs', 'rotisserie chicken', 'hot dogs', 'crackers', 'dips', 'meats', 'frozen entrees', 'bacon', 'pasta', 'pizza', 'potato chips', 'avocados', 'pork', 'sunflower seeds', 'lentils', 'lean fish', 'cauliflower', 'asparagus', 'almonds', 'cooked fish', 'honey', 'kimchi', 'herbs', 'dates', 'scallops', 'yuzu', 'corn syrup', 'baking soda', 'molasses', 'yeast', 'cornmeal', 'vinegar', 'parsley', 'worcestershire sauce', 'mushrooms', 'broth', 'peppers', 'oats', 'guava', 'coconut', 'cheesecake', 'cinnamon', 'muffin', 'pies', 'tomato sauce', 'pickles', 'goat', 'lamb', 'seafood', 'olives', 'baking powder', 'sesame seeds', 'raspberries', 'cornstarch', 'hot sauce', 'grits', 'chives', 'coconut milk', 'tamarind', 'tomatoes', 'cumin', 'chili powder', 'onion powder', 'black pepper', 'pie crust', 'cooked rice', 'nutmeg', 'peas', 'refried beans', 'bananas', 'okra', 'cabbage', 'syrup', 'juice concentrates', 'basil', 'fruits', 'horseradish', 'lettuce', 'pesto', 'soy milk', 'hoisin sauce', 'sesame oil', 'peanuts', 'ham', 'bacon bits', 'chutney', 'sun dried tomatoes', 'sausage', 'coffee', 'pasta salad', 'cereal', 'grapes', 'cashews', 'tea', 'pudding', 'coconut cream', 'coconut water', 'apple juice', 'fruit cocktail', 'walnuts', 'dough', 'roasted red peppers', 'whole wheat bread', 'thyme', 'mayonnaise', 'oregano', 'leftovers', 'strawberries', 'berries', 'coleslaw', 'cilantro', 'guacamole', 'tomato paste', 'canola oil', 'mung bean', 'lemon juice', 'ghee', 'avocado oil', 'almond oil', 'grapeseed oil', 'spelt', 'lime juice', 'pure vanilla extract', 'butter flavor', 'string cheese', 'salsa', 'puff pastry', 'biscuits', 'orange juice', 'vegetable soup', 'caviar', 'pine nuts', 'coconut oil', 'quail', 'eggnog', 'kefir', 'base', 'meat products', 'cornish hens', 'chicken salad', 'canned chicken', 'tortillas', 'fatty fish', 'miso', 'whole wheat flour', 'cookies', 'quiche', 'tamarind paste', 'sugar substitutes', 'cookie dough', 'bamboo shoots', 'oyster sauce', 'potato salad', 'brussels sprouts', 'cherry tomatoes', 'taro', 'barley', 'aioli', 'salami', 'prosciutto', 'chocolate syrup', 'pectin', 'rice milk', 'coconuts', 'turkey bacon', 'black bean sauce', 'tofu', 'rosemary', 'powdered milk', 'popcorn', 'almond butter', 'cashew butter', 'hummus', 'jerky', 'baby carrots', 'applesauce', 'kohlrabi', 'cantaloupe', 'farro', 'lemongrass', 'almond extract', 'mint', 'zucchini', 'hot peppers', 'swiss chard', 'eggplant', 'cranberry sauce', 'garam masala', 'cheese curds', 'bratwurst', 'bulgur', 'edamame', 'coconut flour', 'kale', 'cherries', 'polenta', 'balsamic vinegar', 'anchovies', 'arugula', 'oils', 'pumpkin seeds', 'flaxseed', 'herring', 'nacho cheese', 'egg dishes', 'quinoa', 'apple cider vinegar', 'ricotta', 'pistachios', 'beets', 'sausages', 'pork roll', 'leeks', 'venison', 'rabbit', 'pastrami', 'chorizo', 'goose', 'chicken parts', 'pheasant', 'watermelon', 'capon', 'duckling', 'blueberries', 'cucumbers', 'red wine', 'canned goods', 'salad dressings', 'croutons', 'breadcrumbs', 'lobster tails', 'squid', 'soy flour', 'cooked pasta', 'dinners', 'pecans', 'casseroles', 'cream pies', 'fruit pies', 'egg salad', 'buckwheat', 'shortening', 'nectar', 'duck fat', 'seasoning blends', 'apricots', 'pomegranate', 'pumpkins', 'cranberries', 'cherimoya', 'citrus fruit', 'kiwi fruit', 'star fruit', 'tapenade', 'bacon grease', 'millet', 'beans and peas', 'radishes', 'rhubarb', 'bok choy', 'jicama', 'turnips', 'melons', 'bean sprouts', 'tempeh', 'marinades', 'capers', 'barbecue sauce', 'apple cider', 'marshmallows', 'tahini', 'seafood salads', 'cinnamon rolls', 'macadamias', 'relish', 'prickly pear', 'celery root', 'honeydew', 'spaghetti sauce', 'canadian bacon', 'sunflower oil', 'bison', 'lemon extract', 'yuzu juice', 'carrot juice', 'macaroons', 'crab legs', 'pork rinds', 'spaghetti squash', 'vegetable juice', 'marinated vegetables', 'pate', 'teff', 'fresh pasta', 'doughnuts', 'ginger root', 'pimento cheese', 'cooking wine', 'radicchio', 'fruit cake', 'rutabagas', 'ham salad', 'kumquats', 'cinnamon extract', 'coconut flavor', 'coffee creamer', 'gelatin', 'nut oils', 'amaranth', 'quark', 'formula', 'soup mixes', 'crab meat', 'salad dressing', 'giblets', 'turducken', 'ice pops', 'sauce mixes', 'toaster pastries', 'hard liquors', 'sorghum'] \n",
      "\n",
      "\n",
      "~~~~~~~~~~~~~~~~~12~~~~~~~~~~~~~~~~~\n",
      "Model loaded...\n"
     ]
    },
    {
     "name": "stderr",
     "output_type": "stream",
     "text": [
      "  4%|▍         | 546/13272 [00:00<00:04, 2755.86it/s]"
     ]
    },
    {
     "name": "stdout",
     "output_type": "stream",
     "text": [
      "Skipping entity\n",
      "Skipping entity\n",
      "Skipping entity\n",
      "Skipping entity\n",
      "Skipping entity\n",
      "Skipping entity\n",
      "Skipping entity\n",
      "Skipping entity\n",
      "Skipping entity\n",
      "Skipping entity\n",
      "Skipping entity\n",
      "Skipping entity\n",
      "Skipping entity\n",
      "Skipping entity\n",
      "Skipping entity\n",
      "Skipping entity\n"
     ]
    },
    {
     "name": "stderr",
     "output_type": "stream",
     "text": [
      " 11%|█         | 1428/13272 [00:00<00:04, 2912.04it/s]"
     ]
    },
    {
     "name": "stdout",
     "output_type": "stream",
     "text": [
      "Skipping entity\n",
      "Skipping entity\n",
      "Skipping entity\n",
      "Skipping entity\n",
      "Skipping entity\n",
      "Skipping entity\n",
      "Skipping entity"
     ]
    },
    {
     "name": "stderr",
     "output_type": "stream",
     "text": [
      " 20%|██        | 2677/13272 [00:00<00:03, 3125.76it/s]"
     ]
    },
    {
     "name": "stdout",
     "output_type": "stream",
     "text": [
      "\n",
      "Skipping entity\n",
      "Skipping entity\n",
      "Skipping entity\n",
      "Skipping entity\n",
      "Skipping entity\n",
      "Skipping entity\n",
      "Skipping entity\n",
      "Skipping entity\n",
      "Skipping entity\n",
      "Skipping entity\n",
      "Skipping entity\n",
      "Skipping entity\n",
      "Skipping entity\n",
      "Skipping entity\n",
      "Skipping entity\n",
      "Skipping entity\n"
     ]
    },
    {
     "name": "stderr",
     "output_type": "stream",
     "text": [
      " 28%|██▊       | 3650/13272 [00:01<00:02, 3212.47it/s]"
     ]
    },
    {
     "name": "stdout",
     "output_type": "stream",
     "text": [
      "Skipping entity\n",
      "Skipping entity\n",
      "Skipping entity\n",
      "Skipping entity\n",
      "Skipping entity\n",
      "Skipping entity\n",
      "Skipping entity\n",
      "Skipping entity\n",
      "Skipping entity\n",
      "Skipping entity\n",
      "Skipping entity\n",
      "Skipping entity\n",
      "Skipping entity\n",
      "Skipping entity\n",
      "Skipping entity\n",
      "Skipping entity\n",
      "Skipping entity\n",
      "Skipping entity"
     ]
    },
    {
     "name": "stderr",
     "output_type": "stream",
     "text": [
      " 33%|███▎      | 4320/13272 [00:01<00:02, 3283.40it/s]"
     ]
    },
    {
     "name": "stdout",
     "output_type": "stream",
     "text": [
      "\n",
      "Skipping entity\n",
      "Skipping entity\n",
      "Skipping entity\n",
      "Skipping entity\n",
      "Skipping entity\n",
      "Skipping entity\n",
      "Skipping entity\n",
      "Skipping entity"
     ]
    },
    {
     "name": "stderr",
     "output_type": "stream",
     "text": [
      " 38%|███▊      | 4983/13272 [00:01<00:02, 3298.55it/s]"
     ]
    },
    {
     "name": "stdout",
     "output_type": "stream",
     "text": [
      "\n",
      "Skipping entity\n",
      "Skipping entity\n",
      "Skipping entity\n",
      "Skipping entity\n",
      "Skipping entity\n",
      "Skipping entity\n",
      "Skipping entity\n",
      "Skipping entity\n",
      "Skipping entity\n"
     ]
    },
    {
     "name": "stderr",
     "output_type": "stream",
     "text": [
      " 48%|████▊     | 6355/13272 [00:02<00:02, 3391.15it/s]"
     ]
    },
    {
     "name": "stdout",
     "output_type": "stream",
     "text": [
      "Skipping entity\n",
      "Skipping entity\n",
      "Skipping entity\n",
      "Skipping entity\n",
      "Skipping entity\n",
      "Skipping entity\n",
      "Skipping entity\n",
      "Skipping entity\n",
      "Skipping entity\n",
      "Skipping entity\n",
      "Skipping entity\n",
      "Skipping entity\n",
      "Skipping entity\n",
      "Skipping entity\n",
      "Skipping entity\n"
     ]
    },
    {
     "name": "stderr",
     "output_type": "stream",
     "text": [
      " 56%|█████▌    | 7433/13272 [00:02<00:01, 3521.99it/s]"
     ]
    },
    {
     "name": "stdout",
     "output_type": "stream",
     "text": [
      "Skipping entity\n",
      "Skipping entity\n",
      "Skipping entity\n",
      "Skipping entity\n",
      "Skipping entity\n",
      "Skipping entity\n",
      "Skipping entity\n",
      "Skipping entity\n",
      "Skipping entity\n",
      "Skipping entity\n",
      "Skipping entity\n",
      "Skipping entity\n",
      "Skipping entity\n",
      "Skipping entity\n",
      "Skipping entity\n",
      "Skipping entity\n",
      "Skipping entity\n",
      "Skipping entity\n"
     ]
    },
    {
     "name": "stderr",
     "output_type": "stream",
     "text": [
      " 64%|██████▍   | 8530/13272 [00:02<00:01, 3614.85it/s]"
     ]
    },
    {
     "name": "stdout",
     "output_type": "stream",
     "text": [
      "Skipping entity\n",
      "Skipping entity\n",
      "Skipping entity\n",
      "Skipping entity\n",
      "Skipping entity\n",
      "Skipping entity\n",
      "Skipping entity\n",
      "Skipping entity\n",
      "Skipping entity\n",
      "Skipping entity\n",
      "Skipping entity\n",
      "Skipping entity\n",
      "Skipping entity\n",
      "Skipping entity\n",
      "Skipping entity\n",
      "Skipping entity\n",
      "Skipping entity\n"
     ]
    },
    {
     "name": "stderr",
     "output_type": "stream",
     "text": [
      " 70%|██████▉   | 9263/13272 [00:02<00:01, 3608.77it/s]"
     ]
    },
    {
     "name": "stdout",
     "output_type": "stream",
     "text": [
      "Skipping entity\n",
      "Skipping entity\n",
      "Skipping entity\n",
      "Skipping entity\n",
      "Skipping entity\n",
      "Skipping entity\n",
      "Skipping entity\n",
      "Skipping entity\n",
      "Skipping entity\n",
      "Skipping entity\n",
      "Skipping entity\n",
      "Skipping entity\n",
      "Skipping entity\n"
     ]
    },
    {
     "name": "stderr",
     "output_type": "stream",
     "text": [
      " 78%|███████▊  | 10344/13272 [00:03<00:00, 3542.38it/s]"
     ]
    },
    {
     "name": "stdout",
     "output_type": "stream",
     "text": [
      "Skipping entity\n",
      "Skipping entity\n",
      "Skipping entity\n",
      "Skipping entity\n",
      "Skipping entity\n",
      "Skipping entity\n",
      "Skipping entity\n",
      "Skipping entity\n",
      "Skipping entity\n",
      "Skipping entity\n",
      "Skipping entity\n",
      "Skipping entity\n",
      "Skipping entity\n",
      "Skipping entity\n",
      "Skipping entity\n",
      "Skipping entity\n",
      "Skipping entity\n",
      "Skipping entity"
     ]
    },
    {
     "name": "stderr",
     "output_type": "stream",
     "text": [
      " 86%|████████▌ | 11408/13272 [00:03<00:00, 3473.83it/s]"
     ]
    },
    {
     "name": "stdout",
     "output_type": "stream",
     "text": [
      "\n",
      "Skipping entity\n",
      "Skipping entity\n",
      "Skipping entity\n",
      "Skipping entity\n",
      "Skipping entity\n",
      "Skipping entity\n",
      "Skipping entity\n",
      "Skipping entity\n",
      "Skipping entity\n",
      "Skipping entity\n",
      "Skipping entity\n",
      "Skipping entity\n"
     ]
    },
    {
     "name": "stderr",
     "output_type": "stream",
     "text": [
      " 91%|█████████▏| 12129/13272 [00:03<00:00, 3532.55it/s]"
     ]
    },
    {
     "name": "stdout",
     "output_type": "stream",
     "text": [
      "Skipping entity\n",
      "Skipping entity\n",
      "Skipping entity\n",
      "Skipping entity\n",
      "Skipping entity\n",
      "Skipping entity\n",
      "Skipping entity\n",
      "Skipping entity\n",
      "Skipping entity\n",
      "Skipping entity\n",
      "Skipping entity\n",
      "Skipping entity\n",
      "Skipping entity"
     ]
    },
    {
     "name": "stderr",
     "output_type": "stream",
     "text": [
      " 97%|█████████▋| 12832/13272 [00:03<00:00, 3483.54it/s]"
     ]
    },
    {
     "name": "stdout",
     "output_type": "stream",
     "text": [
      "\n",
      "Skipping entity\n",
      "Skipping entity\n",
      "Skipping entity\n",
      "Skipping entity\n",
      "Skipping entity\n",
      "Skipping entity\n",
      "Skipping entity\n",
      "Skipping entity\n",
      "Skipping entity\n",
      "Skipping entity\n",
      "Skipping entity\n",
      "Skipping entity\n",
      "Skipping entity\n",
      "Skipping entity"
     ]
    },
    {
     "name": "stderr",
     "output_type": "stream",
     "text": [
      "100%|██████████| 13272/13272 [00:03<00:00, 3354.99it/s]\n"
     ]
    },
    {
     "name": "stdout",
     "output_type": "stream",
     "text": [
      "\n",
      "Skipping entity\n",
      "Skipping entity\n",
      "Skipping entity\n",
      "Skipping entity\n",
      "â„¹ Saving to output directory: output\n",
      "â„¹ Using CPU\n",
      "\u001b[1m\n",
      "=========================== Initializing pipeline ===========================\u001b[0m\n",
      "âœ” Initialized pipeline\n",
      "\u001b[1m\n",
      "============================= Training pipeline =============================\u001b[0m\n",
      "â„¹ Pipeline: ['tok2vec', 'ner']\n",
      "â„¹ Initial learn rate: 0.001\n",
      "E    #       LOSS TOK2VEC  LOSS NER  ENTS_F  ENTS_P  ENTS_R  SCORE \n",
      "---  ------  ------------  --------  ------  ------  ------  ------\n",
      "  0       0          0.00     44.50    1.24    3.69    0.74    0.01\n",
      "  0     200         73.16   2425.38   73.78   79.06   69.16    0.74\n",
      "  0     400         81.97   1408.20   84.96   81.53   88.70    0.85\n",
      "  0     600         74.47   1291.34   83.24   78.59   88.47    0.83\n",
      "  0     800         79.71   1412.25   88.13   83.26   93.60    0.88\n",
      "  0    1000         75.62   1433.62   90.50   86.01   95.49    0.90\n",
      "  0    1200        101.98   1688.45   90.70   85.86   96.13    0.91\n",
      "  0    1400         94.95   1947.27   91.85   87.94   96.13    0.92\n",
      "  0    1600        107.66   2249.66   92.31   87.80   97.31    0.92\n",
      "  1    1800        129.68   2495.97   93.14   88.91   97.79    0.93\n",
      "  1    2000        179.81   2806.14   93.24   90.78   95.84    0.93\n",
      "  1    2200        203.25   3452.19   94.13   90.95   97.53    0.94\n",
      "  2    2400        310.91   3620.43   94.68   91.76   97.79    0.95\n",
      "  2    2600        336.49   3625.01   95.18   92.99   97.46    0.95\n",
      "  3    2800        344.46   3256.38   95.69   93.29   98.22    0.96\n",
      "  3    3000        431.22   3147.06   96.02   93.55   98.62    0.96\n",
      "  4    3200        392.25   2773.95   96.44   95.89   96.99    0.96\n",
      "  4    3400        469.40   2731.24   96.66   94.85   98.53    0.97\n",
      "  5    3600        579.79   2519.03   97.12   96.00   98.27    0.97\n",
      "  5    3800        561.91   2380.00   97.20   96.55   97.85    0.97\n",
      "  6    4000        776.42   2343.05   97.51   96.39   98.65    0.98\n",
      "  6    4200        530.38   2013.03   97.52   96.12   98.97    0.98\n",
      "  7    4400        551.53   2167.69   97.81   96.49   99.16    0.98\n",
      "  7    4600        598.92   1828.84   98.04   97.52   98.56    0.98\n",
      "  8    4800        621.50   1945.36   98.33   98.03   98.63    0.98\n",
      "  8    5000        662.75   1594.02   98.32   97.49   99.16    0.98\n",
      "  8    5200        594.82   1785.18   98.45   97.52   99.41    0.98\n",
      "  9    5400        631.69   1459.44   98.55   97.94   99.17    0.99\n",
      "  9    5600        653.50   1629.38   98.73   98.36   99.11    0.99\n",
      " 10    5800        640.06   1360.53   98.85   98.38   99.32    0.99\n",
      " 10    6000        695.40   1444.30   98.74   97.99   99.50    0.99\n",
      " 11    6200        686.82   1263.54   98.90   98.92   98.89    0.99\n",
      " 11    6400        740.99   1352.34   99.05   98.61   99.49    0.99\n",
      " 12    6600        698.56   1151.64   98.77   97.98   99.58    0.99\n",
      " 12    6800        767.87   1307.61   99.13   98.60   99.67    0.99\n",
      " 13    7000        738.82   1152.29   98.92   98.30   99.55    0.99\n",
      " 13    7200        712.79   1184.37   99.26   99.19   99.32    0.99\n",
      " 14    7400        726.62   1114.87   99.31   99.41   99.21    0.99\n",
      " 14    7600        736.62   1035.31   99.23   98.82   99.64    0.99\n",
      "âš  Aborting and saving the final best model. Encountered exception:\n",
      "PermissionError(13, 'Permission denied')\n",
      "\n",
      "Total keywords:  374\n",
      "List of Keywords:\n",
      "\n",
      " ['cheese', 'chicken', 'milk', 'butter', 'cream', 'fruit', 'rice', 'water', 'garlic', 'bread', 'sugar', 'salt', 'chocolate', 'fish', 'beef', 'yogurt', 'almond milk', 'greens', 'granola', 'nuts', 'chia seeds', 'onions', 'apples', 'peanut butter', 'squash', 'soda', 'flour', 'garlic powder', 'buttermilk', 'potatoes', 'cottage cheese', 'sour cream', 'turkey', 'beans', 'cream cheese', 'bagel', 'pretzels', 'celery', 'white wine', 'margarine', 'whipped cream', 'ice cream', 'pineapple', 'whipped topping', 'plantains', 'veal', 'mustard', 'corned beef', 'rye', 'fried chicken', 'gravy', 'tuna', 'vegetables', 'eggs', 'rotisserie chicken', 'hot dogs', 'crackers', 'dips', 'meats', 'frozen entrees', 'bacon', 'pasta', 'pizza', 'potato chips', 'avocados', 'pork', 'sunflower seeds', 'lentils', 'lean fish', 'cauliflower', 'asparagus', 'almonds', 'cooked fish', 'honey', 'kimchi', 'herbs', 'dates', 'scallops', 'yuzu', 'corn syrup', 'baking soda', 'molasses', 'yeast', 'cornmeal', 'vinegar', 'parsley', 'worcestershire sauce', 'mushrooms', 'broth', 'peppers', 'oats', 'guava', 'coconut', 'cheesecake', 'cinnamon', 'muffin', 'pies', 'tomato sauce', 'pickles', 'goat', 'lamb', 'seafood', 'olives', 'baking powder', 'sesame seeds', 'raspberries', 'cornstarch', 'hot sauce', 'grits', 'chives', 'coconut milk', 'tamarind', 'tomatoes', 'cumin', 'chili powder', 'onion powder', 'black pepper', 'pie crust', 'cooked rice', 'nutmeg', 'peas', 'refried beans', 'bananas', 'okra', 'cabbage', 'syrup', 'juice concentrates', 'basil', 'fruits', 'horseradish', 'lettuce', 'pesto', 'soy milk', 'hoisin sauce', 'sesame oil', 'peanuts', 'ham', 'bacon bits', 'chutney', 'sun dried tomatoes', 'sausage', 'coffee', 'pasta salad', 'cereal', 'grapes', 'cashews', 'tea', 'pudding', 'coconut cream', 'coconut water', 'apple juice', 'fruit cocktail', 'walnuts', 'dough', 'roasted red peppers', 'whole wheat bread', 'thyme', 'mayonnaise', 'oregano', 'leftovers', 'strawberries', 'berries', 'coleslaw', 'cilantro', 'guacamole', 'tomato paste', 'canola oil', 'mung bean', 'lemon juice', 'ghee', 'avocado oil', 'almond oil', 'grapeseed oil', 'spelt', 'lime juice', 'pure vanilla extract', 'butter flavor', 'string cheese', 'salsa', 'puff pastry', 'biscuits', 'orange juice', 'vegetable soup', 'caviar', 'pine nuts', 'coconut oil', 'quail', 'eggnog', 'kefir', 'base', 'meat products', 'cornish hens', 'chicken salad', 'canned chicken', 'tortillas', 'fatty fish', 'miso', 'whole wheat flour', 'cookies', 'quiche', 'tamarind paste', 'sugar substitutes', 'cookie dough', 'bamboo shoots', 'oyster sauce', 'potato salad', 'brussels sprouts', 'cherry tomatoes', 'taro', 'barley', 'aioli', 'salami', 'prosciutto', 'chocolate syrup', 'pectin', 'rice milk', 'coconuts', 'turkey bacon', 'black bean sauce', 'tofu', 'rosemary', 'powdered milk', 'popcorn', 'almond butter', 'cashew butter', 'hummus', 'jerky', 'baby carrots', 'applesauce', 'kohlrabi', 'cantaloupe', 'farro', 'lemongrass', 'almond extract', 'mint', 'zucchini', 'hot peppers', 'swiss chard', 'eggplant', 'cranberry sauce', 'garam masala', 'cheese curds', 'bratwurst', 'bulgur', 'edamame', 'coconut flour', 'kale', 'cherries', 'polenta', 'balsamic vinegar', 'anchovies', 'arugula', 'oils', 'pumpkin seeds', 'flaxseed', 'herring', 'nacho cheese', 'egg dishes', 'quinoa', 'apple cider vinegar', 'ricotta', 'pistachios', 'beets', 'sausages', 'pork roll', 'leeks', 'venison', 'rabbit', 'pastrami', 'chorizo', 'goose', 'chicken parts', 'pheasant', 'watermelon', 'capon', 'duckling', 'blueberries', 'cucumbers', 'red wine', 'canned goods', 'salad dressings', 'croutons', 'breadcrumbs', 'lobster tails', 'squid', 'soy flour', 'cooked pasta', 'dinners', 'pecans', 'casseroles', 'cream pies', 'fruit pies', 'egg salad', 'buckwheat', 'shortening', 'nectar', 'duck fat', 'seasoning blends', 'apricots', 'pomegranate', 'pumpkins', 'cranberries', 'cherimoya', 'citrus fruit', 'kiwi fruit', 'star fruit', 'tapenade', 'bacon grease', 'millet', 'beans and peas', 'radishes', 'rhubarb', 'bok choy', 'jicama', 'turnips', 'melons', 'bean sprouts', 'tempeh', 'marinades', 'capers', 'barbecue sauce', 'apple cider', 'marshmallows', 'tahini', 'seafood salads', 'cinnamon rolls', 'macadamias', 'relish', 'prickly pear', 'celery root', 'honeydew', 'spaghetti sauce', 'canadian bacon', 'sunflower oil', 'bison', 'lemon extract', 'yuzu juice', 'carrot juice', 'macaroons', 'crab legs', 'pork rinds', 'spaghetti squash', 'vegetable juice', 'marinated vegetables', 'pate', 'teff', 'fresh pasta', 'doughnuts', 'ginger root', 'pimento cheese', 'cooking wine', 'radicchio', 'fruit cake', 'rutabagas', 'ham salad', 'kumquats', 'cinnamon extract', 'coconut flavor', 'coffee creamer', 'gelatin', 'nut oils', 'amaranth', 'quark', 'formula', 'soup mixes', 'crab meat', 'salad dressing', 'giblets', 'turducken', 'ice pops', 'sauce mixes', 'toaster pastries', 'hard liquors', 'sorghum'] \n",
      "\n",
      "\n",
      "[[36  8]\n",
      " [ 2 37]]\n",
      "              precision    recall  f1-score   support\n",
      "\n",
      "           1       0.95      0.82      0.88        44\n",
      "           0       0.82      0.95      0.88        39\n",
      "\n",
      "    accuracy                           0.88        83\n",
      "   macro avg       0.88      0.88      0.88        83\n",
      "weighted avg       0.89      0.88      0.88        83\n",
      "\n",
      "Total keywords:  382\n",
      "Total Tweets:  13272\n",
      "List of Keywords:\n",
      "\n",
      " ['cheese', 'chicken', 'milk', 'butter', 'cream', 'fruit', 'rice', 'water', 'garlic', 'bread', 'sugar', 'salt', 'chocolate', 'fish', 'beef', 'yogurt', 'almond milk', 'greens', 'granola', 'nuts', 'chia seeds', 'onions', 'apples', 'peanut butter', 'squash', 'soda', 'flour', 'garlic powder', 'buttermilk', 'potatoes', 'cottage cheese', 'sour cream', 'turkey', 'beans', 'cream cheese', 'bagel', 'pretzels', 'celery', 'white wine', 'margarine', 'whipped cream', 'ice cream', 'pineapple', 'whipped topping', 'plantains', 'veal', 'mustard', 'corned beef', 'rye', 'fried chicken', 'gravy', 'tuna', 'vegetables', 'eggs', 'rotisserie chicken', 'hot dogs', 'crackers', 'dips', 'meats', 'frozen entrees', 'bacon', 'pasta', 'pizza', 'potato chips', 'avocados', 'pork', 'sunflower seeds', 'lentils', 'lean fish', 'cauliflower', 'asparagus', 'almonds', 'cooked fish', 'honey', 'kimchi', 'herbs', 'dates', 'scallops', 'yuzu', 'corn syrup', 'baking soda', 'molasses', 'yeast', 'cornmeal', 'vinegar', 'parsley', 'worcestershire sauce', 'mushrooms', 'broth', 'peppers', 'oats', 'guava', 'coconut', 'cheesecake', 'cinnamon', 'muffin', 'pies', 'tomato sauce', 'pickles', 'goat', 'lamb', 'seafood', 'olives', 'baking powder', 'sesame seeds', 'raspberries', 'cornstarch', 'hot sauce', 'grits', 'chives', 'coconut milk', 'tamarind', 'tomatoes', 'cumin', 'chili powder', 'onion powder', 'black pepper', 'pie crust', 'cooked rice', 'nutmeg', 'peas', 'refried beans', 'bananas', 'okra', 'cabbage', 'syrup', 'juice concentrates', 'basil', 'fruits', 'horseradish', 'lettuce', 'pesto', 'soy milk', 'hoisin sauce', 'sesame oil', 'peanuts', 'ham', 'bacon bits', 'chutney', 'sun dried tomatoes', 'sausage', 'coffee', 'pasta salad', 'cereal', 'grapes', 'cashews', 'tea', 'pudding', 'coconut cream', 'coconut water', 'apple juice', 'fruit cocktail', 'walnuts', 'dough', 'roasted red peppers', 'whole wheat bread', 'thyme', 'mayonnaise', 'oregano', 'leftovers', 'strawberries', 'berries', 'coleslaw', 'cilantro', 'guacamole', 'tomato paste', 'canola oil', 'mung bean', 'lemon juice', 'ghee', 'avocado oil', 'almond oil', 'grapeseed oil', 'spelt', 'lime juice', 'pure vanilla extract', 'butter flavor', 'string cheese', 'salsa', 'puff pastry', 'biscuits', 'orange juice', 'vegetable soup', 'caviar', 'pine nuts', 'coconut oil', 'quail', 'eggnog', 'kefir', 'base', 'meat products', 'cornish hens', 'chicken salad', 'canned chicken', 'tortillas', 'fatty fish', 'miso', 'whole wheat flour', 'cookies', 'quiche', 'tamarind paste', 'sugar substitutes', 'cookie dough', 'bamboo shoots', 'oyster sauce', 'potato salad', 'brussels sprouts', 'cherry tomatoes', 'taro', 'barley', 'aioli', 'salami', 'prosciutto', 'chocolate syrup', 'pectin', 'rice milk', 'coconuts', 'turkey bacon', 'black bean sauce', 'tofu', 'rosemary', 'powdered milk', 'popcorn', 'almond butter', 'cashew butter', 'hummus', 'jerky', 'baby carrots', 'applesauce', 'kohlrabi', 'cantaloupe', 'farro', 'lemongrass', 'almond extract', 'mint', 'zucchini', 'hot peppers', 'swiss chard', 'eggplant', 'cranberry sauce', 'garam masala', 'cheese curds', 'bratwurst', 'bulgur', 'edamame', 'coconut flour', 'kale', 'cherries', 'polenta', 'balsamic vinegar', 'anchovies', 'arugula', 'oils', 'pumpkin seeds', 'flaxseed', 'herring', 'nacho cheese', 'egg dishes', 'quinoa', 'apple cider vinegar', 'ricotta', 'pistachios', 'beets', 'sausages', 'pork roll', 'leeks', 'venison', 'rabbit', 'pastrami', 'chorizo', 'goose', 'chicken parts', 'pheasant', 'watermelon', 'capon', 'duckling', 'blueberries', 'cucumbers', 'red wine', 'canned goods', 'salad dressings', 'croutons', 'breadcrumbs', 'lobster tails', 'squid', 'soy flour', 'cooked pasta', 'dinners', 'pecans', 'casseroles', 'cream pies', 'fruit pies', 'egg salad', 'buckwheat', 'shortening', 'nectar', 'duck fat', 'seasoning blends', 'apricots', 'pomegranate', 'pumpkins', 'cranberries', 'cherimoya', 'citrus fruit', 'kiwi fruit', 'star fruit', 'tapenade', 'bacon grease', 'millet', 'beans and peas', 'radishes', 'rhubarb', 'bok choy', 'jicama', 'turnips', 'melons', 'bean sprouts', 'tempeh', 'marinades', 'capers', 'barbecue sauce', 'apple cider', 'marshmallows', 'tahini', 'seafood salads', 'cinnamon rolls', 'macadamias', 'relish', 'prickly pear', 'celery root', 'honeydew', 'spaghetti sauce', 'canadian bacon', 'sunflower oil', 'bison', 'lemon extract', 'yuzu juice', 'carrot juice', 'macaroons', 'crab legs', 'pork rinds', 'spaghetti squash', 'vegetable juice', 'marinated vegetables', 'pate', 'teff', 'fresh pasta', 'doughnuts', 'ginger root', 'pimento cheese', 'cooking wine', 'radicchio', 'fruit cake', 'rutabagas', 'ham salad', 'kumquats', 'cinnamon extract', 'coconut flavor', 'coffee creamer', 'gelatin', 'nut oils', 'amaranth', 'quark', 'formula', 'soup mixes', 'crab meat', 'salad dressing', 'giblets', 'turducken', 'ice pops', 'sauce mixes', 'toaster pastries', 'hard liquors', 'sorghum', 'egg substitutes', 'variety meats', 'frozen pretzels', 'dry egg noodles', 'pudding mixes', 'bagged greens', 'vegan cheddar cheese', 'kugel'] \n",
      "\n",
      "\n",
      "~~~~~~~~~~~~~~~~~13~~~~~~~~~~~~~~~~~\n",
      "Model loaded...\n"
     ]
    },
    {
     "name": "stderr",
     "output_type": "stream",
     "text": [
      "  7%|▋         | 846/12027 [00:00<00:03, 2841.11it/s]"
     ]
    },
    {
     "name": "stdout",
     "output_type": "stream",
     "text": [
      "Skipping entity\n",
      "Skipping entity\n",
      "Skipping entity\n",
      "Skipping entity\n",
      "Skipping entity\n",
      "Skipping entity\n",
      "Skipping entity\n",
      "Skipping entity\n",
      "Skipping entity\n",
      "Skipping entity\n"
     ]
    },
    {
     "name": "stderr",
     "output_type": "stream",
     "text": [
      " 12%|█▏        | 1460/12027 [00:00<00:03, 2947.75it/s]"
     ]
    },
    {
     "name": "stdout",
     "output_type": "stream",
     "text": [
      "Skipping entity\n",
      "Skipping entity\n",
      "Skipping entity\n",
      "Skipping entity\n",
      "Skipping entity\n",
      "Skipping entity\n",
      "Skipping entity\n",
      "Skipping entity\n",
      "Skipping entity\n",
      "Skipping entity\n",
      "Skipping entity\n"
     ]
    },
    {
     "name": "stderr",
     "output_type": "stream",
     "text": [
      " 23%|██▎       | 2738/12027 [00:00<00:02, 3153.12it/s]"
     ]
    },
    {
     "name": "stdout",
     "output_type": "stream",
     "text": [
      "Skipping entity\n",
      "Skipping entity\n",
      "Skipping entity\n",
      "Skipping entity\n",
      "Skipping entity\n"
     ]
    },
    {
     "name": "stderr",
     "output_type": "stream",
     "text": [
      " 28%|██▊       | 3391/12027 [00:01<00:02, 3209.37it/s]"
     ]
    },
    {
     "name": "stdout",
     "output_type": "stream",
     "text": [
      "Skipping entity\n",
      "Skipping entity\n",
      "Skipping entity\n",
      "Skipping entity\n",
      "Skipping entity\n",
      "Skipping entity\n",
      "Skipping entity\n",
      "Skipping entity\n",
      "Skipping entity\n",
      "Skipping entity\n",
      "Skipping entity\n",
      "Skipping entity\n",
      "Skipping entity\n",
      "Skipping entity\n",
      "Skipping entity\n",
      "Skipping entity\n",
      "Skipping entity\n"
     ]
    },
    {
     "name": "stderr",
     "output_type": "stream",
     "text": [
      " 37%|███▋      | 4428/12027 [00:01<00:02, 3371.04it/s]"
     ]
    },
    {
     "name": "stdout",
     "output_type": "stream",
     "text": [
      "Skipping entity\n",
      "Skipping entity\n",
      "Skipping entity\n",
      "Skipping entity\n",
      "Skipping entity\n",
      "Skipping entity\n",
      "Skipping entity\n",
      "Skipping entity\n",
      "Skipping entity\n",
      "Skipping entity\n",
      "Skipping entity\n",
      "Skipping entity"
     ]
    },
    {
     "name": "stderr",
     "output_type": "stream",
     "text": [
      " 49%|████▊     | 5836/12027 [00:01<00:01, 3499.42it/s]"
     ]
    },
    {
     "name": "stdout",
     "output_type": "stream",
     "text": [
      "\n",
      "Skipping entity\n",
      "Skipping entity\n",
      "Skipping entity\n",
      "Skipping entity\n",
      "Skipping entity\n",
      "Skipping entity\n",
      "Skipping entity\n",
      "Skipping entity\n",
      "Skipping entity\n",
      "Skipping entity\n",
      "Skipping entity\n",
      "Skipping entity\n",
      "Skipping entity\n",
      "Skipping entity\n",
      "Skipping entity\n"
     ]
    },
    {
     "name": "stderr",
     "output_type": "stream",
     "text": [
      " 58%|█████▊    | 6919/12027 [00:02<00:01, 3527.66it/s]"
     ]
    },
    {
     "name": "stdout",
     "output_type": "stream",
     "text": [
      "Skipping entity\n",
      "Skipping entity\n",
      "Skipping entity\n",
      "Skipping entity\n",
      "Skipping entity\n",
      "Skipping entity\n",
      "Skipping entity\n",
      "Skipping entity\n",
      "Skipping entity\n",
      "Skipping entity\n",
      "Skipping entity\n",
      "Skipping entity\n",
      "Skipping entity\n",
      "Skipping entity\n",
      "Skipping entity\n",
      "Skipping entity\n",
      "Skipping entity\n",
      "Skipping entity\n",
      "Skipping entity\n",
      "Skipping entity\n",
      "Skipping entity\n"
     ]
    },
    {
     "name": "stderr",
     "output_type": "stream",
     "text": [
      " 67%|██████▋   | 8039/12027 [00:02<00:01, 3623.92it/s]"
     ]
    },
    {
     "name": "stdout",
     "output_type": "stream",
     "text": [
      "Skipping entity\n",
      "Skipping entity\n",
      "Skipping entity\n",
      "Skipping entity\n",
      "Skipping entity\n",
      "Skipping entity\n",
      "Skipping entity\n",
      "Skipping entity\n",
      "Skipping entity\n",
      "Skipping entity\n",
      "Skipping entity\n",
      "Skipping entity\n",
      "Skipping entity\n",
      "Skipping entity\n"
     ]
    },
    {
     "name": "stderr",
     "output_type": "stream",
     "text": [
      " 76%|███████▌  | 9131/12027 [00:02<00:00, 3594.81it/s]"
     ]
    },
    {
     "name": "stdout",
     "output_type": "stream",
     "text": [
      "Skipping entity\n",
      "Skipping entity\n",
      "Skipping entity\n",
      "Skipping entity\n",
      "Skipping entity\n",
      "Skipping entity\n",
      "Skipping entity\n",
      "Skipping entity\n",
      "Skipping entity\n",
      "Skipping entity\n",
      "Skipping entity\n",
      "Skipping entity\n",
      "Skipping entity\n",
      "Skipping entity"
     ]
    },
    {
     "name": "stderr",
     "output_type": "stream",
     "text": [
      " 85%|████████▍ | 10201/12027 [00:03<00:00, 3511.13it/s]"
     ]
    },
    {
     "name": "stdout",
     "output_type": "stream",
     "text": [
      "\n",
      "Skipping entity\n",
      "Skipping entity\n",
      "Skipping entity\n",
      "Skipping entity\n",
      "Skipping entity\n",
      "Skipping entity\n",
      "Skipping entity\n",
      "Skipping entity\n",
      "Skipping entity\n",
      "Skipping entity\n",
      "Skipping entity\n",
      "Skipping entity"
     ]
    },
    {
     "name": "stderr",
     "output_type": "stream",
     "text": [
      " 97%|█████████▋| 11644/12027 [00:03<00:00, 3565.39it/s]"
     ]
    },
    {
     "name": "stdout",
     "output_type": "stream",
     "text": [
      "\n",
      "Skipping entity\n",
      "Skipping entity\n",
      "Skipping entity\n",
      "Skipping entity\n",
      "Skipping entity\n",
      "Skipping entity\n",
      "Skipping entity\n",
      "Skipping entity\n",
      "Skipping entity\n",
      "Skipping entity\n",
      "Skipping entity\n",
      "Skipping entity\n",
      "Skipping entity\n",
      "Skipping entity\n",
      "Skipping entity\n",
      "Skipping entity\n",
      "Skipping entity\n",
      "Skipping entity\n",
      "Skipping entity"
     ]
    },
    {
     "name": "stderr",
     "output_type": "stream",
     "text": [
      "100%|██████████| 12027/12027 [00:03<00:00, 3402.23it/s]\n"
     ]
    },
    {
     "name": "stdout",
     "output_type": "stream",
     "text": [
      "\n",
      "Skipping entity\n",
      "Skipping entity\n",
      "Skipping entity\n",
      "Skipping entity\n",
      "Skipping entity\n",
      "Skipping entity\n",
      "Skipping entity\n",
      "Skipping entity\n",
      "Skipping entity\n",
      "â„¹ Saving to output directory: output\n",
      "â„¹ Using CPU\n",
      "\u001b[1m\n",
      "=========================== Initializing pipeline ===========================\u001b[0m\n",
      "âœ” Initialized pipeline\n",
      "\u001b[1m\n",
      "============================= Training pipeline =============================\u001b[0m\n",
      "â„¹ Pipeline: ['tok2vec', 'ner']\n",
      "â„¹ Initial learn rate: 0.001\n",
      "E    #       LOSS TOK2VEC  LOSS NER  ENTS_F  ENTS_P  ENTS_R  SCORE \n",
      "---  ------  ------------  --------  ------  ------  ------  ------\n",
      "  0       0          0.00     42.83    0.00    0.00    0.00    0.00\n",
      "  0     200         77.99   2414.19   74.44   74.33   74.55    0.74\n",
      "  0     400         78.29   1315.80   85.34   80.80   90.42    0.85\n",
      "  0     600         74.95   1191.34   87.21   82.77   92.15    0.87\n",
      "  0     800         83.01   1284.32   90.45   85.73   95.71    0.90\n",
      "  0    1000         88.47   1471.38   91.33   86.65   96.54    0.91\n",
      "  0    1200        102.84   1642.61   91.95   88.18   96.06    0.92\n",
      "  0    1400         98.78   1858.93   93.00   89.97   96.24    0.93\n",
      "  0    1600        105.48   2133.46   93.75   90.17   97.62    0.94\n",
      "  1    1800        139.19   2190.04   94.13   91.38   97.06    0.94\n",
      "  1    2000        186.26   2775.39   94.70   92.14   97.40    0.95\n",
      "  2    2200        216.98   3159.56   95.34   92.81   98.01    0.95\n",
      "  2    2400        305.71   3168.20   95.78   93.02   98.70    0.96\n",
      "âš  Aborting and saving the final best model. Encountered exception:\n",
      "PermissionError(13, 'The process cannot access the file because it is being used\n",
      "by another process')\n",
      "\n",
      "Total keywords:  382\n",
      "List of Keywords:\n",
      "\n",
      " ['cheese', 'chicken', 'milk', 'butter', 'cream', 'fruit', 'rice', 'water', 'garlic', 'bread', 'sugar', 'salt', 'chocolate', 'fish', 'beef', 'yogurt', 'almond milk', 'greens', 'granola', 'nuts', 'chia seeds', 'onions', 'apples', 'peanut butter', 'squash', 'soda', 'flour', 'garlic powder', 'buttermilk', 'potatoes', 'cottage cheese', 'sour cream', 'turkey', 'beans', 'cream cheese', 'bagel', 'pretzels', 'celery', 'white wine', 'margarine', 'whipped cream', 'ice cream', 'pineapple', 'whipped topping', 'plantains', 'veal', 'mustard', 'corned beef', 'rye', 'fried chicken', 'gravy', 'tuna', 'vegetables', 'eggs', 'rotisserie chicken', 'hot dogs', 'crackers', 'dips', 'meats', 'frozen entrees', 'bacon', 'pasta', 'pizza', 'potato chips', 'avocados', 'pork', 'sunflower seeds', 'lentils', 'lean fish', 'cauliflower', 'asparagus', 'almonds', 'cooked fish', 'honey', 'kimchi', 'herbs', 'dates', 'scallops', 'yuzu', 'corn syrup', 'baking soda', 'molasses', 'yeast', 'cornmeal', 'vinegar', 'parsley', 'worcestershire sauce', 'mushrooms', 'broth', 'peppers', 'oats', 'guava', 'coconut', 'cheesecake', 'cinnamon', 'muffin', 'pies', 'tomato sauce', 'pickles', 'goat', 'lamb', 'seafood', 'olives', 'baking powder', 'sesame seeds', 'raspberries', 'cornstarch', 'hot sauce', 'grits', 'chives', 'coconut milk', 'tamarind', 'tomatoes', 'cumin', 'chili powder', 'onion powder', 'black pepper', 'pie crust', 'cooked rice', 'nutmeg', 'peas', 'refried beans', 'bananas', 'okra', 'cabbage', 'syrup', 'juice concentrates', 'basil', 'fruits', 'horseradish', 'lettuce', 'pesto', 'soy milk', 'hoisin sauce', 'sesame oil', 'peanuts', 'ham', 'bacon bits', 'chutney', 'sun dried tomatoes', 'sausage', 'coffee', 'pasta salad', 'cereal', 'grapes', 'cashews', 'tea', 'pudding', 'coconut cream', 'coconut water', 'apple juice', 'fruit cocktail', 'walnuts', 'dough', 'roasted red peppers', 'whole wheat bread', 'thyme', 'mayonnaise', 'oregano', 'leftovers', 'strawberries', 'berries', 'coleslaw', 'cilantro', 'guacamole', 'tomato paste', 'canola oil', 'mung bean', 'lemon juice', 'ghee', 'avocado oil', 'almond oil', 'grapeseed oil', 'spelt', 'lime juice', 'pure vanilla extract', 'butter flavor', 'string cheese', 'salsa', 'puff pastry', 'biscuits', 'orange juice', 'vegetable soup', 'caviar', 'pine nuts', 'coconut oil', 'quail', 'eggnog', 'kefir', 'base', 'meat products', 'cornish hens', 'chicken salad', 'canned chicken', 'tortillas', 'fatty fish', 'miso', 'whole wheat flour', 'cookies', 'quiche', 'tamarind paste', 'sugar substitutes', 'cookie dough', 'bamboo shoots', 'oyster sauce', 'potato salad', 'brussels sprouts', 'cherry tomatoes', 'taro', 'barley', 'aioli', 'salami', 'prosciutto', 'chocolate syrup', 'pectin', 'rice milk', 'coconuts', 'turkey bacon', 'black bean sauce', 'tofu', 'rosemary', 'powdered milk', 'popcorn', 'almond butter', 'cashew butter', 'hummus', 'jerky', 'baby carrots', 'applesauce', 'kohlrabi', 'cantaloupe', 'farro', 'lemongrass', 'almond extract', 'mint', 'zucchini', 'hot peppers', 'swiss chard', 'eggplant', 'cranberry sauce', 'garam masala', 'cheese curds', 'bratwurst', 'bulgur', 'edamame', 'coconut flour', 'kale', 'cherries', 'polenta', 'balsamic vinegar', 'anchovies', 'arugula', 'oils', 'pumpkin seeds', 'flaxseed', 'herring', 'nacho cheese', 'egg dishes', 'quinoa', 'apple cider vinegar', 'ricotta', 'pistachios', 'beets', 'sausages', 'pork roll', 'leeks', 'venison', 'rabbit', 'pastrami', 'chorizo', 'goose', 'chicken parts', 'pheasant', 'watermelon', 'capon', 'duckling', 'blueberries', 'cucumbers', 'red wine', 'canned goods', 'salad dressings', 'croutons', 'breadcrumbs', 'lobster tails', 'squid', 'soy flour', 'cooked pasta', 'dinners', 'pecans', 'casseroles', 'cream pies', 'fruit pies', 'egg salad', 'buckwheat', 'shortening', 'nectar', 'duck fat', 'seasoning blends', 'apricots', 'pomegranate', 'pumpkins', 'cranberries', 'cherimoya', 'citrus fruit', 'kiwi fruit', 'star fruit', 'tapenade', 'bacon grease', 'millet', 'beans and peas', 'radishes', 'rhubarb', 'bok choy', 'jicama', 'turnips', 'melons', 'bean sprouts', 'tempeh', 'marinades', 'capers', 'barbecue sauce', 'apple cider', 'marshmallows', 'tahini', 'seafood salads', 'cinnamon rolls', 'macadamias', 'relish', 'prickly pear', 'celery root', 'honeydew', 'spaghetti sauce', 'canadian bacon', 'sunflower oil', 'bison', 'lemon extract', 'yuzu juice', 'carrot juice', 'macaroons', 'crab legs', 'pork rinds', 'spaghetti squash', 'vegetable juice', 'marinated vegetables', 'pate', 'teff', 'fresh pasta', 'doughnuts', 'ginger root', 'pimento cheese', 'cooking wine', 'radicchio', 'fruit cake', 'rutabagas', 'ham salad', 'kumquats', 'cinnamon extract', 'coconut flavor', 'coffee creamer', 'gelatin', 'nut oils', 'amaranth', 'quark', 'formula', 'soup mixes', 'crab meat', 'salad dressing', 'giblets', 'turducken', 'ice pops', 'sauce mixes', 'toaster pastries', 'hard liquors', 'sorghum', 'egg substitutes', 'variety meats', 'frozen pretzels', 'dry egg noodles', 'pudding mixes', 'bagged greens', 'vegan cheddar cheese', 'kugel'] \n",
      "\n",
      "\n",
      "[[37  7]\n",
      " [ 5 34]]\n",
      "              precision    recall  f1-score   support\n",
      "\n",
      "           1       0.88      0.84      0.86        44\n",
      "           0       0.83      0.87      0.85        39\n",
      "\n",
      "    accuracy                           0.86        83\n",
      "   macro avg       0.86      0.86      0.86        83\n",
      "weighted avg       0.86      0.86      0.86        83\n",
      "\n",
      "Total keywords:  383\n",
      "Total Tweets:  12027\n",
      "List of Keywords:\n",
      "\n",
      " ['cheese', 'chicken', 'milk', 'butter', 'cream', 'fruit', 'rice', 'water', 'garlic', 'bread', 'sugar', 'salt', 'chocolate', 'fish', 'beef', 'yogurt', 'almond milk', 'greens', 'granola', 'nuts', 'chia seeds', 'onions', 'apples', 'peanut butter', 'squash', 'soda', 'flour', 'garlic powder', 'buttermilk', 'potatoes', 'cottage cheese', 'sour cream', 'turkey', 'beans', 'cream cheese', 'bagel', 'pretzels', 'celery', 'white wine', 'margarine', 'whipped cream', 'ice cream', 'pineapple', 'whipped topping', 'plantains', 'veal', 'mustard', 'corned beef', 'rye', 'fried chicken', 'gravy', 'tuna', 'vegetables', 'eggs', 'rotisserie chicken', 'hot dogs', 'crackers', 'dips', 'meats', 'frozen entrees', 'bacon', 'pasta', 'pizza', 'potato chips', 'avocados', 'pork', 'sunflower seeds', 'lentils', 'lean fish', 'cauliflower', 'asparagus', 'almonds', 'cooked fish', 'honey', 'kimchi', 'herbs', 'dates', 'scallops', 'yuzu', 'corn syrup', 'baking soda', 'molasses', 'yeast', 'cornmeal', 'vinegar', 'parsley', 'worcestershire sauce', 'mushrooms', 'broth', 'peppers', 'oats', 'guava', 'coconut', 'cheesecake', 'cinnamon', 'muffin', 'pies', 'tomato sauce', 'pickles', 'goat', 'lamb', 'seafood', 'olives', 'baking powder', 'sesame seeds', 'raspberries', 'cornstarch', 'hot sauce', 'grits', 'chives', 'coconut milk', 'tamarind', 'tomatoes', 'cumin', 'chili powder', 'onion powder', 'black pepper', 'pie crust', 'cooked rice', 'nutmeg', 'peas', 'refried beans', 'bananas', 'okra', 'cabbage', 'syrup', 'juice concentrates', 'basil', 'fruits', 'horseradish', 'lettuce', 'pesto', 'soy milk', 'hoisin sauce', 'sesame oil', 'peanuts', 'ham', 'bacon bits', 'chutney', 'sun dried tomatoes', 'sausage', 'coffee', 'pasta salad', 'cereal', 'grapes', 'cashews', 'tea', 'pudding', 'coconut cream', 'coconut water', 'apple juice', 'fruit cocktail', 'walnuts', 'dough', 'roasted red peppers', 'whole wheat bread', 'thyme', 'mayonnaise', 'oregano', 'leftovers', 'strawberries', 'berries', 'coleslaw', 'cilantro', 'guacamole', 'tomato paste', 'canola oil', 'mung bean', 'lemon juice', 'ghee', 'avocado oil', 'almond oil', 'grapeseed oil', 'spelt', 'lime juice', 'pure vanilla extract', 'butter flavor', 'string cheese', 'salsa', 'puff pastry', 'biscuits', 'orange juice', 'vegetable soup', 'caviar', 'pine nuts', 'coconut oil', 'quail', 'eggnog', 'kefir', 'base', 'meat products', 'cornish hens', 'chicken salad', 'canned chicken', 'tortillas', 'fatty fish', 'miso', 'whole wheat flour', 'cookies', 'quiche', 'tamarind paste', 'sugar substitutes', 'cookie dough', 'bamboo shoots', 'oyster sauce', 'potato salad', 'brussels sprouts', 'cherry tomatoes', 'taro', 'barley', 'aioli', 'salami', 'prosciutto', 'chocolate syrup', 'pectin', 'rice milk', 'coconuts', 'turkey bacon', 'black bean sauce', 'tofu', 'rosemary', 'powdered milk', 'popcorn', 'almond butter', 'cashew butter', 'hummus', 'jerky', 'baby carrots', 'applesauce', 'kohlrabi', 'cantaloupe', 'farro', 'lemongrass', 'almond extract', 'mint', 'zucchini', 'hot peppers', 'swiss chard', 'eggplant', 'cranberry sauce', 'garam masala', 'cheese curds', 'bratwurst', 'bulgur', 'edamame', 'coconut flour', 'kale', 'cherries', 'polenta', 'balsamic vinegar', 'anchovies', 'arugula', 'oils', 'pumpkin seeds', 'flaxseed', 'herring', 'nacho cheese', 'egg dishes', 'quinoa', 'apple cider vinegar', 'ricotta', 'pistachios', 'beets', 'sausages', 'pork roll', 'leeks', 'venison', 'rabbit', 'pastrami', 'chorizo', 'goose', 'chicken parts', 'pheasant', 'watermelon', 'capon', 'duckling', 'blueberries', 'cucumbers', 'red wine', 'canned goods', 'salad dressings', 'croutons', 'breadcrumbs', 'lobster tails', 'squid', 'soy flour', 'cooked pasta', 'dinners', 'pecans', 'casseroles', 'cream pies', 'fruit pies', 'egg salad', 'buckwheat', 'shortening', 'nectar', 'duck fat', 'seasoning blends', 'apricots', 'pomegranate', 'pumpkins', 'cranberries', 'cherimoya', 'citrus fruit', 'kiwi fruit', 'star fruit', 'tapenade', 'bacon grease', 'millet', 'beans and peas', 'radishes', 'rhubarb', 'bok choy', 'jicama', 'turnips', 'melons', 'bean sprouts', 'tempeh', 'marinades', 'capers', 'barbecue sauce', 'apple cider', 'marshmallows', 'tahini', 'seafood salads', 'cinnamon rolls', 'macadamias', 'relish', 'prickly pear', 'celery root', 'honeydew', 'spaghetti sauce', 'canadian bacon', 'sunflower oil', 'bison', 'lemon extract', 'yuzu juice', 'carrot juice', 'macaroons', 'crab legs', 'pork rinds', 'spaghetti squash', 'vegetable juice', 'marinated vegetables', 'pate', 'teff', 'fresh pasta', 'doughnuts', 'ginger root', 'pimento cheese', 'cooking wine', 'radicchio', 'fruit cake', 'rutabagas', 'ham salad', 'kumquats', 'cinnamon extract', 'coconut flavor', 'coffee creamer', 'gelatin', 'nut oils', 'amaranth', 'quark', 'formula', 'soup mixes', 'crab meat', 'salad dressing', 'giblets', 'turducken', 'ice pops', 'sauce mixes', 'toaster pastries', 'hard liquors', 'sorghum', 'egg substitutes', 'variety meats', 'frozen pretzels', 'dry egg noodles', 'pudding mixes', 'bagged greens', 'vegan cheddar cheese', 'kugel', 'tapiocas'] \n",
      "\n",
      "\n",
      "~~~~~~~~~~~~~~~~~14~~~~~~~~~~~~~~~~~\n",
      "Model loaded...\n"
     ]
    },
    {
     "name": "stderr",
     "output_type": "stream",
     "text": [
      "  6%|▋         | 852/13442 [00:00<00:04, 2862.20it/s]"
     ]
    },
    {
     "name": "stdout",
     "output_type": "stream",
     "text": [
      "Skipping entity\n",
      "Skipping entity\n",
      "Skipping entity\n",
      "Skipping entity\n",
      "Skipping entity\n",
      "Skipping entity\n",
      "Skipping entity\n",
      "Skipping entity\n",
      "Skipping entity\n",
      "Skipping entity\n",
      "Skipping entity\n",
      "Skipping entity\n",
      "Skipping entity\n",
      "Skipping entity\n",
      "Skipping entity\n"
     ]
    },
    {
     "name": "stderr",
     "output_type": "stream",
     "text": [
      " 13%|█▎        | 1753/13442 [00:00<00:03, 2952.23it/s]"
     ]
    },
    {
     "name": "stdout",
     "output_type": "stream",
     "text": [
      "Skipping entity\n",
      "Skipping entity\n",
      "Skipping entity\n",
      "Skipping entity\n",
      "Skipping entity\n",
      "Skipping entity\n",
      "Skipping entity\n",
      "Skipping entity\n"
     ]
    },
    {
     "name": "stderr",
     "output_type": "stream",
     "text": [
      " 20%|██        | 2715/13442 [00:00<00:03, 3144.82it/s]"
     ]
    },
    {
     "name": "stdout",
     "output_type": "stream",
     "text": [
      "Skipping entity\n",
      "Skipping entity\n",
      "Skipping entity\n",
      "Skipping entity\n",
      "Skipping entity\n",
      "Skipping entity\n",
      "Skipping entity\n",
      "Skipping entity\n",
      "Skipping entity\n",
      "Skipping entity\n",
      "Skipping entity\n",
      "Skipping entity\n",
      "Skipping entity\n",
      "Skipping entity\n",
      "Skipping entity\n",
      "Skipping entity\n",
      "Skipping entity\n",
      "Skipping entity\n"
     ]
    },
    {
     "name": "stderr",
     "output_type": "stream",
     "text": [
      " 28%|██▊       | 3705/13442 [00:01<00:02, 3262.06it/s]"
     ]
    },
    {
     "name": "stdout",
     "output_type": "stream",
     "text": [
      "Skipping entity\n",
      "Skipping entity\n",
      "Skipping entity\n",
      "Skipping entity\n",
      "Skipping entity\n",
      "Skipping entity\n",
      "Skipping entity\n",
      "Skipping entity\n",
      "Skipping entity\n",
      "Skipping entity\n",
      "Skipping entity\n",
      "Skipping entity\n",
      "Skipping entity\n",
      "Skipping entity\n",
      "Skipping entity\n",
      "Skipping entity\n",
      "Skipping entity\n",
      "Skipping entity\n",
      "Skipping entity\n",
      "Skipping entity\n"
     ]
    },
    {
     "name": "stderr",
     "output_type": "stream",
     "text": [
      " 35%|███▌      | 4742/13442 [00:01<00:02, 3393.25it/s]"
     ]
    },
    {
     "name": "stdout",
     "output_type": "stream",
     "text": [
      "Skipping entity\n",
      "Skipping entity\n",
      "Skipping entity\n",
      "Skipping entity\n",
      "Skipping entity\n",
      "Skipping entity\n",
      "Skipping entity\n",
      "Skipping entity\n",
      "Skipping entity\n",
      "Skipping entity\n",
      "Skipping entity\n"
     ]
    },
    {
     "name": "stderr",
     "output_type": "stream",
     "text": [
      " 41%|████      | 5451/13442 [00:01<00:02, 3472.42it/s]"
     ]
    },
    {
     "name": "stdout",
     "output_type": "stream",
     "text": [
      "Skipping entity\n",
      "Skipping entity\n",
      "Skipping entity\n",
      "Skipping entity\n",
      "Skipping entity\n",
      "Skipping entity\n",
      "Skipping entity\n",
      "Skipping entity\n",
      "Skipping entity\n",
      "Skipping entity\n",
      "Skipping entity\n",
      "Skipping entity\n",
      "Skipping entity\n",
      "Skipping entity\n",
      "Skipping entity\n",
      "Skipping entity\n",
      "Skipping entity\n",
      "Skipping entity"
     ]
    },
    {
     "name": "stderr",
     "output_type": "stream",
     "text": [
      " 46%|████▌     | 6144/13442 [00:01<00:02, 3442.50it/s]"
     ]
    },
    {
     "name": "stdout",
     "output_type": "stream",
     "text": [
      "\n",
      "Skipping entity\n",
      "Skipping entity\n",
      "Skipping entity\n",
      "Skipping entity\n",
      "Skipping entity\n",
      "Skipping entity\n",
      "Skipping entity\n",
      "Skipping entity\n",
      "Skipping entity\n",
      "Skipping entity\n",
      "Skipping entity\n"
     ]
    },
    {
     "name": "stderr",
     "output_type": "stream",
     "text": [
      " 54%|█████▎    | 7202/13442 [00:02<00:01, 3492.11it/s]"
     ]
    },
    {
     "name": "stdout",
     "output_type": "stream",
     "text": [
      "Skipping entity\n",
      "Skipping entity\n",
      "Skipping entity\n",
      "Skipping entity\n",
      "Skipping entity\n",
      "Skipping entity\n",
      "Skipping entity\n",
      "Skipping entity\n",
      "Skipping entity\n",
      "Skipping entity\n",
      "Skipping entity\n",
      "Skipping entity\n",
      "Skipping entity\n",
      "Skipping entity\n",
      "Skipping entity\n",
      "Skipping entity\n",
      "Skipping entity\n",
      "Skipping entity\n",
      "Skipping entity\n",
      "Skipping entity\n",
      "Skipping entity"
     ]
    },
    {
     "name": "stderr",
     "output_type": "stream",
     "text": [
      " 59%|█████▉    | 7925/13442 [00:02<00:01, 3526.17it/s]"
     ]
    },
    {
     "name": "stdout",
     "output_type": "stream",
     "text": [
      "\n",
      "Skipping entity\n",
      "Skipping entity\n",
      "Skipping entity\n",
      "Skipping entity\n",
      "Skipping entity\n",
      "Skipping entity\n",
      "Skipping entity\n",
      "Skipping entity\n",
      "Skipping entity\n",
      "Skipping entity"
     ]
    },
    {
     "name": "stderr",
     "output_type": "stream",
     "text": [
      " 64%|██████▍   | 8666/13442 [00:02<00:01, 3611.42it/s]"
     ]
    },
    {
     "name": "stdout",
     "output_type": "stream",
     "text": [
      "\n",
      "Skipping entity\n",
      "Skipping entity\n",
      "Skipping entity\n",
      "Skipping entity\n",
      "Skipping entity\n",
      "Skipping entity\n",
      "Skipping entity\n",
      "Skipping entity\n",
      "Skipping entity\n",
      "Skipping entity\n",
      "Skipping entity\n",
      "Skipping entity\n",
      "Skipping entity\n"
     ]
    },
    {
     "name": "stderr",
     "output_type": "stream",
     "text": [
      " 73%|███████▎  | 9766/13442 [00:02<00:01, 3616.42it/s]"
     ]
    },
    {
     "name": "stdout",
     "output_type": "stream",
     "text": [
      "Skipping entity\n",
      "Skipping entity\n",
      "Skipping entity\n",
      "Skipping entity\n",
      "Skipping entity\n",
      "Skipping entity\n",
      "Skipping entity\n",
      "Skipping entity\n",
      "Skipping entity\n",
      "Skipping entity\n",
      "Skipping entity\n",
      "Skipping entity\n",
      "Skipping entity"
     ]
    },
    {
     "name": "stderr",
     "output_type": "stream",
     "text": [
      " 78%|███████▊  | 10484/13442 [00:03<00:00, 3524.55it/s]"
     ]
    },
    {
     "name": "stdout",
     "output_type": "stream",
     "text": [
      "\n",
      "Skipping entity\n",
      "Skipping entity\n",
      "Skipping entity\n",
      "Skipping entity\n",
      "Skipping entity\n",
      "Skipping entity\n",
      "Skipping entity\n",
      "Skipping entity\n"
     ]
    },
    {
     "name": "stderr",
     "output_type": "stream",
     "text": [
      " 86%|████████▌ | 11537/13442 [00:03<00:00, 3479.30it/s]"
     ]
    },
    {
     "name": "stdout",
     "output_type": "stream",
     "text": [
      "Skipping entity\n",
      "Skipping entity\n",
      "Skipping entity\n",
      "Skipping entity\n",
      "Skipping entity\n",
      "Skipping entity\n",
      "Skipping entity\n",
      "Skipping entity\n",
      "Skipping entity\n",
      "Skipping entity\n",
      "Skipping entity\n",
      "Skipping entity\n",
      "Skipping entity"
     ]
    },
    {
     "name": "stderr",
     "output_type": "stream",
     "text": [
      " 91%|█████████ | 12248/13442 [00:03<00:00, 3497.31it/s]"
     ]
    },
    {
     "name": "stdout",
     "output_type": "stream",
     "text": [
      "\n",
      "Skipping entity\n",
      "Skipping entity\n",
      "Skipping entity\n",
      "Skipping entity\n",
      "Skipping entity\n",
      "Skipping entity\n",
      "Skipping entity\n",
      "Skipping entity\n",
      "Skipping entity\n",
      "Skipping entity"
     ]
    },
    {
     "name": "stderr",
     "output_type": "stream",
     "text": [
      " 96%|█████████▋| 12953/13442 [00:03<00:00, 3492.85it/s]"
     ]
    },
    {
     "name": "stdout",
     "output_type": "stream",
     "text": [
      "\n",
      "Skipping entity\n",
      "Skipping entity\n",
      "Skipping entity\n",
      "Skipping entity\n",
      "Skipping entity\n",
      "Skipping entity\n",
      "Skipping entity\n",
      "Skipping entity\n",
      "Skipping entity\n",
      "Skipping entity\n",
      "Skipping entity"
     ]
    },
    {
     "name": "stderr",
     "output_type": "stream",
     "text": [
      "100%|██████████| 13442/13442 [00:03<00:00, 3388.52it/s]\n"
     ]
    },
    {
     "name": "stdout",
     "output_type": "stream",
     "text": [
      "\n",
      "Skipping entity\n",
      "Skipping entity\n",
      "Skipping entity\n",
      "Skipping entity\n",
      "Skipping entity\n",
      "Skipping entity\n",
      "Skipping entity\n",
      "â„¹ Saving to output directory: output\n",
      "â„¹ Using CPU\n",
      "\u001b[1m\n",
      "=========================== Initializing pipeline ===========================\u001b[0m\n",
      "âœ” Initialized pipeline\n",
      "\u001b[1m\n",
      "============================= Training pipeline =============================\u001b[0m\n",
      "â„¹ Pipeline: ['tok2vec', 'ner']\n",
      "â„¹ Initial learn rate: 0.001\n",
      "E    #       LOSS TOK2VEC  LOSS NER  ENTS_F  ENTS_P  ENTS_R  SCORE \n",
      "---  ------  ------------  --------  ------  ------  ------  ------\n",
      "  0       0          0.00     40.50    0.10    0.97    0.05    0.00\n",
      "  0     200         77.50   2490.64   75.85   74.77   76.96    0.76\n",
      "  0     400         74.55   1347.09   78.24   78.07   78.41    0.78\n",
      "  0     600         76.88   1300.68   86.38   81.82   91.47    0.86\n",
      "  0     800         77.37   1372.68   87.23   85.51   89.01    0.87\n",
      "  0    1000         76.71   1541.91   89.50   85.30   94.13    0.89\n",
      "  0    1200         87.70   1740.15   90.76   86.57   95.37    0.91\n",
      "  0    1400        111.08   1928.10   91.61   87.35   96.32    0.92\n",
      "  0    1600        116.05   2401.22   92.18   88.65   96.00    0.92\n",
      "  1    1800        153.50   2588.01   92.79   89.20   96.68    0.93\n",
      "  1    2000        186.00   2998.78   93.37   89.56   97.53    0.93\n",
      "  1    2200        200.17   3426.76   93.86   90.52   97.45    0.94\n",
      "  2    2400        292.71   3800.71   94.46   91.37   97.75    0.94\n",
      "  2    2600        299.20   3664.12   94.85   91.86   98.04    0.95\n",
      "  3    2800        334.77   3400.57   95.34   93.55   97.20    0.95\n",
      "  3    3000        398.34   3202.70   95.94   94.87   97.04    0.96\n",
      "  4    3200        394.97   3028.84   96.28   94.52   98.11    0.96\n",
      "  4    3400        447.21   2651.31   96.46   95.46   97.49    0.96\n",
      "  5    3600        474.20   2771.69   96.57   94.69   98.53    0.97\n",
      "  5    3800        495.29   2402.80   97.00   95.26   98.82    0.97\n",
      "  6    4000        421.26   2523.49   97.30   95.84   98.81    0.97\n",
      "  6    4200        516.57   1999.18   97.29   95.59   99.05    0.97\n",
      "  6    4400        520.68   2339.54   97.74   97.44   98.05    0.98\n",
      "  7    4600        548.17   1798.31   98.01   96.98   99.06    0.98\n",
      "  7    4800        584.63   2065.99   97.93   96.71   99.18    0.98\n",
      "  8    5000        666.12   1698.73   98.17   97.69   98.65    0.98\n",
      "  8    5200        603.86   1798.93   98.35   97.47   99.24    0.98\n",
      "  9    5400        615.33   1578.66   98.39   97.90   98.89    0.98\n",
      "  9    5600        660.17   1720.31   98.70   98.45   98.94    0.99\n",
      " 10    5800        620.29   1443.04   98.77   98.32   99.22    0.99\n",
      " 10    6000        661.37   1393.29   98.70   97.96   99.46    0.99\n",
      " 11    6200        594.09   1376.27   98.88   98.43   99.33    0.99\n",
      " 11    6400        625.30   1338.05   98.90   98.67   99.14    0.99\n",
      " 12    6600        626.92   1371.53   98.99   98.47   99.52    0.99\n",
      " 12    6800        598.34   1197.06   99.00   98.48   99.53    0.99\n",
      " 13    7000        594.49   1208.99   99.13   98.64   99.63    0.99\n",
      " 13    7200        736.09   1075.16   99.13   98.69   99.57    0.99\n",
      " 14    7400        669.82   1233.65   99.38   99.17   99.59    0.99\n",
      " 14    7600        668.60    957.01   99.20   98.87   99.54    0.99\n",
      " 14    7800        688.65   1166.93   99.42   99.22   99.62    0.99\n",
      " 15    8000        663.96    961.88   99.39   99.37   99.41    0.99\n",
      " 15    8200        672.83   1065.35   99.33   98.90   99.76    0.99\n",
      " 16    8400        685.39    867.19   99.38   99.09   99.67    0.99\n",
      " 16    8600        682.51   1025.49   99.48   99.30   99.66    0.99\n",
      " 17    8800        707.88    906.91   99.28   98.83   99.73    0.99\n",
      " 17    9000        698.35    892.34   99.49   99.36   99.62    0.99\n",
      " 18    9200        675.27    808.15   99.35   99.01   99.70    0.99\n",
      " 18    9400        666.89    865.87   99.56   99.42   99.71    1.00\n",
      " 19    9600        656.76    787.07   99.51   99.28   99.74    1.00\n",
      " 19    9800        686.93    836.03   99.56   99.58   99.53    1.00\n",
      " 20   10000        847.05    803.71   99.54   99.50   99.59    1.00\n",
      " 20   10200        683.34    754.24   99.59   99.62   99.56    1.00\n",
      " 21   10400        729.55    730.67   99.62   99.67   99.57    1.00\n",
      " 21   10600        711.28    705.75   99.65   99.48   99.82    1.00\n",
      " 22   10800        784.10    798.13   99.75   99.76   99.73    1.00\n",
      " 22   11000        745.75    686.37   99.65   99.72   99.59    1.00\n",
      " 22   11200        712.17    763.61   99.74   99.70   99.77    1.00\n",
      " 23   11400        768.83    651.86   99.71   99.69   99.72    1.00\n",
      " 23   11600        710.39    698.15   99.63   99.38   99.88    1.00\n",
      " 24   11800        820.65    613.65   99.53   99.39   99.68    1.00\n",
      " 24   12000        770.49    654.67   99.64   99.41   99.87    1.00\n",
      " 25   12200        765.13    616.09   99.68   99.65   99.70    1.00\n",
      " 25   12400        935.44    722.66   99.76   99.60   99.91    1.00\n",
      " 26   12600        728.80    595.89   99.72   99.64   99.80    1.00\n",
      " 26   12800        748.50    619.18   99.49   99.13   99.86    0.99\n",
      " 27   13000        809.91    614.05   99.74   99.59   99.90    1.00\n",
      " 27   13200        908.10    610.09   99.74   99.78   99.70    1.00\n",
      " 28   13400        804.76    653.57   99.63   99.36   99.90    1.00\n",
      " 28   13600        870.19    563.15   99.77   99.72   99.81    1.00\n",
      " 29   13800        820.86    612.56   99.79   99.72   99.87    1.00\n",
      " 29   14000        823.73    582.67   99.73   99.64   99.82    1.00\n",
      " 30   14200        893.60    612.64   99.75   99.63   99.87    1.00\n",
      " 30   14400        746.67    522.32   99.76   99.88   99.65    1.00\n",
      " 30   14600        882.58    583.91   99.77   99.63   99.91    1.00\n",
      " 31   14800        819.46    463.87   99.73   99.56   99.91    1.00\n",
      " 31   15000        891.78    567.99   99.81   99.81   99.80    1.00\n",
      " 32   15200        991.32    484.62   99.80   99.84   99.76    1.00\n",
      " 32   15400       1060.63    561.65   99.82   99.81   99.82    1.00\n",
      " 33   15600        887.59    495.20   99.81   99.75   99.87    1.00\n",
      " 33   15800       1090.25    509.67   99.81   99.76   99.86    1.00\n",
      " 34   16000        881.99    448.08   99.72   99.54   99.91    1.00\n",
      " 34   16200       1116.45    502.27   99.81   99.77   99.85    1.00\n",
      " 35   16400        825.17    523.50   99.85   99.91   99.79    1.00\n",
      " 35   16600        991.25    438.97   99.82   99.73   99.91    1.00\n",
      " 36   16800       1035.23    474.24   99.79   99.64   99.94    1.00\n",
      " 36   17000       1007.48    463.55   99.77   99.88   99.67    1.00\n",
      " 37   17200       1139.62    473.48   99.86   99.83   99.89    1.00\n",
      " 37   17400       1124.80    500.64   99.76   99.59   99.93    1.00\n",
      " 38   17600        904.68    439.13   99.80   99.68   99.91    1.00\n",
      " 38   17800       1072.11    451.90   99.83   99.77   99.89    1.00\n",
      " 38   18000       1381.95    464.68   99.85   99.87   99.84    1.00\n",
      " 39   18200       1215.75    458.46   99.88   99.88   99.88    1.00\n",
      " 39   18400       1066.28    502.49   99.87   99.82   99.91    1.00\n",
      " 40   18600       1113.26    421.91   99.81   99.70   99.92    1.00\n",
      " 40   18800       1174.94    451.01   99.80   99.69   99.91    1.00\n",
      " 41   19000       1282.01    427.71   99.84   99.85   99.83    1.00\n",
      " 41   19200       1235.28    492.10   99.77   99.86   99.69    1.00\n",
      " 42   19400        928.76    414.43   99.77   99.60   99.94    1.00\n",
      " 42   19600       1378.56    451.72   99.85   99.81   99.89    1.00\n",
      " 43   19800       1232.91    426.98   99.82   99.76   99.88    1.00\n",
      "âœ” Saved pipeline to output directory\n",
      "output\\model-last\n",
      "\n",
      "Total keywords:  383\n",
      "List of Keywords:\n",
      "\n",
      " ['cheese', 'chicken', 'milk', 'butter', 'cream', 'fruit', 'rice', 'water', 'garlic', 'bread', 'sugar', 'salt', 'chocolate', 'fish', 'beef', 'yogurt', 'almond milk', 'greens', 'granola', 'nuts', 'chia seeds', 'onions', 'apples', 'peanut butter', 'squash', 'soda', 'flour', 'garlic powder', 'buttermilk', 'potatoes', 'cottage cheese', 'sour cream', 'turkey', 'beans', 'cream cheese', 'bagel', 'pretzels', 'celery', 'white wine', 'margarine', 'whipped cream', 'ice cream', 'pineapple', 'whipped topping', 'plantains', 'veal', 'mustard', 'corned beef', 'rye', 'fried chicken', 'gravy', 'tuna', 'vegetables', 'eggs', 'rotisserie chicken', 'hot dogs', 'crackers', 'dips', 'meats', 'frozen entrees', 'bacon', 'pasta', 'pizza', 'potato chips', 'avocados', 'pork', 'sunflower seeds', 'lentils', 'lean fish', 'cauliflower', 'asparagus', 'almonds', 'cooked fish', 'honey', 'kimchi', 'herbs', 'dates', 'scallops', 'yuzu', 'corn syrup', 'baking soda', 'molasses', 'yeast', 'cornmeal', 'vinegar', 'parsley', 'worcestershire sauce', 'mushrooms', 'broth', 'peppers', 'oats', 'guava', 'coconut', 'cheesecake', 'cinnamon', 'muffin', 'pies', 'tomato sauce', 'pickles', 'goat', 'lamb', 'seafood', 'olives', 'baking powder', 'sesame seeds', 'raspberries', 'cornstarch', 'hot sauce', 'grits', 'chives', 'coconut milk', 'tamarind', 'tomatoes', 'cumin', 'chili powder', 'onion powder', 'black pepper', 'pie crust', 'cooked rice', 'nutmeg', 'peas', 'refried beans', 'bananas', 'okra', 'cabbage', 'syrup', 'juice concentrates', 'basil', 'fruits', 'horseradish', 'lettuce', 'pesto', 'soy milk', 'hoisin sauce', 'sesame oil', 'peanuts', 'ham', 'bacon bits', 'chutney', 'sun dried tomatoes', 'sausage', 'coffee', 'pasta salad', 'cereal', 'grapes', 'cashews', 'tea', 'pudding', 'coconut cream', 'coconut water', 'apple juice', 'fruit cocktail', 'walnuts', 'dough', 'roasted red peppers', 'whole wheat bread', 'thyme', 'mayonnaise', 'oregano', 'leftovers', 'strawberries', 'berries', 'coleslaw', 'cilantro', 'guacamole', 'tomato paste', 'canola oil', 'mung bean', 'lemon juice', 'ghee', 'avocado oil', 'almond oil', 'grapeseed oil', 'spelt', 'lime juice', 'pure vanilla extract', 'butter flavor', 'string cheese', 'salsa', 'puff pastry', 'biscuits', 'orange juice', 'vegetable soup', 'caviar', 'pine nuts', 'coconut oil', 'quail', 'eggnog', 'kefir', 'base', 'meat products', 'cornish hens', 'chicken salad', 'canned chicken', 'tortillas', 'fatty fish', 'miso', 'whole wheat flour', 'cookies', 'quiche', 'tamarind paste', 'sugar substitutes', 'cookie dough', 'bamboo shoots', 'oyster sauce', 'potato salad', 'brussels sprouts', 'cherry tomatoes', 'taro', 'barley', 'aioli', 'salami', 'prosciutto', 'chocolate syrup', 'pectin', 'rice milk', 'coconuts', 'turkey bacon', 'black bean sauce', 'tofu', 'rosemary', 'powdered milk', 'popcorn', 'almond butter', 'cashew butter', 'hummus', 'jerky', 'baby carrots', 'applesauce', 'kohlrabi', 'cantaloupe', 'farro', 'lemongrass', 'almond extract', 'mint', 'zucchini', 'hot peppers', 'swiss chard', 'eggplant', 'cranberry sauce', 'garam masala', 'cheese curds', 'bratwurst', 'bulgur', 'edamame', 'coconut flour', 'kale', 'cherries', 'polenta', 'balsamic vinegar', 'anchovies', 'arugula', 'oils', 'pumpkin seeds', 'flaxseed', 'herring', 'nacho cheese', 'egg dishes', 'quinoa', 'apple cider vinegar', 'ricotta', 'pistachios', 'beets', 'sausages', 'pork roll', 'leeks', 'venison', 'rabbit', 'pastrami', 'chorizo', 'goose', 'chicken parts', 'pheasant', 'watermelon', 'capon', 'duckling', 'blueberries', 'cucumbers', 'red wine', 'canned goods', 'salad dressings', 'croutons', 'breadcrumbs', 'lobster tails', 'squid', 'soy flour', 'cooked pasta', 'dinners', 'pecans', 'casseroles', 'cream pies', 'fruit pies', 'egg salad', 'buckwheat', 'shortening', 'nectar', 'duck fat', 'seasoning blends', 'apricots', 'pomegranate', 'pumpkins', 'cranberries', 'cherimoya', 'citrus fruit', 'kiwi fruit', 'star fruit', 'tapenade', 'bacon grease', 'millet', 'beans and peas', 'radishes', 'rhubarb', 'bok choy', 'jicama', 'turnips', 'melons', 'bean sprouts', 'tempeh', 'marinades', 'capers', 'barbecue sauce', 'apple cider', 'marshmallows', 'tahini', 'seafood salads', 'cinnamon rolls', 'macadamias', 'relish', 'prickly pear', 'celery root', 'honeydew', 'spaghetti sauce', 'canadian bacon', 'sunflower oil', 'bison', 'lemon extract', 'yuzu juice', 'carrot juice', 'macaroons', 'crab legs', 'pork rinds', 'spaghetti squash', 'vegetable juice', 'marinated vegetables', 'pate', 'teff', 'fresh pasta', 'doughnuts', 'ginger root', 'pimento cheese', 'cooking wine', 'radicchio', 'fruit cake', 'rutabagas', 'ham salad', 'kumquats', 'cinnamon extract', 'coconut flavor', 'coffee creamer', 'gelatin', 'nut oils', 'amaranth', 'quark', 'formula', 'soup mixes', 'crab meat', 'salad dressing', 'giblets', 'turducken', 'ice pops', 'sauce mixes', 'toaster pastries', 'hard liquors', 'sorghum', 'egg substitutes', 'variety meats', 'frozen pretzels', 'dry egg noodles', 'pudding mixes', 'bagged greens', 'vegan cheddar cheese', 'kugel', 'tapiocas'] \n",
      "\n",
      "\n",
      "[[37  7]\n",
      " [ 3 36]]\n",
      "              precision    recall  f1-score   support\n",
      "\n",
      "           1       0.93      0.84      0.88        44\n",
      "           0       0.84      0.92      0.88        39\n",
      "\n",
      "    accuracy                           0.88        83\n",
      "   macro avg       0.88      0.88      0.88        83\n",
      "weighted avg       0.88      0.88      0.88        83\n",
      "\n",
      "Total keywords:  384\n",
      "Total Tweets:  13442\n",
      "List of Keywords:\n",
      "\n",
      " ['cheese', 'chicken', 'milk', 'butter', 'cream', 'fruit', 'rice', 'water', 'garlic', 'bread', 'sugar', 'salt', 'chocolate', 'fish', 'beef', 'yogurt', 'almond milk', 'greens', 'granola', 'nuts', 'chia seeds', 'onions', 'apples', 'peanut butter', 'squash', 'soda', 'flour', 'garlic powder', 'buttermilk', 'potatoes', 'cottage cheese', 'sour cream', 'turkey', 'beans', 'cream cheese', 'bagel', 'pretzels', 'celery', 'white wine', 'margarine', 'whipped cream', 'ice cream', 'pineapple', 'whipped topping', 'plantains', 'veal', 'mustard', 'corned beef', 'rye', 'fried chicken', 'gravy', 'tuna', 'vegetables', 'eggs', 'rotisserie chicken', 'hot dogs', 'crackers', 'dips', 'meats', 'frozen entrees', 'bacon', 'pasta', 'pizza', 'potato chips', 'avocados', 'pork', 'sunflower seeds', 'lentils', 'lean fish', 'cauliflower', 'asparagus', 'almonds', 'cooked fish', 'honey', 'kimchi', 'herbs', 'dates', 'scallops', 'yuzu', 'corn syrup', 'baking soda', 'molasses', 'yeast', 'cornmeal', 'vinegar', 'parsley', 'worcestershire sauce', 'mushrooms', 'broth', 'peppers', 'oats', 'guava', 'coconut', 'cheesecake', 'cinnamon', 'muffin', 'pies', 'tomato sauce', 'pickles', 'goat', 'lamb', 'seafood', 'olives', 'baking powder', 'sesame seeds', 'raspberries', 'cornstarch', 'hot sauce', 'grits', 'chives', 'coconut milk', 'tamarind', 'tomatoes', 'cumin', 'chili powder', 'onion powder', 'black pepper', 'pie crust', 'cooked rice', 'nutmeg', 'peas', 'refried beans', 'bananas', 'okra', 'cabbage', 'syrup', 'juice concentrates', 'basil', 'fruits', 'horseradish', 'lettuce', 'pesto', 'soy milk', 'hoisin sauce', 'sesame oil', 'peanuts', 'ham', 'bacon bits', 'chutney', 'sun dried tomatoes', 'sausage', 'coffee', 'pasta salad', 'cereal', 'grapes', 'cashews', 'tea', 'pudding', 'coconut cream', 'coconut water', 'apple juice', 'fruit cocktail', 'walnuts', 'dough', 'roasted red peppers', 'whole wheat bread', 'thyme', 'mayonnaise', 'oregano', 'leftovers', 'strawberries', 'berries', 'coleslaw', 'cilantro', 'guacamole', 'tomato paste', 'canola oil', 'mung bean', 'lemon juice', 'ghee', 'avocado oil', 'almond oil', 'grapeseed oil', 'spelt', 'lime juice', 'pure vanilla extract', 'butter flavor', 'string cheese', 'salsa', 'puff pastry', 'biscuits', 'orange juice', 'vegetable soup', 'caviar', 'pine nuts', 'coconut oil', 'quail', 'eggnog', 'kefir', 'base', 'meat products', 'cornish hens', 'chicken salad', 'canned chicken', 'tortillas', 'fatty fish', 'miso', 'whole wheat flour', 'cookies', 'quiche', 'tamarind paste', 'sugar substitutes', 'cookie dough', 'bamboo shoots', 'oyster sauce', 'potato salad', 'brussels sprouts', 'cherry tomatoes', 'taro', 'barley', 'aioli', 'salami', 'prosciutto', 'chocolate syrup', 'pectin', 'rice milk', 'coconuts', 'turkey bacon', 'black bean sauce', 'tofu', 'rosemary', 'powdered milk', 'popcorn', 'almond butter', 'cashew butter', 'hummus', 'jerky', 'baby carrots', 'applesauce', 'kohlrabi', 'cantaloupe', 'farro', 'lemongrass', 'almond extract', 'mint', 'zucchini', 'hot peppers', 'swiss chard', 'eggplant', 'cranberry sauce', 'garam masala', 'cheese curds', 'bratwurst', 'bulgur', 'edamame', 'coconut flour', 'kale', 'cherries', 'polenta', 'balsamic vinegar', 'anchovies', 'arugula', 'oils', 'pumpkin seeds', 'flaxseed', 'herring', 'nacho cheese', 'egg dishes', 'quinoa', 'apple cider vinegar', 'ricotta', 'pistachios', 'beets', 'sausages', 'pork roll', 'leeks', 'venison', 'rabbit', 'pastrami', 'chorizo', 'goose', 'chicken parts', 'pheasant', 'watermelon', 'capon', 'duckling', 'blueberries', 'cucumbers', 'red wine', 'canned goods', 'salad dressings', 'croutons', 'breadcrumbs', 'lobster tails', 'squid', 'soy flour', 'cooked pasta', 'dinners', 'pecans', 'casseroles', 'cream pies', 'fruit pies', 'egg salad', 'buckwheat', 'shortening', 'nectar', 'duck fat', 'seasoning blends', 'apricots', 'pomegranate', 'pumpkins', 'cranberries', 'cherimoya', 'citrus fruit', 'kiwi fruit', 'star fruit', 'tapenade', 'bacon grease', 'millet', 'beans and peas', 'radishes', 'rhubarb', 'bok choy', 'jicama', 'turnips', 'melons', 'bean sprouts', 'tempeh', 'marinades', 'capers', 'barbecue sauce', 'apple cider', 'marshmallows', 'tahini', 'seafood salads', 'cinnamon rolls', 'macadamias', 'relish', 'prickly pear', 'celery root', 'honeydew', 'spaghetti sauce', 'canadian bacon', 'sunflower oil', 'bison', 'lemon extract', 'yuzu juice', 'carrot juice', 'macaroons', 'crab legs', 'pork rinds', 'spaghetti squash', 'vegetable juice', 'marinated vegetables', 'pate', 'teff', 'fresh pasta', 'doughnuts', 'ginger root', 'pimento cheese', 'cooking wine', 'radicchio', 'fruit cake', 'rutabagas', 'ham salad', 'kumquats', 'cinnamon extract', 'coconut flavor', 'coffee creamer', 'gelatin', 'nut oils', 'amaranth', 'quark', 'formula', 'soup mixes', 'crab meat', 'salad dressing', 'giblets', 'turducken', 'ice pops', 'sauce mixes', 'toaster pastries', 'hard liquors', 'sorghum', 'egg substitutes', 'variety meats', 'frozen pretzels', 'dry egg noodles', 'pudding mixes', 'bagged greens', 'vegan cheddar cheese', 'kugel', 'tapiocas', 'frying oil'] \n",
      "\n",
      "\n",
      "~~~~~~~~~~~~~~~~~15~~~~~~~~~~~~~~~~~\n",
      "Model loaded...\n"
     ]
    },
    {
     "name": "stderr",
     "output_type": "stream",
     "text": [
      "  4%|▍         | 554/12438 [00:00<00:04, 2799.36it/s]"
     ]
    },
    {
     "name": "stdout",
     "output_type": "stream",
     "text": [
      "Skipping entity\n",
      "Skipping entity\n",
      "Skipping entity\n",
      "Skipping entity\n",
      "Skipping entity\n",
      "Skipping entity\n",
      "Skipping entity\n",
      "Skipping entity\n",
      "Skipping entity\n",
      "Skipping entity"
     ]
    },
    {
     "name": "stderr",
     "output_type": "stream",
     "text": [
      " 17%|█▋        | 2095/12438 [00:00<00:03, 3113.53it/s]"
     ]
    },
    {
     "name": "stdout",
     "output_type": "stream",
     "text": [
      "\n",
      "Skipping entity\n",
      "Skipping entity\n",
      "Skipping entity\n",
      "Skipping entity\n",
      "Skipping entity\n",
      "Skipping entity\n",
      "Skipping entity\n",
      "Skipping entity\n",
      "Skipping entity\n",
      "Skipping entity\n",
      "Skipping entity\n"
     ]
    },
    {
     "name": "stderr",
     "output_type": "stream",
     "text": [
      " 22%|██▏       | 2738/12438 [00:00<00:03, 3165.52it/s]"
     ]
    },
    {
     "name": "stdout",
     "output_type": "stream",
     "text": [
      "Skipping entity\n",
      "Skipping entity\n",
      "Skipping entity\n",
      "Skipping entity\n",
      "Skipping entity\n",
      "Skipping entity\n",
      "Skipping entity\n",
      "Skipping entity\n",
      "Skipping entity\n",
      "Skipping entity\n",
      "Skipping entity\n",
      "Skipping entity\n",
      "Skipping entity"
     ]
    },
    {
     "name": "stderr",
     "output_type": "stream",
     "text": [
      " 30%|███       | 3743/12438 [00:01<00:02, 3300.09it/s]"
     ]
    },
    {
     "name": "stdout",
     "output_type": "stream",
     "text": [
      "\n",
      "Skipping entity\n",
      "Skipping entity\n",
      "Skipping entity\n",
      "Skipping entity\n",
      "Skipping entity\n",
      "Skipping entity\n",
      "Skipping entity\n",
      "Skipping entity\n",
      "Skipping entity\n"
     ]
    },
    {
     "name": "stderr",
     "output_type": "stream",
     "text": [
      " 38%|███▊      | 4776/12438 [00:01<00:02, 3388.90it/s]"
     ]
    },
    {
     "name": "stdout",
     "output_type": "stream",
     "text": [
      "Skipping entity\n",
      "Skipping entity\n",
      "Skipping entity\n",
      "Skipping entity\n",
      "Skipping entity\n",
      "Skipping entity\n",
      "Skipping entity\n",
      "Skipping entity\n",
      "Skipping entity\n"
     ]
    },
    {
     "name": "stderr",
     "output_type": "stream",
     "text": [
      " 44%|████▍     | 5474/12438 [00:01<00:02, 3429.39it/s]"
     ]
    },
    {
     "name": "stdout",
     "output_type": "stream",
     "text": [
      "Skipping entity\n",
      "Skipping entity\n",
      "Skipping entity\n",
      "Skipping entity\n",
      "Skipping entity\n",
      "Skipping entity\n",
      "Skipping entity\n",
      "Skipping entity\n",
      "Skipping entity\n",
      "Skipping entity\n"
     ]
    },
    {
     "name": "stderr",
     "output_type": "stream",
     "text": [
      " 56%|█████▌    | 6910/12438 [00:02<00:01, 3539.71it/s]"
     ]
    },
    {
     "name": "stdout",
     "output_type": "stream",
     "text": [
      "Skipping entity\n",
      "Skipping entity\n",
      "Skipping entity\n",
      "Skipping entity\n",
      "Skipping entity\n",
      "Skipping entity\n",
      "Skipping entity\n",
      "Skipping entity\n",
      "Skipping entity\n",
      "Skipping entity\n",
      "Skipping entity\n",
      "Skipping entity\n",
      "Skipping entity\n",
      "Skipping entity\n",
      "Skipping entity\n"
     ]
    },
    {
     "name": "stderr",
     "output_type": "stream",
     "text": [
      " 62%|██████▏   | 7655/12438 [00:02<00:01, 3646.19it/s]"
     ]
    },
    {
     "name": "stdout",
     "output_type": "stream",
     "text": [
      "Skipping entity\n",
      "Skipping entity\n",
      "Skipping entity\n",
      "Skipping entity\n",
      "Skipping entity\n",
      "Skipping entity\n",
      "Skipping entity\n",
      "Skipping entity\n",
      "Skipping entity\n",
      "Skipping entity\n",
      "Skipping entity\n",
      "Skipping entity\n",
      "Skipping entity\n",
      "Skipping entity\n",
      "Skipping entity\n",
      "Skipping entity\n",
      "Skipping entity\n",
      "Skipping entity"
     ]
    },
    {
     "name": "stderr",
     "output_type": "stream",
     "text": [
      " 70%|███████   | 8746/12438 [00:02<00:01, 3619.37it/s]"
     ]
    },
    {
     "name": "stdout",
     "output_type": "stream",
     "text": [
      "\n",
      "Skipping entity\n",
      "Skipping entity\n",
      "Skipping entity\n",
      "Skipping entity\n",
      "Skipping entity\n",
      "Skipping entity\n"
     ]
    },
    {
     "name": "stderr",
     "output_type": "stream",
     "text": [
      " 76%|███████▌  | 9468/12438 [00:02<00:00, 3533.90it/s]"
     ]
    },
    {
     "name": "stdout",
     "output_type": "stream",
     "text": [
      "Skipping entity\n",
      "Skipping entity\n",
      "Skipping entity\n",
      "Skipping entity\n",
      "Skipping entity\n",
      "Skipping entity\n",
      "Skipping entity\n",
      "Skipping entity\n",
      "Skipping entity\n",
      "Skipping entity\n",
      "Skipping entity\n",
      "Skipping entity\n",
      "Skipping entity\n",
      "Skipping entity\n"
     ]
    },
    {
     "name": "stderr",
     "output_type": "stream",
     "text": [
      " 85%|████████▍ | 10527/12438 [00:03<00:00, 3461.16it/s]"
     ]
    },
    {
     "name": "stdout",
     "output_type": "stream",
     "text": [
      "Skipping entity\n",
      "Skipping entity\n",
      "Skipping entity\n",
      "Skipping entity\n",
      "Skipping entity\n",
      "Skipping entity\n",
      "Skipping entity\n",
      "Skipping entity\n",
      "Skipping entity\n",
      "Skipping entity\n",
      "Skipping entity\n",
      "Skipping entity\n",
      "Skipping entity\n",
      "Skipping entity\n",
      "Skipping entity\n",
      "Skipping entity"
     ]
    },
    {
     "name": "stderr",
     "output_type": "stream",
     "text": [
      " 93%|█████████▎| 11606/12438 [00:03<00:00, 3551.69it/s]"
     ]
    },
    {
     "name": "stdout",
     "output_type": "stream",
     "text": [
      "\n",
      "Skipping entity\n",
      "Skipping entity\n",
      "Skipping entity\n",
      "Skipping entity\n",
      "Skipping entity\n",
      "Skipping entity\n",
      "Skipping entity\n",
      "Skipping entity\n",
      "Skipping entity"
     ]
    },
    {
     "name": "stderr",
     "output_type": "stream",
     "text": [
      "100%|██████████| 12438/12438 [00:03<00:00, 3396.83it/s]\n"
     ]
    },
    {
     "name": "stdout",
     "output_type": "stream",
     "text": [
      "\n",
      "Skipping entity\n",
      "Skipping entity\n",
      "Skipping entity\n",
      "Skipping entity\n",
      "Skipping entity\n",
      "Skipping entity\n",
      "Skipping entity\n",
      "Skipping entity\n",
      "Skipping entity\n",
      "Skipping entity\n",
      "Skipping entity\n",
      "Skipping entity\n",
      "â„¹ Saving to output directory: output\n",
      "â„¹ Using CPU\n",
      "\u001b[1m\n",
      "=========================== Initializing pipeline ===========================\u001b[0m\n",
      "âœ” Initialized pipeline\n",
      "\u001b[1m\n",
      "============================= Training pipeline =============================\u001b[0m\n",
      "â„¹ Pipeline: ['tok2vec', 'ner']\n",
      "â„¹ Initial learn rate: 0.001\n",
      "E    #       LOSS TOK2VEC  LOSS NER  ENTS_F  ENTS_P  ENTS_R  SCORE \n",
      "---  ------  ------------  --------  ------  ------  ------  ------\n",
      "  0       0          0.00     35.50    0.01    1.05    0.00    0.00\n",
      "  0     200         77.95   2505.61   76.67   70.34   84.25    0.77\n",
      "  0     400         79.20   1294.24   86.00   82.43   89.90    0.86\n",
      "  0     600         79.78   1234.44   87.98   83.66   92.77    0.88\n",
      "  0     800         88.30   1314.19   90.58   86.11   95.53    0.91\n",
      "  0    1000         69.70   1371.28   91.60   87.12   96.56    0.92\n",
      "  0    1200         87.75   1644.52   92.77   89.05   96.83    0.93\n",
      "  0    1400        106.82   1803.65   92.92   89.87   96.20    0.93\n",
      "  0    1600        114.09   2080.68   93.69   89.97   97.74    0.94\n",
      "  1    1800        155.26   2314.96   93.82   90.28   97.64    0.94\n",
      "  1    2000        158.58   2566.44   94.51   91.47   97.77    0.95\n",
      "  1    2200        210.08   3161.26   95.18   92.46   98.07    0.95\n",
      "  2    2400        299.54   3240.61   95.57   93.30   97.96    0.96\n",
      "âš  Aborting and saving the final best model. Encountered exception:\n",
      "PermissionError(13, 'The process cannot access the file because it is being used\n",
      "by another process')\n",
      "\n",
      "Total keywords:  384\n",
      "List of Keywords:\n",
      "\n",
      " ['cheese', 'chicken', 'milk', 'butter', 'cream', 'fruit', 'rice', 'water', 'garlic', 'bread', 'sugar', 'salt', 'chocolate', 'fish', 'beef', 'yogurt', 'almond milk', 'greens', 'granola', 'nuts', 'chia seeds', 'onions', 'apples', 'peanut butter', 'squash', 'soda', 'flour', 'garlic powder', 'buttermilk', 'potatoes', 'cottage cheese', 'sour cream', 'turkey', 'beans', 'cream cheese', 'bagel', 'pretzels', 'celery', 'white wine', 'margarine', 'whipped cream', 'ice cream', 'pineapple', 'whipped topping', 'plantains', 'veal', 'mustard', 'corned beef', 'rye', 'fried chicken', 'gravy', 'tuna', 'vegetables', 'eggs', 'rotisserie chicken', 'hot dogs', 'crackers', 'dips', 'meats', 'frozen entrees', 'bacon', 'pasta', 'pizza', 'potato chips', 'avocados', 'pork', 'sunflower seeds', 'lentils', 'lean fish', 'cauliflower', 'asparagus', 'almonds', 'cooked fish', 'honey', 'kimchi', 'herbs', 'dates', 'scallops', 'yuzu', 'corn syrup', 'baking soda', 'molasses', 'yeast', 'cornmeal', 'vinegar', 'parsley', 'worcestershire sauce', 'mushrooms', 'broth', 'peppers', 'oats', 'guava', 'coconut', 'cheesecake', 'cinnamon', 'muffin', 'pies', 'tomato sauce', 'pickles', 'goat', 'lamb', 'seafood', 'olives', 'baking powder', 'sesame seeds', 'raspberries', 'cornstarch', 'hot sauce', 'grits', 'chives', 'coconut milk', 'tamarind', 'tomatoes', 'cumin', 'chili powder', 'onion powder', 'black pepper', 'pie crust', 'cooked rice', 'nutmeg', 'peas', 'refried beans', 'bananas', 'okra', 'cabbage', 'syrup', 'juice concentrates', 'basil', 'fruits', 'horseradish', 'lettuce', 'pesto', 'soy milk', 'hoisin sauce', 'sesame oil', 'peanuts', 'ham', 'bacon bits', 'chutney', 'sun dried tomatoes', 'sausage', 'coffee', 'pasta salad', 'cereal', 'grapes', 'cashews', 'tea', 'pudding', 'coconut cream', 'coconut water', 'apple juice', 'fruit cocktail', 'walnuts', 'dough', 'roasted red peppers', 'whole wheat bread', 'thyme', 'mayonnaise', 'oregano', 'leftovers', 'strawberries', 'berries', 'coleslaw', 'cilantro', 'guacamole', 'tomato paste', 'canola oil', 'mung bean', 'lemon juice', 'ghee', 'avocado oil', 'almond oil', 'grapeseed oil', 'spelt', 'lime juice', 'pure vanilla extract', 'butter flavor', 'string cheese', 'salsa', 'puff pastry', 'biscuits', 'orange juice', 'vegetable soup', 'caviar', 'pine nuts', 'coconut oil', 'quail', 'eggnog', 'kefir', 'base', 'meat products', 'cornish hens', 'chicken salad', 'canned chicken', 'tortillas', 'fatty fish', 'miso', 'whole wheat flour', 'cookies', 'quiche', 'tamarind paste', 'sugar substitutes', 'cookie dough', 'bamboo shoots', 'oyster sauce', 'potato salad', 'brussels sprouts', 'cherry tomatoes', 'taro', 'barley', 'aioli', 'salami', 'prosciutto', 'chocolate syrup', 'pectin', 'rice milk', 'coconuts', 'turkey bacon', 'black bean sauce', 'tofu', 'rosemary', 'powdered milk', 'popcorn', 'almond butter', 'cashew butter', 'hummus', 'jerky', 'baby carrots', 'applesauce', 'kohlrabi', 'cantaloupe', 'farro', 'lemongrass', 'almond extract', 'mint', 'zucchini', 'hot peppers', 'swiss chard', 'eggplant', 'cranberry sauce', 'garam masala', 'cheese curds', 'bratwurst', 'bulgur', 'edamame', 'coconut flour', 'kale', 'cherries', 'polenta', 'balsamic vinegar', 'anchovies', 'arugula', 'oils', 'pumpkin seeds', 'flaxseed', 'herring', 'nacho cheese', 'egg dishes', 'quinoa', 'apple cider vinegar', 'ricotta', 'pistachios', 'beets', 'sausages', 'pork roll', 'leeks', 'venison', 'rabbit', 'pastrami', 'chorizo', 'goose', 'chicken parts', 'pheasant', 'watermelon', 'capon', 'duckling', 'blueberries', 'cucumbers', 'red wine', 'canned goods', 'salad dressings', 'croutons', 'breadcrumbs', 'lobster tails', 'squid', 'soy flour', 'cooked pasta', 'dinners', 'pecans', 'casseroles', 'cream pies', 'fruit pies', 'egg salad', 'buckwheat', 'shortening', 'nectar', 'duck fat', 'seasoning blends', 'apricots', 'pomegranate', 'pumpkins', 'cranberries', 'cherimoya', 'citrus fruit', 'kiwi fruit', 'star fruit', 'tapenade', 'bacon grease', 'millet', 'beans and peas', 'radishes', 'rhubarb', 'bok choy', 'jicama', 'turnips', 'melons', 'bean sprouts', 'tempeh', 'marinades', 'capers', 'barbecue sauce', 'apple cider', 'marshmallows', 'tahini', 'seafood salads', 'cinnamon rolls', 'macadamias', 'relish', 'prickly pear', 'celery root', 'honeydew', 'spaghetti sauce', 'canadian bacon', 'sunflower oil', 'bison', 'lemon extract', 'yuzu juice', 'carrot juice', 'macaroons', 'crab legs', 'pork rinds', 'spaghetti squash', 'vegetable juice', 'marinated vegetables', 'pate', 'teff', 'fresh pasta', 'doughnuts', 'ginger root', 'pimento cheese', 'cooking wine', 'radicchio', 'fruit cake', 'rutabagas', 'ham salad', 'kumquats', 'cinnamon extract', 'coconut flavor', 'coffee creamer', 'gelatin', 'nut oils', 'amaranth', 'quark', 'formula', 'soup mixes', 'crab meat', 'salad dressing', 'giblets', 'turducken', 'ice pops', 'sauce mixes', 'toaster pastries', 'hard liquors', 'sorghum', 'egg substitutes', 'variety meats', 'frozen pretzels', 'dry egg noodles', 'pudding mixes', 'bagged greens', 'vegan cheddar cheese', 'kugel', 'tapiocas', 'frying oil'] \n",
      "\n",
      "\n",
      "[[38  6]\n",
      " [ 4 35]]\n",
      "              precision    recall  f1-score   support\n",
      "\n",
      "           1       0.90      0.86      0.88        44\n",
      "           0       0.85      0.90      0.88        39\n",
      "\n",
      "    accuracy                           0.88        83\n",
      "   macro avg       0.88      0.88      0.88        83\n",
      "weighted avg       0.88      0.88      0.88        83\n",
      "\n",
      "Total keywords:  384\n",
      "Total Tweets:  12438\n",
      "List of Keywords:\n",
      "\n",
      " ['cheese', 'chicken', 'milk', 'butter', 'cream', 'fruit', 'rice', 'water', 'garlic', 'bread', 'sugar', 'salt', 'chocolate', 'fish', 'beef', 'yogurt', 'almond milk', 'greens', 'granola', 'nuts', 'chia seeds', 'onions', 'apples', 'peanut butter', 'squash', 'soda', 'flour', 'garlic powder', 'buttermilk', 'potatoes', 'cottage cheese', 'sour cream', 'turkey', 'beans', 'cream cheese', 'bagel', 'pretzels', 'celery', 'white wine', 'margarine', 'whipped cream', 'ice cream', 'pineapple', 'whipped topping', 'plantains', 'veal', 'mustard', 'corned beef', 'rye', 'fried chicken', 'gravy', 'tuna', 'vegetables', 'eggs', 'rotisserie chicken', 'hot dogs', 'crackers', 'dips', 'meats', 'frozen entrees', 'bacon', 'pasta', 'pizza', 'potato chips', 'avocados', 'pork', 'sunflower seeds', 'lentils', 'lean fish', 'cauliflower', 'asparagus', 'almonds', 'cooked fish', 'honey', 'kimchi', 'herbs', 'dates', 'scallops', 'yuzu', 'corn syrup', 'baking soda', 'molasses', 'yeast', 'cornmeal', 'vinegar', 'parsley', 'worcestershire sauce', 'mushrooms', 'broth', 'peppers', 'oats', 'guava', 'coconut', 'cheesecake', 'cinnamon', 'muffin', 'pies', 'tomato sauce', 'pickles', 'goat', 'lamb', 'seafood', 'olives', 'baking powder', 'sesame seeds', 'raspberries', 'cornstarch', 'hot sauce', 'grits', 'chives', 'coconut milk', 'tamarind', 'tomatoes', 'cumin', 'chili powder', 'onion powder', 'black pepper', 'pie crust', 'cooked rice', 'nutmeg', 'peas', 'refried beans', 'bananas', 'okra', 'cabbage', 'syrup', 'juice concentrates', 'basil', 'fruits', 'horseradish', 'lettuce', 'pesto', 'soy milk', 'hoisin sauce', 'sesame oil', 'peanuts', 'ham', 'bacon bits', 'chutney', 'sun dried tomatoes', 'sausage', 'coffee', 'pasta salad', 'cereal', 'grapes', 'cashews', 'tea', 'pudding', 'coconut cream', 'coconut water', 'apple juice', 'fruit cocktail', 'walnuts', 'dough', 'roasted red peppers', 'whole wheat bread', 'thyme', 'mayonnaise', 'oregano', 'leftovers', 'strawberries', 'berries', 'coleslaw', 'cilantro', 'guacamole', 'tomato paste', 'canola oil', 'mung bean', 'lemon juice', 'ghee', 'avocado oil', 'almond oil', 'grapeseed oil', 'spelt', 'lime juice', 'pure vanilla extract', 'butter flavor', 'string cheese', 'salsa', 'puff pastry', 'biscuits', 'orange juice', 'vegetable soup', 'caviar', 'pine nuts', 'coconut oil', 'quail', 'eggnog', 'kefir', 'base', 'meat products', 'cornish hens', 'chicken salad', 'canned chicken', 'tortillas', 'fatty fish', 'miso', 'whole wheat flour', 'cookies', 'quiche', 'tamarind paste', 'sugar substitutes', 'cookie dough', 'bamboo shoots', 'oyster sauce', 'potato salad', 'brussels sprouts', 'cherry tomatoes', 'taro', 'barley', 'aioli', 'salami', 'prosciutto', 'chocolate syrup', 'pectin', 'rice milk', 'coconuts', 'turkey bacon', 'black bean sauce', 'tofu', 'rosemary', 'powdered milk', 'popcorn', 'almond butter', 'cashew butter', 'hummus', 'jerky', 'baby carrots', 'applesauce', 'kohlrabi', 'cantaloupe', 'farro', 'lemongrass', 'almond extract', 'mint', 'zucchini', 'hot peppers', 'swiss chard', 'eggplant', 'cranberry sauce', 'garam masala', 'cheese curds', 'bratwurst', 'bulgur', 'edamame', 'coconut flour', 'kale', 'cherries', 'polenta', 'balsamic vinegar', 'anchovies', 'arugula', 'oils', 'pumpkin seeds', 'flaxseed', 'herring', 'nacho cheese', 'egg dishes', 'quinoa', 'apple cider vinegar', 'ricotta', 'pistachios', 'beets', 'sausages', 'pork roll', 'leeks', 'venison', 'rabbit', 'pastrami', 'chorizo', 'goose', 'chicken parts', 'pheasant', 'watermelon', 'capon', 'duckling', 'blueberries', 'cucumbers', 'red wine', 'canned goods', 'salad dressings', 'croutons', 'breadcrumbs', 'lobster tails', 'squid', 'soy flour', 'cooked pasta', 'dinners', 'pecans', 'casseroles', 'cream pies', 'fruit pies', 'egg salad', 'buckwheat', 'shortening', 'nectar', 'duck fat', 'seasoning blends', 'apricots', 'pomegranate', 'pumpkins', 'cranberries', 'cherimoya', 'citrus fruit', 'kiwi fruit', 'star fruit', 'tapenade', 'bacon grease', 'millet', 'beans and peas', 'radishes', 'rhubarb', 'bok choy', 'jicama', 'turnips', 'melons', 'bean sprouts', 'tempeh', 'marinades', 'capers', 'barbecue sauce', 'apple cider', 'marshmallows', 'tahini', 'seafood salads', 'cinnamon rolls', 'macadamias', 'relish', 'prickly pear', 'celery root', 'honeydew', 'spaghetti sauce', 'canadian bacon', 'sunflower oil', 'bison', 'lemon extract', 'yuzu juice', 'carrot juice', 'macaroons', 'crab legs', 'pork rinds', 'spaghetti squash', 'vegetable juice', 'marinated vegetables', 'pate', 'teff', 'fresh pasta', 'doughnuts', 'ginger root', 'pimento cheese', 'cooking wine', 'radicchio', 'fruit cake', 'rutabagas', 'ham salad', 'kumquats', 'cinnamon extract', 'coconut flavor', 'coffee creamer', 'gelatin', 'nut oils', 'amaranth', 'quark', 'formula', 'soup mixes', 'crab meat', 'salad dressing', 'giblets', 'turducken', 'ice pops', 'sauce mixes', 'toaster pastries', 'hard liquors', 'sorghum', 'egg substitutes', 'variety meats', 'frozen pretzels', 'dry egg noodles', 'pudding mixes', 'bagged greens', 'vegan cheddar cheese', 'kugel', 'tapiocas', 'frying oil'] \n",
      "\n",
      "\n",
      "Training Done...\n",
      "[]\n"
     ]
    }
   ],
   "source": [
    "# trainModel(training_data)\n",
    "# print(keywords)  \n"
   ]
  },
  {
   "cell_type": "code",
   "execution_count": null,
   "metadata": {},
   "outputs": [],
   "source": [
    "def getCommonVerbs():\n",
    "    import en_core_web_sm\n",
    "    nlp2 = spacy.load(\"en_core_web_sm\")\n",
    "    count = 0\n",
    "    myVerbs = {}\n",
    "    for i in range(10): #(len(training_data)):\n",
    "        doc = nlp2(training_data[0][i])\n",
    "        for token in doc:\n",
    "            print(token, token.pos_)\n",
    "            if token.pos_ == \"VERB\":\n",
    "                if token.text in myVerbs:\n",
    "                    myVerbs[token.text] = myVerbs[token.text] + 1\n",
    "                else:\n",
    "                    if token.text not in nlp2.Defaults.stop_words:\n",
    "                        myVerbs[token.text] = 1\n",
    "        \n",
    "    print(count)\n",
    "    topVerbs = dict(sorted(myVerbs.items(), key = lambda item: item[1], reverse=True)[:10])\n",
    "    return [key for key in topVerbs]\n",
    "# print(getCommonVerbs())"
   ]
  },
  {
   "cell_type": "code",
   "execution_count": 19,
   "metadata": {},
   "outputs": [
    {
     "name": "stdout",
     "output_type": "stream",
     "text": [
      "(eggs, ham, bacon bits, cream cheese, honey)\n"
     ]
    }
   ],
   "source": [
    "# nlp = spacy.load(MODEL_PATH)\n",
    "# # myTweet = \"My chicken is tasty\"\n",
    "# myTweet = test_data['tweet'][5]\n",
    "# # ent_recognize(\"chicken curry with coconut cream rice cake made with coconut water topped with salted egg sweet bean and candied baby coconut dessert topped with fresh shaved ice leche flan made with duck eggs and lime zest pastillas de leche made with carabao milk\")\n",
    "# x = nlp(myTweet)\n",
    "# splitSent = myTweet.split()\n",
    "# for i in range(len(x.ents)):\n",
    "#     if str(x.ents[i]) in splitSent:\n",
    "#         print(splitSent.index(str(x.ents[i])))\n",
    "        \n",
    "# print(x.doc.ents)\n",
    "# print(splitSent)"
   ]
  },
  {
   "cell_type": "code",
   "execution_count": 14,
   "metadata": {},
   "outputs": [],
   "source": [
    "#def findPreviousNextWord(tweets, keywords):\n",
    "foodKeeperKeywords = foodKeeperInfo()\n",
    "commonWords = {}\n",
    "commonPairWords = {}\n",
    "nlp2 = spacy.load(\"en_core_web_sm\")\n",
    "for i in range(len(training_data)):\n",
    "    #Preprocess and remove stop words from each tweet\n",
    "    myTweet = preProcess(training_data[0][i]).split()\n",
    "    myTweet = [word for word in myTweet if not word in nlp2.Defaults.stop_words]\n",
    "    \n",
    "    for i in range(len(myTweet)):\n",
    "        if myTweet[i] in foodKeeperKeywords:\n",
    "            try:\n",
    "                leftWord = myTweet[i-1]\n",
    "                if leftWord in commonWords:\n",
    "                    commonWords[leftWord] += 1\n",
    "                else:\n",
    "                    commonWords[leftWord] = 1\n",
    "            except:\n",
    "                pass\n",
    "            try: \n",
    "                rightWord = myTweet[i+1]\n",
    "                if rightWord in commonWords:\n",
    "                    commonWords[rightWord] += 1\n",
    "                else:\n",
    "                    commonWords[rightWord] = 1\n",
    "            except:\n",
    "                pass\n",
    "            try:\n",
    "                if (leftWord, rightWord) in commonPairWords:\n",
    "                    commonPairWords[(leftWord,rightWord)] += 1\n",
    "                else:\n",
    "                    commonPairWords[(leftWord,rightWord)] = 1\n",
    "            except:\n",
    "                pass\n",
    "\n",
    "#commonWords are words that occur before and after a keyword\n",
    "commonWords = dict(sorted(commonWords.items(), key = lambda item: item[1], reverse=True))\n",
    "commonWords = [key for key in commonWords]\n",
    "\n",
    "#commonPairWords are pairs or words that occur before and after a keyword\n",
    "commonPairWords = dict(sorted(commonPairWords.items(), key = lambda item: item[1], reverse=True))\n",
    "# print(training_data[0][1000])\n",
    "# print(foodKeeperKeywords)"
   ]
  },
  {
   "cell_type": "code",
   "execution_count": 15,
   "metadata": {},
   "outputs": [
    {
     "name": "stdout",
     "output_type": "stream",
     "text": [
      "['like', 'cheese', 'milk', 'coconut', 'salad', 'cream', 'ice', 'fried', 'oil', 'almond', 'chicken', 'rice', 'peanut', 'sauce', 'garlic', 'fresh', 'red', 'butter', 'eat', 'green', 'good', 'dried', 'sweet', 'roasted', 'add']\n"
     ]
    }
   ],
   "source": [
    "# print(commonWords[:25])\n",
    "# myIter= iter(commonPairWords)\n",
    "# for iter1 in iter(commonPairWords):\n",
    "#     print(iter1, commonPairWords[iter1])"
   ]
  },
  {
   "cell_type": "code",
   "execution_count": null,
   "metadata": {},
   "outputs": [],
   "source": [
    "import re\n",
    "#count all words and adjacent\n",
    "def findAdjacentWords(data,keywords):\n",
    "    allWords = {}\n",
    "    count = 0\n",
    "    for tweet in data[0][:10]:\n",
    "        splitTweet = preProcess(tweet).split()\n",
    "        for i in range(len(splitTweet)):\n",
    "            word = splitTweet[i]\n",
    "            try:\n",
    "                biword = word + \" \" + splitTweet[i + 1]\n",
    "                if biword in keywords:\n",
    "                    print(\"Biword:\", biword)\n",
    "                    continue\n",
    "            except:\n",
    "                pass\n",
    "            try:\n",
    "                triword = word + \" \" + splitTweet[i + 1] + \" \" + splitTweet[i + 2]\n",
    "                if triword in keywords:\n",
    "                    print(\"Triword:\", triword)\n",
    "                    continue\n",
    "            except:\n",
    "                pass\n",
    "            \n",
    "        \n",
    "    \n",
    "    '''mySent = \"I am eating chicken for breakfast lunch and dinner tonight.\"\n",
    "    mySearch = re.search('chicken', mySent)\n",
    "    mySpan = mySearch.span()\n",
    "    print(mySent[mySpan[0]:mySpan[1]])\n",
    "    '''\n",
    "# findAdjacentWords(training_data, foodKeeperKeywords)"
   ]
  },
  {
   "cell_type": "markdown",
   "metadata": {},
   "source": [
    "# Test Data with 1.6 Million Tweet Dataset"
   ]
  },
  {
   "cell_type": "code",
   "execution_count": 17,
   "metadata": {},
   "outputs": [
    {
     "name": "stdout",
     "output_type": "stream",
     "text": [
      "mashed hard boiled eggs + farmer's ham scraps + hickory bacon bits + cream cheese + honey dijon dressing = my delectable breakfast\n"
     ]
    }
   ],
   "source": [
    "# print(live_tweets[5][:10])\n",
    "# print(test_data['tweet'][5])"
   ]
  },
  {
   "cell_type": "markdown",
   "metadata": {},
   "source": [
    "# See what keywords are found by the created model"
   ]
  },
  {
   "cell_type": "code",
   "execution_count": null,
   "metadata": {},
   "outputs": [],
   "source": [
    "# keywordsFound = []\n",
    "# nlp = spacy.load(MODEL_PATH)\n",
    "# print(nlp.pipeline)\n",
    "# for tweet in live_tweets[5]: #test_data['tweet']:\n",
    "#     modeledTweet = nlp(preProcess(tweet))\n",
    "#     for token in modeledTweet.doc.ents:\n",
    "#         if str(token) in keywordsFound: continue\n",
    "#         keywordsFound.append(str(token))"
   ]
  },
  {
   "cell_type": "markdown",
   "metadata": {},
   "source": [
    "# If the model finds food keywords print the Tweet\n",
    "To help visualize which keywords are being found this loop iterates through the Tweets testing the model to see what keywords it finds. If it finds a keyword in the Tweet it will print the Tweet and highlight the keyword"
   ]
  },
  {
   "cell_type": "code",
   "execution_count": 21,
   "metadata": {},
   "outputs": [
    {
     "data": {
      "text/html": [
       "<span class=\"tex2jax_ignore\"><div class=\"entities\" style=\"line-height: 2.5; direction: ltr\">just microwaved a kashi \n",
       "<mark class=\"entity\" style=\"background: #ddd; padding: 0.45em 0.6em; margin: 0 0.25em; line-height: 1; border-radius: 0.35em;\">\n",
       "    chicken\n",
       "    <span style=\"font-size: 0.8em; font-weight: bold; line-height: 1; border-radius: 0.35em; vertical-align: middle; margin-left: 0.5rem\">FOOD</span>\n",
       "</mark>\n",
       " and spinach thing and put in the \n",
       "<mark class=\"entity\" style=\"background: #ddd; padding: 0.45em 0.6em; margin: 0 0.25em; line-height: 1; border-radius: 0.35em;\">\n",
       "    milk\n",
       "    <span style=\"font-size: 0.8em; font-weight: bold; line-height: 1; border-radius: 0.35em; vertical-align: middle; margin-left: 0.5rem\">FOOD</span>\n",
       "</mark>\n",
       " dvd anyone seen it? i bet it's good i still havent seen slumdog</div></span>"
      ],
      "text/plain": [
       "<IPython.core.display.HTML object>"
      ]
     },
     "metadata": {},
     "output_type": "display_data"
    },
    {
     "data": {
      "text/html": [
       "<span class=\"tex2jax_ignore\"><div class=\"entities\" style=\"line-height: 2.5; direction: ltr\"> thats really sad i wolud hate that! but i had choco \n",
       "<mark class=\"entity\" style=\"background: #ddd; padding: 0.45em 0.6em; margin: 0 0.25em; line-height: 1; border-radius: 0.35em;\">\n",
       "    milk\n",
       "    <span style=\"font-size: 0.8em; font-weight: bold; line-height: 1; border-radius: 0.35em; vertical-align: middle; margin-left: 0.5rem\">FOOD</span>\n",
       "</mark>\n",
       " earlier =d lol</div></span>"
      ],
      "text/plain": [
       "<IPython.core.display.HTML object>"
      ]
     },
     "metadata": {},
     "output_type": "display_data"
    },
    {
     "name": "stderr",
     "output_type": "stream",
     "text": [
      "C:\\ProgramData\\Anaconda3\\lib\\site-packages\\spacy\\displacy\\__init__.py:200: UserWarning: [W006] No entities to visualize found in Doc object. If this is surprising to you, make sure the Doc was processed using a model that supports named entity recognition, and check the `doc.ents` property manually if necessary.\n",
      "  warnings.warn(Warnings.W006)\n"
     ]
    },
    {
     "data": {
      "text/html": [
       "<span class=\"tex2jax_ignore\"><div class=\"entities\" style=\"line-height: 2.5; direction: ltr\"> and it took me my entire walk to the train station to undo it</div></span>"
      ],
      "text/plain": [
       "<IPython.core.display.HTML object>"
      ]
     },
     "metadata": {},
     "output_type": "display_data"
    },
    {
     "data": {
      "text/html": [
       "<span class=\"tex2jax_ignore\"><div class=\"entities\" style=\"line-height: 2.5; direction: ltr\">just finished cooking spag bol from scratch in other words been cooking for the past 4 hours! i'm not hungry anymore</div></span>"
      ],
      "text/plain": [
       "<IPython.core.display.HTML object>"
      ]
     },
     "metadata": {},
     "output_type": "display_data"
    },
    {
     "data": {
      "text/html": [
       "<span class=\"tex2jax_ignore\"><div class=\"entities\" style=\"line-height: 2.5; direction: ltr\">oh noooooo kath is back from annual leave!!!!! du du duuuuuuuu!</div></span>"
      ],
      "text/plain": [
       "<IPython.core.display.HTML object>"
      ]
     },
     "metadata": {},
     "output_type": "display_data"
    },
    {
     "data": {
      "text/html": [
       "<span class=\"tex2jax_ignore\"><div class=\"entities\" style=\"line-height: 2.5; direction: ltr\">mashed hard boiled \n",
       "<mark class=\"entity\" style=\"background: #ddd; padding: 0.45em 0.6em; margin: 0 0.25em; line-height: 1; border-radius: 0.35em;\">\n",
       "    eggs\n",
       "    <span style=\"font-size: 0.8em; font-weight: bold; line-height: 1; border-radius: 0.35em; vertical-align: middle; margin-left: 0.5rem\">FOOD</span>\n",
       "</mark>\n",
       " + farmer's \n",
       "<mark class=\"entity\" style=\"background: #ddd; padding: 0.45em 0.6em; margin: 0 0.25em; line-height: 1; border-radius: 0.35em;\">\n",
       "    ham\n",
       "    <span style=\"font-size: 0.8em; font-weight: bold; line-height: 1; border-radius: 0.35em; vertical-align: middle; margin-left: 0.5rem\">FOOD</span>\n",
       "</mark>\n",
       " scraps + hickory \n",
       "<mark class=\"entity\" style=\"background: #ddd; padding: 0.45em 0.6em; margin: 0 0.25em; line-height: 1; border-radius: 0.35em;\">\n",
       "    bacon bits\n",
       "    <span style=\"font-size: 0.8em; font-weight: bold; line-height: 1; border-radius: 0.35em; vertical-align: middle; margin-left: 0.5rem\">FOOD</span>\n",
       "</mark>\n",
       " + \n",
       "<mark class=\"entity\" style=\"background: #ddd; padding: 0.45em 0.6em; margin: 0 0.25em; line-height: 1; border-radius: 0.35em;\">\n",
       "    cream cheese\n",
       "    <span style=\"font-size: 0.8em; font-weight: bold; line-height: 1; border-radius: 0.35em; vertical-align: middle; margin-left: 0.5rem\">FOOD</span>\n",
       "</mark>\n",
       " + \n",
       "<mark class=\"entity\" style=\"background: #ddd; padding: 0.45em 0.6em; margin: 0 0.25em; line-height: 1; border-radius: 0.35em;\">\n",
       "    honey\n",
       "    <span style=\"font-size: 0.8em; font-weight: bold; line-height: 1; border-radius: 0.35em; vertical-align: middle; margin-left: 0.5rem\">FOOD</span>\n",
       "</mark>\n",
       " dijon dressing = my delectable breakfast</div></span>"
      ],
      "text/plain": [
       "<IPython.core.display.HTML object>"
      ]
     },
     "metadata": {},
     "output_type": "display_data"
    },
    {
     "data": {
      "text/html": [
       "<span class=\"tex2jax_ignore\"><div class=\"entities\" style=\"line-height: 2.5; direction: ltr\">i made twice baked \n",
       "<mark class=\"entity\" style=\"background: #ddd; padding: 0.45em 0.6em; margin: 0 0.25em; line-height: 1; border-radius: 0.35em;\">\n",
       "    potatoes\n",
       "    <span style=\"font-size: 0.8em; font-weight: bold; line-height: 1; border-radius: 0.35em; vertical-align: middle; margin-left: 0.5rem\">FOOD</span>\n",
       "</mark>\n",
       " broccoli and \n",
       "<mark class=\"entity\" style=\"background: #ddd; padding: 0.45em 0.6em; margin: 0 0.25em; line-height: 1; border-radius: 0.35em;\">\n",
       "    tomato salad\n",
       "    <span style=\"font-size: 0.8em; font-weight: bold; line-height: 1; border-radius: 0.35em; vertical-align: middle; margin-left: 0.5rem\">FOOD</span>\n",
       "</mark>\n",
       " with my blue \n",
       "<mark class=\"entity\" style=\"background: #ddd; padding: 0.45em 0.6em; margin: 0 0.25em; line-height: 1; border-radius: 0.35em;\">\n",
       "    cheese\n",
       "    <span style=\"font-size: 0.8em; font-weight: bold; line-height: 1; border-radius: 0.35em; vertical-align: middle; margin-left: 0.5rem\">FOOD</span>\n",
       "</mark>\n",
       " dressing and \n",
       "<mark class=\"entity\" style=\"background: #ddd; padding: 0.45em 0.6em; margin: 0 0.25em; line-height: 1; border-radius: 0.35em;\">\n",
       "    lamb\n",
       "    <span style=\"font-size: 0.8em; font-weight: bold; line-height: 1; border-radius: 0.35em; vertical-align: middle; margin-left: 0.5rem\">FOOD</span>\n",
       "</mark>\n",
       " chops for dinner damn i'm good</div></span>"
      ],
      "text/plain": [
       "<IPython.core.display.HTML object>"
      ]
     },
     "metadata": {},
     "output_type": "display_data"
    },
    {
     "data": {
      "text/html": [
       "<span class=\"tex2jax_ignore\"><div class=\"entities\" style=\"line-height: 2.5; direction: ltr\"> hahahaha why do you love it so much again? oh right i remember now ha</div></span>"
      ],
      "text/plain": [
       "<IPython.core.display.HTML object>"
      ]
     },
     "metadata": {},
     "output_type": "display_data"
    },
    {
     "data": {
      "text/html": [
       "<span class=\"tex2jax_ignore\"><div class=\"entities\" style=\"line-height: 2.5; direction: ltr\">decided on having #cornflakes for breakfast and sparing the #marshmallows for making #smores at the next #bbq</div></span>"
      ],
      "text/plain": [
       "<IPython.core.display.HTML object>"
      ]
     },
     "metadata": {},
     "output_type": "display_data"
    },
    {
     "data": {
      "text/html": [
       "<span class=\"tex2jax_ignore\"><div class=\"entities\" style=\"line-height: 2.5; direction: ltr\"> alone at home too ;) eating cereals and watching videoclips on tv atm: coldplay's life in technicolor ii yeah</div></span>"
      ],
      "text/plain": [
       "<IPython.core.display.HTML object>"
      ]
     },
     "metadata": {},
     "output_type": "display_data"
    },
    {
     "data": {
      "text/html": [
       "<span class=\"tex2jax_ignore\"><div class=\"entities\" style=\"line-height: 2.5; direction: ltr\">i love sitting around jess' room just singing talking and laughing</div></span>"
      ],
      "text/plain": [
       "<IPython.core.display.HTML object>"
      ]
     },
     "metadata": {},
     "output_type": "display_data"
    },
    {
     "data": {
      "text/html": [
       "<span class=\"tex2jax_ignore\"><div class=\"entities\" style=\"line-height: 2.5; direction: ltr\">i love how my energy affects other people</div></span>"
      ],
      "text/plain": [
       "<IPython.core.display.HTML object>"
      ]
     },
     "metadata": {},
     "output_type": "display_data"
    },
    {
     "data": {
      "text/html": [
       "<span class=\"tex2jax_ignore\"><div class=\"entities\" style=\"line-height: 2.5; direction: ltr\"> of course dannytotally different everyone knows a good malbec pairs quite well with a med to hot \n",
       "<mark class=\"entity\" style=\"background: #ddd; padding: 0.45em 0.6em; margin: 0 0.25em; line-height: 1; border-radius: 0.35em;\">\n",
       "    salsa\n",
       "    <span style=\"font-size: 0.8em; font-weight: bold; line-height: 1; border-radius: 0.35em; vertical-align: middle; margin-left: 0.5rem\">FOOD</span>\n",
       "</mark>\n",
       "</div></span>"
      ],
      "text/plain": [
       "<IPython.core.display.HTML object>"
      ]
     },
     "metadata": {},
     "output_type": "display_data"
    },
    {
     "data": {
      "text/html": [
       "<span class=\"tex2jax_ignore\"><div class=\"entities\" style=\"line-height: 2.5; direction: ltr\"> im so jealousi want \n",
       "<mark class=\"entity\" style=\"background: #ddd; padding: 0.45em 0.6em; margin: 0 0.25em; line-height: 1; border-radius: 0.35em;\">\n",
       "    salsa\n",
       "    <span style=\"font-size: 0.8em; font-weight: bold; line-height: 1; border-radius: 0.35em; vertical-align: middle; margin-left: 0.5rem\">FOOD</span>\n",
       "</mark>\n",
       " but the \n",
       "<mark class=\"entity\" style=\"background: #ddd; padding: 0.45em 0.6em; margin: 0 0.25em; line-height: 1; border-radius: 0.35em;\">\n",
       "    cookies\n",
       "    <span style=\"font-size: 0.8em; font-weight: bold; line-height: 1; border-radius: 0.35em; vertical-align: middle; margin-left: 0.5rem\">FOOD</span>\n",
       "</mark>\n",
       " were amazing!</div></span>"
      ],
      "text/plain": [
       "<IPython.core.display.HTML object>"
      ]
     },
     "metadata": {},
     "output_type": "display_data"
    },
    {
     "data": {
      "text/html": [
       "<span class=\"tex2jax_ignore\"><div class=\"entities\" style=\"line-height: 2.5; direction: ltr\">rain ruined the malaysian gp  not much fun neither any money from it </div></span>"
      ],
      "text/plain": [
       "<IPython.core.display.HTML object>"
      ]
     },
     "metadata": {},
     "output_type": "display_data"
    },
    {
     "data": {
      "text/html": [
       "<span class=\"tex2jax_ignore\"><div class=\"entities\" style=\"line-height: 2.5; direction: ltr\">\n",
       "<mark class=\"entity\" style=\"background: #ddd; padding: 0.45em 0.6em; margin: 0 0.25em; line-height: 1; border-radius: 0.35em;\">\n",
       "    bananas\n",
       "    <span style=\"font-size: 0.8em; font-weight: bold; line-height: 1; border-radius: 0.35em; vertical-align: middle; margin-left: 0.5rem\">FOOD</span>\n",
       "</mark>\n",
       " \n",
       "<mark class=\"entity\" style=\"background: #ddd; padding: 0.45em 0.6em; margin: 0 0.25em; line-height: 1; border-radius: 0.35em;\">\n",
       "    rice\n",
       "    <span style=\"font-size: 0.8em; font-weight: bold; line-height: 1; border-radius: 0.35em; vertical-align: middle; margin-left: 0.5rem\">FOOD</span>\n",
       "</mark>\n",
       " \n",
       "<mark class=\"entity\" style=\"background: #ddd; padding: 0.45em 0.6em; margin: 0 0.25em; line-height: 1; border-radius: 0.35em;\">\n",
       "    applesauce\n",
       "    <span style=\"font-size: 0.8em; font-weight: bold; line-height: 1; border-radius: 0.35em; vertical-align: middle; margin-left: 0.5rem\">FOOD</span>\n",
       "</mark>\n",
       " toast</div></span>"
      ],
      "text/plain": [
       "<IPython.core.display.HTML object>"
      ]
     },
     "metadata": {},
     "output_type": "display_data"
    },
    {
     "data": {
      "text/html": [
       "<span class=\"tex2jax_ignore\"><div class=\"entities\" style=\"line-height: 2.5; direction: ltr\">still living on \n",
       "<mark class=\"entity\" style=\"background: #ddd; padding: 0.45em 0.6em; margin: 0 0.25em; line-height: 1; border-radius: 0.35em;\">\n",
       "    ice cream\n",
       "    <span style=\"font-size: 0.8em; font-weight: bold; line-height: 1; border-radius: 0.35em; vertical-align: middle; margin-left: 0.5rem\">FOOD</span>\n",
       "</mark>\n",
       " sherbet \n",
       "<mark class=\"entity\" style=\"background: #ddd; padding: 0.45em 0.6em; margin: 0 0.25em; line-height: 1; border-radius: 0.35em;\">\n",
       "    applesauce\n",
       "    <span style=\"font-size: 0.8em; font-weight: bold; line-height: 1; border-radius: 0.35em; vertical-align: middle; margin-left: 0.5rem\">FOOD</span>\n",
       "</mark>\n",
       " \n",
       "<mark class=\"entity\" style=\"background: #ddd; padding: 0.45em 0.6em; margin: 0 0.25em; line-height: 1; border-radius: 0.35em;\">\n",
       "    pudding\n",
       "    <span style=\"font-size: 0.8em; font-weight: bold; line-height: 1; border-radius: 0.35em; vertical-align: middle; margin-left: 0.5rem\">FOOD</span>\n",
       "</mark>\n",
       " and jello brian left today still cant talk yet only wispering</div></span>"
      ],
      "text/plain": [
       "<IPython.core.display.HTML object>"
      ]
     },
     "metadata": {},
     "output_type": "display_data"
    },
    {
     "data": {
      "text/html": [
       "<span class=\"tex2jax_ignore\"><div class=\"entities\" style=\"line-height: 2.5; direction: ltr\"> oh honey!</div></span>"
      ],
      "text/plain": [
       "<IPython.core.display.HTML object>"
      ]
     },
     "metadata": {},
     "output_type": "display_data"
    },
    {
     "data": {
      "text/html": [
       "<span class=\"tex2jax_ignore\"><div class=\"entities\" style=\"line-height: 2.5; direction: ltr\">just found out my brother is moving from hong kong to singapore in june and i didn't get a chance to visit him in hong kong yet!</div></span>"
      ],
      "text/plain": [
       "<IPython.core.display.HTML object>"
      ]
     },
     "metadata": {},
     "output_type": "display_data"
    },
    {
     "data": {
      "text/html": [
       "<span class=\"tex2jax_ignore\"><div class=\"entities\" style=\"line-height: 2.5; direction: ltr\"> thats so exciting! u are coming to south america in a few hours! but not to colombia hope u have fun here! we love u!!</div></span>"
      ],
      "text/plain": [
       "<IPython.core.display.HTML object>"
      ]
     },
     "metadata": {},
     "output_type": "display_data"
    },
    {
     "data": {
      "text/html": [
       "<span class=\"tex2jax_ignore\"><div class=\"entities\" style=\"line-height: 2.5; direction: ltr\">haha *squid!* oooo but ya im ganna try and get it figured out tomorrow im like freakin dieing without a phone</div></span>"
      ],
      "text/plain": [
       "<IPython.core.display.HTML object>"
      ]
     },
     "metadata": {},
     "output_type": "display_data"
    },
    {
     "data": {
      "text/html": [
       "<span class=\"tex2jax_ignore\"><div class=\"entities\" style=\"line-height: 2.5; direction: ltr\">we can't get the dog i'm seriously sad now</div></span>"
      ],
      "text/plain": [
       "<IPython.core.display.HTML object>"
      ]
     },
     "metadata": {},
     "output_type": "display_data"
    },
    {
     "data": {
      "text/html": [
       "<span class=\"tex2jax_ignore\"><div class=\"entities\" style=\"line-height: 2.5; direction: ltr\"> i found out that there's sushi with fake \n",
       "<mark class=\"entity\" style=\"background: #ddd; padding: 0.45em 0.6em; margin: 0 0.25em; line-height: 1; border-radius: 0.35em;\">\n",
       "    crab meat\n",
       "    <span style=\"font-size: 0.8em; font-weight: bold; line-height: 1; border-radius: 0.35em; vertical-align: middle; margin-left: 0.5rem\">FOOD</span>\n",
       "</mark>\n",
       " and it's not good for you</div></span>"
      ],
      "text/plain": [
       "<IPython.core.display.HTML object>"
      ]
     },
     "metadata": {},
     "output_type": "display_data"
    },
    {
     "data": {
      "text/html": [
       "<span class=\"tex2jax_ignore\"><div class=\"entities\" style=\"line-height: 2.5; direction: ltr\">spilled \n",
       "<mark class=\"entity\" style=\"background: #ddd; padding: 0.45em 0.6em; margin: 0 0.25em; line-height: 1; border-radius: 0.35em;\">\n",
       "    butter\n",
       "    <span style=\"font-size: 0.8em; font-weight: bold; line-height: 1; border-radius: 0.35em; vertical-align: middle; margin-left: 0.5rem\">FOOD</span>\n",
       "</mark>\n",
       " oil all over my blackberry while eating \n",
       "<mark class=\"entity\" style=\"background: #ddd; padding: 0.45em 0.6em; margin: 0 0.25em; line-height: 1; border-radius: 0.35em;\">\n",
       "    crab legs\n",
       "    <span style=\"font-size: 0.8em; font-weight: bold; line-height: 1; border-radius: 0.35em; vertical-align: middle; margin-left: 0.5rem\">FOOD</span>\n",
       "</mark>\n",
       "  its all messed up now</div></span>"
      ],
      "text/plain": [
       "<IPython.core.display.HTML object>"
      ]
     },
     "metadata": {},
     "output_type": "display_data"
    },
    {
     "data": {
      "text/html": [
       "<span class=\"tex2jax_ignore\"><div class=\"entities\" style=\"line-height: 2.5; direction: ltr\">ah beer and \n",
       "<mark class=\"entity\" style=\"background: #ddd; padding: 0.45em 0.6em; margin: 0 0.25em; line-height: 1; border-radius: 0.35em;\">\n",
       "    crab legs\n",
       "    <span style=\"font-size: 0.8em; font-weight: bold; line-height: 1; border-radius: 0.35em; vertical-align: middle; margin-left: 0.5rem\">FOOD</span>\n",
       "</mark>\n",
       " oh man tomorrow is gonna suck</div></span>"
      ],
      "text/plain": [
       "<IPython.core.display.HTML object>"
      ]
     },
     "metadata": {},
     "output_type": "display_data"
    },
    {
     "data": {
      "text/html": [
       "<span class=\"tex2jax_ignore\"><div class=\"entities\" style=\"line-height: 2.5; direction: ltr\"> totally jealous of the \n",
       "<mark class=\"entity\" style=\"background: #ddd; padding: 0.45em 0.6em; margin: 0 0.25em; line-height: 1; border-radius: 0.35em;\">\n",
       "    crab legs\n",
       "    <span style=\"font-size: 0.8em; font-weight: bold; line-height: 1; border-radius: 0.35em; vertical-align: middle; margin-left: 0.5rem\">FOOD</span>\n",
       "</mark>\n",
       "</div></span>"
      ],
      "text/plain": [
       "<IPython.core.display.HTML object>"
      ]
     },
     "metadata": {},
     "output_type": "display_data"
    },
    {
     "data": {
      "text/html": [
       "<span class=\"tex2jax_ignore\"><div class=\"entities\" style=\"line-height: 2.5; direction: ltr\"> \n",
       "<mark class=\"entity\" style=\"background: #ddd; padding: 0.45em 0.6em; margin: 0 0.25em; line-height: 1; border-radius: 0.35em;\">\n",
       "    crab legs\n",
       "    <span style=\"font-size: 0.8em; font-weight: bold; line-height: 1; border-radius: 0.35em; vertical-align: middle; margin-left: 0.5rem\">FOOD</span>\n",
       "</mark>\n",
       " huh?never had them allergic to shellfish here</div></span>"
      ],
      "text/plain": [
       "<IPython.core.display.HTML object>"
      ]
     },
     "metadata": {},
     "output_type": "display_data"
    },
    {
     "data": {
      "text/html": [
       "<span class=\"tex2jax_ignore\"><div class=\"entities\" style=\"line-height: 2.5; direction: ltr\">i just had a shot of \n",
       "<mark class=\"entity\" style=\"background: #ddd; padding: 0.45em 0.6em; margin: 0 0.25em; line-height: 1; border-radius: 0.35em;\">\n",
       "    quail\n",
       "    <span style=\"font-size: 0.8em; font-weight: bold; line-height: 1; border-radius: 0.35em; vertical-align: middle; margin-left: 0.5rem\">FOOD</span>\n",
       "</mark>\n",
       " egg chopped salmon and masago at cabin sushi plus it was all you can eat!</div></span>"
      ],
      "text/plain": [
       "<IPython.core.display.HTML object>"
      ]
     },
     "metadata": {},
     "output_type": "display_data"
    },
    {
     "data": {
      "text/html": [
       "<span class=\"tex2jax_ignore\"><div class=\"entities\" style=\"line-height: 2.5; direction: ltr\">just saw fast and furious movie! got 2 love fast cars wat u all thk? muscle vs import?</div></span>"
      ],
      "text/plain": [
       "<IPython.core.display.HTML object>"
      ]
     },
     "metadata": {},
     "output_type": "display_data"
    },
    {
     "data": {
      "text/html": [
       "<span class=\"tex2jax_ignore\"><div class=\"entities\" style=\"line-height: 2.5; direction: ltr\">gr8t day! love how god hears and answers my whispers love him cause he rescued me</div></span>"
      ],
      "text/plain": [
       "<IPython.core.display.HTML object>"
      ]
     },
     "metadata": {},
     "output_type": "display_data"
    },
    {
     "data": {
      "text/html": [
       "<span class=\"tex2jax_ignore\"><div class=\"entities\" style=\"line-height: 2.5; direction: ltr\">thought adventure land was good not as good as superbad</div></span>"
      ],
      "text/plain": [
       "<IPython.core.display.HTML object>"
      ]
     },
     "metadata": {},
     "output_type": "display_data"
    },
    {
     "data": {
      "text/html": [
       "<span class=\"tex2jax_ignore\"><div class=\"entities\" style=\"line-height: 2.5; direction: ltr\">mo jobs no money how in the hell is min wage here 4 f'n clams an hour?</div></span>"
      ],
      "text/plain": [
       "<IPython.core.display.HTML object>"
      ]
     },
     "metadata": {},
     "output_type": "display_data"
    },
    {
     "data": {
      "text/html": [
       "<span class=\"tex2jax_ignore\"><div class=\"entities\" style=\"line-height: 2.5; direction: ltr\"> yes missed my candy and \n",
       "<mark class=\"entity\" style=\"background: #ddd; padding: 0.45em 0.6em; margin: 0 0.25em; line-height: 1; border-radius: 0.35em;\">\n",
       "    pastrami\n",
       "    <span style=\"font-size: 0.8em; font-weight: bold; line-height: 1; border-radius: 0.35em; vertical-align: middle; margin-left: 0.5rem\">FOOD</span>\n",
       "</mark>\n",
       " too</div></span>"
      ],
      "text/plain": [
       "<IPython.core.display.HTML object>"
      ]
     },
     "metadata": {},
     "output_type": "display_data"
    },
    {
     "data": {
      "text/html": [
       "<span class=\"tex2jax_ignore\"><div class=\"entities\" style=\"line-height: 2.5; direction: ltr\">at work ima bout to make me somethinq to eat i would qo qet me a \n",
       "<mark class=\"entity\" style=\"background: #ddd; padding: 0.45em 0.6em; margin: 0 0.25em; line-height: 1; border-radius: 0.35em;\">\n",
       "    pastrami\n",
       "    <span style=\"font-size: 0.8em; font-weight: bold; line-height: 1; border-radius: 0.35em; vertical-align: middle; margin-left: 0.5rem\">FOOD</span>\n",
       "</mark>\n",
       " sandwich but its nasty out</div></span>"
      ],
      "text/plain": [
       "<IPython.core.display.HTML object>"
      ]
     },
     "metadata": {},
     "output_type": "display_data"
    },
    {
     "data": {
      "text/html": [
       "<span class=\"tex2jax_ignore\"><div class=\"entities\" style=\"line-height: 2.5; direction: ltr\">well my \n",
       "<mark class=\"entity\" style=\"background: #ddd; padding: 0.45em 0.6em; margin: 0 0.25em; line-height: 1; border-radius: 0.35em;\">\n",
       "    parsley\n",
       "    <span style=\"font-size: 0.8em; font-weight: bold; line-height: 1; border-radius: 0.35em; vertical-align: middle; margin-left: 0.5rem\">FOOD</span>\n",
       "</mark>\n",
       " is no longer organic!</div></span>"
      ],
      "text/plain": [
       "<IPython.core.display.HTML object>"
      ]
     },
     "metadata": {},
     "output_type": "display_data"
    },
    {
     "data": {
      "text/html": [
       "<span class=\"tex2jax_ignore\"><div class=\"entities\" style=\"line-height: 2.5; direction: ltr\"> some things they just never get old  i miss maya</div></span>"
      ],
      "text/plain": [
       "<IPython.core.display.HTML object>"
      ]
     },
     "metadata": {},
     "output_type": "display_data"
    },
    {
     "data": {
      "text/html": [
       "<span class=\"tex2jax_ignore\"><div class=\"entities\" style=\"line-height: 2.5; direction: ltr\">spring is finally here! cherry blossoms galore! such a shame they are so temporary</div></span>"
      ],
      "text/plain": [
       "<IPython.core.display.HTML object>"
      ]
     },
     "metadata": {},
     "output_type": "display_data"
    },
    {
     "data": {
      "text/html": [
       "<span class=\"tex2jax_ignore\"><div class=\"entities\" style=\"line-height: 2.5; direction: ltr\">i didn't see that many cherry blossoms this year</div></span>"
      ],
      "text/plain": [
       "<IPython.core.display.HTML object>"
      ]
     },
     "metadata": {},
     "output_type": "display_data"
    },
    {
     "data": {
      "text/html": [
       "<span class=\"tex2jax_ignore\"><div class=\"entities\" style=\"line-height: 2.5; direction: ltr\">mourning over my amaretto sourstained prada with cherry inside</div></span>"
      ],
      "text/plain": [
       "<IPython.core.display.HTML object>"
      ]
     },
     "metadata": {},
     "output_type": "display_data"
    },
    {
     "data": {
      "text/html": [
       "<span class=\"tex2jax_ignore\"><div class=\"entities\" style=\"line-height: 2.5; direction: ltr\"> great! now i want \n",
       "<mark class=\"entity\" style=\"background: #ddd; padding: 0.45em 0.6em; margin: 0 0.25em; line-height: 1; border-radius: 0.35em;\">\n",
       "    chocolate\n",
       "    <span style=\"font-size: 0.8em; font-weight: bold; line-height: 1; border-radius: 0.35em; vertical-align: middle; margin-left: 0.5rem\">FOOD</span>\n",
       "</mark>\n",
       "</div></span>"
      ],
      "text/plain": [
       "<IPython.core.display.HTML object>"
      ]
     },
     "metadata": {},
     "output_type": "display_data"
    },
    {
     "data": {
      "text/html": [
       "<span class=\"tex2jax_ignore\"><div class=\"entities\" style=\"line-height: 2.5; direction: ltr\">ew one more day till school</div></span>"
      ],
      "text/plain": [
       "<IPython.core.display.HTML object>"
      ]
     },
     "metadata": {},
     "output_type": "display_data"
    },
    {
     "data": {
      "text/html": [
       "<span class=\"tex2jax_ignore\"><div class=\"entities\" style=\"line-height: 2.5; direction: ltr\"> aiyooooo maybe \n",
       "<mark class=\"entity\" style=\"background: #ddd; padding: 0.45em 0.6em; margin: 0 0.25em; line-height: 1; border-radius: 0.35em;\">\n",
       "    chocolate\n",
       "    <span style=\"font-size: 0.8em; font-weight: bold; line-height: 1; border-radius: 0.35em; vertical-align: middle; margin-left: 0.5rem\">FOOD</span>\n",
       "</mark>\n",
       " will help? \n",
       "<mark class=\"entity\" style=\"background: #ddd; padding: 0.45em 0.6em; margin: 0 0.25em; line-height: 1; border-radius: 0.35em;\">\n",
       "    chocolate\n",
       "    <span style=\"font-size: 0.8em; font-weight: bold; line-height: 1; border-radius: 0.35em; vertical-align: middle; margin-left: 0.5rem\">FOOD</span>\n",
       "</mark>\n",
       " helps in most situations</div></span>"
      ],
      "text/plain": [
       "<IPython.core.display.HTML object>"
      ]
     },
     "metadata": {},
     "output_type": "display_data"
    },
    {
     "data": {
      "text/html": [
       "<span class=\"tex2jax_ignore\"><div class=\"entities\" style=\"line-height: 2.5; direction: ltr\">now that i'm trying to stay off \n",
       "<mark class=\"entity\" style=\"background: #ddd; padding: 0.45em 0.6em; margin: 0 0.25em; line-height: 1; border-radius: 0.35em;\">\n",
       "    chocolate\n",
       "    <span style=\"font-size: 0.8em; font-weight: bold; line-height: 1; border-radius: 0.35em; vertical-align: middle; margin-left: 0.5rem\">FOOD</span>\n",
       "</mark>\n",
       " it's everywhere</div></span>"
      ],
      "text/plain": [
       "<IPython.core.display.HTML object>"
      ]
     },
     "metadata": {},
     "output_type": "display_data"
    },
    {
     "data": {
      "text/html": [
       "<span class=\"tex2jax_ignore\"><div class=\"entities\" style=\"line-height: 2.5; direction: ltr\"> if ur home wednesday ill come or this weekend dude i really dont wanna go back to school tomorrow</div></span>"
      ],
      "text/plain": [
       "<IPython.core.display.HTML object>"
      ]
     },
     "metadata": {},
     "output_type": "display_data"
    },
    {
     "data": {
      "text/html": [
       "<span class=\"tex2jax_ignore\"><div class=\"entities\" style=\"line-height: 2.5; direction: ltr\"> it's still up for me but no 2010</div></span>"
      ],
      "text/plain": [
       "<IPython.core.display.HTML object>"
      ]
     },
     "metadata": {},
     "output_type": "display_data"
    },
    {
     "data": {
      "text/html": [
       "<span class=\"tex2jax_ignore\"><div class=\"entities\" style=\"line-height: 2.5; direction: ltr\">feels like family is getting closer i like it ps need flourrrr! i have an itch to bake something </div></span>"
      ],
      "text/plain": [
       "<IPython.core.display.HTML object>"
      ]
     },
     "metadata": {},
     "output_type": "display_data"
    },
    {
     "data": {
      "text/html": [
       "<span class=\"tex2jax_ignore\"><div class=\"entities\" style=\"line-height: 2.5; direction: ltr\"> not so good i think that's my fault though  didn't use \n",
       "<mark class=\"entity\" style=\"background: #ddd; padding: 0.45em 0.6em; margin: 0 0.25em; line-height: 1; border-radius: 0.35em;\">\n",
       "    buttermilk\n",
       "    <span style=\"font-size: 0.8em; font-weight: bold; line-height: 1; border-radius: 0.35em; vertical-align: middle; margin-left: 0.5rem\">FOOD</span>\n",
       "</mark>\n",
       " recipe was on back of the \n",
       "<mark class=\"entity\" style=\"background: #ddd; padding: 0.45em 0.6em; margin: 0 0.25em; line-height: 1; border-radius: 0.35em;\">\n",
       "    flour\n",
       "    <span style=\"font-size: 0.8em; font-weight: bold; line-height: 1; border-radius: 0.35em; vertical-align: middle; margin-left: 0.5rem\">FOOD</span>\n",
       "</mark>\n",
       "</div></span>"
      ],
      "text/plain": [
       "<IPython.core.display.HTML object>"
      ]
     },
     "metadata": {},
     "output_type": "display_data"
    },
    {
     "data": {
      "text/html": [
       "<span class=\"tex2jax_ignore\"><div class=\"entities\" style=\"line-height: 2.5; direction: ltr\"> i have \n",
       "<mark class=\"entity\" style=\"background: #ddd; padding: 0.45em 0.6em; margin: 0 0.25em; line-height: 1; border-radius: 0.35em;\">\n",
       "    popcorn\n",
       "    <span style=\"font-size: 0.8em; font-weight: bold; line-height: 1; border-radius: 0.35em; vertical-align: middle; margin-left: 0.5rem\">FOOD</span>\n",
       "</mark>\n",
       " and fruitcake nowbut it's just not the same as \n",
       "<mark class=\"entity\" style=\"background: #ddd; padding: 0.45em 0.6em; margin: 0 0.25em; line-height: 1; border-radius: 0.35em;\">\n",
       "    chocolate\n",
       "    <span style=\"font-size: 0.8em; font-weight: bold; line-height: 1; border-radius: 0.35em; vertical-align: middle; margin-left: 0.5rem\">FOOD</span>\n",
       "</mark>\n",
       "</div></span>"
      ],
      "text/plain": [
       "<IPython.core.display.HTML object>"
      ]
     },
     "metadata": {},
     "output_type": "display_data"
    },
    {
     "data": {
      "text/html": [
       "<span class=\"tex2jax_ignore\"><div class=\"entities\" style=\"line-height: 2.5; direction: ltr\">garden going well almost all the corn and \n",
       "<mark class=\"entity\" style=\"background: #ddd; padding: 0.45em 0.6em; margin: 0 0.25em; line-height: 1; border-radius: 0.35em;\">\n",
       "    peas\n",
       "    <span style=\"font-size: 0.8em; font-weight: bold; line-height: 1; border-radius: 0.35em; vertical-align: middle; margin-left: 0.5rem\">FOOD</span>\n",
       "</mark>\n",
       " are up no \n",
       "<mark class=\"entity\" style=\"background: #ddd; padding: 0.45em 0.6em; margin: 0 0.25em; line-height: 1; border-radius: 0.35em;\">\n",
       "    onions\n",
       "    <span style=\"font-size: 0.8em; font-weight: bold; line-height: 1; border-radius: 0.35em; vertical-align: middle; margin-left: 0.5rem\">FOOD</span>\n",
       "</mark>\n",
       " or \n",
       "<mark class=\"entity\" style=\"background: #ddd; padding: 0.45em 0.6em; margin: 0 0.25em; line-height: 1; border-radius: 0.35em;\">\n",
       "    beets\n",
       "    <span style=\"font-size: 0.8em; font-weight: bold; line-height: 1; border-radius: 0.35em; vertical-align: middle; margin-left: 0.5rem\">FOOD</span>\n",
       "</mark>\n",
       " up yet though</div></span>"
      ],
      "text/plain": [
       "<IPython.core.display.HTML object>"
      ]
     },
     "metadata": {},
     "output_type": "display_data"
    },
    {
     "data": {
      "text/html": [
       "<span class=\"tex2jax_ignore\"><div class=\"entities\" style=\"line-height: 2.5; direction: ltr\"> he steals my stuff buries them under fence embarassing when it's the man returning them! not much i can do about frogs</div></span>"
      ],
      "text/plain": [
       "<IPython.core.display.HTML object>"
      ]
     },
     "metadata": {},
     "output_type": "display_data"
    },
    {
     "data": {
      "text/html": [
       "<span class=\"tex2jax_ignore\"><div class=\"entities\" style=\"line-height: 2.5; direction: ltr\"> is competition around the corner? if not take it slow for at least a week twisted my ankle back in jc awfully painful</div></span>"
      ],
      "text/plain": [
       "<IPython.core.display.HTML object>"
      ]
     },
     "metadata": {},
     "output_type": "display_data"
    },
    {
     "data": {
      "text/html": [
       "<span class=\"tex2jax_ignore\"><div class=\"entities\" style=\"line-height: 2.5; direction: ltr\"> i know! but it does nothing for the gelatinous state of my belly</div></span>"
      ],
      "text/plain": [
       "<IPython.core.display.HTML object>"
      ]
     },
     "metadata": {},
     "output_type": "display_data"
    },
    {
     "data": {
      "text/html": [
       "<span class=\"tex2jax_ignore\"><div class=\"entities\" style=\"line-height: 2.5; direction: ltr\">did u know percy pigs are actually made of real pigs?! ingredients list \n",
       "<mark class=\"entity\" style=\"background: #ddd; padding: 0.45em 0.6em; margin: 0 0.25em; line-height: 1; border-radius: 0.35em;\">\n",
       "    pork\n",
       "    <span style=\"font-size: 0.8em; font-weight: bold; line-height: 1; border-radius: 0.35em; vertical-align: middle; margin-left: 0.5rem\">FOOD</span>\n",
       "</mark>\n",
       " gelatine</div></span>"
      ],
      "text/plain": [
       "<IPython.core.display.HTML object>"
      ]
     },
     "metadata": {},
     "output_type": "display_data"
    },
    {
     "data": {
      "text/html": [
       "<span class=\"tex2jax_ignore\"><div class=\"entities\" style=\"line-height: 2.5; direction: ltr\"> still an aftertaste from the gelatine thingick haven't found a good cupcake in bj yet would make some if i had an oven!</div></span>"
      ],
      "text/plain": [
       "<IPython.core.display.HTML object>"
      ]
     },
     "metadata": {},
     "output_type": "display_data"
    },
    {
     "data": {
      "text/html": [
       "<span class=\"tex2jax_ignore\"><div class=\"entities\" style=\"line-height: 2.5; direction: ltr\">road trip to florida with my sis been driving for 5 hrs in pouring rain! \n",
       "<mark class=\"entity\" style=\"background: #ddd; padding: 0.45em 0.6em; margin: 0 0.25em; line-height: 1; border-radius: 0.35em;\">\n",
       "    stopping\n",
       "    <span style=\"font-size: 0.8em; font-weight: bold; line-height: 1; border-radius: 0.35em; vertical-align: middle; margin-left: 0.5rem\">FOOD</span>\n",
       "</mark>\n",
       " for the night12 hours left to drive</div></span>"
      ],
      "text/plain": [
       "<IPython.core.display.HTML object>"
      ]
     },
     "metadata": {},
     "output_type": "display_data"
    },
    {
     "data": {
      "text/html": [
       "<span class=\"tex2jax_ignore\"><div class=\"entities\" style=\"line-height: 2.5; direction: ltr\">throat is closing up and i had some \n",
       "<mark class=\"entity\" style=\"background: #ddd; padding: 0.45em 0.6em; margin: 0 0.25em; line-height: 1; border-radius: 0.35em;\">\n",
       "    string cheese\n",
       "    <span style=\"font-size: 0.8em; font-weight: bold; line-height: 1; border-radius: 0.35em; vertical-align: middle; margin-left: 0.5rem\">FOOD</span>\n",
       "</mark>\n",
       " not a good idea</div></span>"
      ],
      "text/plain": [
       "<IPython.core.display.HTML object>"
      ]
     },
     "metadata": {},
     "output_type": "display_data"
    },
    {
     "data": {
      "text/html": [
       "<span class=\"tex2jax_ignore\"><div class=\"entities\" style=\"line-height: 2.5; direction: ltr\"> haaaaa i want mac and \n",
       "<mark class=\"entity\" style=\"background: #ddd; padding: 0.45em 0.6em; margin: 0 0.25em; line-height: 1; border-radius: 0.35em;\">\n",
       "    cheese\n",
       "    <span style=\"font-size: 0.8em; font-weight: bold; line-height: 1; border-radius: 0.35em; vertical-align: middle; margin-left: 0.5rem\">FOOD</span>\n",
       "</mark>\n",
       " toooooo!!! hahahaha heyi still got the one u left herei guess im making that today oo lol</div></span>"
      ],
      "text/plain": [
       "<IPython.core.display.HTML object>"
      ]
     },
     "metadata": {},
     "output_type": "display_data"
    },
    {
     "data": {
      "text/html": [
       "<span class=\"tex2jax_ignore\"><div class=\"entities\" style=\"line-height: 2.5; direction: ltr\">plug on train once again doesnt work</div></span>"
      ],
      "text/plain": [
       "<IPython.core.display.HTML object>"
      ]
     },
     "metadata": {},
     "output_type": "display_data"
    },
    {
     "data": {
      "text/html": [
       "<span class=\"tex2jax_ignore\"><div class=\"entities\" style=\"line-height: 2.5; direction: ltr\"> they have diff camps gahh they're all rural though woga woga and \n",
       "<mark class=\"entity\" style=\"background: #ddd; padding: 0.45em 0.6em; margin: 0 0.25em; line-height: 1; border-radius: 0.35em;\">\n",
       "    bathurst\n",
       "    <span style=\"font-size: 0.8em; font-weight: bold; line-height: 1; border-radius: 0.35em; vertical-align: middle; margin-left: 0.5rem\">FOOD</span>\n",
       "</mark>\n",
       " but they're the best 4 advertising</div></span>"
      ],
      "text/plain": [
       "<IPython.core.display.HTML object>"
      ]
     },
     "metadata": {},
     "output_type": "display_data"
    },
    {
     "data": {
      "text/html": [
       "<span class=\"tex2jax_ignore\"><div class=\"entities\" style=\"line-height: 2.5; direction: ltr\">\n",
       "<mark class=\"entity\" style=\"background: #ddd; padding: 0.45em 0.6em; margin: 0 0.25em; line-height: 1; border-radius: 0.35em;\">\n",
       "    chocolate\n",
       "    <span style=\"font-size: 0.8em; font-weight: bold; line-height: 1; border-radius: 0.35em; vertical-align: middle; margin-left: 0.5rem\">FOOD</span>\n",
       "</mark>\n",
       " covered \n",
       "<mark class=\"entity\" style=\"background: #ddd; padding: 0.45em 0.6em; margin: 0 0.25em; line-height: 1; border-radius: 0.35em;\">\n",
       "    strawberries\n",
       "    <span style=\"font-size: 0.8em; font-weight: bold; line-height: 1; border-radius: 0.35em; vertical-align: middle; margin-left: 0.5rem\">FOOD</span>\n",
       "</mark>\n",
       " and \n",
       "<mark class=\"entity\" style=\"background: #ddd; padding: 0.45em 0.6em; margin: 0 0.25em; line-height: 1; border-radius: 0.35em;\">\n",
       "    cottage cheese\n",
       "    <span style=\"font-size: 0.8em; font-weight: bold; line-height: 1; border-radius: 0.35em; vertical-align: middle; margin-left: 0.5rem\">FOOD</span>\n",
       "</mark>\n",
       " you have defeated me</div></span>"
      ],
      "text/plain": [
       "<IPython.core.display.HTML object>"
      ]
     },
     "metadata": {},
     "output_type": "display_data"
    },
    {
     "data": {
      "text/html": [
       "<span class=\"tex2jax_ignore\"><div class=\"entities\" style=\"line-height: 2.5; direction: ltr\">man i shouldn't have put \n",
       "<mark class=\"entity\" style=\"background: #ddd; padding: 0.45em 0.6em; margin: 0 0.25em; line-height: 1; border-radius: 0.35em;\">\n",
       "    cheese\n",
       "    <span style=\"font-size: 0.8em; font-weight: bold; line-height: 1; border-radius: 0.35em; vertical-align: middle; margin-left: 0.5rem\">FOOD</span>\n",
       "</mark>\n",
       " on that \n",
       "<mark class=\"entity\" style=\"background: #ddd; padding: 0.45em 0.6em; margin: 0 0.25em; line-height: 1; border-radius: 0.35em;\">\n",
       "    crab salad\n",
       "    <span style=\"font-size: 0.8em; font-weight: bold; line-height: 1; border-radius: 0.35em; vertical-align: middle; margin-left: 0.5rem\">FOOD</span>\n",
       "</mark>\n",
       " sandwich</div></span>"
      ],
      "text/plain": [
       "<IPython.core.display.HTML object>"
      ]
     },
     "metadata": {},
     "output_type": "display_data"
    },
    {
     "data": {
      "text/html": [
       "<span class=\"tex2jax_ignore\"><div class=\"entities\" style=\"line-height: 2.5; direction: ltr\">i thought  would be all about twitter in tooting i'm disappointed</div></span>"
      ],
      "text/plain": [
       "<IPython.core.display.HTML object>"
      ]
     },
     "metadata": {},
     "output_type": "display_data"
    },
    {
     "data": {
      "text/html": [
       "<span class=\"tex2jax_ignore\"><div class=\"entities\" style=\"line-height: 2.5; direction: ltr\">just woken up finally got to sleep last night alone on the couch watching one tree hill eating \n",
       "<mark class=\"entity\" style=\"background: #ddd; padding: 0.45em 0.6em; margin: 0 0.25em; line-height: 1; border-radius: 0.35em;\">\n",
       "    cheese\n",
       "    <span style=\"font-size: 0.8em; font-weight: bold; line-height: 1; border-radius: 0.35em; vertical-align: middle; margin-left: 0.5rem\">FOOD</span>\n",
       "</mark>\n",
       " and crackers!</div></span>"
      ],
      "text/plain": [
       "<IPython.core.display.HTML object>"
      ]
     },
     "metadata": {},
     "output_type": "display_data"
    },
    {
     "data": {
      "text/html": [
       "<span class=\"tex2jax_ignore\"><div class=\"entities\" style=\"line-height: 2.5; direction: ltr\">just woke upp [: \n",
       "<mark class=\"entity\" style=\"background: #ddd; padding: 0.45em 0.6em; margin: 0 0.25em; line-height: 1; border-radius: 0.35em;\">\n",
       "    cheese\n",
       "    <span style=\"font-size: 0.8em; font-weight: bold; line-height: 1; border-radius: 0.35em; vertical-align: middle; margin-left: 0.5rem\">FOOD</span>\n",
       "</mark>\n",
       " on toast yummmm i want to wear my spongebob teeshirt but i cant find it</div></span>"
      ],
      "text/plain": [
       "<IPython.core.display.HTML object>"
      ]
     },
     "metadata": {},
     "output_type": "display_data"
    },
    {
     "data": {
      "text/html": [
       "<span class=\"tex2jax_ignore\"><div class=\"entities\" style=\"line-height: 2.5; direction: ltr\">all smoked my \n",
       "<mark class=\"entity\" style=\"background: #ddd; padding: 0.45em 0.6em; margin: 0 0.25em; line-height: 1; border-radius: 0.35em;\">\n",
       "    rabbit\n",
       "    <span style=\"font-size: 0.8em; font-weight: bold; line-height: 1; border-radius: 0.35em; vertical-align: middle; margin-left: 0.5rem\">FOOD</span>\n",
       "</mark>\n",
       " is so cute but he hates me</div></span>"
      ],
      "text/plain": [
       "<IPython.core.display.HTML object>"
      ]
     },
     "metadata": {},
     "output_type": "display_data"
    },
    {
     "data": {
      "text/html": [
       "<span class=\"tex2jax_ignore\"><div class=\"entities\" style=\"line-height: 2.5; direction: ltr\">not wanting to get rid of her rabbits this is going to be a great day</div></span>"
      ],
      "text/plain": [
       "<IPython.core.display.HTML object>"
      ]
     },
     "metadata": {},
     "output_type": "display_data"
    },
    {
     "data": {
      "text/html": [
       "<span class=\"tex2jax_ignore\"><div class=\"entities\" style=\"line-height: 2.5; direction: ltr\">\n",
       "<mark class=\"entity\" style=\"background: #ddd; padding: 0.45em 0.6em; margin: 0 0.25em; line-height: 1; border-radius: 0.35em;\">\n",
       "    rabbit\n",
       "    <span style=\"font-size: 0.8em; font-weight: bold; line-height: 1; border-radius: 0.35em; vertical-align: middle; margin-left: 0.5rem\">FOOD</span>\n",
       "</mark>\n",
       " ran in front of my car</div></span>"
      ],
      "text/plain": [
       "<IPython.core.display.HTML object>"
      ]
     },
     "metadata": {},
     "output_type": "display_data"
    },
    {
     "data": {
      "text/html": [
       "<span class=\"tex2jax_ignore\"><div class=\"entities\" style=\"line-height: 2.5; direction: ltr\">does not want to write this history paper</div></span>"
      ],
      "text/plain": [
       "<IPython.core.display.HTML object>"
      ]
     },
     "metadata": {},
     "output_type": "display_data"
    },
    {
     "data": {
      "text/html": [
       "<span class=\"tex2jax_ignore\"><div class=\"entities\" style=\"line-height: 2.5; direction: ltr\">eww i skanky this morn dang that yucky 9 hour old \n",
       "<mark class=\"entity\" style=\"background: #ddd; padding: 0.45em 0.6em; margin: 0 0.25em; line-height: 1; border-radius: 0.35em;\">\n",
       "    pizza\n",
       "    <span style=\"font-size: 0.8em; font-weight: bold; line-height: 1; border-radius: 0.35em; vertical-align: middle; margin-left: 0.5rem\">FOOD</span>\n",
       "</mark>\n",
       " i ate lastnight before passing out i feel awful</div></span>"
      ],
      "text/plain": [
       "<IPython.core.display.HTML object>"
      ]
     },
     "metadata": {},
     "output_type": "display_data"
    },
    {
     "data": {
      "text/html": [
       "<span class=\"tex2jax_ignore\"><div class=\"entities\" style=\"line-height: 2.5; direction: ltr\">zzzzzpacking and cleaning all day \n",
       "<mark class=\"entity\" style=\"background: #ddd; padding: 0.45em 0.6em; margin: 0 0.25em; line-height: 1; border-radius: 0.35em;\">\n",
       "    pizza\n",
       "    <span style=\"font-size: 0.8em; font-weight: bold; line-height: 1; border-radius: 0.35em; vertical-align: middle; margin-left: 0.5rem\">FOOD</span>\n",
       "</mark>\n",
       " and glasses of red winenowpaint the 4th roomggrrrrr don't want to but i must</div></span>"
      ],
      "text/plain": [
       "<IPython.core.display.HTML object>"
      ]
     },
     "metadata": {},
     "output_type": "display_data"
    },
    {
     "data": {
      "text/html": [
       "<span class=\"tex2jax_ignore\"><div class=\"entities\" style=\"line-height: 2.5; direction: ltr\">school tomorrow (n) we(rhys amanda grant) we went ta glasgow and ran out of \n",
       "<mark class=\"entity\" style=\"background: #ddd; padding: 0.45em 0.6em; margin: 0 0.25em; line-height: 1; border-radius: 0.35em;\">\n",
       "    pizza\n",
       "    <span style=\"font-size: 0.8em; font-weight: bold; line-height: 1; border-radius: 0.35em; vertical-align: middle; margin-left: 0.5rem\">FOOD</span>\n",
       "</mark>\n",
       " hut then grant decides not to run so we have to scrape</div></span>"
      ],
      "text/plain": [
       "<IPython.core.display.HTML object>"
      ]
     },
     "metadata": {},
     "output_type": "display_data"
    },
    {
     "data": {
      "text/html": [
       "<span class=\"tex2jax_ignore\"><div class=\"entities\" style=\"line-height: 2.5; direction: ltr\">i just burnt my \n",
       "<mark class=\"entity\" style=\"background: #ddd; padding: 0.45em 0.6em; margin: 0 0.25em; line-height: 1; border-radius: 0.35em;\">\n",
       "    pizza\n",
       "    <span style=\"font-size: 0.8em; font-weight: bold; line-height: 1; border-radius: 0.35em; vertical-align: middle; margin-left: 0.5rem\">FOOD</span>\n",
       "</mark>\n",
       " and my left eye won't stop watering wtf plus i have work again tonight</div></span>"
      ],
      "text/plain": [
       "<IPython.core.display.HTML object>"
      ]
     },
     "metadata": {},
     "output_type": "display_data"
    },
    {
     "data": {
      "text/html": [
       "<span class=\"tex2jax_ignore\"><div class=\"entities\" style=\"line-height: 2.5; direction: ltr\">kfc + \n",
       "<mark class=\"entity\" style=\"background: #ddd; padding: 0.45em 0.6em; margin: 0 0.25em; line-height: 1; border-radius: 0.35em;\">\n",
       "    pizza\n",
       "    <span style=\"font-size: 0.8em; font-weight: bold; line-height: 1; border-radius: 0.35em; vertical-align: middle; margin-left: 0.5rem\">FOOD</span>\n",
       "</mark>\n",
       " hut =&amp;gt; deadly combi too full to sleep</div></span>"
      ],
      "text/plain": [
       "<IPython.core.display.HTML object>"
      ]
     },
     "metadata": {},
     "output_type": "display_data"
    },
    {
     "data": {
      "text/html": [
       "<span class=\"tex2jax_ignore\"><div class=\"entities\" style=\"line-height: 2.5; direction: ltr\"> i have too much veggies and \n",
       "<mark class=\"entity\" style=\"background: #ddd; padding: 0.45em 0.6em; margin: 0 0.25em; line-height: 1; border-radius: 0.35em;\">\n",
       "    rice\n",
       "    <span style=\"font-size: 0.8em; font-weight: bold; line-height: 1; border-radius: 0.35em; vertical-align: middle; margin-left: 0.5rem\">FOOD</span>\n",
       "</mark>\n",
       " i want \n",
       "<mark class=\"entity\" style=\"background: #ddd; padding: 0.45em 0.6em; margin: 0 0.25em; line-height: 1; border-radius: 0.35em;\">\n",
       "    pizza\n",
       "    <span style=\"font-size: 0.8em; font-weight: bold; line-height: 1; border-radius: 0.35em; vertical-align: middle; margin-left: 0.5rem\">FOOD</span>\n",
       "</mark>\n",
       " but no recession</div></span>"
      ],
      "text/plain": [
       "<IPython.core.display.HTML object>"
      ]
     },
     "metadata": {},
     "output_type": "display_data"
    },
    {
     "data": {
      "text/html": [
       "<span class=\"tex2jax_ignore\"><div class=\"entities\" style=\"line-height: 2.5; direction: ltr\"> sorry sweets i only use the pencil kind</div></span>"
      ],
      "text/plain": [
       "<IPython.core.display.HTML object>"
      ]
     },
     "metadata": {},
     "output_type": "display_data"
    },
    {
     "data": {
      "text/html": [
       "<span class=\"tex2jax_ignore\"><div class=\"entities\" style=\"line-height: 2.5; direction: ltr\">back twitterverse! what's the magic number? approx $1k and it's body corp insurance not landlords that covers the garage ;)</div></span>"
      ],
      "text/plain": [
       "<IPython.core.display.HTML object>"
      ]
     },
     "metadata": {},
     "output_type": "display_data"
    },
    {
     "data": {
      "text/html": [
       "<span class=\"tex2jax_ignore\"><div class=\"entities\" style=\"line-height: 2.5; direction: ltr\"> not really just upset got dressed to go out somewhere then got back into bed for no reason im being a bit of a sook</div></span>"
      ],
      "text/plain": [
       "<IPython.core.display.HTML object>"
      ]
     },
     "metadata": {},
     "output_type": "display_data"
    },
    {
     "data": {
      "text/html": [
       "<span class=\"tex2jax_ignore\"><div class=\"entities\" style=\"line-height: 2.5; direction: ltr\">its raining and its cold outside winter coats again</div></span>"
      ],
      "text/plain": [
       "<IPython.core.display.HTML object>"
      ]
     },
     "metadata": {},
     "output_type": "display_data"
    },
    {
     "data": {
      "text/html": [
       "<span class=\"tex2jax_ignore\"><div class=\"entities\" style=\"line-height: 2.5; direction: ltr\">sick roomie gave me her cold my throats sore (hurts to swallow my cereal) super tired 24/7 now damn colds</div></span>"
      ],
      "text/plain": [
       "<IPython.core.display.HTML object>"
      ]
     },
     "metadata": {},
     "output_type": "display_data"
    },
    {
     "data": {
      "text/html": [
       "<span class=\"tex2jax_ignore\"><div class=\"entities\" style=\"line-height: 2.5; direction: ltr\">no flying to ponca city today for breakfast oatmeal at home here i come \n",
       "<mark class=\"entity\" style=\"background: #ddd; padding: 0.45em 0.6em; margin: 0 0.25em; line-height: 1; border-radius: 0.35em;\">\n",
       "    oats\n",
       "    <span style=\"font-size: 0.8em; font-weight: bold; line-height: 1; border-radius: 0.35em; vertical-align: middle; margin-left: 0.5rem\">FOOD</span>\n",
       "</mark>\n",
       " ftw !</div></span>"
      ],
      "text/plain": [
       "<IPython.core.display.HTML object>"
      ]
     },
     "metadata": {},
     "output_type": "display_data"
    },
    {
     "data": {
      "text/html": [
       "<span class=\"tex2jax_ignore\"><div class=\"entities\" style=\"line-height: 2.5; direction: ltr\">just walked by marksandspencers food n didn't get her beloved \n",
       "<mark class=\"entity\" style=\"background: #ddd; padding: 0.45em 0.6em; margin: 0 0.25em; line-height: 1; border-radius: 0.35em;\">\n",
       "    honey\n",
       "    <span style=\"font-size: 0.8em; font-weight: bold; line-height: 1; border-radius: 0.35em; vertical-align: middle; margin-left: 0.5rem\">FOOD</span>\n",
       "</mark>\n",
       " n \n",
       "<mark class=\"entity\" style=\"background: #ddd; padding: 0.45em 0.6em; margin: 0 0.25em; line-height: 1; border-radius: 0.35em;\">\n",
       "    oats\n",
       "    <span style=\"font-size: 0.8em; font-weight: bold; line-height: 1; border-radius: 0.35em; vertical-align: middle; margin-left: 0.5rem\">FOOD</span>\n",
       "</mark>\n",
       " flapjack *poverty sucks*</div></span>"
      ],
      "text/plain": [
       "<IPython.core.display.HTML object>"
      ]
     },
     "metadata": {},
     "output_type": "display_data"
    },
    {
     "data": {
      "text/html": [
       "<span class=\"tex2jax_ignore\"><div class=\"entities\" style=\"line-height: 2.5; direction: ltr\">if lucas till and taylor swift start dating i will start barfing goats all over the placeeeeeeeeeeeeeeeeee +o(</div></span>"
      ],
      "text/plain": [
       "<IPython.core.display.HTML object>"
      ]
     },
     "metadata": {},
     "output_type": "display_data"
    },
    {
     "data": {
      "text/html": [
       "<span class=\"tex2jax_ignore\"><div class=\"entities\" style=\"line-height: 2.5; direction: ltr\">bed time back to reality</div></span>"
      ],
      "text/plain": [
       "<IPython.core.display.HTML object>"
      ]
     },
     "metadata": {},
     "output_type": "display_data"
    }
   ],
   "source": [
    "# for tweet in test_data['tweet'][:500]:\n",
    "#     ents = nlp(preProcess(tweet))\n",
    "#     #if ents.doc.ents:\n",
    "#     ent_recognize(preProcess(tweet))"
   ]
  },
  {
   "cell_type": "markdown",
   "metadata": {},
   "source": [
    "# Old Results (Don't Change Unless on Purpose!)"
   ]
  },
  {
   "cell_type": "code",
   "execution_count": null,
   "metadata": {},
   "outputs": [],
   "source": [
    "# foodK1 = foodKeeperInfo()\n",
    "# notInFoodKeeper = []\n",
    "# inFoodKeeper = []\n",
    "# for keyword in keywordsFound:\n",
    "#     if keyword not in foodK1 and keyword not in notInFoodKeeper: notInFoodKeeper.append(keyword)\n",
    "#     elif keyword in foodK1 and keyword not in inFoodKeeper: inFoodKeeper.append(keyword)\n",
    "        \n",
    "# # print(len(notInFoodKeeper), len(inFoodKeeper))\n",
    "# # print(inFoodKeeper)\n",
    "# #Normal Process"
   ]
  },
  {
   "cell_type": "code",
   "execution_count": null,
   "metadata": {},
   "outputs": [],
   "source": [
    "# foodK1 = foodKeeperInfo()\n",
    "# notInFoodKeeper = []\n",
    "# inFoodKeeper = []\n",
    "# for keyword in keywordsFound:\n",
    "#     if keyword not in foodK1 and keyword not in notInFoodKeeper: notInFoodKeeper.append(keyword)\n",
    "#     elif keyword in foodK1 and keyword not in inFoodKeeper: inFoodKeeper.append(keyword)\n",
    "        \n",
    "# print(len(notInFoodKeeper), len(inFoodKeeper))"
   ]
  }
 ],
 "metadata": {
  "kernelspec": {
   "display_name": "Python 3 (ipykernel)",
   "language": "python",
   "name": "python3"
  },
  "language_info": {
   "codemirror_mode": {
    "name": "ipython",
    "version": 3
   },
   "file_extension": ".py",
   "mimetype": "text/x-python",
   "name": "python",
   "nbconvert_exporter": "python",
   "pygments_lexer": "ipython3",
   "version": "3.9.7"
  }
 },
 "nbformat": 4,
 "nbformat_minor": 4
}
