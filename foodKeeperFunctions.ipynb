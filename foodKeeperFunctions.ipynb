{
 "cells": [
  {
   "cell_type": "code",
   "execution_count": 10,
   "id": "ca6c7020",
   "metadata": {},
   "outputs": [],
   "source": [
    "import pandas as pd\n",
    "from tqdm import tqdm\n",
    "import spacy\n",
    "from spacy.tokens import DocBin\n",
    "import re\n",
    "import os\n",
    "from spacy import displacy\n",
    "from sklearn import metrics\n",
    "from sklearn.metrics import plot_confusion_matrix\n",
    "from spacy.util import filter_spans"
   ]
  },
  {
   "cell_type": "code",
   "execution_count": 11,
   "id": "cb06c0c1",
   "metadata": {},
   "outputs": [],
   "source": [
    "def convertToTrainingFormat(tweet, keywords):\n",
    "    foodKeeperKeywordsTest = foodKeeperInfo()\n",
    "    x = tweet.split()\n",
    "    myEnts = {'entities':[]}\n",
    "    found = False\n",
    "    i = 0\n",
    "    foundWords = []\n",
    "    while i < len(x):\n",
    "        z = 1\n",
    "        newWord = \"\"\n",
    "        if x[i] in keywords:\n",
    "            pos = tweet.find(x[i])\n",
    "            y = (pos, pos + len(x[i]), 'FOOD')\n",
    "            found = True\n",
    "        if x[i] in foodKeeperKeywordsTest:\n",
    "            newWord = x[i]\n",
    "            \n",
    "        try:\n",
    "            foundBiWord = x[i] + \" \" + x[i+1]\n",
    "            if foundBiWord in keywords:\n",
    "                pos = tweet.find(x[i])\n",
    "                y = (pos, pos + len(x[i])+len(x[i+1]) + 1, 'FOOD')\n",
    "                found = True\n",
    "                z = 2\n",
    "            if foundBiWord in foodKeeperKeywordsTest:\n",
    "                newWord = foundBiWord\n",
    "        except:\n",
    "            pass\n",
    "        \n",
    "        try:\n",
    "            foundTriWord = x[i] + \" \" + x[i+1] + \" \" + x[i+2]\n",
    "            if foundTriWord in keywords:\n",
    "                pos = tweet.find(x[i])\n",
    "                y = (pos, pos + len(x[i])+len(x[i+1])+len(x[i+2]) + 2, 'FOOD')\n",
    "                found = True\n",
    "                z = 3\n",
    "            if foundTriWord in foodKeeperKeywordsTest:\n",
    "                newWord = foundTriWord\n",
    "        except:\n",
    "            pass\n",
    "        \n",
    "        try:\n",
    "            if y not in myEnts['entities']:\n",
    "                myEnts['entities'].append(y)    \n",
    "        except:\n",
    "            pass\n",
    "\n",
    "        if newWord != \"\" and newWord not in keywordRanker:\n",
    "            keywordRanker[newWord] = 1\n",
    "        elif newWord != \"\" and newWord in keywordRanker:\n",
    "            keywordRanker[newWord] += 1\n",
    "        #print(z)\n",
    "        i += z\n",
    "        #print(i)\n",
    "    formatted = (tweet, myEnts)\n",
    "    #print(formatted)\n",
    "    if found:\n",
    "        return formatted\n",
    "    else: \n",
    "        return ()"
   ]
  },
  {
   "cell_type": "code",
   "execution_count": 8,
   "id": "af0d76bf",
   "metadata": {},
   "outputs": [
    {
     "name": "stdout",
     "output_type": "stream",
     "text": [
      " green yogurt smoothie—yogurt w/ almond milk fruit greens blend then add granola nuts chia seeds smoked salmon on sliced cucumber and whole wheat toast w/ sliced raw purple (red) onions and a dash of lemon pepper apples or chocolate w/ peanut butter jarred peaches w/ yogurt \n",
      " green yogurt smoothie—yogurt w/ almond milk fruit greens blend then add granola nuts chia seeds smoked salmon on sliced cucumber and whole wheat toast w/ sliced raw purple (red) onions and a dash of lemon pepper apples or chocolate w/ peanut butter jarred peaches w/ yogurt \n"
     ]
    }
   ],
   "source": [
    "def preProcess(tweet):\n",
    "    #Converts a tweet to lowercase, replaces anyusername w/ <USERNAME> and URLS with <URL>\n",
    "    tweet = tweet.lower()\n",
    "    tweet = re.sub('@[a-zA-z0-9]*', '', tweet)              # <USERNAME>\n",
    "    tweet = re.sub('http[a-zA-z0-9./:]*', '', tweet)       # <URL>\n",
    "    tweet = re.sub('[.,-]*', '', tweet)\n",
    "    \n",
    "    # Utilize for instragram posts, remove hashtag for food-related posts\n",
    "    tweet = re.sub(r'#', '', tweet) \n",
    "    tweet = re.sub('&amp;', 'and', tweet)\n",
    "    print(tweet)\n",
    "    return tweet\n",
    "\n",
    "print(preProcess('@coffeespoonie Green yogurt smoothie—yogurt w/ almond milk, fruit, greens. Blend. Then add granola, nuts, chia seeds. Smoked salmon on sliced cucumber &amp; whole wheat toast w/ sliced raw purple (red) onions &amp; a dash of lemon pepper. Apples or chocolate w/ peanut butter. Jarred peaches w/ yogurt. https://t.co/t7ouQvMU8m'))"
   ]
  },
  {
   "cell_type": "code",
   "execution_count": null,
   "id": "4d1691a0",
   "metadata": {},
   "outputs": [],
   "source": []
  }
 ],
 "metadata": {
  "kernelspec": {
   "display_name": "Python 3 (ipykernel)",
   "language": "python",
   "name": "python3"
  },
  "language_info": {
   "codemirror_mode": {
    "name": "ipython",
    "version": 3
   },
   "file_extension": ".py",
   "mimetype": "text/x-python",
   "name": "python",
   "nbconvert_exporter": "python",
   "pygments_lexer": "ipython3",
   "version": "3.9.7"
  }
 },
 "nbformat": 4,
 "nbformat_minor": 5
}
